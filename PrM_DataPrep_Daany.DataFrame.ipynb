{
 "cells": [
  {
   "cell_type": "code",
   "execution_count": 1,
   "metadata": {},
   "outputs": [
    {
     "data": {
      "text/html": [
       "Installing package Microsoft.ML................................................done!"
      ]
     },
     "metadata": {},
     "output_type": "display_data"
    },
    {
     "data": {
      "text/html": [
       "Successfully added reference to package Microsoft.ML, version 1.4.0"
      ]
     },
     "metadata": {},
     "output_type": "display_data"
    },
    {
     "data": {
      "text/html": [
       "Installing package Daany.DataFrame...............done!"
      ]
     },
     "metadata": {},
     "output_type": "display_data"
    },
    {
     "data": {
      "text/html": [
       "Successfully added reference to package Daany.DataFrame, version 0.6.0"
      ]
     },
     "metadata": {},
     "output_type": "display_data"
    },
    {
     "data": {
      "text/html": [
       "Installing package Daany.DataFrame.Ext............done!"
      ]
     },
     "metadata": {},
     "output_type": "display_data"
    },
    {
     "data": {
      "text/html": [
       "Successfully added reference to package Daany.DataFrame.Ext, version 0.6.0"
      ]
     },
     "metadata": {},
     "output_type": "display_data"
    },
    {
     "data": {
      "text/html": [
       "Installing package Daany.Stat...............done!"
      ]
     },
     "metadata": {},
     "output_type": "display_data"
    },
    {
     "data": {
      "text/html": [
       "Successfully added reference to package Daany.Stat, version 0.6.0"
      ]
     },
     "metadata": {},
     "output_type": "display_data"
    },
    {
     "data": {
      "text/html": [
       "Installing package XPlot.Plotly...............done!"
      ]
     },
     "metadata": {},
     "output_type": "display_data"
    },
    {
     "data": {
      "text/html": [
       "Successfully added reference to package XPlot.Plotly, version 3.0.1"
      ]
     },
     "metadata": {},
     "output_type": "display_data"
    }
   ],
   "source": [
    "#r \"nuget:Microsoft.ML\"\n",
    "    \n",
    "//Install Daany packages\n",
    "#r \"nuget:Daany.DataFrame\"\n",
    "#r \"nuget:Daany.DataFrame.Ext\"\n",
    "#r \"nuget:Daany.Stat\"\n",
    "    \n",
    "//Install XPlot package\n",
    "#r \"nuget:XPlot.Plotly\""
   ]
  },
  {
   "cell_type": "markdown",
   "metadata": {},
   "source": [
    "# Predictive Maintenance on .NET Platform"
   ]
  },
  {
   "cell_type": "markdown",
   "metadata": {},
   "source": [
    "## Summary\n",
    "This article is based on the Azure AI Gallery article: [Predictive Maintenance Modelling Guide]( https://gallery.azure.ai/Collection/Predictive-Maintenance-Modelling-Guide-1). The datasets used in the article can also be found at Azure AI Gallery. \n",
    "\n",
    "However, this notebook is completely implemented on .NET platform using `C# Jupyter Notebook` and `Daany` - C# data analytics library. There are small differences between this notebook and the notebooks at the official azure gallery portal, but in most cases, the code follows the steps defined there. \n",
    "The purpose of this notebook is to demonstrate how to use `.NET Jupyter Notebook` with `Daany.DataFrame` and `ML.NET` in order to prepare the data and build the Predictive Maintenance Model on .NET platform.  "
   ]
  },
  {
   "cell_type": "markdown",
   "metadata": {},
   "source": [
    "## Quick Introduction to Predictive Maintenance\n",
    "\n",
    "Simply speaking it is a technique to determine (predict) the failure of the machine component in the near future so that the component can be replaced programmatically based on the maintenance plane before it fails and stop the production process. In order to handle such a situation can improve the production process and increase productivity. With successfully handling with predictive maintenance we are able to achieve the following goals:\n",
    "\n",
    "- reduce the operational risk of mission-critical equipment\n",
    "- control cost of maintenance by enabling just-in-time maintenance operations\n",
    "- discover patterns connected to various maintenance problems\n",
    "- provide Key Performance Indicators."
   ]
  },
  {
   "cell_type": "markdown",
   "metadata": {},
   "source": [
    "The following image shows diferent type of maintenance in the production.\n",
    "\n",
    "![predictive maintenance diagram](img/predictive_maintenance01.png)"
   ]
  },
  {
   "cell_type": "markdown",
   "metadata": {},
   "source": [
    "### Predictive maintenance data collection\n",
    "\n",
    "In order to handle and use this tecnique we we need a various data from the production, including but not limited to:\n",
    "- telemetry data from the observed machines (vibration, voltage, temperature etc)\n",
    "- errors and logs data relevant to each machine,\n",
    "- failure data, when a certain component is replaced, etc\n",
    "- quiality and accuracy data, machine properties, models, age etc.\n",
    "\n",
    "\n",
    "### 3 Steps in Predictive Maintenance\n",
    "\n",
    "Usually, every Predictive Maintenance technique should proceed by the following 3 main steps:\n",
    "1. **Collect Data**  - collect all possible descriptions, historical and real-time data, usually by using IOT devices, various loggers, technical documentation, etc.\n",
    "2. **Predict Failures** - collected data can be used and transformed into machine learning ready data sets, and build a machine learning model to predict the failures of the components in the set of machines in the production.\n",
    "3. **React** - by obtaining the information which components will fail in the near future, we can activate the process of replacement so the component will be replaced before it fails, and the proidcution process will not be interrupted."
   ]
  },
  {
   "cell_type": "markdown",
   "metadata": {},
   "source": [
    "## Predict Failures\n",
    "\n",
    "In this article, the second step will be presented, which will be related to data preparation.  In order to predict failures in the production process, a set of data transformations, cleaning, feature engineering, and selection must be performed to prepare the data for building a machine learning model.\n",
    "The data preparation part plays a crucially step in the model building since a quality data preparation will directly reflect on the model accuracy and reliability."
   ]
  },
  {
   "cell_type": "markdown",
   "metadata": {},
   "source": [
    "## Software requirements \n",
    "\n",
    "In this article, the complete procedure in data preparation is presented. The whole process is performed using:\n",
    "\n",
    "- `.NET Jupyter Notebook`- .NET implementation of popular Jupyer Notebook, \n",
    "- `ML.NET` - Microsoft open-source framework for Machine Learning on .NET Platform and \n",
    "- `Daany` - **DA**ta **AN**al**Y**tics library with the implementation of DataFrame, Time series decomposition and various statistical parameters. It can be found at Github, it is distributed as a Nuget package."
   ]
  },
  {
   "cell_type": "markdown",
   "metadata": {},
   "source": [
    "### The Step 1. Notebook preparation\n",
    "\n",
    "In order to complete this task, we shoudl install several Nuget packages, and inlcude several using keywords.\n",
    "The following code block shows the using stateent, as some data related to notebook formatting when the data is shown. \n",
    "\n",
    "\n",
    "\n",
    "**Note:** *nuget package installation must be in the first cell of the Notebook, otherwize the notebook will not work as expected. Hope this will change once the final version is released.*"
   ]
  },
  {
   "cell_type": "code",
   "execution_count": 2,
   "metadata": {},
   "outputs": [],
   "source": [
    "//using Microsoft.ML.Data;\n",
    "using XPlot.Plotly;\n",
    "using System;\n",
    "using System.Collections.Generic;\n",
    "using System.Drawing;\n",
    "using System.Linq;\n",
    "\n",
    "//using statement of Daany package\n",
    "using Daany;\n",
    "using Daany.MathStuff;\n",
    "using Daany.Ext;\n",
    "\n",
    "//\n",
    "using Microsoft.ML;"
   ]
  },
  {
   "cell_type": "code",
   "execution_count": 3,
   "metadata": {},
   "outputs": [],
   "source": [
    "//DataFrame formatter\n",
    "using Microsoft.AspNetCore.Html;\n",
    "Formatter<DataFrame>.Register((df, writer) =>\n",
    "{\n",
    "    var headers = new List<IHtmlContent>();\n",
    "    headers.Add(th(i(\"index\")));\n",
    "    headers.AddRange(df.Columns.Select(c => (IHtmlContent) th(c)));\n",
    "    \n",
    "    //renders the rows\n",
    "    var rows = new List<List<IHtmlContent>>();\n",
    "    var take = 20;\n",
    "    \n",
    "    //\n",
    "    for (var i = 0; i < Math.Min(take, df.RowCount()); i++)\n",
    "    {\n",
    "        var cells = new List<IHtmlContent>();\n",
    "        cells.Add(td(df.Index[i]));\n",
    "        foreach (var obj in df[i])\n",
    "        {\n",
    "            cells.Add(td(obj));\n",
    "        }\n",
    "        rows.Add(cells);\n",
    "    }\n",
    "    \n",
    "    var t = table(\n",
    "        thead(\n",
    "            headers),\n",
    "        tbody(\n",
    "            rows.Select(\n",
    "                r => tr(r))));\n",
    "    \n",
    "    writer.Write(t);\n",
    "}, \"text/html\");"
   ]
  },
  {
   "cell_type": "markdown",
   "metadata": {},
   "source": [
    "### Download the data\n",
    "\n",
    "In order to start with data preparation, we need data. The data can be found at Azure blob storage. The data is maintained by [Azure Gallery Article](https://gallery.azure.ai/Notebook/Predictive-Maintenance-Modelling-Guide-Python-Notebook-1). \n",
    "\n",
    "Once the data are downloaded from the blob storage, they will not be downloaded again, and they will be used local copies."
   ]
  },
  {
   "cell_type": "code",
   "execution_count": 4,
   "metadata": {},
   "outputs": [],
   "source": [
    "//URL Paths for the data files used in the Notebook\n",
    "var urlTelemetry=\"https://azuremlsampleexperiments.blob.core.windows.net/datasets/PdM_telemetry.csv\";\n",
    "var urlErrors=\"https://azuremlsampleexperiments.blob.core.windows.net/datasets/PdM_errors.csv\";\n",
    "var urlMaintenance=\"https://azuremlsampleexperiments.blob.core.windows.net/datasets/PdM_maint.csv\";\n",
    "var urlFailures=\"https://azuremlsampleexperiments.blob.core.windows.net/datasets/PdM_failures.csv\";\n",
    "var urlMachines=\"https://azuremlsampleexperiments.blob.core.windows.net/datasets/PdM_machines.csv\";"
   ]
  },
  {
   "cell_type": "code",
   "execution_count": 5,
   "metadata": {},
   "outputs": [
    {
     "data": {
      "text/plain": [
       "Telemetry file exist"
      ]
     },
     "metadata": {},
     "output_type": "display_data"
    }
   ],
   "source": [
    "//check if the file exists\n",
    "if(!System.IO.File.Exists(\"data/PdM_telemetry.csv\"))\n",
    "{\n",
    "    using (System.Net.WebClient fileDownloader = new System.Net.WebClient())\n",
    "    {\n",
    "      fileDownloader.DownloadFile(urlTelemetry, \"data/PdM_telemetry.csv\");\n",
    "    }\n",
    "}\n",
    "else \n",
    "   display(\"Telemetry file exist\");"
   ]
  },
  {
   "cell_type": "code",
   "execution_count": 6,
   "metadata": {},
   "outputs": [
    {
     "data": {
      "text/plain": [
       "Error file exist"
      ]
     },
     "metadata": {},
     "output_type": "display_data"
    }
   ],
   "source": [
    "//check if the file exists\n",
    "if(!System.IO.File.Exists(\"data/PdM_errors.csv\"))\n",
    "{\n",
    "    using (System.Net.WebClient fileDownloader = new System.Net.WebClient())\n",
    "    {\n",
    "      fileDownloader.DownloadFile(urlErrors, \"data/PdM_errors.csv\");\n",
    "    }\n",
    "}\n",
    "else \n",
    "    display(\"Error file exist\");"
   ]
  },
  {
   "cell_type": "code",
   "execution_count": 7,
   "metadata": {},
   "outputs": [
    {
     "data": {
      "text/plain": [
       "PdM_maint file exist"
      ]
     },
     "metadata": {},
     "output_type": "display_data"
    }
   ],
   "source": [
    "//check if the file exists\n",
    "if(!System.IO.File.Exists(\"data/PdM_maint.csv\"))\n",
    "{\n",
    "    using (System.Net.WebClient fileDownloader = new System.Net.WebClient())\n",
    "    {\n",
    "      fileDownloader.DownloadFile(urlMaintenance, \"data/PdM_maint.csv\");\n",
    "    }\n",
    "}\n",
    "else \n",
    "    display(\"PdM_maint file exist\");\n"
   ]
  },
  {
   "cell_type": "code",
   "execution_count": 8,
   "metadata": {},
   "outputs": [
    {
     "data": {
      "text/plain": [
       "PdM_failures file exist"
      ]
     },
     "metadata": {},
     "output_type": "display_data"
    }
   ],
   "source": [
    "//check if the file exists\n",
    "if(!System.IO.File.Exists(\"data/PdM_failures.csv\"))\n",
    "{\n",
    "    using (System.Net.WebClient fileDownloader = new System.Net.WebClient())\n",
    "    {\n",
    "      fileDownloader.DownloadFile(urlFailures, \"data/PdM_failures.csv\");\n",
    "    }\n",
    "}\n",
    "else \n",
    "    display(\"PdM_failures file exist\");"
   ]
  },
  {
   "cell_type": "code",
   "execution_count": 9,
   "metadata": {},
   "outputs": [
    {
     "data": {
      "text/plain": [
       "urlMachines file exist"
      ]
     },
     "metadata": {},
     "output_type": "display_data"
    }
   ],
   "source": [
    "\n",
    "//check if the file exists\n",
    "if(!System.IO.File.Exists(\"data/PdM_machines.csv\"))\n",
    "{\n",
    "    using (System.Net.WebClient fileDownloader = new System.Net.WebClient())\n",
    "    {\n",
    "      fileDownloader.DownloadFile(urlMachines, \"data/PdM_machines.csv\");\n",
    "    }\n",
    "}\n",
    "else \n",
    "    display(\"urlMachines file exist\");"
   ]
  },
  {
   "cell_type": "markdown",
   "metadata": {},
   "source": [
    "Once we have files on the local disk, we can load them into application memory and create `Danny` `DataFrame` objects.\n",
    "\n",
    "### The Data\n",
    "\n",
    "The data we are using for predictive maintenance can be classified to:\n",
    "- telemetry - which collects historical data about machine behavior (voltage, vibration, etc)\n",
    "- errors - the data about warnings and errors in the machines\n",
    "- maint - data about replacement and maintenance for the machines,\n",
    "- machines - descriptive information about the machines,\n",
    "- failures - data when a certain machine is stopped, due to component failure.\n",
    "\n",
    "We load all the files in order to fully prepare data for the training process. The following code sample, loads the data in to application memory."
   ]
  },
  {
   "cell_type": "code",
   "execution_count": 10,
   "metadata": {},
   "outputs": [
    {
     "data": {
      "text/plain": [
       "Wall time: 8082.7142ms"
      ]
     },
     "metadata": {},
     "output_type": "display_data"
    }
   ],
   "source": [
    "%%time\n",
    "//Load ALL 5 data frame files\n",
    "//DataFrame Cols: datetime,machineID,volt,rotate,pressure,vibration\n",
    "var telemetry = DataFrame.FromCsv(\"data/PdM_telemetry.csv\", dformat: \"yyyy-mm-dd hh:mm:ss\");\n",
    "var errors = DataFrame.FromCsv(\"data/PdM_errors.csv\", dformat: \"yyyy-mm-dd hh:mm:ss\");\n",
    "var maint = DataFrame.FromCsv(\"data/PdM_maint.csv\", dformat: \"yyyy-mm-dd hh:mm:ss\");\n",
    "var failures = DataFrame.FromCsv(\"data/PdM_failures.csv\", dformat: \"yyyy-mm-dd hh:mm:ss\");\n",
    "var machines = DataFrame.FromCsv(\"data/PdM_machines.csv\", dformat: \"yyyy-mm-dd hh:mm:ss\");"
   ]
  },
  {
   "cell_type": "code",
   "execution_count": 11,
   "metadata": {},
   "outputs": [
    {
     "data": {
      "text/plain": [
       "DataFrame: telemetry size is (876100,6)"
      ]
     },
     "metadata": {},
     "output_type": "display_data"
    },
    {
     "data": {
      "text/plain": [
       "DataFrame: errors size is (3919,3)"
      ]
     },
     "metadata": {},
     "output_type": "display_data"
    },
    {
     "data": {
      "text/plain": [
       "DataFrame: maint size is (3286,3)"
      ]
     },
     "metadata": {},
     "output_type": "display_data"
    },
    {
     "data": {
      "text/plain": [
       "DataFrame: failures size is (761,3)"
      ]
     },
     "metadata": {},
     "output_type": "display_data"
    },
    {
     "data": {
      "text/plain": [
       "DataFrame: machines size is (100,3)"
      ]
     },
     "metadata": {},
     "output_type": "display_data"
    }
   ],
   "source": [
    "display($\"DataFrame: {nameof(telemetry)} size is ({telemetry.RowCount()},{telemetry.ColCount()})\");\n",
    "display($\"DataFrame: {nameof(errors)} size is ({errors.RowCount()},{errors.ColCount()})\");\n",
    "display($\"DataFrame: {nameof(maint)} size is ({maint.RowCount()},{maint.ColCount()})\");\n",
    "display($\"DataFrame: {nameof(failures)} size is ({failures.RowCount()},{failures.ColCount()})\");\n",
    "display($\"DataFrame: {nameof(machines)} size is ({machines.RowCount()},{machines.ColCount()})\");"
   ]
  },
  {
   "cell_type": "markdown",
   "metadata": {},
   "source": [
    "As can be seen, the main telemetry data contains nearl 900 000 rows, which is enought to trin a ML model."
   ]
  },
  {
   "cell_type": "markdown",
   "metadata": {},
   "source": [
    "## Telemetry\n",
    "\n",
    "The first data source is the telemetry data about machines. It consists of `voltage`, `rotation`, `pressure`, and `vibration` measurements measured from 100 machines in real-time hourly. The time period the data has been collected is during the year 2015. \n",
    "The following data shows the first 10 records in the dataset."
   ]
  },
  {
   "cell_type": "code",
   "execution_count": 12,
   "metadata": {},
   "outputs": [
    {
     "data": {
      "text/html": [
       "<table><thead><th><i>index</i></th><th>datetime</th><th>machineID</th><th>volt</th><th>rotate</th><th>pressure</th><th>vibration</th></thead><tbody><tr><td>0</td><td>2015-01-01 06:00:00Z</td><td>1</td><td>176.21785</td><td>418.5041</td><td>113.077934</td><td>45.087685</td></tr><tr><td>1</td><td>2015-01-01 07:00:00Z</td><td>1</td><td>162.87923</td><td>402.7475</td><td>95.460526</td><td>43.41397</td></tr><tr><td>2</td><td>2015-01-01 08:00:00Z</td><td>1</td><td>170.9899</td><td>527.34985</td><td>75.23791</td><td>34.17885</td></tr><tr><td>3</td><td>2015-01-01 09:00:00Z</td><td>1</td><td>162.46283</td><td>346.14932</td><td>109.24856</td><td>41.122143</td></tr><tr><td>4</td><td>2015-01-01 10:00:00Z</td><td>1</td><td>157.61002</td><td>435.37686</td><td>111.88665</td><td>25.99051</td></tr><tr><td>5</td><td>2015-01-01 11:00:00Z</td><td>1</td><td>172.50484</td><td>430.32336</td><td>95.92704</td><td>35.655018</td></tr><tr><td>6</td><td>2015-01-01 12:00:00Z</td><td>1</td><td>156.55603</td><td>499.07162</td><td>111.755684</td><td>42.75392</td></tr><tr><td>7</td><td>2015-01-01 13:00:00Z</td><td>1</td><td>172.52278</td><td>409.62473</td><td>101.00108</td><td>35.48201</td></tr><tr><td>8</td><td>2015-01-01 14:00:00Z</td><td>1</td><td>175.32452</td><td>398.64877</td><td>110.62436</td><td>45.48229</td></tr><tr><td>9</td><td>2015-01-01 15:00:00Z</td><td>1</td><td>169.21843</td><td>460.85068</td><td>104.84823</td><td>39.901737</td></tr></tbody></table>"
      ]
     },
     "execution_count": 12,
     "metadata": {},
     "output_type": "execute_result"
    }
   ],
   "source": [
    "telemetry.Head(10)"
   ]
  },
  {
   "cell_type": "markdown",
   "metadata": {},
   "source": [
    "A description of the whole dataset is shown on the next cell. As can be seen, we have nearly million records for the machines, which is good starting point for the analysis."
   ]
  },
  {
   "cell_type": "code",
   "execution_count": 13,
   "metadata": {},
   "outputs": [
    {
     "data": {
      "text/html": [
       "<table><thead><th><i>index</i></th><th>machineID</th><th>volt</th><th>rotate</th><th>pressure</th><th>vibration</th></thead><tbody><tr><td>Count</td><td>876100</td><td>876100</td><td>876100</td><td>876100</td><td>876100</td></tr><tr><td>Unique</td><td>100</td><td>778473</td><td>814048</td><td>802996</td><td>802761</td></tr><tr><td>Top</td><td>1</td><td>162.570465</td><td>465.84726</td><td>100.059151</td><td>41.085587</td></tr><tr><td>Freq</td><td>8761</td><td>5</td><td>5</td><td>7</td><td>5</td></tr><tr><td>Mean</td><td>50.5</td><td>170.77774</td><td>446.605133</td><td>100.858665</td><td>40.385006</td></tr><tr><td>Std</td><td>28.866087</td><td>15.509114</td><td>52.673886</td><td>11.048679</td><td>5.370361</td></tr><tr><td>Min</td><td>1</td><td>97.333603</td><td>138.432068</td><td>51.237106</td><td>14.877054</td></tr><tr><td>25%</td><td>25.75</td><td>160.304928</td><td>412.305717</td><td>93.498182</td><td>36.7773</td></tr><tr><td>Median</td><td>50.5</td><td>170.60733</td><td>447.558167</td><td>100.425552</td><td>40.237247</td></tr><tr><td>75%</td><td>75.25</td><td>181.00449</td><td>482.17659</td><td>107.555229</td><td>43.784938</td></tr><tr><td>Max</td><td>100</td><td>255.12471</td><td>695.020996</td><td>185.951996</td><td>76.791069</td></tr></tbody></table>"
      ]
     },
     "execution_count": 13,
     "metadata": {},
     "output_type": "execute_result"
    }
   ],
   "source": [
    "telemetry.Describe()"
   ]
  },
  {
   "cell_type": "markdown",
   "metadata": {},
   "source": [
    "In case we want to see the visualization of the telemetry data, we can select on of several column and show it. "
   ]
  },
  {
   "cell_type": "code",
   "execution_count": 59,
   "metadata": {},
   "outputs": [
    {
     "data": {
      "text/html": [
       "<div id=\"cb4bd6a8-655d-48b6-a46b-610f922259e0\" style=\"width: 900px; height: 500px;\"></div><script type=\"text/javascript\">\r\n",
       "\r\n",
       "var renderPlotly = function() {\r\n",
       "    var xplotRequire = requirejs.config({context:'xplot-2.0.0',paths:{plotly:'https://cdn.plot.ly/plotly-1.49.2.min'}});\r\n",
       "    xplotRequire(['plotly'], function(Plotly) {\r\n",
       "\n",
       "            var data = [{\"type\":\"scattergl\",\"x\":[\"2015-01-01T06:00:00\",\"2015-01-01T07:00:00\",\"2015-01-01T08:00:00\",\"2015-01-01T09:00:00\",\"2015-01-01T10:00:00\",\"2015-01-01T11:00:00\",\"2015-01-01T12:00:00\",\"2015-01-01T13:00:00\",\"2015-01-01T14:00:00\",\"2015-01-01T15:00:00\",\"2015-01-01T16:00:00\",\"2015-01-01T17:00:00\",\"2015-01-01T18:00:00\",\"2015-01-01T19:00:00\",\"2015-01-01T20:00:00\",\"2015-01-01T21:00:00\",\"2015-01-01T22:00:00\",\"2015-01-01T23:00:00\",\"2015-01-02T00:00:00\",\"2015-01-02T01:00:00\",\"2015-01-02T02:00:00\",\"2015-01-02T03:00:00\",\"2015-01-02T04:00:00\",\"2015-01-02T05:00:00\",\"2015-01-02T06:00:00\",\"2015-01-02T07:00:00\",\"2015-01-02T08:00:00\",\"2015-01-02T09:00:00\",\"2015-01-02T10:00:00\",\"2015-01-02T11:00:00\",\"2015-01-02T12:00:00\",\"2015-01-02T13:00:00\",\"2015-01-02T14:00:00\",\"2015-01-02T15:00:00\",\"2015-01-02T16:00:00\",\"2015-01-02T17:00:00\",\"2015-01-02T18:00:00\",\"2015-01-02T19:00:00\",\"2015-01-02T20:00:00\",\"2015-01-02T21:00:00\",\"2015-01-02T22:00:00\",\"2015-01-02T23:00:00\",\"2015-01-03T00:00:00\",\"2015-01-03T01:00:00\",\"2015-01-03T02:00:00\",\"2015-01-03T03:00:00\",\"2015-01-03T04:00:00\",\"2015-01-03T05:00:00\",\"2015-01-03T06:00:00\",\"2015-01-03T07:00:00\",\"2015-01-03T08:00:00\",\"2015-01-03T09:00:00\",\"2015-01-03T10:00:00\",\"2015-01-03T11:00:00\",\"2015-01-03T12:00:00\",\"2015-01-03T13:00:00\",\"2015-01-03T14:00:00\",\"2015-01-03T15:00:00\",\"2015-01-03T16:00:00\",\"2015-01-03T17:00:00\",\"2015-01-03T18:00:00\",\"2015-01-03T19:00:00\",\"2015-01-03T20:00:00\",\"2015-01-03T21:00:00\",\"2015-01-03T22:00:00\",\"2015-01-03T23:00:00\",\"2015-01-04T00:00:00\",\"2015-01-04T01:00:00\",\"2015-01-04T02:00:00\",\"2015-01-04T03:00:00\",\"2015-01-04T04:00:00\",\"2015-01-04T05:00:00\",\"2015-01-04T06:00:00\",\"2015-01-04T07:00:00\",\"2015-01-04T08:00:00\",\"2015-01-04T09:00:00\",\"2015-01-04T10:00:00\",\"2015-01-04T11:00:00\",\"2015-01-04T12:00:00\",\"2015-01-04T13:00:00\",\"2015-01-04T14:00:00\",\"2015-01-04T15:00:00\",\"2015-01-04T16:00:00\",\"2015-01-04T17:00:00\",\"2015-01-04T18:00:00\",\"2015-01-04T19:00:00\",\"2015-01-04T20:00:00\",\"2015-01-04T21:00:00\",\"2015-01-04T22:00:00\",\"2015-01-04T23:00:00\",\"2015-01-05T00:00:00\",\"2015-01-05T01:00:00\",\"2015-01-05T02:00:00\",\"2015-01-05T03:00:00\",\"2015-01-05T04:00:00\",\"2015-01-05T05:00:00\",\"2015-01-05T06:00:00\",\"2015-01-05T07:00:00\",\"2015-01-05T08:00:00\",\"2015-01-05T09:00:00\",\"2015-01-05T10:00:00\",\"2015-01-05T11:00:00\",\"2015-01-05T12:00:00\",\"2015-01-05T13:00:00\",\"2015-01-05T14:00:00\",\"2015-01-05T15:00:00\",\"2015-01-05T16:00:00\",\"2015-01-05T17:00:00\",\"2015-01-05T18:00:00\",\"2015-01-05T19:00:00\",\"2015-01-05T20:00:00\",\"2015-01-05T21:00:00\",\"2015-01-05T22:00:00\",\"2015-01-05T23:00:00\",\"2015-01-06T00:00:00\",\"2015-01-06T01:00:00\",\"2015-01-06T02:00:00\",\"2015-01-06T03:00:00\",\"2015-01-06T04:00:00\",\"2015-01-06T05:00:00\",\"2015-01-06T06:00:00\",\"2015-01-06T07:00:00\",\"2015-01-06T08:00:00\",\"2015-01-06T09:00:00\",\"2015-01-06T10:00:00\",\"2015-01-06T11:00:00\",\"2015-01-06T12:00:00\",\"2015-01-06T13:00:00\",\"2015-01-06T14:00:00\",\"2015-01-06T15:00:00\",\"2015-01-06T16:00:00\",\"2015-01-06T17:00:00\",\"2015-01-06T18:00:00\",\"2015-01-06T19:00:00\",\"2015-01-06T20:00:00\",\"2015-01-06T21:00:00\",\"2015-01-06T22:00:00\",\"2015-01-06T23:00:00\",\"2015-01-07T00:00:00\",\"2015-01-07T01:00:00\",\"2015-01-07T02:00:00\",\"2015-01-07T03:00:00\",\"2015-01-07T04:00:00\",\"2015-01-07T05:00:00\",\"2015-01-07T06:00:00\",\"2015-01-07T07:00:00\",\"2015-01-07T08:00:00\",\"2015-01-07T09:00:00\",\"2015-01-07T10:00:00\",\"2015-01-07T11:00:00\",\"2015-01-07T12:00:00\",\"2015-01-07T13:00:00\",\"2015-01-07T14:00:00\",\"2015-01-07T15:00:00\",\"2015-01-07T16:00:00\",\"2015-01-07T17:00:00\",\"2015-01-07T18:00:00\",\"2015-01-07T19:00:00\",\"2015-01-07T20:00:00\",\"2015-01-07T21:00:00\",\"2015-01-07T22:00:00\",\"2015-01-07T23:00:00\",\"2015-01-08T00:00:00\",\"2015-01-08T01:00:00\",\"2015-01-08T02:00:00\",\"2015-01-08T03:00:00\",\"2015-01-08T04:00:00\",\"2015-01-08T05:00:00\",\"2015-01-08T06:00:00\",\"2015-01-08T07:00:00\",\"2015-01-08T08:00:00\",\"2015-01-08T09:00:00\",\"2015-01-08T10:00:00\",\"2015-01-08T11:00:00\",\"2015-01-08T12:00:00\",\"2015-01-08T13:00:00\",\"2015-01-08T14:00:00\",\"2015-01-08T15:00:00\",\"2015-01-08T16:00:00\",\"2015-01-08T17:00:00\",\"2015-01-08T18:00:00\",\"2015-01-08T19:00:00\",\"2015-01-08T20:00:00\",\"2015-01-08T21:00:00\",\"2015-01-08T22:00:00\",\"2015-01-08T23:00:00\",\"2015-01-09T00:00:00\",\"2015-01-09T01:00:00\",\"2015-01-09T02:00:00\",\"2015-01-09T03:00:00\",\"2015-01-09T04:00:00\",\"2015-01-09T05:00:00\",\"2015-01-09T06:00:00\",\"2015-01-09T07:00:00\",\"2015-01-09T08:00:00\",\"2015-01-09T09:00:00\",\"2015-01-09T10:00:00\",\"2015-01-09T11:00:00\",\"2015-01-09T12:00:00\",\"2015-01-09T13:00:00\",\"2015-01-09T14:00:00\",\"2015-01-09T15:00:00\",\"2015-01-09T16:00:00\",\"2015-01-09T17:00:00\",\"2015-01-09T18:00:00\",\"2015-01-09T19:00:00\",\"2015-01-09T20:00:00\",\"2015-01-09T21:00:00\",\"2015-01-09T22:00:00\",\"2015-01-09T23:00:00\",\"2015-01-10T00:00:00\",\"2015-01-10T01:00:00\",\"2015-01-10T02:00:00\",\"2015-01-10T03:00:00\",\"2015-01-10T04:00:00\",\"2015-01-10T05:00:00\",\"2015-01-10T06:00:00\",\"2015-01-10T07:00:00\",\"2015-01-10T08:00:00\",\"2015-01-10T09:00:00\",\"2015-01-10T10:00:00\",\"2015-01-10T11:00:00\",\"2015-01-10T12:00:00\",\"2015-01-10T13:00:00\",\"2015-01-10T14:00:00\",\"2015-01-10T15:00:00\",\"2015-01-10T16:00:00\",\"2015-01-10T17:00:00\",\"2015-01-10T18:00:00\",\"2015-01-10T19:00:00\",\"2015-01-10T20:00:00\",\"2015-01-10T21:00:00\",\"2015-01-10T22:00:00\",\"2015-01-10T23:00:00\",\"2015-01-11T00:00:00\",\"2015-01-11T01:00:00\",\"2015-01-11T02:00:00\",\"2015-01-11T03:00:00\",\"2015-01-11T04:00:00\",\"2015-01-11T05:00:00\",\"2015-01-11T06:00:00\",\"2015-01-11T07:00:00\",\"2015-01-11T08:00:00\",\"2015-01-11T09:00:00\",\"2015-01-11T10:00:00\",\"2015-01-11T11:00:00\",\"2015-01-11T12:00:00\",\"2015-01-11T13:00:00\",\"2015-01-11T14:00:00\",\"2015-01-11T15:00:00\",\"2015-01-11T16:00:00\",\"2015-01-11T17:00:00\",\"2015-01-11T18:00:00\",\"2015-01-11T19:00:00\",\"2015-01-11T20:00:00\",\"2015-01-11T21:00:00\",\"2015-01-11T22:00:00\",\"2015-01-11T23:00:00\",\"2015-01-12T00:00:00\",\"2015-01-12T01:00:00\",\"2015-01-12T02:00:00\",\"2015-01-12T03:00:00\",\"2015-01-12T04:00:00\",\"2015-01-12T05:00:00\",\"2015-01-12T06:00:00\",\"2015-01-12T07:00:00\",\"2015-01-12T08:00:00\",\"2015-01-12T09:00:00\",\"2015-01-12T10:00:00\",\"2015-01-12T11:00:00\",\"2015-01-12T12:00:00\",\"2015-01-12T13:00:00\",\"2015-01-12T14:00:00\",\"2015-01-12T15:00:00\",\"2015-01-12T16:00:00\",\"2015-01-12T17:00:00\",\"2015-01-12T18:00:00\",\"2015-01-12T19:00:00\",\"2015-01-12T20:00:00\",\"2015-01-12T21:00:00\",\"2015-01-12T22:00:00\",\"2015-01-12T23:00:00\",\"2015-01-13T00:00:00\",\"2015-01-13T01:00:00\",\"2015-01-13T02:00:00\",\"2015-01-13T03:00:00\",\"2015-01-13T04:00:00\",\"2015-01-13T05:00:00\",\"2015-01-13T06:00:00\",\"2015-01-13T07:00:00\",\"2015-01-13T08:00:00\",\"2015-01-13T09:00:00\",\"2015-01-13T10:00:00\",\"2015-01-13T11:00:00\",\"2015-01-13T12:00:00\",\"2015-01-13T13:00:00\",\"2015-01-13T14:00:00\",\"2015-01-13T15:00:00\",\"2015-01-13T16:00:00\",\"2015-01-13T17:00:00\",\"2015-01-13T18:00:00\",\"2015-01-13T19:00:00\",\"2015-01-13T20:00:00\",\"2015-01-13T21:00:00\",\"2015-01-13T22:00:00\",\"2015-01-13T23:00:00\",\"2015-01-14T00:00:00\",\"2015-01-14T01:00:00\",\"2015-01-14T02:00:00\",\"2015-01-14T03:00:00\",\"2015-01-14T04:00:00\",\"2015-01-14T05:00:00\",\"2015-01-14T06:00:00\",\"2015-01-14T07:00:00\",\"2015-01-14T08:00:00\",\"2015-01-14T09:00:00\",\"2015-01-14T10:00:00\",\"2015-01-14T11:00:00\",\"2015-01-14T12:00:00\",\"2015-01-14T13:00:00\",\"2015-01-14T14:00:00\",\"2015-01-14T15:00:00\",\"2015-01-14T16:00:00\",\"2015-01-14T17:00:00\",\"2015-01-14T18:00:00\",\"2015-01-14T19:00:00\",\"2015-01-14T20:00:00\",\"2015-01-14T21:00:00\",\"2015-01-14T22:00:00\",\"2015-01-14T23:00:00\",\"2015-01-15T00:00:00\",\"2015-01-15T01:00:00\",\"2015-01-15T02:00:00\",\"2015-01-15T03:00:00\",\"2015-01-15T04:00:00\",\"2015-01-15T05:00:00\",\"2015-01-15T06:00:00\",\"2015-01-15T07:00:00\",\"2015-01-15T08:00:00\",\"2015-01-15T09:00:00\",\"2015-01-15T10:00:00\",\"2015-01-15T11:00:00\",\"2015-01-15T12:00:00\",\"2015-01-15T13:00:00\",\"2015-01-15T14:00:00\",\"2015-01-15T15:00:00\",\"2015-01-15T16:00:00\",\"2015-01-15T17:00:00\",\"2015-01-15T18:00:00\",\"2015-01-15T19:00:00\",\"2015-01-15T20:00:00\",\"2015-01-15T21:00:00\",\"2015-01-15T22:00:00\",\"2015-01-15T23:00:00\",\"2015-01-16T00:00:00\",\"2015-01-16T01:00:00\",\"2015-01-16T02:00:00\",\"2015-01-16T03:00:00\",\"2015-01-16T04:00:00\",\"2015-01-16T05:00:00\",\"2015-01-16T06:00:00\",\"2015-01-16T07:00:00\",\"2015-01-16T08:00:00\",\"2015-01-16T09:00:00\",\"2015-01-16T10:00:00\",\"2015-01-16T11:00:00\",\"2015-01-16T12:00:00\",\"2015-01-16T13:00:00\",\"2015-01-16T14:00:00\",\"2015-01-16T15:00:00\",\"2015-01-16T16:00:00\",\"2015-01-16T17:00:00\",\"2015-01-16T18:00:00\",\"2015-01-16T19:00:00\",\"2015-01-16T20:00:00\",\"2015-01-16T21:00:00\",\"2015-01-16T22:00:00\",\"2015-01-16T23:00:00\",\"2015-01-17T00:00:00\",\"2015-01-17T01:00:00\",\"2015-01-17T02:00:00\",\"2015-01-17T03:00:00\",\"2015-01-17T04:00:00\",\"2015-01-17T05:00:00\",\"2015-01-17T06:00:00\",\"2015-01-17T07:00:00\",\"2015-01-17T08:00:00\",\"2015-01-17T09:00:00\",\"2015-01-17T10:00:00\",\"2015-01-17T11:00:00\",\"2015-01-17T12:00:00\",\"2015-01-17T13:00:00\",\"2015-01-17T14:00:00\",\"2015-01-17T15:00:00\",\"2015-01-17T16:00:00\",\"2015-01-17T17:00:00\",\"2015-01-17T18:00:00\",\"2015-01-17T19:00:00\",\"2015-01-17T20:00:00\",\"2015-01-17T21:00:00\",\"2015-01-17T22:00:00\",\"2015-01-17T23:00:00\",\"2015-01-18T00:00:00\",\"2015-01-18T01:00:00\",\"2015-01-18T02:00:00\",\"2015-01-18T03:00:00\",\"2015-01-18T04:00:00\",\"2015-01-18T05:00:00\",\"2015-01-18T06:00:00\",\"2015-01-18T07:00:00\",\"2015-01-18T08:00:00\",\"2015-01-18T09:00:00\",\"2015-01-18T10:00:00\",\"2015-01-18T11:00:00\",\"2015-01-18T12:00:00\",\"2015-01-18T13:00:00\",\"2015-01-18T14:00:00\",\"2015-01-18T15:00:00\",\"2015-01-18T16:00:00\",\"2015-01-18T17:00:00\",\"2015-01-18T18:00:00\",\"2015-01-18T19:00:00\",\"2015-01-18T20:00:00\",\"2015-01-18T21:00:00\",\"2015-01-18T22:00:00\",\"2015-01-18T23:00:00\",\"2015-01-19T00:00:00\",\"2015-01-19T01:00:00\",\"2015-01-19T02:00:00\",\"2015-01-19T03:00:00\",\"2015-01-19T04:00:00\",\"2015-01-19T05:00:00\",\"2015-01-19T06:00:00\",\"2015-01-19T07:00:00\",\"2015-01-19T08:00:00\",\"2015-01-19T09:00:00\",\"2015-01-19T10:00:00\",\"2015-01-19T11:00:00\",\"2015-01-19T12:00:00\",\"2015-01-19T13:00:00\",\"2015-01-19T14:00:00\",\"2015-01-19T15:00:00\",\"2015-01-19T16:00:00\",\"2015-01-19T17:00:00\",\"2015-01-19T18:00:00\",\"2015-01-19T19:00:00\",\"2015-01-19T20:00:00\",\"2015-01-19T21:00:00\",\"2015-01-19T22:00:00\",\"2015-01-19T23:00:00\",\"2015-01-20T00:00:00\",\"2015-01-20T01:00:00\",\"2015-01-20T02:00:00\",\"2015-01-20T03:00:00\",\"2015-01-20T04:00:00\",\"2015-01-20T05:00:00\",\"2015-01-20T06:00:00\",\"2015-01-20T07:00:00\",\"2015-01-20T08:00:00\",\"2015-01-20T09:00:00\",\"2015-01-20T10:00:00\",\"2015-01-20T11:00:00\",\"2015-01-20T12:00:00\",\"2015-01-20T13:00:00\",\"2015-01-20T14:00:00\",\"2015-01-20T15:00:00\",\"2015-01-20T16:00:00\",\"2015-01-20T17:00:00\",\"2015-01-20T18:00:00\",\"2015-01-20T19:00:00\",\"2015-01-20T20:00:00\",\"2015-01-20T21:00:00\",\"2015-01-20T22:00:00\",\"2015-01-20T23:00:00\",\"2015-01-21T00:00:00\",\"2015-01-21T01:00:00\",\"2015-01-21T02:00:00\",\"2015-01-21T03:00:00\",\"2015-01-21T04:00:00\",\"2015-01-21T05:00:00\",\"2015-01-21T06:00:00\",\"2015-01-21T07:00:00\",\"2015-01-21T08:00:00\",\"2015-01-21T09:00:00\",\"2015-01-21T10:00:00\",\"2015-01-21T11:00:00\",\"2015-01-21T12:00:00\",\"2015-01-21T13:00:00\",\"2015-01-21T14:00:00\",\"2015-01-21T15:00:00\",\"2015-01-21T16:00:00\",\"2015-01-21T17:00:00\",\"2015-01-21T18:00:00\",\"2015-01-21T19:00:00\",\"2015-01-21T20:00:00\",\"2015-01-21T21:00:00\",\"2015-01-21T22:00:00\",\"2015-01-21T23:00:00\",\"2015-01-22T00:00:00\",\"2015-01-22T01:00:00\",\"2015-01-22T02:00:00\",\"2015-01-22T03:00:00\",\"2015-01-22T04:00:00\",\"2015-01-22T05:00:00\",\"2015-01-22T06:00:00\",\"2015-01-22T07:00:00\",\"2015-01-22T08:00:00\",\"2015-01-22T09:00:00\",\"2015-01-22T10:00:00\",\"2015-01-22T11:00:00\",\"2015-01-22T12:00:00\",\"2015-01-22T13:00:00\",\"2015-01-22T14:00:00\",\"2015-01-22T15:00:00\",\"2015-01-22T16:00:00\",\"2015-01-22T17:00:00\",\"2015-01-22T18:00:00\",\"2015-01-22T19:00:00\",\"2015-01-22T20:00:00\",\"2015-01-22T21:00:00\",\"2015-01-22T22:00:00\",\"2015-01-22T23:00:00\",\"2015-01-23T00:00:00\",\"2015-01-23T01:00:00\",\"2015-01-23T02:00:00\",\"2015-01-23T03:00:00\",\"2015-01-23T04:00:00\",\"2015-01-23T05:00:00\",\"2015-01-23T06:00:00\",\"2015-01-23T07:00:00\",\"2015-01-23T08:00:00\",\"2015-01-23T09:00:00\",\"2015-01-23T10:00:00\",\"2015-01-23T11:00:00\",\"2015-01-23T12:00:00\",\"2015-01-23T13:00:00\",\"2015-01-23T14:00:00\",\"2015-01-23T15:00:00\",\"2015-01-23T16:00:00\",\"2015-01-23T17:00:00\",\"2015-01-23T18:00:00\",\"2015-01-23T19:00:00\",\"2015-01-23T20:00:00\",\"2015-01-23T21:00:00\",\"2015-01-23T22:00:00\",\"2015-01-23T23:00:00\",\"2015-01-24T00:00:00\",\"2015-01-24T01:00:00\",\"2015-01-24T02:00:00\",\"2015-01-24T03:00:00\",\"2015-01-24T04:00:00\",\"2015-01-24T05:00:00\",\"2015-01-24T06:00:00\",\"2015-01-24T07:00:00\",\"2015-01-24T08:00:00\",\"2015-01-24T09:00:00\",\"2015-01-24T10:00:00\",\"2015-01-24T11:00:00\",\"2015-01-24T12:00:00\",\"2015-01-24T13:00:00\",\"2015-01-24T14:00:00\",\"2015-01-24T15:00:00\",\"2015-01-24T16:00:00\",\"2015-01-24T17:00:00\",\"2015-01-24T18:00:00\",\"2015-01-24T19:00:00\",\"2015-01-24T20:00:00\",\"2015-01-24T21:00:00\",\"2015-01-24T22:00:00\",\"2015-01-24T23:00:00\",\"2015-01-25T00:00:00\",\"2015-01-25T01:00:00\",\"2015-01-25T02:00:00\",\"2015-01-25T03:00:00\",\"2015-01-25T04:00:00\",\"2015-01-25T05:00:00\",\"2015-01-25T06:00:00\",\"2015-01-25T07:00:00\",\"2015-01-25T08:00:00\",\"2015-01-25T09:00:00\",\"2015-01-25T10:00:00\",\"2015-01-25T11:00:00\",\"2015-01-25T12:00:00\",\"2015-01-25T13:00:00\",\"2015-01-25T14:00:00\",\"2015-01-25T15:00:00\",\"2015-01-25T16:00:00\",\"2015-01-25T17:00:00\",\"2015-01-25T18:00:00\",\"2015-01-25T19:00:00\",\"2015-01-25T20:00:00\",\"2015-01-25T21:00:00\",\"2015-01-25T22:00:00\",\"2015-01-25T23:00:00\",\"2015-01-26T00:00:00\",\"2015-01-26T01:00:00\",\"2015-01-26T02:00:00\",\"2015-01-26T03:00:00\",\"2015-01-26T04:00:00\",\"2015-01-26T05:00:00\",\"2015-01-26T06:00:00\",\"2015-01-26T07:00:00\",\"2015-01-26T08:00:00\",\"2015-01-26T09:00:00\",\"2015-01-26T10:00:00\",\"2015-01-26T11:00:00\",\"2015-01-26T12:00:00\",\"2015-01-26T13:00:00\",\"2015-01-26T14:00:00\",\"2015-01-26T15:00:00\",\"2015-01-26T16:00:00\",\"2015-01-26T17:00:00\",\"2015-01-26T18:00:00\",\"2015-01-26T19:00:00\",\"2015-01-26T20:00:00\",\"2015-01-26T21:00:00\",\"2015-01-26T22:00:00\",\"2015-01-26T23:00:00\",\"2015-01-27T00:00:00\",\"2015-01-27T01:00:00\",\"2015-01-27T02:00:00\",\"2015-01-27T03:00:00\",\"2015-01-27T04:00:00\",\"2015-01-27T05:00:00\",\"2015-01-27T06:00:00\",\"2015-01-27T07:00:00\",\"2015-01-27T08:00:00\",\"2015-01-27T09:00:00\",\"2015-01-27T10:00:00\",\"2015-01-27T11:00:00\",\"2015-01-27T12:00:00\",\"2015-01-27T13:00:00\",\"2015-01-27T14:00:00\",\"2015-01-27T15:00:00\",\"2015-01-27T16:00:00\",\"2015-01-27T17:00:00\",\"2015-01-27T18:00:00\",\"2015-01-27T19:00:00\",\"2015-01-27T20:00:00\",\"2015-01-27T21:00:00\",\"2015-01-27T22:00:00\",\"2015-01-27T23:00:00\",\"2015-01-28T00:00:00\",\"2015-01-28T01:00:00\",\"2015-01-28T02:00:00\",\"2015-01-28T03:00:00\",\"2015-01-28T04:00:00\",\"2015-01-28T05:00:00\",\"2015-01-28T06:00:00\",\"2015-01-28T07:00:00\",\"2015-01-28T08:00:00\",\"2015-01-28T09:00:00\",\"2015-01-28T10:00:00\",\"2015-01-28T11:00:00\",\"2015-01-28T12:00:00\",\"2015-01-28T13:00:00\",\"2015-01-28T14:00:00\",\"2015-01-28T15:00:00\",\"2015-01-28T16:00:00\",\"2015-01-28T17:00:00\",\"2015-01-28T18:00:00\",\"2015-01-28T19:00:00\",\"2015-01-28T20:00:00\",\"2015-01-28T21:00:00\",\"2015-01-28T22:00:00\",\"2015-01-28T23:00:00\",\"2015-01-29T00:00:00\",\"2015-01-29T01:00:00\",\"2015-01-29T02:00:00\",\"2015-01-29T03:00:00\",\"2015-01-29T04:00:00\",\"2015-01-29T05:00:00\",\"2015-01-29T06:00:00\",\"2015-01-29T07:00:00\",\"2015-01-29T08:00:00\",\"2015-01-29T09:00:00\",\"2015-01-29T10:00:00\",\"2015-01-29T11:00:00\",\"2015-01-29T12:00:00\",\"2015-01-29T13:00:00\",\"2015-01-29T14:00:00\",\"2015-01-29T15:00:00\",\"2015-01-29T16:00:00\",\"2015-01-29T17:00:00\",\"2015-01-29T18:00:00\",\"2015-01-29T19:00:00\",\"2015-01-29T20:00:00\",\"2015-01-29T21:00:00\",\"2015-01-29T22:00:00\",\"2015-01-29T23:00:00\",\"2015-01-30T00:00:00\",\"2015-01-30T01:00:00\",\"2015-01-30T02:00:00\",\"2015-01-30T03:00:00\",\"2015-01-30T04:00:00\",\"2015-01-30T05:00:00\",\"2015-01-30T06:00:00\",\"2015-01-30T07:00:00\",\"2015-01-30T08:00:00\",\"2015-01-30T09:00:00\",\"2015-01-30T10:00:00\",\"2015-01-30T11:00:00\",\"2015-01-30T12:00:00\",\"2015-01-30T13:00:00\",\"2015-01-30T14:00:00\",\"2015-01-30T15:00:00\",\"2015-01-30T16:00:00\",\"2015-01-30T17:00:00\",\"2015-01-30T18:00:00\",\"2015-01-30T19:00:00\",\"2015-01-30T20:00:00\",\"2015-01-30T21:00:00\",\"2015-01-30T22:00:00\",\"2015-01-30T23:00:00\",\"2015-01-31T00:00:00\",\"2015-01-31T01:00:00\",\"2015-01-31T02:00:00\",\"2015-01-31T03:00:00\",\"2015-01-31T04:00:00\",\"2015-01-31T05:00:00\",\"2015-01-31T06:00:00\",\"2015-01-31T07:00:00\",\"2015-01-31T08:00:00\",\"2015-01-31T09:00:00\",\"2015-01-31T10:00:00\",\"2015-01-31T11:00:00\",\"2015-01-31T12:00:00\",\"2015-01-31T13:00:00\",\"2015-01-31T14:00:00\",\"2015-01-31T15:00:00\",\"2015-01-31T16:00:00\",\"2015-01-31T17:00:00\",\"2015-01-31T18:00:00\",\"2015-01-31T19:00:00\",\"2015-01-31T20:00:00\",\"2015-01-31T21:00:00\",\"2015-01-31T22:00:00\",\"2015-01-31T23:00:00\",\"2015-02-01T00:00:00\"],\"y\":[176.2178497314453,162.8792266845703,170.98989868164062,162.46282958984375,157.61001586914062,172.5048370361328,156.5560302734375,172.5227813720703,175.32452392578125,169.2184295654297,167.06097412109375,160.26394653320312,153.35348510742188,182.73912048339844,170.33543395996094,182.46710205078125,151.33567810058594,172.535400390625,180.0974884033203,169.60585021972656,167.12911987304688,158.27139282226562,200.8724365234375,181.2575225830078,197.36312866210938,171.20089721679688,160.5288543701172,147.30067443847656,160.45849609375,173.39451599121094,185.20535278320312,173.79124450683594,152.4207763671875,180.0307159423828,145.2484893798828,164.51222229003906,165.2582244873047,140.77630615234375,183.8008575439453,160.65692138671875,164.9894561767578,190.92721557617188,179.55010986328125,168.37351989746094,177.70643615722656,175.98907470703125,194.94284057617188,174.13839721679688,177.59408569335938,175.21327209472656,164.3414306640625,171.46429443359375,194.5811767578125,156.86611938476562,171.82640075683594,190.4319610595703,166.48068237304688,154.1992645263672,156.9532470703125,164.14810180664062,157.2897491455078,166.0904083251953,163.78370666503906,167.25424194335938,176.1058349609375,179.36949157714844,195.17308044433594,168.96958923339844,165.18740844726562,192.06507873535156,195.56494140625,170.64866638183594,165.01014709472656,142.66647338867188,191.16893005371094,157.43626403808594,153.1435546875,215.656494140625,173.5253143310547,169.50111389160156,129.01670837402344,168.50314331054688,184.64047241210938,176.20803833007812,183.68482971191406,199.7559814453125,187.53662109375,162.3689422607422,180.5626983642578,167.0237579345703,161.92893981933594,127.16361999511719,158.15530395507812,177.3172149658203,202.52049255371094,177.5104217529297,179.3031463623047,155.51145935058594,172.4398193359375,138.82643127441406,177.2783966064453,180.4515380859375,172.78271484375,180.51100158691406,174.6752166748047,181.4069366455078,197.63694763183594,186.68544006347656,170.48995971679688,153.28326416015625,176.2708740234375,163.99647521972656,192.4023895263672,145.89378356933594,163.7637176513672,176.3301239013672,167.7239532470703,160.90773010253906,165.42918395996094,179.4430389404297,183.42758178710938,179.90318298339844,204.1022491455078,187.6024627685547,174.31564331054688,160.10345458984375,213.787109375,180.16123962402344,159.73519897460938,172.79737854003906,165.13409423828125,165.8794403076172,155.99745178222656,171.752685546875,174.7873992919922,153.8368682861328,121.50271606445312,166.1768798828125,170.44276428222656,178.9141082763672,170.88702392578125,176.20098876953125,153.53341674804688,180.66763305664062,180.7833251953125,173.77476501464844,190.35911560058594,176.06703186035156,173.96546936035156,174.02066040039062,176.553955078125,185.90185546875,176.78285217285156,179.94798278808594,152.9543914794922,164.44253540039062,192.154541015625,151.64144897460938,173.87103271484375,176.07504272460938,184.63705444335938,164.766845703125,172.37937927246094,143.55117797851562,175.0789337158203,160.00152587890625,166.42030334472656,152.1835174560547,175.77403259277344,179.99868774414062,165.4307861328125,197.3751678466797,180.0583953857422,184.2294921875,200.7410430908203,160.23329162597656,182.12928771972656,184.7987060546875,169.90744018554688,174.78578186035156,154.8226776123047,177.05252075195312,159.48544311523438,182.2052459716797,157.8285369873047,174.7909698486328,157.30215454101562,166.3135528564453,146.7071075439453,171.926513671875,184.78164672851562,172.74871826171875,143.50656127929688,160.69200134277344,194.8406524658203,197.14707946777344,152.37445068359375,164.49945068359375,175.30438232421875,174.78733825683594,161.30064392089844,155.70082092285156,167.30857849121094,185.14712524414062,170.35440063476562,160.2645721435547,162.43438720703125,194.2158660888672,163.2956085205078,181.44764709472656,192.07577514648438,176.65496826171875,163.67417907714844,169.3999786376953,162.6157989501953,188.41575622558594,167.75669860839844,193.249755859375,161.5758056640625,160.29324340820312,172.14698791503906,170.36282348632812,162.4332275390625,146.279052734375,170.45098876953125,159.2513427734375,186.23916625976562,155.709716796875,186.89724731445312,160.2643585205078,174.38705444335938,183.4805450439453,162.2188720703125,178.3165740966797,168.68038940429688,152.9718017578125,165.9488067626953,194.29684448242188,166.78802490234375,157.73326110839844,169.1896514892578,174.95211791992188,184.32986450195312,187.15939331054688,171.50784301757812,187.4686279296875,158.53610229492188,134.83230590820312,162.92474365234375,162.2621612548828,135.25946044921875,178.43707275390625,158.24337768554688,166.60919189453125,146.19345092773438,178.21286010742188,198.368408203125,156.82884216308594,168.31161499023438,199.23069763183594,184.0072479248047,198.69589233398438,169.92149353027344,167.71609497070312,162.35552978515625,191.5186004638672,150.71241760253906,174.60971069335938,169.3052215576172,203.7776336669922,160.87950134277344,147.3606719970703,173.48947143554688,169.4052734375,157.41311645507812,171.98435974121094,165.86712646484375,159.81861877441406,177.51254272460938,165.0250701904297,142.4752960205078,130.223876953125,161.29127502441406,191.81280517578125,182.5719451904297,188.22579956054688,184.73757934570312,174.73646545410156,147.39405822753906,173.0835418701172,193.9584197998047,119.05904388427734,158.2797088623047,186.53697204589844,177.93118286132812,181.84091186523438,176.8564910888672,178.08250427246094,170.2196502685547,156.25267028808594,151.5977783203125,170.54229736328125,163.67910766601562,156.50953674316406,176.26162719726562,172.30166625976562,191.94924926757812,153.17745971679688,162.23318481445312,168.87579345703125,148.88314819335938,165.7294158935547,159.37742614746094,137.78541564941406,165.74244689941406,161.98892211914062,186.99514770507812,160.93896484375,178.3626708984375,172.13943481445312,151.4470977783203,175.61215209960938,168.40870666503906,172.49093627929688,179.8705291748047,171.70944213867188,193.7773895263672,171.73330688476562,151.1900177001953,181.1279754638672,151.65647888183594,141.21658325195312,157.8509521484375,158.829833984375,160.8874053955078,194.1013946533203,194.53399658203125,180.89137268066406,150.89247131347656,170.34719848632812,177.30682373046875,167.944580078125,172.57618713378906,155.82809448242188,150.68569946289062,191.11648559570312,174.01058959960938,163.87403869628906,174.8790740966797,200.9372100830078,175.44000244140625,191.1710662841797,190.51316833496094,163.89236450195312,181.43812561035156,180.23199462890625,167.89515686035156,171.97500610351562,187.76919555664062,216.9559326171875,191.57212829589844,177.95742797851562,193.45562744140625,200.46963500976562,170.5719757080078,174.17979431152344,160.87588500976562,170.9565887451172,176.68841552734375,185.6212615966797,211.1514129638672,203.32962036132812,194.09461975097656,181.50038146972656,189.3968963623047,198.2141876220703,182.4394989013672,205.88604736328125,206.46180725097656,172.50242614746094,178.79632568359375,208.10107421875,164.6916961669922,196.295654296875,193.5024871826172,237.9385223388672,149.05479431152344,177.3880615234375,200.1104278564453,215.11489868164062,202.59530639648438,168.57447814941406,223.5908203125,163.64100646972656,173.3047637939453,189.35289001464844,223.38380432128906,197.59474182128906,200.95594787597656,215.92115783691406,204.77169799804688,171.62893676757812,200.64588928222656,188.3616943359375,196.73912048339844,166.34832763671875,147.09339904785156,177.3775177001953,175.3175506591797,169.73561096191406,154.15174865722656,157.41627502441406,169.81060791015625,185.5716552734375,164.5331268310547,156.92825317382812,129.43695068359375,177.4137420654297,176.4101104736328,189.6378631591797,192.00083923339844,167.85415649414062,189.4777069091797,170.0196990966797,159.85385131835938,157.2770538330078,164.79588317871094,173.4121856689453,169.58897399902344,173.01316833496094,172.98414611816406,180.718994140625,165.9022674560547,194.53021240234375,176.56541442871094,152.0969696044922,165.85025024414062,177.73825073242188,163.83416748046875,175.1749267578125,176.5159454345703,189.5521697998047,160.2245635986328,169.7467803955078,161.484619140625,153.09300231933594,142.26544189453125,172.9329376220703,179.0234832763672,179.58737182617188,149.1501007080078,153.05482482910156,152.8826904296875,159.669921875,172.55296325683594,178.91725158691406,157.77450561523438,127.03479766845703,184.30735778808594,179.22927856445312,159.4869384765625,153.89508056640625,165.50013732910156,171.62159729003906,180.84800720214844,190.85142517089844,157.26675415039062,174.36083984375,190.01263427734375,156.47987365722656,166.65855407714844,143.427978515625,174.31134033203125,160.3821258544922,156.1259307861328,158.3003387451172,176.6675567626953,137.56295776367188,163.61734008789062,154.7942352294922,155.56822204589844,177.11952209472656,175.2763214111328,168.3946990966797,178.06275939941406,160.9684295654297,139.65052795410156,187.31631469726562,166.53961181640625,164.52366638183594,172.36276245117188,181.48898315429688,176.3913116455078,183.9089813232422,170.6920166015625,162.4357147216797,165.49325561523438,182.34373474121094,157.26097106933594,155.6958465576172,174.70217895507812,179.18710327148438,144.63375854492188,181.77047729492188,170.1788787841797,167.2811737060547,186.60430908203125,192.19091796875,152.78900146484375,185.17481994628906,160.5189666748047,171.98541259765625,177.21389770507812,171.99766540527344,148.05703735351562,162.4039764404297,193.09495544433594,172.59190368652344,157.462646484375,160.16107177734375,185.86349487304688,175.19125366210938,156.54220581054688,170.09397888183594,178.95005798339844,195.83827209472656,156.7737579345703,164.30081176757812,184.941650390625,163.11318969726562,191.90399169921875,185.64869689941406,145.1143798828125,176.35935974121094,148.71255493164062,148.0296173095703,171.0563201904297,170.85047912597656,169.50938415527344,188.96421813964844,174.42481994628906,159.90370178222656,171.7938232421875,162.2840576171875,168.97833251953125,152.77981567382812,168.27133178710938,171.54405212402344,159.47384643554688,170.6184539794922,160.2684783935547,160.3398895263672,166.93341064453125,177.36260986328125,166.91995239257812,172.86036682128906,184.5503692626953,165.72108459472656,168.44570922851562,177.6688232421875,151.1275634765625,178.1573944091797,161.9755401611328,152.92930603027344,143.47994995117188,159.27532958984375,152.44696044921875,152.32327270507812,194.40936279296875,151.8177947998047,184.962646484375,178.17868041992188,156.72816467285156,160.83154296875,163.8470001220703,172.85614013671875,164.77513122558594,182.4027099609375,165.6096954345703,137.51980590820312,168.55674743652344,142.22064208984375,184.06716918945312,158.78469848632812,153.27137756347656,161.12741088867188,178.77845764160156,141.2216339111328,173.8072509765625,155.41636657714844,169.87229919433594,180.1856231689453,178.54446411132812,192.54441833496094,171.936279296875,159.4822540283203,202.30560302734375,165.45130920410156,182.1136932373047,183.96487426757812,176.8235321044922,191.38131713867188,166.86512756347656,151.52896118164062,164.5909423828125,161.7917938232422,174.91993713378906,176.00050354003906,200.212158203125,172.54176330566406,216.3317413330078,211.74456787109375,183.26808166503906,192.10101318359375,184.39524841308594,171.9034881591797,150.07980346679688,189.6235809326172,189.48440551757812,214.63539123535156,160.0680694580078,180.06744384765625,203.20057678222656,195.1358184814453,191.82630920410156,180.68858337402344,193.01417541503906,186.46142578125,191.7049102783203,181.3310546875,207.82847595214844,205.8990478515625,210.05137634277344,184.49246215820312,185.43495178222656,184.7458038330078,210.61216735839844,185.5041961669922,191.4645233154297,195.7178192138672,200.17318725585938,185.98489379882812,225.18948364257812,176.08758544921875,168.6016387939453,190.63453674316406,216.51165771484375,190.791259765625,191.64588928222656,202.9480438232422,188.51539611816406,191.55545043945312,208.1272735595703,191.40618896484375,178.71705627441406,195.92385864257812,153.627197265625,148.1256103515625,168.15931701660156,153.48606872558594,178.71385192871094,167.79579162597656,158.50497436523438,194.3434600830078,168.35089111328125,191.32557678222656,168.29869079589844,165.060791015625,175.60191345214844,185.4483184814453,210.5866241455078,154.47581481933594,167.24855041503906,186.16656494140625,175.12429809570312,167.18984985351562,150.4571075439453,165.82012939453125,167.22869873046875,168.77333068847656,194.18362426757812,163.07090759277344,146.3592529296875,177.44650268554688,168.32069396972656,166.93479919433594,179.5335235595703,126.39988708496094,161.69512939453125,167.69822692871094,179.07936096191406,166.08489990234375,154.9229278564453,175.58848571777344,170.29168701171875,171.65792846679688,187.3485565185547,161.86669921875,151.26197814941406,150.7998046875,154.64100646972656,149.18524169921875,169.26168823242188,197.16441345214844,168.50735473632812,181.65855407714844,153.4610595703125,166.67532348632812,178.49142456054688,164.6756134033203,181.77894592285156,180.41070556640625,160.50904846191406,158.42062377929688,205.3672637939453,167.11175537109375,170.0992889404297,169.1818084716797,161.47689819335938,156.09536743164062,152.96397399902344,183.70944213867188,155.2090606689453,180.0122833251953,191.09893798828125,187.36668395996094,167.918701171875,161.91017150878906,153.8166046142578,169.72157287597656,166.51075744628906,172.3444061279297,160.93984985351562,179.43553161621094,180.71253967285156,186.13829040527344,203.746337890625,172.96835327148438,161.36680603027344]}];\n",
       "            var layout = {\"title\":\"Machine Voltage\",\"xaxis\":{\"title\":\"Time\",\"_isSubplotObj\":true},\"yaxis\":{\"title\":\"Voltage\",\"_isSubplotObj\":true}};\n",
       "            Plotly.newPlot('cb4bd6a8-655d-48b6-a46b-610f922259e0', data, layout);\n",
       "        });\r\n",
       "};\r\n",
       "if ((typeof(requirejs) !==  typeof(Function)) || (typeof(requirejs.config) !== typeof(Function))) { \r\n",
       "    var script = document.createElement(\"script\"); \r\n",
       "    script.setAttribute(\"src\", \"https://cdnjs.cloudflare.com/ajax/libs/require.js/2.3.6/require.min.js\"); \r\n",
       "    script.onload = function(){\r\n",
       "        renderPlotly();\r\n",
       "    };\r\n",
       "    document.getElementsByTagName(\"head\")[0].appendChild(script); \r\n",
       "}\r\n",
       "else {\r\n",
       "    renderPlotly();\r\n",
       "}\r\n",
       "</script>"
      ]
     },
     "metadata": {},
     "output_type": "display_data"
    }
   ],
   "source": [
    "//define filters columns (two dates columns)\n",
    "string[] cols = new string[] { \"datetime\", \"datetime\", \"machineID\" };\n",
    "\n",
    "//filter values for each column\n",
    "var valls = new List<object>();\n",
    "valls.Add(new DateTime(2015, 1, 1)); valls.Add(new DateTime(2015, 2, 1)); valls.Add(1);\n",
    "\n",
    "//now filter operator \n",
    "FilterOperator[] oprs = new FilterOperator[] { FilterOperator.Greather, FilterOperator.LessOrEqual, FilterOperator.Equal };\n",
    "\n",
    "//perform filtering \n",
    "var machine1Df = telemetry.Filter(cols, valls.ToArray(), oprs);\n",
    "\n",
    "//plot coordinates\n",
    "var x = machine1Df[\"datetime\"].Select(t => Convert.ToDateTime(t)).ToArray();\n",
    "var voltage1 = machine1Df[\"volt\"].Select(t => Convert.ToDouble(t)).ToArray();\n",
    "\n",
    "//Plot Telemetry data\n",
    "var chart = Chart.Plot(\n",
    "    new Graph.Scattergl()\n",
    "    {\n",
    "        x = x,\n",
    "        y = voltage1,\n",
    "      //  mode = \"markers\",  \n",
    "    }\n",
    "    \n",
    ");\n",
    "//\n",
    "var layout = new XPlot.Plotly.Layout.Layout() \n",
    "    { title = \"Machine Voltage\",\n",
    "     xaxis=new XPlot.Plotly.Graph.Xaxis() { title=\"Time\" }, \n",
    "     yaxis = new XPlot.Plotly.Graph.Yaxis() { title = \"Voltage\" } };\n",
    "//put layout into chart\n",
    "chart.WithLayout(layout);\n",
    "display(chart)"
   ]
  },
  {
   "cell_type": "markdown",
   "metadata": {},
   "source": [
    "## Errors\n",
    "One of the most important information in every Predictive Maintenance system is Error data. Actually errors are non-breaking recorded events while the machine is still operational. The error date and times are rounded to the closest hour since the telemetry data is collected at an hourly rate.  "
   ]
  },
  {
   "cell_type": "code",
   "execution_count": 15,
   "metadata": {},
   "outputs": [
    {
     "data": {
      "text/html": [
       "<table><thead><th><i>index</i></th><th>datetime</th><th>machineID</th><th>errorID</th></thead><tbody><tr><td>0</td><td>2015-01-03 07:00:00Z</td><td>1</td><td>error1</td></tr><tr><td>1</td><td>2015-01-03 20:00:00Z</td><td>1</td><td>error3</td></tr><tr><td>2</td><td>2015-01-04 06:00:00Z</td><td>1</td><td>error5</td></tr><tr><td>3</td><td>2015-01-10 15:00:00Z</td><td>1</td><td>error4</td></tr><tr><td>4</td><td>2015-01-22 10:00:00Z</td><td>1</td><td>error4</td></tr></tbody></table>"
      ]
     },
     "execution_count": 15,
     "metadata": {},
     "output_type": "execute_result"
    }
   ],
   "source": [
    "errors.Head()"
   ]
  },
  {
   "cell_type": "code",
   "execution_count": 16,
   "metadata": {},
   "outputs": [
    {
     "data": {
      "text/html": [
       "<div id=\"24deedf2-ee15-4d9d-89dd-dcca0856c133\" style=\"width: 900px; height: 500px;\"></div><script type=\"text/javascript\">\r\n",
       "\r\n",
       "var renderPlotly = function() {\r\n",
       "    var xplotRequire = requirejs.config({context:'xplot-2.0.0',paths:{plotly:'https://cdn.plot.ly/plotly-1.49.2.min'}});\r\n",
       "    xplotRequire(['plotly'], function(Plotly) {\r\n",
       "\n",
       "            var data = [{\"type\":\"bar\",\"x\":[\"error1\",\"error2\",\"error3\",\"error4\",\"error5\"],\"y\":[1010,988,838,727,356]}];\n",
       "            var layout = {\"title\":\"Error distribution\",\"xaxis\":{\"title\":\"Error name\",\"_isSubplotObj\":true},\"yaxis\":{\"title\":\"Error Count\",\"_isSubplotObj\":true}};\n",
       "            Plotly.newPlot('24deedf2-ee15-4d9d-89dd-dcca0856c133', data, layout);\n",
       "        });\r\n",
       "};\r\n",
       "if ((typeof(requirejs) !==  typeof(Function)) || (typeof(requirejs.config) !== typeof(Function))) { \r\n",
       "    var script = document.createElement(\"script\"); \r\n",
       "    script.setAttribute(\"src\", \"https://cdnjs.cloudflare.com/ajax/libs/require.js/2.3.6/require.min.js\"); \r\n",
       "    script.onload = function(){\r\n",
       "        renderPlotly();\r\n",
       "    };\r\n",
       "    document.getElementsByTagName(\"head\")[0].appendChild(script); \r\n",
       "}\r\n",
       "else {\r\n",
       "    renderPlotly();\r\n",
       "}\r\n",
       "</script>"
      ]
     },
     "metadata": {},
     "output_type": "display_data"
    }
   ],
   "source": [
    "//count number of errors \n",
    "var barValue = errors[\"errorID\"].GroupBy(v => v)\n",
    "        .OrderBy(group => group.Key)\n",
    "        .Select(group => Tuple.Create(group.Key, group.Count()));\n",
    "\n",
    "//Plot Errors data\n",
    "var chart = Chart.Plot(\n",
    "    new Graph.Bar()\n",
    "    {\n",
    "       x = barValue.Select(x=>x.Item1),\n",
    "       y = barValue.Select(x=>x.Item2),\n",
    "      //  mode = \"markers\",  \n",
    "    }\n",
    "    \n",
    ");\n",
    "var layout = new XPlot.Plotly.Layout.Layout() \n",
    "    { title = \"Error distribution\",\n",
    "     xaxis=new XPlot.Plotly.Graph.Xaxis() { title=\"Error name\" }, \n",
    "     yaxis = new XPlot.Plotly.Graph.Yaxis() { title = \"Error Count\" } };\n",
    "//put layout into chart\n",
    "chart.WithLayout(layout);\n",
    "\n",
    "display(chart)\n"
   ]
  },
  {
   "cell_type": "markdown",
   "metadata": {},
   "source": [
    "## Maintenance\n",
    "\n",
    "The Maintenance is the next PrM component which tells us about scheduled and unscheduled maintenance. The maintenance contains the records which correspond to both regular inspection of components as well as failures. To add the record into the maintenance table a component must be replaced during the scheduled inspection or replaced due to a breakdown. In case the records are created due to breakdowns are called `failures`. Maintenance contains the data from 2014 and 2015 years."
   ]
  },
  {
   "cell_type": "code",
   "execution_count": 17,
   "metadata": {},
   "outputs": [
    {
     "data": {
      "text/html": [
       "<table><thead><th><i>index</i></th><th>datetime</th><th>machineID</th><th>comp</th></thead><tbody><tr><td>0</td><td>2014-06-01 06:00:00Z</td><td>1</td><td>comp2</td></tr><tr><td>1</td><td>2014-07-16 06:00:00Z</td><td>1</td><td>comp4</td></tr><tr><td>2</td><td>2014-07-31 06:00:00Z</td><td>1</td><td>comp3</td></tr><tr><td>3</td><td>2014-12-13 06:00:00Z</td><td>1</td><td>comp1</td></tr><tr><td>4</td><td>2015-01-05 06:00:00Z</td><td>1</td><td>comp4</td></tr></tbody></table>"
      ]
     },
     "execution_count": 17,
     "metadata": {},
     "output_type": "execute_result"
    }
   ],
   "source": [
    "maint.Head()"
   ]
  },
  {
   "cell_type": "code",
   "execution_count": 18,
   "metadata": {},
   "outputs": [
    {
     "data": {
      "text/html": [
       "<div id=\"eb005fa0-fe7c-4e56-a3c3-8ecd9a355892\" style=\"width: 900px; height: 500px;\"></div><script type=\"text/javascript\">\r\n",
       "\r\n",
       "var renderPlotly = function() {\r\n",
       "    var xplotRequire = requirejs.config({context:'xplot-2.0.0',paths:{plotly:'https://cdn.plot.ly/plotly-1.49.2.min'}});\r\n",
       "    xplotRequire(['plotly'], function(Plotly) {\r\n",
       "\n",
       "            var data = [{\"type\":\"bar\",\"x\":[\"comp1\",\"comp2\",\"comp3\",\"comp4\"],\"y\":[804,863,808,811]}];\n",
       "            var layout = {\"title\":\"Components Replacements\",\"xaxis\":{\"title\":\"Component Name\",\"_isSubplotObj\":true},\"yaxis\":{\"title\":\"Number of components replaced\",\"_isSubplotObj\":true}};\n",
       "            Plotly.newPlot('eb005fa0-fe7c-4e56-a3c3-8ecd9a355892', data, layout);\n",
       "        });\r\n",
       "};\r\n",
       "if ((typeof(requirejs) !==  typeof(Function)) || (typeof(requirejs.config) !== typeof(Function))) { \r\n",
       "    var script = document.createElement(\"script\"); \r\n",
       "    script.setAttribute(\"src\", \"https://cdnjs.cloudflare.com/ajax/libs/require.js/2.3.6/require.min.js\"); \r\n",
       "    script.onload = function(){\r\n",
       "        renderPlotly();\r\n",
       "    };\r\n",
       "    document.getElementsByTagName(\"head\")[0].appendChild(script); \r\n",
       "}\r\n",
       "else {\r\n",
       "    renderPlotly();\r\n",
       "}\r\n",
       "</script>"
      ]
     },
     "metadata": {},
     "output_type": "display_data"
    }
   ],
   "source": [
    "//count number of errors \n",
    "var barValue = maint[\"comp\"].GroupBy(v => v)\n",
    "        .OrderBy(group => group.Key)\n",
    "        .Select(group => Tuple.Create(group.Key, group.Count()));\n",
    "\n",
    "//Plot Errors data\n",
    "var chart = Chart.Plot(\n",
    "    new Graph.Bar()\n",
    "    {\n",
    "       x = barValue.Select(x=>x.Item1),\n",
    "       y = barValue.Select(x=>x.Item2),\n",
    "      //  mode = \"markers\",  \n",
    "    }\n",
    "    \n",
    ");\n",
    "var layout = new XPlot.Plotly.Layout.Layout() \n",
    "    { title = \"Components Replacements\",\n",
    "     xaxis=new XPlot.Plotly.Graph.Xaxis() { title=\"Component Name\" }, \n",
    "     yaxis = new XPlot.Plotly.Graph.Yaxis() { title = \"Number of components replaced\" } };\n",
    "//put layout into chart\n",
    "chart.WithLayout(layout);\n",
    "\n",
    "display(chart)"
   ]
  },
  {
   "cell_type": "markdown",
   "metadata": {},
   "source": [
    "## Machines\n",
    "\n",
    "The data include information about 100 machines which are subject of the Predictive Maintenance analysis. The information includes: `model type`, and machine `age`."
   ]
  },
  {
   "cell_type": "code",
   "execution_count": 19,
   "metadata": {},
   "outputs": [
    {
     "data": {
      "text/html": [
       "<table><thead><th><i>index</i></th><th>machineID</th><th>model</th><th>age</th></thead><tbody><tr><td>0</td><td>1</td><td>model3</td><td>18</td></tr><tr><td>1</td><td>2</td><td>model4</td><td>7</td></tr><tr><td>2</td><td>3</td><td>model3</td><td>8</td></tr><tr><td>3</td><td>4</td><td>model3</td><td>7</td></tr><tr><td>4</td><td>5</td><td>model3</td><td>2</td></tr></tbody></table>"
      ]
     },
     "execution_count": 19,
     "metadata": {},
     "output_type": "execute_result"
    }
   ],
   "source": [
    "machines.Head()"
   ]
  },
  {
   "cell_type": "code",
   "execution_count": 20,
   "metadata": {},
   "outputs": [
    {
     "data": {
      "text/html": [
       "<div id=\"947e08d6-0c8e-4eba-9407-dc8774005116\" style=\"width: 900px; height: 500px;\"></div><script type=\"text/javascript\">\r\n",
       "\r\n",
       "var renderPlotly = function() {\r\n",
       "    var xplotRequire = requirejs.config({context:'xplot-2.0.0',paths:{plotly:'https://cdn.plot.ly/plotly-1.49.2.min'}});\r\n",
       "    xplotRequire(['plotly'], function(Plotly) {\r\n",
       "\n",
       "            var data = [{\"type\":\"bar\",\"x\":[0,1,2,3,4,5,6,7,8,9,10,11,12,14,15,16,17,18,19,20],\"y\":[1,3,6,4,3,4,4,6,1,5,10,2,2,14,6,5,7,6,4,7],\"name\":\"model1\"}];\n",
       "            var layout = {\"title\":\"Components Replacements\",\"xaxis\":{\"title\":\"Machine Age\",\"_isSubplotObj\":true},\"yaxis\":{\"title\":\"Count\",\"_isSubplotObj\":true}};\n",
       "            Plotly.newPlot('947e08d6-0c8e-4eba-9407-dc8774005116', data, layout);\n",
       "        });\r\n",
       "};\r\n",
       "if ((typeof(requirejs) !==  typeof(Function)) || (typeof(requirejs.config) !== typeof(Function))) { \r\n",
       "    var script = document.createElement(\"script\"); \r\n",
       "    script.setAttribute(\"src\", \"https://cdnjs.cloudflare.com/ajax/libs/require.js/2.3.6/require.min.js\"); \r\n",
       "    script.onload = function(){\r\n",
       "        renderPlotly();\r\n",
       "    };\r\n",
       "    document.getElementsByTagName(\"head\")[0].appendChild(script); \r\n",
       "}\r\n",
       "else {\r\n",
       "    renderPlotly();\r\n",
       "}\r\n",
       "</script>"
      ]
     },
     "metadata": {},
     "output_type": "display_data"
    }
   ],
   "source": [
    "//count number of errors \n",
    "var barValue = machines[\"age\"].GroupBy(v => v)\n",
    "        .OrderBy(group => group.Key)\n",
    "        .Select(group => Tuple.Create(group.Key, group.Count()));\n",
    "\n",
    "//Plot machine data\n",
    "var chart = Chart.Plot(\n",
    "    new Graph.Bar()\n",
    "    {\n",
    "       x = barValue.Select(x=>x.Item1),\n",
    "       y = barValue.Select(x=>x.Item2),\n",
    "       name = \"model1\",  \n",
    "    }\n",
    "    \n",
    ");\n",
    "var layout = new XPlot.Plotly.Layout.Layout() \n",
    "    { title = \"Components Replacements\",\n",
    "     xaxis=new XPlot.Plotly.Graph.Xaxis() { title=\"Machine Age\" }, \n",
    "     yaxis = new XPlot.Plotly.Graph.Yaxis() { title = \"Count\" } };\n",
    "//put layout into chart\n",
    "chart.WithLayout(layout);\n",
    "\n",
    "display(chart)\n"
   ]
  },
  {
   "cell_type": "code",
   "execution_count": 21,
   "metadata": {},
   "outputs": [
    {
     "data": {
      "text/html": [
       "<div id=\"ba2c8377-cddd-43c4-a95a-78e9854d4467\" style=\"width: 900px; height: 500px;\"></div><script type=\"text/javascript\">\r\n",
       "\r\n",
       "var renderPlotly = function() {\r\n",
       "    var xplotRequire = requirejs.config({context:'xplot-2.0.0',paths:{plotly:'https://cdn.plot.ly/plotly-1.49.2.min'}});\r\n",
       "    xplotRequire(['plotly'], function(Plotly) {\r\n",
       "\n",
       "            var data = [{\"type\":\"bar\",\"x\":[15,3,14,17,20,11,16,7,10,5,2],\"y\":[2,1,3,2,1,1,2,1,1,1,1],\"name\":\"model1\"},{\"type\":\"bar\",\"x\":[6,16,14,4,10,19,18,20,12,2],\"y\":[2,1,2,1,3,1,3,2,1,1],\"name\":\"model2\"},{\"type\":\"bar\",\"x\":[18,8,7,2,20,16,10,9,1,14,15,17,3,5,19,6,11],\"y\":[2,1,2,2,3,1,2,4,1,6,2,4,1,1,1,1,1],\"name\":\"model3\"},{\"type\":\"bar\",\"x\":[7,16,1,3,15,10,5,0,9,4,19,2,20,14,6,12,18,17],\"y\":[3,1,2,2,2,4,2,1,1,2,2,2,1,3,1,1,1,1],\"name\":\"model4\"}];\n",
       "            var layout = {\"title\":\"Components Replacements\",\"xaxis\":{\"title\":\"Machine Age\",\"_isSubplotObj\":true},\"yaxis\":{\"title\":\"Count\",\"_isSubplotObj\":true},\"barmode\":\"stack\"};\n",
       "            Plotly.newPlot('ba2c8377-cddd-43c4-a95a-78e9854d4467', data, layout);\n",
       "        });\r\n",
       "};\r\n",
       "if ((typeof(requirejs) !==  typeof(Function)) || (typeof(requirejs.config) !== typeof(Function))) { \r\n",
       "    var script = document.createElement(\"script\"); \r\n",
       "    script.setAttribute(\"src\", \"https://cdnjs.cloudflare.com/ajax/libs/require.js/2.3.6/require.min.js\"); \r\n",
       "    script.onload = function(){\r\n",
       "        renderPlotly();\r\n",
       "    };\r\n",
       "    document.getElementsByTagName(\"head\")[0].appendChild(script); \r\n",
       "}\r\n",
       "else {\r\n",
       "    renderPlotly();\r\n",
       "}\r\n",
       "</script>"
      ]
     },
     "metadata": {},
     "output_type": "display_data"
    }
   ],
   "source": [
    "//Distribution of models across age\n",
    "var d1 = machines.Filter(\"model\", \"model1\", FilterOperator.Equal)[\"age\"]\n",
    "                                    .GroupBy(g => g).Select(g=>(g.Key,g.Count()));\n",
    "var d2 = machines.Filter(\"model\", \"model2\", FilterOperator.Equal)[\"age\"]\n",
    "                                    .GroupBy(g => g).Select(g=>(g.Key,g.Count()));\n",
    "var d3 = machines.Filter(\"model\", \"model3\", FilterOperator.Equal)[\"age\"]\n",
    "                                    .GroupBy(g => g).Select(g=>(g.Key,g.Count()));\n",
    "var d4 = machines.Filter(\"model\", \"model4\", FilterOperator.Equal)[\"age\"]\n",
    "                                    .GroupBy(g => g).Select(g=>(g.Key,g.Count()));\n",
    "//define bars\n",
    "var b1 = new Graph.Bar(){ x = d1.Select(x=>x.Item1),y = d1.Select(x=>x.Item2),name = \"model1\"};\n",
    "var b2 = new Graph.Bar(){ x = d2.Select(x=>x.Item1),y = d2.Select(x=>x.Item2),name = \"model2\"};\n",
    "var b3 = new Graph.Bar(){ x = d3.Select(x=>x.Item1),y = d3.Select(x=>x.Item2),name = \"model3\"};\n",
    "var b4 = new Graph.Bar(){ x = d4.Select(x=>x.Item1),y = d4.Select(x=>x.Item2),name = \"model4\"};\n",
    "    \n",
    "    \n",
    "//Plot machine data\n",
    "var chart = Chart.Plot(new[] {b1,b2,b3,b4});\n",
    "\n",
    "var layout = new XPlot.Plotly.Layout.Layout() \n",
    "    { title = \"Components Replacements\",barmode=\"stack\",\n",
    "     xaxis=new XPlot.Plotly.Graph.Xaxis() { title=\"Machine Age\" }, \n",
    "     yaxis = new XPlot.Plotly.Graph.Yaxis() { title = \"Count\" } };\n",
    "//put layout into chart\n",
    "chart.WithLayout(layout);\n",
    "\n",
    "display(chart)"
   ]
  },
  {
   "cell_type": "markdown",
   "metadata": {},
   "source": [
    "## Failures\n",
    "\n",
    "The Failures represent the replacements of the components due to the failure of the machines. Once the failure is happend the machine is stopped. This is a crucial difference between Errors and Failures."
   ]
  },
  {
   "cell_type": "code",
   "execution_count": 22,
   "metadata": {},
   "outputs": [
    {
     "data": {
      "text/html": [
       "<table><thead><th><i>index</i></th><th>datetime</th><th>machineID</th><th>failure</th></thead><tbody><tr><td>0</td><td>2015-01-05 06:00:00Z</td><td>1</td><td>comp4</td></tr><tr><td>1</td><td>2015-03-06 06:00:00Z</td><td>1</td><td>comp1</td></tr><tr><td>2</td><td>2015-04-20 06:00:00Z</td><td>1</td><td>comp2</td></tr><tr><td>3</td><td>2015-06-19 06:00:00Z</td><td>1</td><td>comp4</td></tr><tr><td>4</td><td>2015-09-02 06:00:00Z</td><td>1</td><td>comp4</td></tr></tbody></table>"
      ]
     },
     "execution_count": 22,
     "metadata": {},
     "output_type": "execute_result"
    }
   ],
   "source": [
    "failures.Head()"
   ]
  },
  {
   "cell_type": "code",
   "execution_count": 60,
   "metadata": {},
   "outputs": [
    {
     "data": {
      "text/html": [
       "<div id=\"24ae8859-f474-4f0f-b05c-281636374f6a\" style=\"width: 900px; height: 500px;\"></div><script type=\"text/javascript\">\r\n",
       "\r\n",
       "var renderPlotly = function() {\r\n",
       "    var xplotRequire = requirejs.config({context:'xplot-2.0.0',paths:{plotly:'https://cdn.plot.ly/plotly-1.49.2.min'}});\r\n",
       "    xplotRequire(['plotly'], function(Plotly) {\r\n",
       "\n",
       "            var data = [{\"type\":\"bar\",\"x\":[\"comp1\",\"comp2\",\"comp3\",\"comp4\"],\"y\":[192,259,131,179]}];\n",
       "            var layout = {\"title\":\"Failure Distribution acorss machines\",\"xaxis\":{\"title\":\"Component Name\",\"_isSubplotObj\":true},\"yaxis\":{\"title\":\"Number of components replaces\",\"_isSubplotObj\":true}};\n",
       "            Plotly.newPlot('24ae8859-f474-4f0f-b05c-281636374f6a', data, layout);\n",
       "        });\r\n",
       "};\r\n",
       "if ((typeof(requirejs) !==  typeof(Function)) || (typeof(requirejs.config) !== typeof(Function))) { \r\n",
       "    var script = document.createElement(\"script\"); \r\n",
       "    script.setAttribute(\"src\", \"https://cdnjs.cloudflare.com/ajax/libs/require.js/2.3.6/require.min.js\"); \r\n",
       "    script.onload = function(){\r\n",
       "        renderPlotly();\r\n",
       "    };\r\n",
       "    document.getElementsByTagName(\"head\")[0].appendChild(script); \r\n",
       "}\r\n",
       "else {\r\n",
       "    renderPlotly();\r\n",
       "}\r\n",
       "</script>"
      ]
     },
     "metadata": {},
     "output_type": "display_data"
    }
   ],
   "source": [
    "//count number of failures  \n",
    "var falValues = failures[\"failure\"].GroupBy(v => v)\n",
    "        .OrderBy(group => group.Key)\n",
    "        .Select(group => Tuple.Create(group.Key, group.Count()));\n",
    "\n",
    "//Plot Failure data\n",
    "var chart = Chart.Plot(\n",
    "    new Graph.Bar()\n",
    "    {\n",
    "       x = falValues.Select(x=>x.Item1),\n",
    "       y = falValues.Select(x=>x.Item2),\n",
    "      //  mode = \"markers\",  \n",
    "    }\n",
    "    \n",
    ");\n",
    "var layout = new XPlot.Plotly.Layout.Layout() \n",
    "    { title = \"Failure Distribution acorss machines\",\n",
    "     xaxis=new XPlot.Plotly.Graph.Xaxis() { title=\"Component Name\" }, \n",
    "     yaxis = new XPlot.Plotly.Graph.Yaxis() { title = \"Number of components replaces\" } };\n",
    "//put layout into chart\n",
    "chart.WithLayout(layout);\n",
    "\n",
    "display(chart)"
   ]
  },
  {
   "cell_type": "markdown",
   "metadata": {},
   "source": [
    "## Feature Engineering\n",
    "\n",
    "This section contains several feature engineering methods used to create features based on the machines' properties.\n",
    "\n",
    "### Lagged Telemetry Features\n",
    "\n",
    "First, we are going to create several lagged telemetry data, since telemetry data are classic time series data."
   ]
  },
  {
   "cell_type": "markdown",
   "metadata": {},
   "source": [
    "In the following, the rolling mean and standard deviation of the telemetry data over the last 3-hour lag window is calculated for every 3 hours."
   ]
  },
  {
   "cell_type": "code",
   "execution_count": 24,
   "metadata": {},
   "outputs": [],
   "source": [
    "//prepare rolling aggregation for each column for average values\n",
    "var agg_curent = new Dictionary<string, Aggregation>()\n",
    " {\n",
    "    { \"datetime\", Aggregation.Last }, { \"volt\", Aggregation.Last }, { \"rotate\", Aggregation.Last },\n",
    "    { \"pressure\", Aggregation.Last },{ \"vibration\", Aggregation.Last }\n",
    "  };\n",
    "//prepare rolling aggregation for each column for average values\n",
    "var agg_mean = new Dictionary<string, Aggregation>()\n",
    " {\n",
    "    { \"datetime\", Aggregation.Last }, { \"volt\", Aggregation.Avg }, { \"rotate\", Aggregation.Avg },\n",
    "    { \"pressure\", Aggregation.Avg },{ \"vibration\", Aggregation.Avg }\n",
    "  };\n",
    "//prepare rolling aggregation for each column for std values\n",
    "var agg_std = new Dictionary<string, Aggregation>()\n",
    "{\n",
    "   { \"datetime\", Aggregation.Last }, { \"volt\", Aggregation.Std }, { \"rotate\", Aggregation.Std },\n",
    "    { \"pressure\", Aggregation.Std },{ \"vibration\", Aggregation.Std }\n",
    "};"
   ]
  },
  {
   "cell_type": "code",
   "execution_count": 25,
   "metadata": {},
   "outputs": [],
   "source": [
    "//group Telemetry data by machine ID\n",
    "var groupedTelemetry = telemetry.GroupBy(\"machineID\");"
   ]
  },
  {
   "cell_type": "code",
   "execution_count": 26,
   "metadata": {},
   "outputs": [
    {
     "data": {
      "text/html": [
       "<table><thead><th><i>index</i></th><th>machineID</th><th>datetime</th><th>voltmean_3hrs</th><th>rotatemean_3hrs</th><th>pressuremean_3hrs</th><th>vibrationmean_3hrs</th></thead><tbody><tr><td>0</td><td>1</td><td>2015-01-01 08:00:00Z</td><td>170.028992</td><td>449.533813</td><td>94.592125</td><td>40.893501</td></tr><tr><td>1</td><td>1</td><td>2015-01-01 11:00:00Z</td><td>164.192566</td><td>403.94986</td><td>105.687416</td><td>34.25589</td></tr><tr><td>2</td><td>1</td><td>2015-01-01 14:00:00Z</td><td>168.134445</td><td>435.781708</td><td>107.793709</td><td>41.239407</td></tr><tr><td>3</td><td>1</td><td>2015-01-01 17:00:00Z</td><td>165.51445</td><td>430.472839</td><td>101.703285</td><td>40.373741</td></tr><tr><td>4</td><td>1</td><td>2015-01-01 20:00:00Z</td><td>168.809341</td><td>437.111115</td><td>90.911064</td><td>41.738544</td></tr></tbody></table>"
      ]
     },
     "execution_count": 26,
     "metadata": {},
     "output_type": "execute_result"
    }
   ],
   "source": [
    "//calculate rolling mean for grouped data for each 3 hours\n",
    "var _3AvgValue = groupedTelemetry.Rolling(3, 3, agg_mean)\n",
    "                 .Create((\"machineID\", null), (\"datetime\", null),(\"volt\", \"voltmean_3hrs\"), (\"rotate\", \"rotatemean_3hrs\"),\n",
    "                         (\"pressure\", \"pressuremean_3hrs\"), (\"vibration\", \"vibrationmean_3hrs\"));\n",
    "//show head of the newely generated table\n",
    "_3AvgValue.Head()"
   ]
  },
  {
   "cell_type": "code",
   "execution_count": 27,
   "metadata": {},
   "outputs": [
    {
     "data": {
      "text/html": [
       "<table><thead><th><i>index</i></th><th>machineID</th><th>datetime</th><th>voltmean_3hrs</th><th>rotatemean_3hrs</th><th>pressuremean_3hrs</th><th>vibrationmean_3hrs</th></thead><tbody><tr><td>291995</td><td>100</td><td>2015-12-31 17:00:00Z</td><td>177.758759</td><td>458.391632</td><td>103.183159</td><td>46.846592</td></tr><tr><td>291996</td><td>100</td><td>2015-12-31 20:00:00Z</td><td>166.078949</td><td>424.431183</td><td>98.344414</td><td>30.907459</td></tr><tr><td>291997</td><td>100</td><td>2015-12-31 23:00:00Z</td><td>158.327988</td><td>504.056274</td><td>108.055443</td><td>40.109707</td></tr><tr><td>291998</td><td>100</td><td>2016-01-01 02:00:00Z</td><td>170.306961</td><td>438.653625</td><td>102.34623</td><td>47.481232</td></tr><tr><td>291999</td><td>100</td><td>2016-01-01 05:00:00Z</td><td>182.525421</td><td>435.932068</td><td>98.798172</td><td>42.757629</td></tr></tbody></table>"
      ]
     },
     "execution_count": 27,
     "metadata": {},
     "output_type": "execute_result"
    }
   ],
   "source": [
    "_3AvgValue.Tail()"
   ]
  },
  {
   "cell_type": "code",
   "execution_count": 28,
   "metadata": {},
   "outputs": [
    {
     "data": {
      "text/html": [
       "<table><thead><th><i>index</i></th><th>machineID</th><th>datetime</th><th>voltsd_3hrs</th><th>rotatesd_3hrs</th><th>pressuresd_3hrs</th><th>vibrationsd_3hrs</th></thead><tbody><tr><td>0</td><td>1</td><td>2015-01-01 08:00:00Z</td><td>170.028992</td><td>449.533813</td><td>94.592125</td><td>40.893501</td></tr><tr><td>1</td><td>1</td><td>2015-01-01 11:00:00Z</td><td>164.192566</td><td>403.94986</td><td>105.687416</td><td>34.25589</td></tr><tr><td>2</td><td>1</td><td>2015-01-01 14:00:00Z</td><td>168.134445</td><td>435.781708</td><td>107.793709</td><td>41.239407</td></tr><tr><td>3</td><td>1</td><td>2015-01-01 17:00:00Z</td><td>165.51445</td><td>430.472839</td><td>101.703285</td><td>40.373741</td></tr><tr><td>4</td><td>1</td><td>2015-01-01 20:00:00Z</td><td>168.809341</td><td>437.111115</td><td>90.911064</td><td>41.738544</td></tr></tbody></table>"
      ]
     },
     "execution_count": 28,
     "metadata": {},
     "output_type": "execute_result"
    }
   ],
   "source": [
    "//calculate rolling std for grouped datat fro each 3 hours\n",
    "var _3StdValue = groupedTelemetry.Rolling(3, 3, agg_mean)\n",
    "                 .Create((\"machineID\", null), (\"datetime\", null),(\"volt\", \"voltsd_3hrs\"), (\"rotate\", \"rotatesd_3hrs\"),\n",
    "                         (\"pressure\", \"pressuresd_3hrs\"), (\"vibration\", \"vibrationsd_3hrs\"));\n",
    "//show head of the newely generated table\n",
    "_3StdValue.Head()"
   ]
  },
  {
   "cell_type": "markdown",
   "metadata": {},
   "source": [
    "For caputing a longer term effect 24 hours lag features we are going to calculate rolling avf and std."
   ]
  },
  {
   "cell_type": "code",
   "execution_count": 30,
   "metadata": {},
   "outputs": [],
   "source": [
    "//calculate rolling avg and std for each 24 hours\n",
    "var _24AvgValue = groupedTelemetry.Rolling(24, 3, agg_mean)\n",
    "                .Create((\"machineID\", null), (\"datetime\", null),\n",
    "                        (\"volt\", \"voltmean_24hrs\"), (\"rotate\", \"rotatemean_24hrs\"),\n",
    "                        (\"pressure\", \"pressuremean_24hrs\"), (\"vibration\", \"vibrationmean_24hrs\"));\n",
    "var _24StdValue = groupedTelemetry.Rolling(24, 3, agg_std)\n",
    "                .Create((\"machineID\", null), (\"datetime\", null),\n",
    "                        (\"volt\", \"voltsd_24hrs\"), (\"rotate\", \"rotatesd_24hrs\"),\n",
    "                        (\"pressure\", \"pressuresd_24hrs\"), (\"vibration\", \"vibrationsd_24hrs\"));"
   ]
  },
  {
   "cell_type": "markdown",
   "metadata": {},
   "source": [
    "### Merging telemetry features\n",
    "\n",
    "Once we have rolling lag features calculated, we can merge them into one data frame:"
   ]
  },
  {
   "cell_type": "code",
   "execution_count": 31,
   "metadata": {},
   "outputs": [],
   "source": [
    "//before merge all features create set of features from the current values for every 3 or 24 hours\n",
    "DataFrame _1CurrentValue = groupedTelemetry.Rolling(3, 3, agg_curent)\n",
    "                            .Create((\"machineID\", null), (\"datetime\", null),\n",
    "                            (\"volt\", null), (\"rotate\", null), (\"pressure\", null), (\"vibration\", null));"
   ]
  },
  {
   "cell_type": "code",
   "execution_count": 32,
   "metadata": {},
   "outputs": [],
   "source": [
    "//merge all telemetry data frames into one\n",
    "var mergeCols= new string[] { \"machineID\", \"datetime\" };\n",
    "var df1 = _1CurrentValue.Merge(_3AvgValue, mergeCols, mergeCols, JoinType.Left, suffix: \"df1\");   \n",
    "                                            \n",
    "var df2 = df1.Merge(_24AvgValue, mergeCols, mergeCols, JoinType.Left, suffix: \"df2\");\n",
    "                                 \n",
    "var df3 = df2.Merge(_3StdValue, mergeCols, mergeCols, JoinType.Left, suffix: \"df3\");\n",
    "                                \n",
    "var df4 = df3.Merge(_24StdValue, mergeCols, mergeCols, JoinType.Left, suffix: \"df4\");"
   ]
  },
  {
   "cell_type": "code",
   "execution_count": 33,
   "metadata": {},
   "outputs": [],
   "source": [
    "//select final dataset for the telemetry\n",
    "var telDF = df4[\"machineID\",\"datetime\",\"volt\",\"rotate\", \"pressure\", \"vibration\",\n",
    "                 \"voltmean_3hrs\",\"rotatemean_3hrs\",\"pressuremean_3hrs\",\"vibrationmean_3hrs\",\n",
    "                 \"voltmean_24hrs\",\"rotatemean_24hrs\",\"pressuremean_24hrs\",\"vibrationmean_24hrs\",\n",
    "                 \"voltsd_3hrs\", \"rotatesd_3hrs\",\"pressuresd_3hrs\",\"vibrationsd_3hrs\",\n",
    "                 \"voltsd_24hrs\", \"rotatesd_24hrs\",\"pressuresd_24hrs\",\"vibrationsd_24hrs\"];\n",
    "\n",
    "//remove NANs\n",
    "var telemetry_final = telDF.DropNA();"
   ]
  },
  {
   "cell_type": "code",
   "execution_count": 34,
   "metadata": {},
   "outputs": [
    {
     "data": {
      "text/html": [
       "<table><thead><th><i>index</i></th><th>machineID</th><th>datetime</th><th>volt</th><th>rotate</th><th>pressure</th><th>vibration</th><th>voltmean_3hrs</th><th>rotatemean_3hrs</th><th>pressuremean_3hrs</th><th>vibrationmean_3hrs</th><th>voltmean_24hrs</th><th>rotatemean_24hrs</th><th>pressuremean_24hrs</th><th>vibrationmean_24hrs</th><th>voltsd_3hrs</th><th>rotatesd_3hrs</th><th>pressuresd_3hrs</th><th>vibrationsd_3hrs</th><th>voltsd_24hrs</th><th>rotatesd_24hrs</th><th>pressuresd_24hrs</th><th>vibrationsd_24hrs</th></thead><tbody><tr><td>0</td><td>1</td><td>2015-01-02 05:00:00Z</td><td>181.257523</td><td>495.777954</td><td>93.439293</td><td>52.355877</td><td>180.133789</td><td>440.608337</td><td>94.13797</td><td>41.551544</td><td>169.73381</td><td>445.179871</td><td>96.797112</td><td>40.385159</td><td>180.133789</td><td>440.608337</td><td>94.13797</td><td>41.551544</td><td>11.233122</td><td>48.717397</td><td>10.079879</td><td>5.853208</td></tr><tr><td>1</td><td>1</td><td>2015-01-02 08:00:00Z</td><td>160.528854</td><td>486.459045</td><td>86.944275</td><td>42.992508</td><td>176.364288</td><td>439.34964</td><td>101.553207</td><td>36.105579</td><td>170.525726</td><td>443.90686</td><td>97.667252</td><td>39.786671</td><td>176.364288</td><td>439.34964</td><td>101.553207</td><td>36.105579</td><td>12.59195</td><td>46.930281</td><td>9.406794</td><td>6.098173</td></tr><tr><td>2</td><td>1</td><td>2015-01-02 11:00:00Z</td><td>173.394516</td><td>439.579468</td><td>97.675827</td><td>37.117104</td><td>160.384567</td><td>424.385315</td><td>99.598724</td><td>36.094639</td><td>170.049713</td><td>446.461273</td><td>96.906158</td><td>40.016514</td><td>160.384567</td><td>424.385315</td><td>99.598724</td><td>36.094639</td><td>13.277338</td><td>42.836778</td><td>9.071471</td><td>5.481724</td></tr><tr><td>3</td><td>1</td><td>2015-01-02 14:00:00Z</td><td>152.420776</td><td>497.840607</td><td>101.641693</td><td>30.665184</td><td>170.472458</td><td>442.93399</td><td>102.380585</td><td>40.483002</td><td>170.341965</td><td>447.355316</td><td>96.229523</td><td>39.921963</td><td>170.472458</td><td>442.93399</td><td>102.380585</td><td>40.483002</td><td>13.81716</td><td>42.808631</td><td>8.256793</td><td>5.862312</td></tr><tr><td>4</td><td>1</td><td>2015-01-02 17:00:00Z</td><td>164.512222</td><td>424.542633</td><td>102.485527</td><td>42.243374</td><td>163.263809</td><td>468.937561</td><td>102.726646</td><td>40.921803</td><td>170.060638</td><td>452.163391</td><td>96.357445</td><td>39.990471</td><td>163.263809</td><td>468.937561</td><td>102.726646</td><td>40.921803</td><td>14.79287</td><td>42.52529</td><td>8.669605</td><td>5.907157</td></tr></tbody></table>"
      ]
     },
     "execution_count": 34,
     "metadata": {},
     "output_type": "execute_result"
    }
   ],
   "source": [
    "telemetry_final.Head()"
   ]
  },
  {
   "cell_type": "markdown",
   "metadata": {},
   "source": [
    "## Lag Features from Errors\n",
    "\n",
    "Unlike telemetry that had numerical values, errors have categorical values denoting the type of error that occurred at a time-stamp. We are going to aggregate categories of the error with different types of errors that occurred in the lag window.\n",
    "\n",
    "First, encode the errors with One-Hot-Encoding:"
   ]
  },
  {
   "cell_type": "code",
   "execution_count": 35,
   "metadata": {},
   "outputs": [
    {
     "data": {
      "text/html": [
       "<table><thead><th><i>index</i></th><th>machineID</th><th>datetime</th><th>error1sum</th><th>error2sum</th><th>error3sum</th><th>error4sum</th><th>error5sum</th></thead><tbody><tr><td>0</td><td>1</td><td>2015-01-03 07:00:00Z</td><td>1</td><td>0</td><td>0</td><td>0</td><td>0</td></tr><tr><td>1</td><td>1</td><td>2015-01-03 20:00:00Z</td><td>0</td><td>0</td><td>1</td><td>0</td><td>0</td></tr><tr><td>2</td><td>1</td><td>2015-01-04 06:00:00Z</td><td>0</td><td>0</td><td>0</td><td>0</td><td>1</td></tr><tr><td>3</td><td>1</td><td>2015-01-10 15:00:00Z</td><td>0</td><td>0</td><td>0</td><td>1</td><td>0</td></tr><tr><td>4</td><td>1</td><td>2015-01-22 10:00:00Z</td><td>0</td><td>0</td><td>0</td><td>1</td><td>0</td></tr></tbody></table>"
      ]
     },
     "execution_count": 35,
     "metadata": {},
     "output_type": "execute_result"
    }
   ],
   "source": [
    "var mlContext = new MLContext(seed:2019);\n",
    "//One Hot Encoding of error column\n",
    "var encodedErr = errors.EncodeColumn(mlContext, \"errorID\");\n",
    "\n",
    "//sum duplicated erros by machine and date\n",
    "var errors_aggs = new Dictionary<string, Aggregation>();\n",
    "errors_aggs.Add(\"error1\", Aggregation.Sum);\n",
    "errors_aggs.Add(\"error2\", Aggregation.Sum);\n",
    "errors_aggs.Add(\"error3\", Aggregation.Sum);\n",
    "errors_aggs.Add(\"error4\", Aggregation.Sum);\n",
    "errors_aggs.Add(\"error5\", Aggregation.Sum);\n",
    "\n",
    "//group and sum duplicated errors\n",
    "encodedErr =  encodedErr.GroupBy(new string[] { \"machineID\", \"datetime\" }).Aggregate(errors_aggs);\n",
    "\n",
    "//\n",
    "encodedErr = encodedErr.Create((\"machineID\", null), (\"datetime\", null),\n",
    "                        (\"error1\", \"error1sum\"), (\"error2\", \"error2sum\"),\n",
    "                        (\"error3\", \"error3sum\"), (\"error4\", \"error4sum\"), (\"error5\", \"error5sum\"));\n",
    "encodedErr.Head()                       "
   ]
  },
  {
   "cell_type": "code",
   "execution_count": 36,
   "metadata": {},
   "outputs": [
    {
     "data": {
      "text/html": [
       "<table><thead><th><i>index</i></th><th>machineID</th><th>datetime</th><th>error1sum</th><th>error2sum</th><th>error3sum</th><th>error4sum</th><th>error5sum</th></thead><tbody><tr><td>0</td><td>1</td><td>2015-01-01 06:00:00Z</td><td>0</td><td>0</td><td>0</td><td>0</td><td>0</td></tr><tr><td>1</td><td>1</td><td>2015-01-01 07:00:00Z</td><td>0</td><td>0</td><td>0</td><td>0</td><td>0</td></tr><tr><td>2</td><td>1</td><td>2015-01-01 08:00:00Z</td><td>0</td><td>0</td><td>0</td><td>0</td><td>0</td></tr><tr><td>3</td><td>1</td><td>2015-01-01 09:00:00Z</td><td>0</td><td>0</td><td>0</td><td>0</td><td>0</td></tr><tr><td>4</td><td>1</td><td>2015-01-01 10:00:00Z</td><td>0</td><td>0</td><td>0</td><td>0</td><td>0</td></tr></tbody></table>"
      ]
     },
     "execution_count": 36,
     "metadata": {},
     "output_type": "execute_result"
    }
   ],
   "source": [
    "// align errors with telemetry datetime values so that we can calculate aggregations\n",
    "var er = telemetry.Merge(encodedErr,mergeCols, mergeCols, JoinType.Left, suffix: \"error\");\n",
    "//\n",
    "er = er[\"machineID\",\"datetime\", \"error1sum\", \"error2sum\", \"error3sum\", \"error4sum\", \"error5sum\"];\n",
    "//fill missing values with 0\n",
    "er.FillNA(0);\n",
    "er.Head()   "
   ]
  },
  {
   "cell_type": "code",
   "execution_count": 37,
   "metadata": {},
   "outputs": [
    {
     "data": {
      "text/html": [
       "<table><thead><th><i>index</i></th><th>machineID</th><th>datetime</th><th>error1count</th><th>error2count</th><th>error3count</th><th>error4count</th><th>error5count</th></thead><tbody><tr><td>0</td><td>1</td><td>2015-01-02 05:00:00Z</td><td>0</td><td>0</td><td>0</td><td>0</td><td>0</td></tr><tr><td>1</td><td>1</td><td>2015-01-02 08:00:00Z</td><td>0</td><td>0</td><td>0</td><td>0</td><td>0</td></tr><tr><td>2</td><td>1</td><td>2015-01-02 11:00:00Z</td><td>0</td><td>0</td><td>0</td><td>0</td><td>0</td></tr><tr><td>3</td><td>1</td><td>2015-01-02 14:00:00Z</td><td>0</td><td>0</td><td>0</td><td>0</td><td>0</td></tr><tr><td>4</td><td>1</td><td>2015-01-02 17:00:00Z</td><td>0</td><td>0</td><td>0</td><td>0</td><td>0</td></tr></tbody></table>"
      ]
     },
     "execution_count": 37,
     "metadata": {},
     "output_type": "execute_result"
    }
   ],
   "source": [
    "//count the number of errors of different types in the last 24 hours, for every 3 hours\n",
    "//define aggregation\n",
    "var errors_aggs1 = new Dictionary<string, Aggregation>()\n",
    "{\n",
    "  { \"datetime\", Aggregation.Last },{ \"error1sum\", Aggregation.Sum }, { \"error2sum\", Aggregation.Sum }, \n",
    "  { \"error3sum\", Aggregation.Sum },{ \"error4sum\", Aggregation.Sum },\n",
    "  { \"error5sum\", Aggregation.Sum }\n",
    "};\n",
    "\n",
    "//count the number of errors of different types in the last 24 hours,  for every 3 hours\n",
    "var eDF = er.GroupBy(new string[] { \"machineID\"}).Rolling(24, 3, errors_aggs1);\n",
    "\n",
    "//\n",
    "var newdf=  eDF.DropNA();\n",
    "\n",
    "var errors_final = newdf.Create((\"machineID\", null), (\"datetime\", null),\n",
    "                        (\"error1sum\", \"error1count\"), (\"error2sum\", \"error2count\"),\n",
    "                        (\"error3sum\", \"error3count\"), (\"error4sum\", \"error4count\"), (\"error5sum\", \"error5count\"));\n",
    "errors_final.Head()"
   ]
  },
  {
   "cell_type": "markdown",
   "metadata": {},
   "source": [
    "## Time Since Last Replacement\n"
   ]
  },
  {
   "cell_type": "markdown",
   "metadata": {},
   "source": [
    "As the main task here is how to create a relevant feature in order to create a quality data set for the machine learning part. One of the good features would be the number of replacements of each component in the last 3 months to incorporate the frequency of replacements. \n",
    "\n",
    "Furthermore, we can calculate how long it has been since a component is last replaced as that would be expected to correlate better with component failures since the longer a component is used, the more degradation should be expected.\n",
    " As first we are going to encode the maintenance table:"
   ]
  },
  {
   "cell_type": "code",
   "execution_count": 38,
   "metadata": {},
   "outputs": [
    {
     "data": {
      "text/html": [
       "<table><thead><th><i>index</i></th><th>datetime</th><th>machineID</th><th>comp</th><th>comp2</th><th>comp4</th><th>comp3</th><th>comp1</th></thead><tbody><tr><td>0</td><td>2014-06-01 06:00:00Z</td><td>1</td><td>comp2</td><td>1</td><td>0</td><td>0</td><td>0</td></tr><tr><td>1</td><td>2014-07-16 06:00:00Z</td><td>1</td><td>comp4</td><td>0</td><td>1</td><td>0</td><td>0</td></tr><tr><td>2</td><td>2014-07-31 06:00:00Z</td><td>1</td><td>comp3</td><td>0</td><td>0</td><td>1</td><td>0</td></tr><tr><td>3</td><td>2014-12-13 06:00:00Z</td><td>1</td><td>comp1</td><td>0</td><td>0</td><td>0</td><td>1</td></tr><tr><td>4</td><td>2015-01-05 06:00:00Z</td><td>1</td><td>comp4</td><td>0</td><td>1</td><td>0</td><td>0</td></tr></tbody></table>"
      ]
     },
     "execution_count": 38,
     "metadata": {},
     "output_type": "execute_result"
    }
   ],
   "source": [
    "//One Hot Encoding of error column\n",
    "var encMaint = maint.EncodeColumn(mlContext, \"comp\");\n",
    "encMaint.Head()"
   ]
  },
  {
   "cell_type": "code",
   "execution_count": 39,
   "metadata": {},
   "outputs": [
    {
     "data": {
      "text/html": [
       "<table><thead><th><i>index</i></th><th>machineID</th><th>datetime</th></thead><tbody><tr><td>0</td><td>1</td><td>2014-07-16 06:00:00Z</td></tr><tr><td>1</td><td>1</td><td>2015-01-05 06:00:00Z</td></tr><tr><td>2</td><td>1</td><td>2015-02-04 06:00:00Z</td></tr><tr><td>3</td><td>1</td><td>2015-06-19 06:00:00Z</td></tr><tr><td>4</td><td>1</td><td>2015-09-02 06:00:00Z</td></tr></tbody></table>"
      ]
     },
     "execution_count": 39,
     "metadata": {},
     "output_type": "execute_result"
    }
   ],
   "source": [
    "//create separate data frames in order to calculate proper time since last replacement \n",
    "DataFrame dfComp1 = encMaint.Filter(\"comp1\", 1, FilterOperator.Equal)[\"machineID\", \"datetime\"];\n",
    "DataFrame dfComp2 = encMaint.Filter(\"comp2\", 1, FilterOperator.Equal)[\"machineID\", \"datetime\"];;\n",
    "DataFrame dfComp3 = encMaint.Filter(\"comp3\", 1, FilterOperator.Equal)[\"machineID\", \"datetime\"];;\n",
    "DataFrame dfComp4 = encMaint.Filter(\"comp4\", 1, FilterOperator.Equal)[\"machineID\", \"datetime\"];;\n",
    "\n",
    "dfComp4.Head()"
   ]
  },
  {
   "cell_type": "code",
   "execution_count": 40,
   "metadata": {},
   "outputs": [],
   "source": [
    "//from telemetry data create helped dataframe so we can calculate additional column from the maintenance data frame\n",
    "var compData = telemetry_final.Create((\"machineID\", null), (\"datetime\", null));"
   ]
  },
  {
   "cell_type": "code",
   "execution_count": 41,
   "metadata": {},
   "outputs": [
    {
     "data": {
      "text/plain": [
       "Wall time: 178708.9764ms"
      ]
     },
     "metadata": {},
     "output_type": "display_data"
    }
   ],
   "source": [
    "%%time\n",
    "//calculate new set of columns so that we have information the time since last replacement of each component separetly\n",
    "var newCols= new string[]{\"sincelastcomp1\",\"sincelastcomp2\",\"sincelastcomp3\",\"sincelastcomp4\"};\n",
    "var calcValues= new object[4];\n",
    "\n",
    "//perform calculation\n",
    "compData.AddCalculatedColumns(newCols,(row, i)=>\n",
    "{\n",
    "    var machineId = Convert.ToInt32(row[\"machineID\"]);\n",
    "    var date = Convert.ToDateTime(row[\"datetime\"]);\n",
    "    \n",
    "    var maxDate1 = dfComp1.Filter(\"machineID\", machineId, FilterOperator.Equal)[\"datetime\"]\n",
    "        .Where(x => (DateTime)x <= date).Select(x=>(DateTime)x).Max();\n",
    "    var maxDate2 = dfComp2.Filter(\"machineID\", machineId, FilterOperator.Equal)[\"datetime\"]\n",
    "        .Where(x => (DateTime)x <= date).Select(x=>(DateTime)x).Max();\n",
    "    var maxDate3 = dfComp3.Filter(\"machineID\", machineId, FilterOperator.Equal)[\"datetime\"]\n",
    "        .Where(x => (DateTime)x <= date).Select(x=>(DateTime)x).Max();\n",
    "    var maxDate4 = dfComp4.Filter(\"machineID\", machineId, FilterOperator.Equal)[\"datetime\"]\n",
    "        .Where(x => (DateTime)x <= date).Select(x=>(DateTime)x).Max();\n",
    "        \n",
    "    //perform calculation\n",
    "    calcValues[0] = (date - maxDate1).TotalDays;\n",
    "    calcValues[1] = (date - maxDate2).TotalDays;\n",
    "    calcValues[2] = (date - maxDate3).TotalDays;\n",
    "    calcValues[3] = (date - maxDate4).TotalDays;\n",
    "    return calcValues;\n",
    "});"
   ]
  },
  {
   "cell_type": "code",
   "execution_count": 42,
   "metadata": {},
   "outputs": [
    {
     "data": {
      "text/html": [
       "<table><thead><th><i>index</i></th><th>machineID</th><th>datetime</th><th>sincelastcomp1</th><th>sincelastcomp2</th><th>sincelastcomp3</th><th>sincelastcomp4</th></thead><tbody><tr><td>0</td><td>1</td><td>2015-01-02 05:00:00Z</td><td>19.958333333333332</td><td>214.95833333333334</td><td>154.95833333333334</td><td>169.95833333333334</td></tr><tr><td>1</td><td>1</td><td>2015-01-02 08:00:00Z</td><td>20.083333333333332</td><td>215.08333333333334</td><td>155.08333333333334</td><td>170.08333333333334</td></tr><tr><td>2</td><td>1</td><td>2015-01-02 11:00:00Z</td><td>20.208333333333332</td><td>215.20833333333334</td><td>155.20833333333334</td><td>170.20833333333334</td></tr><tr><td>3</td><td>1</td><td>2015-01-02 14:00:00Z</td><td>20.333333333333332</td><td>215.33333333333334</td><td>155.33333333333334</td><td>170.33333333333334</td></tr><tr><td>4</td><td>1</td><td>2015-01-02 17:00:00Z</td><td>20.458333333333332</td><td>215.45833333333334</td><td>155.45833333333334</td><td>170.45833333333334</td></tr></tbody></table>"
      ]
     },
     "execution_count": 42,
     "metadata": {},
     "output_type": "execute_result"
    }
   ],
   "source": [
    "var maintenance_final = compData;\n",
    "maintenance_final.Head()"
   ]
  },
  {
   "cell_type": "markdown",
   "metadata": {},
   "source": [
    "## Machine Features\n",
    "\n",
    "The machine data set contains descriptive information about machines like the type of machines and their ages which is the years in service. "
   ]
  },
  {
   "cell_type": "code",
   "execution_count": 43,
   "metadata": {},
   "outputs": [
    {
     "data": {
      "text/html": [
       "<table><thead><th><i>index</i></th><th>machineID</th><th>model</th><th>age</th></thead><tbody><tr><td>0</td><td>1</td><td>model3</td><td>18</td></tr><tr><td>1</td><td>2</td><td>model4</td><td>7</td></tr><tr><td>2</td><td>3</td><td>model3</td><td>8</td></tr><tr><td>3</td><td>4</td><td>model3</td><td>7</td></tr><tr><td>4</td><td>5</td><td>model3</td><td>2</td></tr></tbody></table>"
      ]
     },
     "execution_count": 43,
     "metadata": {},
     "output_type": "execute_result"
    }
   ],
   "source": [
    "machines.Head()"
   ]
  },
  {
   "cell_type": "markdown",
   "metadata": {},
   "source": [
    "## Joining features into final ML ready data set\n",
    "\n",
    "As the last step in Feature engineering, we are performing merging all features into one data set. "
   ]
  },
  {
   "cell_type": "code",
   "execution_count": 44,
   "metadata": {},
   "outputs": [],
   "source": [
    "var merge2Cols=new string[]{\"machineID\"};\n",
    "var fdf1= telemetry_final.Merge(errors_final, mergeCols, mergeCols,JoinType.Left, suffix: \"er\");\n",
    "var fdf2 = fdf1.Merge(maintenance_final, mergeCols,mergeCols,JoinType.Left, suffix: \"mn\");\n",
    "var features_final = fdf2.Merge(machines, merge2Cols,merge2Cols,JoinType.Left, suffix: \"ma\");"
   ]
  },
  {
   "cell_type": "code",
   "execution_count": 62,
   "metadata": {},
   "outputs": [],
   "source": [
    "features_final= features_final[\"datetime\", \"machineID\", \n",
    "            \"voltmean_3hrs\", \"rotatemean_3hrs\", \"pressuremean_3hrs\", \"vibrationmean_3hrs\",\n",
    "            \"voltsd_3hrs\", \"rotatesd_3hrs\", \"pressuresd_3hrs\", \"vibrationsd_3hrs\", \n",
    "            \"voltmean_24hrs\", \"rotatemean_24hrs\", \"pressuremean_24hrs\", \"vibrationmean_24hrs\", \n",
    "            \"voltsd_24hrs\",\"rotatesd_24hrs\", \"pressuresd_24hrs\", \"vibrationsd_24hrs\", \n",
    "            \"error1count\", \"error2count\", \"error3count\", \"error4count\", \"error5count\", \n",
    "            \"sincelastcomp1\", \"sincelastcomp2\", \"sincelastcomp3\", \"sincelastcomp4\", \n",
    "            \"model\", \"age\"];\n",
    "//\n",
    "\n",
    "features_final.Head();\n",
    "DataFrame.ToCsv(\"data/final_features.csv\", features_final);"
   ]
  },
  {
   "cell_type": "markdown",
   "metadata": {},
   "source": [
    "# Define Label Column\n"
   ]
  },
  {
   "cell_type": "markdown",
   "metadata": {},
   "source": [
    "The Label in prediction maintenance should be the probability that a machine will fail in the near future due to a failure certain component. If we take 24 hours to be a task for this problem, the label construction is consists of a new column in the feature data set which indicate if certain machine will fail or not in the next 24 hours due to failure one of several components. \n",
    "\n",
    "With this way we are defining the label as a categorical variable containing:\n",
    "- `none` - if the machine will not fail in the next 24 hours,\n",
    "- `comp1` to `comp4` - if the machine will fail in the next 24 hours due to the failure of cetain components.\n",
    "\n",
    "Since we can experiment with the label construction by applying different conditions, we can implement methods that take several arguments in order to define the general problem."
   ]
  },
  {
   "cell_type": "code",
   "execution_count": 46,
   "metadata": {},
   "outputs": [
    {
     "data": {
      "text/html": [
       "<table><thead><th><i>index</i></th><th>datetime</th><th>machineID</th><th>failure</th></thead><tbody><tr><td>Count</td><td>761</td><td>761</td><td>761</td></tr><tr><td>Unique</td><td>302</td><td>98</td><td>4</td></tr><tr><td>Top</td><td>2015-01-02 03:00:00Z</td><td>99</td><td>comp2</td></tr><tr><td>Freq</td><td>18</td><td>19</td><td>259</td></tr><tr><td>Mean</td><td>&lt;null&gt;</td><td>51.911958</td><td>&lt;null&gt;</td></tr><tr><td>Std</td><td>&lt;null&gt;</td><td>29.515542</td><td>&lt;null&gt;</td></tr><tr><td>Min</td><td>2015-01-02 03:00:00Z</td><td>1</td><td>&lt;null&gt;</td></tr><tr><td>25%</td><td>&lt;null&gt;</td><td>24</td><td>&lt;null&gt;</td></tr><tr><td>Median</td><td>&lt;null&gt;</td><td>51</td><td>&lt;null&gt;</td></tr><tr><td>75%</td><td>&lt;null&gt;</td><td>79</td><td>&lt;null&gt;</td></tr><tr><td>Max</td><td>2015-12-31 06:00:00Z</td><td>100</td><td>&lt;null&gt;</td></tr></tbody></table>"
      ]
     },
     "execution_count": 46,
     "metadata": {},
     "output_type": "execute_result"
    }
   ],
   "source": [
    "failures.Describe(false)"
   ]
  },
  {
   "cell_type": "code",
   "execution_count": 55,
   "metadata": {},
   "outputs": [],
   "source": [
    "//constructing the label column which indicate if the current machine will \n",
    "//fail in the next `predTime` (24 hours as default) due to failur certain component.\n",
    "//create final data frame from from feature df\n",
    "var finalDf = new DataFrame(features_final);\n",
    "\n",
    "//group failures by machineID and datetime \n",
    "string[] cols = new string[] {  \"machineID\" , \"datetime\"};\n",
    "var failDfgrp = failures.GroupBy(cols);\n",
    "\n",
    "//Add failure column to  finalDF\n",
    "var rV = new object[] { \"none\" };\n",
    "finalDf.AddCalculatedColumns(new string[]{\"failure\"}, (object[] row, int i) => rV);\n",
    "\n",
    "//create new data frame from featuresDF by grouping machineID and datatime\n",
    "var featureDfGrouped = finalDf[\"datetime\",\"machineID\", \"failure\"].GroupBy(cols);\n",
    "\n",
    "//now look for every failure and calculate if the machine will fail in the last 24 hours\n",
    "//in case two or more components were failed for the ssame machine add new row in df\n",
    "var failureDfExt = featureDfGrouped.Transform((xdf) =>\n",
    "{\n",
    "    //extract the row from featureDfGrouped\n",
    "    var xdfRow = xdf[0].ToList();\n",
    "    var refDate = (DateTime)xdfRow[0];\n",
    "    var machineID = (int)xdfRow[1];\n",
    "\n",
    "    //now look if the failure contains the machineID\n",
    "    if(failDfgrp.Group2.ContainsKey(machineID))\n",
    "    {\n",
    "        //get the date and calculate total hours\n",
    "        var dff = failDfgrp.Group2[machineID];\n",
    "\n",
    "        foreach (var dfff in dff)\n",
    "        {\n",
    "            for (int i = 0; i < dfff.Value.RowCount(); i++)\n",
    "            {\n",
    "                //\"datetime\",\"machineID\",\"failure\"\n",
    "                var frow = dfff.Value[i].ToList();\n",
    "                var dft = (DateTime)frow[0];\n",
    "                \n",
    "                //if total hours is less or equal than 24 hours set component to the failure column\n",
    "                var totHours = (dft - refDate).TotalHours;\n",
    "                if (totHours <= 24 && totHours >=0)\n",
    "                {\n",
    "                    if (xdf.RowCount() > i)\n",
    "                        xdf[\"failure\", i] = frow[2];\n",
    "                    else//in case two components were failed for the same machine and \n",
    "                        //at the same time, add new row with new component name\n",
    "                    {\n",
    "                        var r = xdf[0].ToList();\n",
    "                        r[2] = frow[2];\n",
    "                        xdf.AddRow(r);\n",
    "                    }\n",
    "                }\n",
    "            }\n",
    "        }\n",
    "    }\n",
    "    return xdf;\n",
    "});\n",
    "\n",
    "//Now merge extended failure Df with featureDF\n",
    "var final_dataframe = finalDf.Merge(failureDfExt, cols, cols,JoinType.Left, \"fail\");\n",
    "\n",
    "//define final set of columns\n",
    "final_dataframe = final_dataframe[\"datetime\", \"machineID\",\n",
    "\"voltmean_3hrs\", \"rotatemean_3hrs\", \"pressuremean_3hrs\", \"vibrationmean_3hrs\",\n",
    "\"voltsd_3hrs\", \"rotatesd_3hrs\", \"pressuresd_3hrs\", \"vibrationsd_3hrs\",\n",
    "\"voltmean_24hrs\", \"rotatemean_24hrs\", \"pressuremean_24hrs\", \"vibrationmean_24hrs\",\n",
    "\"voltsd_24hrs\", \"rotatesd_24hrs\", \"pressuresd_24hrs\", \"vibrationsd_24hrs\",\n",
    "\"error1count\", \"error2count\", \"error3count\", \"error4count\", \"error5count\",\n",
    "\"sincelastcomp1\", \"sincelastcomp2\", \"sincelastcomp3\", \"sincelastcomp4\",\n",
    "\"model\", \"age\", \"failure_fail\"];\n",
    "\n",
    "//rename column\n",
    "final_dataframe.Rename((\"failure_fail\", \"failure\"));"
   ]
  },
  {
   "cell_type": "code",
   "execution_count": 56,
   "metadata": {},
   "outputs": [],
   "source": [
    "//save the file data frame to disk\n",
    "DataFrame.ToCsv(\"data/final_dataFrame.csv\",final_dataframe);"
   ]
  },
  {
   "cell_type": "markdown",
   "metadata": {},
   "source": [
    "### Final Data Frame \n",
    "\n",
    "Lets see how looks like our final data frame. The final data frame contains 24 columns. Most of the columns are numerical. The `Model` column is categorical and it should be encoded once we prepare the macihne leraning part.\n",
    "\n",
    "Also the lable column `failure` is categorical column containing 5 diferent categories: `none`, `comp1`, `comp2`, `comp3` and `comp4`. We can also see the data set is not balance, since we have `2785705` `none` and the rest of the rows in total of 5923 other categories. This is typical unbalanced dataset, and we should be carefull when evaluation models, because the mdoel which returns always `none` value will have more than 97% of accuracy.\n"
   ]
  },
  {
   "cell_type": "code",
   "execution_count": 58,
   "metadata": {},
   "outputs": [
    {
     "data": {
      "text/html": [
       "<table><thead><th><i>index</i></th><th>datetime</th><th>machineID</th><th>voltmean_3hrs</th><th>rotatemean_3hrs</th><th>pressuremean_3hrs</th><th>vibrationmean_3hrs</th><th>voltsd_3hrs</th><th>rotatesd_3hrs</th><th>pressuresd_3hrs</th><th>vibrationsd_3hrs</th><th>voltmean_24hrs</th><th>rotatemean_24hrs</th><th>pressuremean_24hrs</th><th>vibrationmean_24hrs</th><th>voltsd_24hrs</th><th>rotatesd_24hrs</th><th>pressuresd_24hrs</th><th>vibrationsd_24hrs</th><th>error1count</th><th>error2count</th><th>error3count</th><th>error4count</th><th>error5count</th><th>sincelastcomp1</th><th>sincelastcomp2</th><th>sincelastcomp3</th><th>sincelastcomp4</th><th>model</th><th>age</th><th>failure</th></thead><tbody><tr><td>Count</td><td>291628</td><td>291628</td><td>291628</td><td>291628</td><td>291628</td><td>291628</td><td>291628</td><td>291628</td><td>291628</td><td>291628</td><td>291628</td><td>291628</td><td>291628</td><td>291628</td><td>291628</td><td>291628</td><td>291628</td><td>291628</td><td>291628</td><td>291628</td><td>291628</td><td>291628</td><td>291628</td><td>291628</td><td>291628</td><td>291628</td><td>291628</td><td>291628</td><td>291628</td><td>291628</td></tr><tr><td>Unique</td><td>2913</td><td>100</td><td>272308</td><td>279828</td><td>277136</td><td>277107</td><td>272308</td><td>279828</td><td>277136</td><td>277107</td><td>243804</td><td>261603</td><td>255030</td><td>255013</td><td>286047</td><td>289707</td><td>283633</td><td>276144</td><td>6</td><td>5</td><td>5</td><td>6</td><td>6</td><td>3936</td><td>2792</td><td>2968</td><td>3160</td><td>4</td><td>20</td><td>5</td></tr><tr><td>Top</td><td>2015-01-23 08:00:00Z</td><td>13</td><td>174.906036</td><td>471.315857</td><td>96.265266</td><td>39.821896</td><td>174.906036</td><td>471.315857</td><td>96.265266</td><td>39.821896</td><td>169.303436</td><td>454.289856</td><td>99.549225</td><td>40.315128</td><td>13.861938</td><td>51.3554</td><td>9.490836</td><td>4.619621</td><td>0</td><td>0</td><td>0</td><td>0</td><td>0</td><td>0.958333</td><td>0.958333</td><td>0.958333</td><td>0.958333</td><td>model3</td><td>14</td><td>none</td></tr><tr><td>Freq</td><td>102</td><td>2937</td><td>6</td><td>5</td><td>4</td><td>4</td><td>6</td><td>5</td><td>4</td><td>4</td><td>6</td><td>5</td><td>6</td><td>5</td><td>4</td><td>3</td><td>4</td><td>4</td><td>275096</td><td>275094</td><td>276211</td><td>277243</td><td>279964</td><td>702</td><td>761</td><td>706</td><td>710</td><td>102027</td><td>40894</td><td>285705</td></tr><tr><td>Mean</td><td>&lt;null&gt;</td><td>50.493951</td><td>170.781545</td><td>446.553984</td><td>100.864825</td><td>40.390508</td><td>170.781545</td><td>446.553984</td><td>100.864825</td><td>40.390508</td><td>170.782456</td><td>446.554069</td><td>100.863917</td><td>40.390843</td><td>14.918931</td><td>49.949058</td><td>10.046866</td><td>5.002062</td><td>0.028166</td><td>0.027796</td><td>0.023626</td><td>0.020221</td><td>0.0104</td><td>53.497724</td><td>51.456651</td><td>52.631449</td><td>53.75702</td><td>&lt;null&gt;</td><td>11.332564</td><td>&lt;null&gt;</td></tr><tr><td>Std</td><td>&lt;null&gt;</td><td>28.869339</td><td>9.508674</td><td>33.193947</td><td>7.428436</td><td>3.485387</td><td>9.508674</td><td>33.193947</td><td>7.428436</td><td>3.485387</td><td>4.740511</td><td>18.208245</td><td>4.764441</td><td>2.074927</td><td>2.260515</td><td>7.690423</td><td>1.71209</td><td>0.799436</td><td>0.167834</td><td>0.166522</td><td>0.153587</td><td>0.141896</td><td>0.102057</td><td>62.474817</td><td>59.169589</td><td>58.774463</td><td>59.634162</td><td>&lt;null&gt;</td><td>5.826877</td><td>&lt;null&gt;</td></tr><tr><td>Min</td><td>2015-01-02 05:00:00Z</td><td>1</td><td>125.532501</td><td>211.811188</td><td>72.118637</td><td>26.569635</td><td>125.532501</td><td>211.811188</td><td>72.118637</td><td>26.569635</td><td>156.284729</td><td>267.008148</td><td>90.352638</td><td>35.253277</td><td>6.502827</td><td>19.83952</td><td>4.433239</td><td>2.107598</td><td>0</td><td>0</td><td>0</td><td>0</td><td>0</td><td>0.083333</td><td>0.083333</td><td>0.083333</td><td>0.083333</td><td>&lt;null&gt;</td><td>0</td><td>&lt;null&gt;</td></tr><tr><td>25%</td><td>&lt;null&gt;</td><td>25</td><td>164.449108</td><td>427.519211</td><td>96.239675</td><td>38.148529</td><td>164.449108</td><td>427.519211</td><td>96.239675</td><td>38.148529</td><td>168.06969</td><td>441.551948</td><td>98.670032</td><td>39.357998</td><td>13.358238</td><td>44.671207</td><td>8.92455</td><td>4.461183</td><td>0</td><td>0</td><td>0</td><td>0</td><td>0</td><td>13.333333</td><td>12.208333</td><td>13.208333</td><td>13.083333</td><td>&lt;null&gt;</td><td>7</td><td>&lt;null&gt;</td></tr><tr><td>Median</td><td>&lt;null&gt;</td><td>50</td><td>170.436142</td><td>448.353104</td><td>100.235771</td><td>40.149202</td><td>170.436142</td><td>448.353104</td><td>100.235771</td><td>40.149202</td><td>170.211388</td><td>449.187821</td><td>100.09861</td><td>40.071182</td><td>14.856054</td><td>49.615941</td><td>9.922136</td><td>4.958264</td><td>0</td><td>0</td><td>0</td><td>0</td><td>0</td><td>32.833333</td><td>29.708333</td><td>32.208333</td><td>32.458333</td><td>&lt;null&gt;</td><td>12</td><td>&lt;null&gt;</td></tr><tr><td>75%</td><td>&lt;null&gt;</td><td>75</td><td>176.615345</td><td>468.427635</td><td>104.408676</td><td>42.231729</td><td>176.615345</td><td>468.427635</td><td>104.408676</td><td>42.231729</td><td>172.457306</td><td>456.365272</td><td>101.615353</td><td>40.833646</td><td>16.396245</td><td>54.803683</td><td>10.981052</td><td>5.484203</td><td>0</td><td>0</td><td>0</td><td>0</td><td>0</td><td>68.583333</td><td>66.333333</td><td>67.208333</td><td>70.208333</td><td>&lt;null&gt;</td><td>16</td><td>&lt;null&gt;</td></tr><tr><td>Max</td><td>2016-01-01 05:00:00Z</td><td>100</td><td>241.420715</td><td>586.682861</td><td>162.309662</td><td>69.311325</td><td>241.420715</td><td>586.682861</td><td>162.309662</td><td>69.311325</td><td>220.569061</td><td>499.288788</td><td>152.660904</td><td>61.85284</td><td>27.914052</td><td>105.326447</td><td>28.867737</td><td>12.609035</td><td>2</td><td>2</td><td>2</td><td>2</td><td>2</td><td>491.958333</td><td>348.958333</td><td>370.958333</td><td>394.958333</td><td>&lt;null&gt;</td><td>20</td><td>&lt;null&gt;</td></tr></tbody></table>"
      ]
     },
     "execution_count": 58,
     "metadata": {},
     "output_type": "execute_result"
    }
   ],
   "source": [
    "final_dataframe.Describe(false)"
   ]
  },
  {
   "cell_type": "markdown",
   "metadata": {},
   "source": [
    "In the next part, we are going to implement the training and evaluation process of the Predictive Maintenance model."
   ]
  },
  {
   "cell_type": "code",
   "execution_count": null,
   "metadata": {},
   "outputs": [],
   "source": []
  },
  {
   "cell_type": "code",
   "execution_count": null,
   "metadata": {},
   "outputs": [],
   "source": []
  },
  {
   "cell_type": "code",
   "execution_count": null,
   "metadata": {},
   "outputs": [],
   "source": []
  }
 ],
 "metadata": {
  "kernel_info": {
   "name": ".net-csharp"
  },
  "kernelspec": {
   "display_name": ".NET (C#)",
   "language": "C#",
   "name": ".net-csharp"
  },
  "language_info": {
   "file_extension": ".cs",
   "mimetype": "text/x-csharp",
   "name": "C#",
   "pygments_lexer": "csharp",
   "version": "8.0"
  },
  "nteract": {
   "version": "0.14.5"
  }
 },
 "nbformat": 4,
 "nbformat_minor": 4
}
