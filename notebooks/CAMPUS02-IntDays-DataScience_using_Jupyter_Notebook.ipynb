{
 "cells": [
  {
   "cell_type": "markdown",
   "metadata": {
    "slideshow": {
     "slide_type": "slide"
    }
   },
   "source": [
    "**CAMPUS02 International Days**\n",
    "\n",
    "<img src=\"img/campus02-lecture-img.jpg\" alt=\"drawing\" width=\"300\"/>\n",
    "\n",
    "# Data Science using Jupyter Notebook – how to present your research project using Jupyter Notebook\n",
    "\n",
    "dr. sc. Bahrudin Hrnjica\n",
    "\n",
    "bahrudin.hrnjica@unbi.ba\n",
    "April, 24, 2020\n",
    "\n",
    "CAMPUS02 International Days"
   ]
  },
  {
   "cell_type": "markdown",
   "metadata": {
    "slideshow": {
     "slide_type": "slide"
    }
   },
   "source": [
    "# Agenda\n",
    "\n",
    "- About Me\n",
    "- What is Jupyter Notebook\n",
    "- Getting Started with Jupyter Notebook\n",
    "- What is EDA (Exploratory Data Analysis)\n",
    "- ML.NET in Jupyter Notebook\n",
    "- Recup\n",
    "- Q/A"
   ]
  },
  {
   "cell_type": "markdown",
   "metadata": {
    "slideshow": {
     "slide_type": "slide"
    }
   },
   "source": [
    "\n",
    "# About Me\n",
    "- Dr. Sc. Bahrudin Hrnjica\n",
    "- Comming from Bihać, Bosnia and Herzegovina.\n",
    "- Assistant professor at University of Bihać, Bosnia and Herzegovina\n",
    "- Teaching students about `Numerical Analysis`, `Finite Element Method`, `Mathematical Modelling` and `Machine Learning` \n",
    "\n",
    "\n",
    "<img src=\"img/campus02-lecture-img03.jpg\" alt=\"drawing\"  width=\"700\"/>\n"
   ]
  },
  {
   "cell_type": "markdown",
   "metadata": {
    "slideshow": {
     "slide_type": "slide"
    }
   },
   "source": [
    "# About Me\n",
    "\n",
    "- Bihać, Bosnia and Herzegovina.\n",
    "\n",
    "<img src=\"img/campus02-lecture-img02.jpg\" alt=\"drawing\" width=\"800\"/>"
   ]
  },
  {
   "cell_type": "markdown",
   "metadata": {
    "slideshow": {
     "slide_type": "slide"
    }
   },
   "source": [
    "# About Me\n",
    "\n",
    "- Microsoft expert MVP for Developer Technologies \n",
    "\n",
    "<img src=\"img/campus02-lecture-img04.jpg\" alt=\"drawing\" width=\"800\"/>\n"
   ]
  },
  {
   "cell_type": "markdown",
   "metadata": {
    "slideshow": {
     "slide_type": "slide"
    }
   },
   "source": [
    "# About Me\n",
    "\n",
    "-Some of recent research publications\n",
    "\n",
    "<img src=\"img/campus02-lecture-img05.jpg\" alt=\"drawing\" width=\"600\"/>"
   ]
  },
  {
   "cell_type": "markdown",
   "metadata": {
    "slideshow": {
     "slide_type": "slide"
    }
   },
   "source": [
    "# About Me\n",
    "\n",
    "- My GitHub Account http://github.com/bhrnjica\n",
    "\n",
    "<img src=\"img/campus02-lecture-img06.jpg\" alt=\"drawing\" width=\"800\"/>"
   ]
  },
  {
   "cell_type": "markdown",
   "metadata": {
    "slideshow": {
     "slide_type": "slide"
    }
   },
   "source": [
    "## What is Jupyter Notebook\n",
    "\n",
    " 1. extends the console-based approach to interactive computing,\n",
    " 2. providing a web-based application and user experience, \n",
    " 3. provides the whole computation process: \n",
    "     - developing, \n",
    "     - documenting, and \n",
    "     - executing."
   ]
  },
  {
   "cell_type": "markdown",
   "metadata": {
    "slideshow": {
     "slide_type": "slide"
    }
   },
   "source": [
    "## What is Jupyter Notebook\n",
    "\n",
    "The Jupyter notebook combines two components:\n",
    "\n",
    "- **A web application**: a browser-based tool for interactive authoring of documents which combine explanatory text,\n",
    "mathematics, computations and their rich media output.\n",
    "- **Notebook documents**: a representation of all content visible in the web application, including inputs and outputs of\n",
    "the computations, explanatory text, mathematics, images, and rich media representations of objects."
   ]
  },
  {
   "cell_type": "markdown",
   "metadata": {
    "slideshow": {
     "slide_type": "slide"
    }
   },
   "source": [
    "## What you can do with Jupyter Notebook\n",
    "\n",
    "\n",
    "- In-browser editing for code with automatic syntax highlighting, indentation, and tab completion/introspection\n",
    "- Displaying the result of computation using rich media representations, such as HTML, LaTeX, PNG, SVG, etc.\n",
    "- Rich text using the Markdown markup language, which can provide commentary for the code, is not limited to plain text.\n",
    "- Markdown cells using $\\LaTeX$, and rendered natively by MathJax.\n",
    "\n"
   ]
  },
  {
   "cell_type": "markdown",
   "metadata": {
    "slideshow": {
     "slide_type": "slide"
    }
   },
   "source": [
    "## What is Jupyter Notebook\n",
    "\n",
    "#### Jupyter Notebook properties\n",
    "\n",
    "- Options for exported to a range of static formats:\n",
    "    - including HTML (for example, for blog posts), \n",
    "    - reStructuredText, LaTeX, PDF, and \n",
    "    - slide shows, via the nbconvert command.\n",
    "- any .ipynb notebook document can be shared via the Jupyter Notebook Viewer (nbviewer)."
   ]
  },
  {
   "cell_type": "markdown",
   "metadata": {
    "slideshow": {
     "slide_type": "slide"
    }
   },
   "source": [
    "## Getting Started with Jupyter Notebook\n",
    "\n",
    "\n",
    "- Install Anaconda - the most popular Data Science platform based on Python language\n",
    "    - Jupyter Notebook is part of the Anaconda distribution\n",
    "-  Anaconda: https://www.anaconda.com/distribution/\n",
    "\n",
    "\n",
    "<img src=\"img/anaconda_distro.png\" alt=\"drawing\" width=\"300\"/>"
   ]
  },
  {
   "cell_type": "markdown",
   "metadata": {
    "slideshow": {
     "slide_type": "slide"
    }
   },
   "source": [
    "## Getting Started with .NET Jupyter Notebook\n",
    "\n",
    "### Software requirements for .NET Notebooks:\n",
    "\n",
    "- [.NET Core 3.1 SDK](https://dotnet.microsoft.com/download) and [2.1](https://dotnet.microsoft.com/download/dotnet-core/2.1) currently `dotnet interactive` global tool targets 2.1.\n",
    "### How to install .NET Jupyter Notebook\n",
    "- Open Ananconda Prompt\n",
    "- Install the dotnet try global tool. `dotnet tool install -g --add-source \"https://dotnet.myget.org/F/dotnet-try/api/v3/index.json\" Microsoft.dotnet-interactive`\n",
    "- Register .NET Interactive as a Jupyter kernel  `dotnet interactive jupyter install`\n",
    "- Check to see if the .NET kernel is installed `jupyter kernelspec list`\n",
    "\n",
    "<img src=\"img/campus02-lecture-img10.jpg\" alt=\"drawing\" width=\"1500\"/>"
   ]
  },
  {
   "cell_type": "markdown",
   "metadata": {
    "slideshow": {
     "slide_type": "slide"
    }
   },
   "source": [
    "## How to Start .NET Jupyter Notebook\n",
    "\n",
    "-  To start a new notebook, you can either type\n",
    "    - `jupyter lab` - to get Jupyter Lab\n",
    "    - `jupyter notebook` - to start Jupyter Notebook.\n",
    "- Once Jupyter Notebook (Lab) has launched your default browser should open page:\n",
    "\n",
    "<img src=\"img/notebook_jupyter.png\" alt=\"drawing\" width=\"400\"/>\n"
   ]
  },
  {
   "cell_type": "markdown",
   "metadata": {
    "slideshow": {
     "slide_type": "slide"
    }
   },
   "source": [
    "## Notebook use interface\n",
    "\n",
    "Main part of the Notebook:\n",
    "- notebook name,\n",
    "- menu bar,\n",
    "- toolbar\n",
    "- code cell.\n",
    "<img src=\"img/notebook_jupyter01.png\" alt=\"drawing\" width=\"800\"/>\n"
   ]
  },
  {
   "cell_type": "markdown",
   "metadata": {
    "slideshow": {
     "slide_type": "slide"
    }
   },
   "source": [
    "## Structure of a notebook document\n",
    "\n",
    "Sequence of cells, which is multiline text input field. The execution can be activate by `Shift-Enter` or `Run` button.\n",
    "\n",
    "Notebook cell types:\n",
    "- code cell,\n",
    "- markdown cell,\n",
    "- raw cell.\n",
    "\n",
    "\n",
    "\n"
   ]
  },
  {
   "cell_type": "markdown",
   "metadata": {
    "slideshow": {
     "slide_type": "slide"
    }
   },
   "source": [
    "### Keyboard shortcuts\n",
    "\n",
    "-  `Shift-Enter` - execute current cell, show output and jump to the next cell below. This is equvalent to press Run button.\n",
    "- `Esc` - lose the focus of the curent cell\n",
    "- `Enter` - put the cell in edit mode.\n"
   ]
  },
  {
   "cell_type": "markdown",
   "metadata": {
    "slideshow": {
     "slide_type": "slide"
    }
   },
   "source": [
    "## Plotting\n",
    "\n",
    "One of the mayor feature for show data graphically:\n",
    "\n",
    "- For python lang `matplotlib` package is commonoly used.\n",
    "- For .NET languages (C#, F#) `XPlot` is used.\n",
    "\n"
   ]
  },
  {
   "cell_type": "code",
   "execution_count": 1,
   "metadata": {
    "slideshow": {
     "slide_type": "subslide"
    }
   },
   "outputs": [
    {
     "data": {
      "text/html": [
       "\r\n",
       "<div>\r\n",
       "    <div id='dotnet-interactive-this-cell-56512' style='display: none'>\r\n",
       "        The below script needs to be able to find the current output cell; this is an easy method to get it.\r\n",
       "    </div>\r\n",
       "    <script type='text/javascript'>\r\n",
       "// ensure `requirejs` is available globally\r\n",
       "if (typeof requirejs !== typeof Function || typeof requirejs.config !== typeof Function) {\r\n",
       "    let requirejs_script = document.createElement('script');\r\n",
       "    requirejs_script.setAttribute('src', 'https://cdnjs.cloudflare.com/ajax/libs/require.js/2.3.6/require.min.js');\r\n",
       "    requirejs_script.setAttribute('type', 'text/javascript');\r\n",
       "    requirejs_script.onload = function () {\r\n",
       "        loadDotnetInteractiveApi();\r\n",
       "    };\r\n",
       "\r\n",
       "    document.getElementsByTagName('head')[0].appendChild(requirejs_script);\r\n",
       "}\r\n",
       "else {\r\n",
       "    loadDotnetInteractiveApi();\r\n",
       "}\r\n",
       "\r\n",
       "async function probeAddresses(probingAddresses) {\r\n",
       "    if (Array.isArray(probingAddresses)) {\r\n",
       "        for (let i = 0; i < probingAddresses.length; i++) {\r\n",
       "            \r\n",
       "            let rootUrl = probingAddresses[i];\r\n",
       "\r\n",
       "            if (!rootUrl.endsWith('/')) {\r\n",
       "                rootUrl = `${rootUrl}/`;\r\n",
       "            }\r\n",
       "\r\n",
       "            let response = await fetch(`${rootUrl}discovery`, {\r\n",
       "                method: 'POST',\r\n",
       "                headers: {\r\n",
       "                    'Content-Type': 'text/plain'\r\n",
       "                },\r\n",
       "                body: probingAddresses[i]\r\n",
       "            });\r\n",
       "\r\n",
       "            if (response.status == 200) {\r\n",
       "                return rootUrl;\r\n",
       "            }\r\n",
       "        }\r\n",
       "    }\r\n",
       "}\r\n",
       "\r\n",
       "function loadDotnetInteractiveApi() {\r\n",
       "    probeAddresses([\"http://192.168.0.11:56512/\", \"http://192.168.56.1:56512/\"])\r\n",
       "        .then((root) => {\r\n",
       "            // use probing to find host url and api resources\r\n",
       "            // load interactive helpers and language services\r\n",
       "            let dotnet_require = requirejs.config({\r\n",
       "                context: '23780.56512',\r\n",
       "                paths: {\r\n",
       "                    'dotnet-interactive': `${root}resources`\r\n",
       "                }\r\n",
       "            });\r\n",
       "            if (!window.dotnet_require) {\r\n",
       "                window.dotnet_require = dotnet_require;\r\n",
       "            }\r\n",
       "        \r\n",
       "            dotnet_require([\r\n",
       "                    'dotnet-interactive/dotnet-interactive',\r\n",
       "                    'dotnet-interactive/lsp',\r\n",
       "                    'dotnet-interactive/editor-detection'\r\n",
       "                ],\r\n",
       "                function (dotnet, lsp, editor) {\r\n",
       "                    dotnet.init(window);\r\n",
       "                    \r\n",
       "                },\r\n",
       "                function (error) {\r\n",
       "                    console.log(error);\r\n",
       "                }\r\n",
       "            );\r\n",
       "        })\r\n",
       "        .catch(error => {console.log(error);});\r\n",
       "    }\r\n",
       "    </script>\r\n",
       "</div>"
      ]
     },
     "metadata": {},
     "output_type": "display_data"
    },
    {
     "data": {
      "text/plain": [
       "Installed package XPlot.Plotly version 3.0.1"
      ]
     },
     "metadata": {},
     "output_type": "display_data"
    },
    {
     "data": {
      "text/html": [
       "<div id=\"3c19c7c9-bf37-4027-b67e-d4229b88c0bf\" style=\"width: 600px; height: 400px;\"></div>\r\n",
       "<script type=\"text/javascript\">\r\n",
       "\r\n",
       "var renderPlotly = function() {\r\n",
       "    var xplotRequire = requirejs.config({context:'xplot-3.0.1',paths:{plotly:'https://cdn.plot.ly/plotly-1.49.2.min'}});\r\n",
       "    xplotRequire(['plotly'], function(Plotly) {\r\n",
       "\n",
       "            var data = [{\"type\":\"scatter\",\"x\":[-20,-19,-18,-17,-16,-15,-14,-13,-12,-11,-10,-9,-8,-7,-6,-5,-4,-3,-2,-1,0,1,2,3,4,5,6,7,8,9,10,11,12,13,14,15,16,17,18,19],\"dx\":2.0,\"y\":[401.0,362.0,325.0,290.0,257.0,226.0,197.0,170.0,145.0,122.0,101.0,82.0,65.0,50.0,37.0,26.0,17.0,10.0,5.0,2.0,1.0,2.0,5.0,10.0,17.0,26.0,37.0,50.0,65.0,82.0,101.0,122.0,145.0,170.0,197.0,226.0,257.0,290.0,325.0,362.0],\"mode\":\"lines\"}];\n",
       "            var layout = \"\";\n",
       "            Plotly.newPlot('3c19c7c9-bf37-4027-b67e-d4229b88c0bf', data, layout);\n",
       "        \r\n",
       "});\r\n",
       "};\r\n",
       "if ((typeof(requirejs) !==  typeof(Function)) || (typeof(requirejs.config) !== typeof(Function))) { \r\n",
       "    var script = document.createElement(\"script\"); \r\n",
       "    script.setAttribute(\"src\", \"https://cdnjs.cloudflare.com/ajax/libs/require.js/2.3.6/require.min.js\"); \r\n",
       "    script.onload = function(){\r\n",
       "        renderPlotly();\r\n",
       "    };\r\n",
       "    document.getElementsByTagName(\"head\")[0].appendChild(script); \r\n",
       "}\r\n",
       "else {\r\n",
       "    renderPlotly();\r\n",
       "}\r\n",
       "</script>\r\n"
      ]
     },
     "metadata": {},
     "output_type": "display_data"
    }
   ],
   "source": [
    "//Install XPlot package\n",
    "#r \"nuget:XPlot.Plotly\"\n",
    "using XPlot.Plotly;\n",
    "var x= Enumerable.Range(-20, 40);\n",
    "var y = x.Select(t=>t*t+1.0);\n",
    "\n",
    "//create chart\n",
    "var chart = Chart.Plot(new Graph.Scatter()\n",
    "                { x = x, y = y, mode = \"lines\", dx=2}\n",
    ");\n",
    "chart.Height=400;\n",
    "chart.Width = 600;\n",
    "var w = chart.Width;\n",
    "display(chart)\n",
    "//chart"
   ]
  },
  {
   "cell_type": "code",
   "execution_count": 2,
   "metadata": {
    "slideshow": {
     "slide_type": "subslide"
    }
   },
   "outputs": [
    {
     "data": {
      "text/html": [
       "<div id=\"995282d9-70a7-4917-8352-ead4227c91a3\" style=\"width: 600px; height: 400px;\"></div>\r\n",
       "<script type=\"text/javascript\">\r\n",
       "\r\n",
       "var renderPlotly = function() {\r\n",
       "    var xplotRequire = requirejs.config({context:'xplot-3.0.1',paths:{plotly:'https://cdn.plot.ly/plotly-1.49.2.min'}});\r\n",
       "    xplotRequire(['plotly'], function(Plotly) {\r\n",
       "\n",
       "            var data = [{\"type\":\"histogram\",\"x\":[\"a\",\"b\",\"a\",\"b\",\"b\",\"b\",\"a\",\"b\",\"b\",\"b\",\"a\",\"b\",\"a\",\"b\"],\"name\":\"a\"}];\n",
       "            var layout = {\"title\":\"Bar plot for data\"};\n",
       "            Plotly.newPlot('995282d9-70a7-4917-8352-ead4227c91a3', data, layout);\n",
       "        \r\n",
       "});\r\n",
       "};\r\n",
       "if ((typeof(requirejs) !==  typeof(Function)) || (typeof(requirejs.config) !== typeof(Function))) { \r\n",
       "    var script = document.createElement(\"script\"); \r\n",
       "    script.setAttribute(\"src\", \"https://cdnjs.cloudflare.com/ajax/libs/require.js/2.3.6/require.min.js\"); \r\n",
       "    script.onload = function(){\r\n",
       "        renderPlotly();\r\n",
       "    };\r\n",
       "    document.getElementsByTagName(\"head\")[0].appendChild(script); \r\n",
       "}\r\n",
       "else {\r\n",
       "    renderPlotly();\r\n",
       "}\r\n",
       "</script>\r\n"
      ]
     },
     "metadata": {},
     "output_type": "display_data"
    }
   ],
   "source": [
    "var xx = new string[] { \"a\", \"b\", \"a\", \"b\", \"b\", \"b\", \"a\", \"b\", \"b\", \"b\", \"a\", \"b\", \"a\", \"b\" };\n",
    "\n",
    "var chart = Chart.Plot(new Graph.Histogram() { x = xx });\n",
    "var layout = new Layout.Layout() { title = \"Bar plot for data\" };\n",
    "chart.WithLayout(layout);\n",
    "chart.WithLabels(new string[2]{\"a\",\"b\"});\n",
    "chart.Height=400;\n",
    "chart.Width = 600;\n",
    "display(chart)\n"
   ]
  },
  {
   "cell_type": "markdown",
   "metadata": {
    "slideshow": {
     "slide_type": "slide"
    }
   },
   "source": [
    "## Jupyter Notebook in Action\n",
    "\n",
    "- Hot to present your research to audience using Jupyter Notebook\n",
    "\n"
   ]
  },
  {
   "cell_type": "markdown",
   "metadata": {
    "slideshow": {
     "slide_type": "slide"
    }
   },
   "source": [
    "# Q&A"
   ]
  },
  {
   "cell_type": "code",
   "execution_count": null,
   "metadata": {},
   "outputs": [],
   "source": []
  },
  {
   "cell_type": "code",
   "execution_count": null,
   "metadata": {},
   "outputs": [],
   "source": []
  }
 ],
 "metadata": {
  "celltoolbar": "Slideshow",
  "kernelspec": {
   "display_name": ".NET (C#)",
   "language": "C#",
   "name": ".net-csharp"
  },
  "language_info": {
   "file_extension": ".cs",
   "mimetype": "text/x-csharp",
   "name": "C#",
   "pygments_lexer": "csharp",
   "version": "8.0"
  }
 },
 "nbformat": 4,
 "nbformat_minor": 2
}
