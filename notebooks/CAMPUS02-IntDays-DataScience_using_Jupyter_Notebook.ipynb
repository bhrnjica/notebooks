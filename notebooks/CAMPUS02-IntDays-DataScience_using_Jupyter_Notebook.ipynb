{
 "cells": [
  {
   "cell_type": "markdown",
   "metadata": {
    "slideshow": {
     "slide_type": "slide"
    }
   },
   "source": [
    "**CAMPUS02 International Days**\n",
    "\n",
    "<img src=\"img/campus02-lecture-img.jpg\" alt=\"drawing\" width=\"300\"/>\n",
    "\n",
    "# Data Science using Jupyter Notebook – how to present your research project using Jupyter Notebook\n",
    "\n",
    "dr. sc. Bahrudin Hrnjica\n",
    "\n",
    "bahrudin.hrnjica@unbi.ba\n",
    "April, 24, 2020\n",
    "\n",
    "CAMPUS02 International Days"
   ]
  },
  {
   "cell_type": "markdown",
   "metadata": {
    "slideshow": {
     "slide_type": "slide"
    }
   },
   "source": [
    "# Agenda\n",
    "\n",
    "- About Me\n",
    "- What is Jupyter Notebook\n",
    "- Getting Started with Jupyter Notebook\n",
    "- What is EDA (Exploratory Data Analysis)\n",
    "- ML.NET in Jupyter Notebook\n",
    "- Recup\n",
    "- Q/A"
   ]
  },
  {
   "cell_type": "markdown",
   "metadata": {
    "slideshow": {
     "slide_type": "slide"
    }
   },
   "source": [
    "\n",
    "# About Me\n",
    "- Dr. Sc. Bahrudin Hrnjica\n",
    "- Comming from Bihać, Bosnia and Herzegovina.\n",
    "- Assistant professor at University of Bihać, Bosnia and Herzegovina\n",
    "- Teaching students about `Numerical Analysis`, `Finite Element Method`, `Mathematical Modelling` and `Machine Learning` \n",
    "\n",
    "\n",
    "<img src=\"img/campus02-lecture-img03.jpg\" alt=\"drawing\"  width=\"700\"/>\n"
   ]
  },
  {
   "cell_type": "markdown",
   "metadata": {
    "slideshow": {
     "slide_type": "slide"
    }
   },
   "source": [
    "# About Me\n",
    "\n",
    "- Bihać, Bosnia and Herzegovina.\n",
    "\n",
    "<img src=\"img/campus02-lecture-img02.jpg\" alt=\"drawing\" width=\"800\"/>"
   ]
  },
  {
   "cell_type": "markdown",
   "metadata": {
    "slideshow": {
     "slide_type": "slide"
    }
   },
   "source": [
    "# About Me\n",
    "\n",
    "- Microsoft expert MVP for Developer Technologies \n",
    "\n",
    "<img src=\"img/campus02-lecture-img04.jpg\" alt=\"drawing\" width=\"800\"/>\n"
   ]
  },
  {
   "cell_type": "markdown",
   "metadata": {
    "slideshow": {
     "slide_type": "slide"
    }
   },
   "source": [
    "# About Me\n",
    "\n",
    "-Some of recent research publications\n",
    "\n",
    "<img src=\"img/campus02-lecture-img05.jpg\" alt=\"drawing\" width=\"600\"/>"
   ]
  },
  {
   "cell_type": "markdown",
   "metadata": {
    "slideshow": {
     "slide_type": "slide"
    }
   },
   "source": [
    "# About Me\n",
    "\n",
    "- My GitHub Account http://github.com/bhrnjica\n",
    "\n",
    "<img src=\"img/campus02-lecture-img06.jpg\" alt=\"drawing\" width=\"800\"/>"
   ]
  },
  {
   "cell_type": "markdown",
   "metadata": {
    "slideshow": {
     "slide_type": "slide"
    }
   },
   "source": [
    "## What is Jupyter Notebook\n",
    "\n",
    " 1. extends the console-based approach to interactive computing,\n",
    " 2. providing a web-based application and user experience, \n",
    " 3. provides the whole computation process: \n",
    "     - developing, \n",
    "     - documenting, and \n",
    "     - executing."
   ]
  },
  {
   "cell_type": "markdown",
   "metadata": {
    "slideshow": {
     "slide_type": "slide"
    }
   },
   "source": [
    "## What is Jupyter Notebook\n",
    "\n",
    "The Jupyter notebook combines two components:\n",
    "\n",
    "- **A web application**: a browser-based tool for interactive authoring of documents which combine explanatory text,\n",
    "mathematics, computations and their rich media output.\n",
    "- **Notebook documents**: a representation of all content visible in the web application, including inputs and outputs of\n",
    "the computations, explanatory text, mathematics, images, and rich media representations of objects."
   ]
  },
  {
   "cell_type": "markdown",
   "metadata": {
    "slideshow": {
     "slide_type": "slide"
    }
   },
   "source": [
    "## What you can do with Jupyter Notebook\n",
    "\n",
    "\n",
    "- In-browser editing for code with automatic syntax highlighting, indentation, and tab completion/introspection\n",
    "- Displaying the result of computation using rich media representations, such as HTML, LaTeX, PNG, SVG, etc.\n",
    "- Rich text using the Markdown markup language, which can provide commentary for the code, is not limited to plain text.\n",
    "- Markdown cells using $\\LaTeX$, and rendered natively by MathJax.\n",
    "\n"
   ]
  },
  {
   "cell_type": "markdown",
   "metadata": {
    "slideshow": {
     "slide_type": "slide"
    }
   },
   "source": [
    "## What is Jupyter Notebook\n",
    "\n",
    "#### Jupyter Notebook properties\n",
    "\n",
    "- Options for exported to a range of static formats:\n",
    "    - including HTML (for example, for blog posts), \n",
    "    - reStructuredText, LaTeX, PDF, and \n",
    "    - slide shows, via the nbconvert command.\n",
    "- any .ipynb notebook document can be shared via the Jupyter Notebook Viewer (nbviewer)."
   ]
  },
  {
   "cell_type": "markdown",
   "metadata": {
    "slideshow": {
     "slide_type": "slide"
    }
   },
   "source": [
    "## Getting Started with Jupyter Notebook\n",
    "\n",
    "\n",
    "- Install Anaconda - the most popular Data Science platform based on Python language\n",
    "    - Jupyter Notebook is part of the Anaconda distribution\n",
    "-  Anaconda: https://www.anaconda.com/distribution/\n",
    "\n",
    "\n",
    "<img src=\"img/anaconda_distro.png\" alt=\"drawing\" width=\"300\"/>"
   ]
  },
  {
   "cell_type": "markdown",
   "metadata": {
    "slideshow": {
     "slide_type": "slide"
    }
   },
   "source": [
    "## Getting Started with .NET Jupyter Notebook\n",
    "\n",
    "### Software requirements for .NET Notebooks:\n",
    "\n",
    "- [.NET Core 3.1 SDK](https://dotnet.microsoft.com/download) and [2.1](https://dotnet.microsoft.com/download/dotnet-core/2.1) currently `dotnet interactive` global tool targets 2.1.\n",
    "### How to install .NET Jupyter Notebook\n",
    "- Open Ananconda Prompt\n",
    "- Install the dotnet try global tool. `dotnet tool install -g --add-source \"https://dotnet.myget.org/F/dotnet-try/api/v3/index.json\" Microsoft.dotnet-interactive`\n",
    "- Register .NET Interactive as a Jupyter kernel  `dotnet interactive jupyter install`\n",
    "- Check to see if the .NET kernel is installed `jupyter kernelspec list`\n",
    "\n",
    "<img src=\"img/campus02-lecture-img10.jpg\" alt=\"drawing\" width=\"1500\"/>"
   ]
  },
  {
   "cell_type": "markdown",
   "metadata": {
    "slideshow": {
     "slide_type": "slide"
    }
   },
   "source": [
    "## How to Start .NET Jupyter Notebook\n",
    "\n",
    "-  To start a new notebook, you can either type\n",
    "    - `jupyter lab` - to get Jupyter Lab\n",
    "    - `jupyter notebook` - to start Jupyter Notebook.\n",
    "- Once Jupyter Notebook (Lab) has launched your default browser should open page:\n",
    "\n",
    "<img src=\"img/notebook_jupyter.png\" alt=\"drawing\" width=\"400\"/>\n"
   ]
  },
  {
   "cell_type": "markdown",
   "metadata": {
    "slideshow": {
     "slide_type": "slide"
    }
   },
   "source": [
    "## Notebook use interface\n",
    "\n",
    "Main part of the Notebook:\n",
    "- notebook name,\n",
    "- menu bar,\n",
    "- toolbar\n",
    "- code cell.\n",
    "<img src=\"img/notebook_jupyter01.png\" alt=\"drawing\" width=\"800\"/>\n"
   ]
  },
  {
   "cell_type": "markdown",
   "metadata": {
    "slideshow": {
     "slide_type": "slide"
    }
   },
   "source": [
    "## Structure of a notebook document\n",
    "\n",
    "Sequence of cells, which is multiline text input field. The execution can be activate by `Shift-Enter` or `Run` button.\n",
    "\n",
    "Notebook cell types:\n",
    "- code cell,\n",
    "- markdown cell,\n",
    "- raw cell.\n",
    "\n",
    "\n",
    "\n"
   ]
  },
  {
   "cell_type": "markdown",
   "metadata": {
    "slideshow": {
     "slide_type": "slide"
    }
   },
   "source": [
    "### Keyboard shortcuts\n",
    "\n",
    "-  `Shift-Enter` - execute current cell, show output and jump to the next cell below. This is equvalent to press Run button.\n",
    "- `Esc` - lose the focus of the curent cell\n",
    "- `Enter` - put the cell in edit mode.\n"
   ]
  },
  {
   "cell_type": "markdown",
   "metadata": {
    "slideshow": {
     "slide_type": "slide"
    }
   },
   "source": [
    "## Plotting\n",
    "\n",
    "One of the mayor feature for show data graphically:\n",
    "\n",
    "- For python lang `matplotlib` package is commonoly used.\n",
    "- For .NET languages (C#, F#) `XPlot` is used.\n",
    "\n"
   ]
  },
  {
   "cell_type": "code",
   "execution_count": null,
   "metadata": {
    "dotnet_interactive": {
     "language": "csharp"
    }
   },
   "outputs": [
    {
     "data": {
      "text/html": [
       "<div><div></div><div><strong>Installed Packages</strong><ul><li><span>fsharp.core, 5.0.0</span></li><li><span>giraffe.viewengine, 1.2.0</span></li><li><span>humanizer.core, 2.2.0</span></li><li><span>markdig.signed, 0.21.1</span></li><li><span>microsoft.applicationinsights, 2.17.0</span></li><li><span>microsoft.applicationinsights.aspnetcore, 2.17.0</span></li><li><span>microsoft.applicationinsights.dependencycollector, 2.17.0</span></li><li><span>microsoft.applicationinsights.eventcountercollector, 2.17.0</span></li><li><span>microsoft.applicationinsights.perfcountercollector, 2.17.0</span></li><li><span>microsoft.applicationinsights.windowsserver, 2.17.0</span></li><li><span>microsoft.applicationinsights.windowsserver.telemetrychannel, 2.17.0</span></li><li><span>microsoft.aspnetcore.http.connections.client, 3.1.8</span></li><li><span>microsoft.aspnetcore.signalr.client, 3.1.8</span></li><li><span>microsoft.aspnetcore.signalr.client.core, 3.1.8</span></li><li><span>microsoft.bcl.asyncinterfaces, 5.0.0</span></li><li><span>microsoft.codeanalysis.common, 3.9.0</span></li><li><span>microsoft.codeanalysis.csharp, 3.9.0</span></li><li><span>microsoft.codeanalysis.csharp.workspaces, 3.9.0</span></li><li><span>microsoft.codeanalysis.visualbasic, 3.9.0</span></li><li><span>microsoft.codeanalysis.visualbasic.workspaces, 3.9.0</span></li><li><span>microsoft.codeanalysis.workspaces.common, 3.9.0</span></li><li><span>microsoft.dotnet.interactive, 1.0.0-beta.21228.1</span></li><li><span>microsoft.dotnet.interactive.formatting, 1.0.0-beta.21228.1</span></li><li><span>microsoft.dotnet.interactive.http, 1.0.0-beta.21228.1</span></li><li><span>microsoft.dotnet.interactive.powershell, 1.0.0-beta.21228.1</span></li><li><span>microsoft.extensions.logging.applicationinsights, 2.17.0</span></li><li><span>microsoft.management.infrastructure.cimcmdlets, 7.1.3</span></li><li><span>microsoft.powershell.commands.diagnostics, 7.1.3</span></li><li><span>microsoft.powershell.commands.management, 7.1.3</span></li><li><span>microsoft.powershell.commands.utility, 7.1.3</span></li><li><span>microsoft.powershell.consolehost, 7.1.3</span></li><li><span>microsoft.powershell.coreclr.eventing, 7.1.3</span></li><li><span>microsoft.powershell.markdownrender, 7.1.3</span></li><li><span>microsoft.powershell.native, 7.1.0</span></li><li><span>microsoft.powershell.sdk, 7.1.3</span></li><li><span>microsoft.powershell.security, 7.1.3</span></li><li><span>microsoft.win32.registry.accesscontrol, 5.0.0</span></li><li><span>microsoft.wsman.management, 7.1.3</span></li><li><span>microsoft.wsman.runtime, 7.1.3</span></li><li><span>namotion.reflection, 1.0.14</span></li><li><span>newtonsoft.json, 12.0.3</span></li><li><span>njsonschema, 10.2.2</span></li><li><span>runtime.win-x64.runtime.native.system.data.sqlclient.sni, 4.4.0</span></li><li><span>system.codedom, 5.0.0</span></li><li><span>system.commandline, 2.0.0-beta1.21216.1</span></li><li><span>system.commandline.rendering, 0.3.0-alpha.20427.1</span></li><li><span>system.componentmodel.composition, 5.0.0</span></li><li><span>system.componentmodel.composition.registration, 5.0.0</span></li><li><span>system.composition.attributedmodel, 1.0.31</span></li><li><span>system.composition.convention, 1.0.31</span></li><li><span>system.composition.hosting, 1.0.31</span></li><li><span>system.composition.runtime, 1.0.31</span></li><li><span>system.composition.typedparts, 1.0.31</span></li><li><span>system.configuration.configurationmanager, 5.0.0</span></li><li><span>system.data.odbc, 5.0.0</span></li><li><span>system.data.oledb, 5.0.0</span></li><li><span>system.data.sqlclient, 4.8.2</span></li><li><span>system.diagnostics.eventlog, 5.0.1</span></li><li><span>system.diagnostics.performancecounter, 5.0.0</span></li><li><span>system.directoryservices, 5.0.0</span></li><li><span>system.directoryservices.accountmanagement, 5.0.0</span></li><li><span>system.directoryservices.protocols, 5.0.0</span></li><li><span>system.drawing.common, 5.0.2</span></li><li><span>system.io.packaging, 5.0.0</span></li><li><span>system.io.ports, 5.0.0</span></li><li><span>system.management, 5.0.0</span></li><li><span>system.management.automation, 7.1.3</span></li><li><span>system.net.http.winhttphandler, 5.0.0</span></li><li><span>system.private.servicemodel, 4.7.0</span></li><li><span>system.reactive, 5.0.0</span></li><li><span>system.reflection.context, 5.0.0</span></li><li><span>system.runtime.caching, 5.0.0</span></li><li><span>system.security.cryptography.pkcs, 5.0.1</span></li><li><span>system.security.cryptography.protecteddata, 5.0.0</span></li><li><span>system.servicemodel.duplex, 4.7.0</span></li><li><span>system.servicemodel.http, 4.7.0</span></li><li><span>system.servicemodel.nettcp, 4.7.0</span></li><li><span>system.servicemodel.primitives, 4.7.0</span></li><li><span>system.servicemodel.security, 4.7.0</span></li><li><span>system.servicemodel.syndication, 5.0.0</span></li><li><span>system.serviceprocess.servicecontroller, 5.0.0</span></li><li><span>system.text.encodings.web, 5.0.1</span></li><li><span>system.text.json, 5.0.2</span></li><li><span>system.threading.accesscontrol, 5.0.0</span></li><li><span>xplot.plotly, 4.0.2</span></li><li><span>XPlot.Plotly.Interactive, 4.0.2</span></li></ul></div><div></div></div>"
      ]
     },
     "output_type": "unknown"
    },
    {
     "data": {
      "text/markdown": [
       "Loading extensions from `XPlot.Plotly.Interactive.dll`"
      ]
     },
     "output_type": "unknown"
    },
    {
     "data": {
      "text/markdown": [
       "Configuring PowerShell Kernel for XPlot.Plotly integration."
      ]
     },
     "output_type": "unknown"
    },
    {
     "data": {
      "text/markdown": [
       "Installed support for XPlot.Plotly."
      ]
     },
     "output_type": "unknown"
    },
    {
     "data": {
      "application/vnd.code.notebook.error": {
       "message": "(7,28): error CS0246: The type or namespace name 'Graph' could not be found (are you missing a using directive or an assembly reference?)",
       "name": "Error"
      }
     },
     "output_type": "unknown"
    }
   ],
   "source": [
    "//Install XPlot package\r\n",
    "#r \"nuget: XPlot.Plotly.Interactive,4.0.2\"\r\n",
    "using XPlot.Plotly;\r\n",
    "var x= Enumerable.Range(-20, 40);\r\n",
    "var y = x.Select(t=>t*t+1.0);\r\n",
    "\r\n",
    "//create chart\r\n",
    "var chart = Chart.Plot(new Graph.Scatter()\r\n",
    "                { x = x, y = y, mode = \"lines\", dx=2}\r\n",
    ");\r\n",
    "chart.Height=400;\r\n",
    "chart.Width = 600;\r\n",
    "var w = chart.Width;\r\n",
    "display(chart)\r\n",
    "//chart"
   ]
  },
  {
   "cell_type": "code",
   "execution_count": null,
   "metadata": {
    "dotnet_interactive": {
     "language": "csharp"
    }
   },
   "outputs": [
    {
     "data": {
      "text/html": [
       "<!DOCTYPE html>\r\n",
       "<div style=\"width: 600px; height: 400px;\" id=\"31048342-8988-4154-a44c-3e62fa20a83b\"></div><script type=\"text/javascript\">\r\n",
       "\n",
       "var renderPlotly = function() {\n",
       "    var xplotRequire = require.config({context:'xplot-3.0.1',paths:{plotly:'https://cdn.plot.ly/plotly-1.49.2.min'}}) || require;\n",
       "    xplotRequire(['plotly'], function(Plotly) { \r\n",
       "\n",
       "            var data = [{\"type\":\"histogram\",\"x\":[\"a\",\"b\",\"a\",\"b\",\"b\",\"b\",\"a\",\"b\",\"b\",\"b\",\"a\",\"b\",\"a\",\"b\"],\"name\":\"a\"}];\n",
       "           var layout = \"\";\n",
       "           Plotly.newPlot('31048342-8988-4154-a44c-3e62fa20a83b', data, layout);\n",
       "        \r\n",
       "});\n",
       "};\r\n",
       "// ensure `require` is available globally\r\n",
       "if ((typeof(require) !==  typeof(Function)) || (typeof(require.config) !== typeof(Function))) {\r\n",
       "    let require_script = document.createElement('script');\r\n",
       "    require_script.setAttribute('src', 'https://cdnjs.cloudflare.com/ajax/libs/require.js/2.3.6/require.min.js');\r\n",
       "    require_script.setAttribute('type', 'text/javascript');\r\n",
       "    \r\n",
       "    \r\n",
       "    require_script.onload = function() {\r\n",
       "        renderPlotly();\r\n",
       "    };\r\n",
       "\r\n",
       "    document.getElementsByTagName('head')[0].appendChild(require_script);\r\n",
       "}\r\n",
       "else {\r\n",
       "    renderPlotly();\r\n",
       "}\r\n",
       "\r\n",
       "</script>\r\n"
      ]
     },
     "output_type": "unknown"
    }
   ],
   "source": [
    "//PLot support\r\n",
    "using XPlot.Plotly;\r\n",
    "\r\n",
    "var xx = new string[] { \"a\", \"b\", \"a\", \"b\", \"b\", \"b\", \"a\", \"b\", \"b\", \"b\", \"a\", \"b\", \"a\", \"b\" };\r\n",
    "\r\n",
    "var chart = Chart.Plot( new Histogram() { x = xx });\r\n",
    "\r\n",
    "chart.WithLabels(new string[2]{\"a\",\"b\"});\r\n",
    "chart.Height=400;\r\n",
    "chart.Width = 600;\r\n",
    "chart\r\n"
   ]
  },
  {
   "cell_type": "markdown",
   "metadata": {
    "slideshow": {
     "slide_type": "slide"
    }
   },
   "source": [
    "## Jupyter Notebook in Action\n",
    "\n",
    "- Hot to present your research to audience using Jupyter Notebook\n",
    "\n"
   ]
  },
  {
   "cell_type": "markdown",
   "metadata": {
    "slideshow": {
     "slide_type": "slide"
    }
   },
   "source": [
    "# Q&A"
   ]
  },
  {
   "cell_type": "code",
   "execution_count": null,
   "metadata": {
    "dotnet_interactive": {
     "language": "csharp"
    }
   },
   "outputs": [],
   "source": []
  },
  {
   "cell_type": "code",
   "execution_count": null,
   "metadata": {
    "dotnet_interactive": {
     "language": "csharp"
    }
   },
   "outputs": [],
   "source": []
  }
 ],
 "metadata": {
  "celltoolbar": "Slideshow",
  "kernelspec": {
   "display_name": ".NET (C#)",
   "language": "C#",
   "name": ".net-csharp"
  },
  "language_info": {
   "file_extension": ".cs",
   "mimetype": "text/x-csharp",
   "name": "C#",
   "pygments_lexer": "csharp",
   "version": "8.0"
  }
 },
 "nbformat": 4,
 "nbformat_minor": 2
}