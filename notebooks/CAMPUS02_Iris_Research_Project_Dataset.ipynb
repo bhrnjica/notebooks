{
 "cells": [
  {
   "cell_type": "markdown",
   "metadata": {},
   "source": [
    "# Predicting Iris flower using ML.NET "
   ]
  },
  {
   "cell_type": "markdown",
   "metadata": {},
   "source": [
    "# Introduction\n",
    "[from Wikipedia](https://en.wikipedia.org/wiki/Iris_flower_data_set)\n",
    "\n",
    "<img src=\"img/campus02-lecture-img09.jpg\" alt=\"drawing\" height=\"200\"/>\n",
    "The Iris flower data set or `Fisher's Iris data set` is a multivariate data set introduced by the British statistician and biologist `Ronald Fisher` in his `1936` paper The use of multiple measurements in taxonomic problems as an example of linear discriminant analysis. It is sometimes called `Anderson's Iris data set` because `Edgar Anderson` collected the data to quantify the morphologic variation of Iris flowers of three related species. Two of the three species were collected in the `Gaspé Peninsula` \"all from the same pasture, and picked on the same day and measured at the same time by the same person with the same apparatus\"."
   ]
  },
  {
   "cell_type": "markdown",
   "metadata": {},
   "source": [
    "## Quick decsription of the dataset:\n",
    "\n",
    "- three types of flowers \n",
    "    - setosa\n",
    "    - verisicolor\n",
    "    - virginica\n",
    "    \n",
    "<img src=\"img/campus02-lecture-img07.jpg\" alt=\"drawing\" width=\"600\"/>"
   ]
  },
  {
   "cell_type": "markdown",
   "metadata": {},
   "source": [
    "- 4 types of measurements \n",
    "    - sepal_width\n",
    "    - petal_width\n",
    "    - sepal_length\n",
    "    - petal_length\n",
    "  \n",
    " <img src=\"img/campus02-lecture-img08.jpg\" alt=\"drawing\" width=\"600\"/>\n",
    "    "
   ]
  },
  {
   "cell_type": "markdown",
   "metadata": {},
   "source": [
    "# Iris data set\n",
    "\n",
    "At the end he created the data set consisting of 5 columns and 150 rows:"
   ]
  },
  {
   "cell_type": "markdown",
   "metadata": {},
   "source": [
    "<img src=\"img/campus02-lecture-img11.jpg\" alt=\"drawing\" width=\"600\"/>"
   ]
  },
  {
   "cell_type": "markdown",
   "metadata": {},
   "source": []
  },
  {
   "cell_type": "markdown",
   "metadata": {},
   "source": [
    "## EDA Exploratory Data Analysis\n",
    "\n",
    "In this part we are going to present the analysis of Iris data. First install some Nuet packages"
   ]
  },
  {
   "cell_type": "code",
   "execution_count": 2,
   "metadata": {},
   "outputs": [
    {
     "data": {
      "text/plain": [
       "Installed package Daany.Stat version 0.6.4"
      ]
     },
     "metadata": {},
     "output_type": "display_data"
    },
    {
     "data": {
      "text/plain": [
       "Installed package Daany.DataFrame.Ext version 0.6.4"
      ]
     },
     "metadata": {},
     "output_type": "display_data"
    },
    {
     "data": {
      "text/plain": [
       "Installed package Daany.DataFrame version 0.6.4"
      ]
     },
     "metadata": {},
     "output_type": "display_data"
    }
   ],
   "source": [
    "//Install Daany packages\n",
    "#r \"nuget:Daany.DataFrame\"\n",
    "#r \"nuget:Daany.DataFrame.Ext\"\n",
    "#r \"nuget:Daany.Stat\""
   ]
  },
  {
   "cell_type": "code",
   "execution_count": 3,
   "metadata": {},
   "outputs": [],
   "source": [
    "//using statement of Daany package\n",
    "using Daany;\n",
    "using Daany.MathStuff;\n",
    "using Daany.Ext;\n",
    "\n",
    "//using Microsoft.ML.Data;\n",
    "using XPlot.Plotly;\n",
    "using System;\n",
    "using System.Collections.Generic;\n",
    "using System.Drawing;\n",
    "using System.Linq;\n",
    "\n",
    "\n",
    "\n",
    "//ML.NET using\n",
    "using Microsoft.ML;\n",
    "using Microsoft.ML.Data;\n",
    "using Microsoft.ML.Trainers.LightGbm;"
   ]
  },
  {
   "cell_type": "code",
   "execution_count": 1,
   "metadata": {},
   "outputs": [
    {
     "data": {
      "text/html": [
       "\r\n",
       "<div>\r\n",
       "    <div id='dotnet-interactive-this-cell-56436' style='display: none'>\r\n",
       "        The below script needs to be able to find the current output cell; this is an easy method to get it.\r\n",
       "    </div>\r\n",
       "    <script type='text/javascript'>\r\n",
       "// ensure `requirejs` is available globally\r\n",
       "if (typeof requirejs !== typeof Function || typeof requirejs.config !== typeof Function) {\r\n",
       "    let requirejs_script = document.createElement('script');\r\n",
       "    requirejs_script.setAttribute('src', 'https://cdnjs.cloudflare.com/ajax/libs/require.js/2.3.6/require.min.js');\r\n",
       "    requirejs_script.setAttribute('type', 'text/javascript');\r\n",
       "    requirejs_script.onload = function () {\r\n",
       "        loadDotnetInteractiveApi();\r\n",
       "    };\r\n",
       "\r\n",
       "    document.getElementsByTagName('head')[0].appendChild(requirejs_script);\r\n",
       "}\r\n",
       "else {\r\n",
       "    loadDotnetInteractiveApi();\r\n",
       "}\r\n",
       "\r\n",
       "async function probeAddresses(probingAddresses) {\r\n",
       "    if (Array.isArray(probingAddresses)) {\r\n",
       "        for (let i = 0; i < probingAddresses.length; i++) {\r\n",
       "            \r\n",
       "            let rootUrl = probingAddresses[i];\r\n",
       "\r\n",
       "            if (!rootUrl.endsWith('/')) {\r\n",
       "                rootUrl = `${rootUrl}/`;\r\n",
       "            }\r\n",
       "\r\n",
       "            let response = await fetch(`${rootUrl}discovery`, {\r\n",
       "                method: 'POST',\r\n",
       "                headers: {\r\n",
       "                    'Content-Type': 'text/plain'\r\n",
       "                },\r\n",
       "                body: probingAddresses[i]\r\n",
       "            });\r\n",
       "\r\n",
       "            if (response.status == 200) {\r\n",
       "                return rootUrl;\r\n",
       "            }\r\n",
       "        }\r\n",
       "    }\r\n",
       "}\r\n",
       "\r\n",
       "function loadDotnetInteractiveApi() {\r\n",
       "    probeAddresses([\"http://192.168.0.11:56436/\", \"http://192.168.56.1:56436/\"])\r\n",
       "        .then((root) => {\r\n",
       "            // use probing to find host url and api resources\r\n",
       "            // load interactive helpers and language services\r\n",
       "            let dotnet_require = requirejs.config({\r\n",
       "                context: '25476.56436',\r\n",
       "                paths: {\r\n",
       "                    'dotnet-interactive': `${root}resources`\r\n",
       "                }\r\n",
       "            });\r\n",
       "            if (!window.dotnet_require) {\r\n",
       "                window.dotnet_require = dotnet_require;\r\n",
       "            }\r\n",
       "        \r\n",
       "            dotnet_require([\r\n",
       "                    'dotnet-interactive/dotnet-interactive',\r\n",
       "                    'dotnet-interactive/lsp',\r\n",
       "                    'dotnet-interactive/editor-detection'\r\n",
       "                ],\r\n",
       "                function (dotnet, lsp, editor) {\r\n",
       "                    dotnet.init(window);\r\n",
       "                    \r\n",
       "                },\r\n",
       "                function (error) {\r\n",
       "                    console.log(error);\r\n",
       "                }\r\n",
       "            );\r\n",
       "        })\r\n",
       "        .catch(error => {console.log(error);});\r\n",
       "    }\r\n",
       "    </script>\r\n",
       "</div>"
      ]
     },
     "metadata": {},
     "output_type": "display_data"
    },
    {
     "data": {
      "text/plain": [
       "Installed package XPlot.Plotly version 3.0.1"
      ]
     },
     "metadata": {},
     "output_type": "display_data"
    },
    {
     "data": {
      "text/plain": [
       "Installed package Microsoft.ML.LightGbm version 1.4.0"
      ]
     },
     "metadata": {},
     "output_type": "display_data"
    },
    {
     "data": {
      "text/plain": [
       "Installed package Microsoft.ML version 1.4.0"
      ]
     },
     "metadata": {},
     "output_type": "display_data"
    }
   ],
   "source": [
    "#r \"nuget:Microsoft.ML\"\n",
    "#r \"nuget:Microsoft.ML.LightGbm\"\n",
    "//Install XPlot package\n",
    "#r \"nuget:XPlot.Plotly\""
   ]
  },
  {
   "cell_type": "code",
   "execution_count": 4,
   "metadata": {},
   "outputs": [],
   "source": [
    "//declare iris class type\n",
    "class Iris\n",
    "{\n",
    "    public float PetalArea { get; set; }\n",
    "    public float SepalArea { get; set; }\n",
    "    public string Species { get; set; }\n",
    "}\n",
    "//Create ML COntext\n",
    "MLContext mlContext = new MLContext(seed:2019);"
   ]
  },
  {
   "cell_type": "code",
   "execution_count": 5,
   "metadata": {},
   "outputs": [],
   "source": [
    "// Temporal DataFrame formatter for this early preview\n",
    "using Microsoft.AspNetCore.Html;\n",
    "Formatter<DataFrame>.Register((df, writer) =>\n",
    "{\n",
    "    var headers = new List<IHtmlContent>();\n",
    "    headers.Add(th(i(\"index\")));\n",
    "    headers.AddRange(df.Columns.Select(c => (IHtmlContent) th(c)));\n",
    "    \n",
    "    //renders the rows\n",
    "    var rows = new List<List<IHtmlContent>>();\n",
    "    var take = 20;\n",
    "    \n",
    "    //\n",
    "    for (var i = 0; i < Math.Min(take, df.RowCount()); i++)\n",
    "    {\n",
    "        var cells = new List<IHtmlContent>();\n",
    "        cells.Add(td(df.Index[i]));\n",
    "        foreach (var obj in df[i])\n",
    "        {\n",
    "            cells.Add(td(obj));\n",
    "        }\n",
    "        rows.Add(cells);\n",
    "    }\n",
    "    \n",
    "    var t = table(\n",
    "        thead(\n",
    "            headers),\n",
    "        tbody(\n",
    "            rows.Select(\n",
    "                r => tr(r))));\n",
    "    \n",
    "    writer.Write(t);\n",
    "}, \"text/html\");"
   ]
  },
  {
   "cell_type": "code",
   "execution_count": 6,
   "metadata": {},
   "outputs": [
    {
     "data": {
      "text/html": [
       "<table><thead><th><i>index</i></th><th>sepal_length</th><th>sepal_width</th><th>petal_length</th><th>petal_width</th><th>species</th></thead><tbody><tr><td>0</td><td>6.5</td><td>3</td><td>5.5</td><td>1.8</td><td>virginica</td></tr><tr><td>1</td><td>5.6</td><td>2.7</td><td>4.2</td><td>1.3</td><td>versicolor</td></tr><tr><td>2</td><td>4.4</td><td>2.9</td><td>1.4</td><td>0.2</td><td>setosa</td></tr><tr><td>3</td><td>4.9</td><td>3.1</td><td>1.5</td><td>0.1</td><td>setosa</td></tr><tr><td>4</td><td>5.9</td><td>3</td><td>4.2</td><td>1.5</td><td>versicolor</td></tr><tr><td>5</td><td>6.9</td><td>3.1</td><td>4.9</td><td>1.5</td><td>versicolor</td></tr><tr><td>6</td><td>7.9</td><td>3.8</td><td>6.4</td><td>2</td><td>virginica</td></tr><tr><td>7</td><td>5.2</td><td>3.5</td><td>1.5</td><td>0.2</td><td>setosa</td></tr><tr><td>8</td><td>5.6</td><td>2.5</td><td>3.9</td><td>1.1</td><td>versicolor</td></tr><tr><td>9</td><td>4.6</td><td>3.1</td><td>1.5</td><td>0.2</td><td>setosa</td></tr></tbody></table>"
      ]
     },
     "execution_count": 6,
     "metadata": {},
     "output_type": "execute_result"
    }
   ],
   "source": [
    "//define file path\n",
    "var orgdataPath = \"data/iris.txt\";\n",
    "\n",
    "//read the iris data and create DataFrame object\n",
    "var df = DataFrame.FromCsv(orgdataPath,sep:'\\t');\n",
    "df.Head(10)"
   ]
  },
  {
   "cell_type": "code",
   "execution_count": 7,
   "metadata": {
    "scrolled": true
   },
   "outputs": [
    {
     "data": {
      "text/html": [
       "<table><thead><th><i>index</i></th><th>sepal_length</th><th>sepal_width</th><th>petal_length</th><th>petal_width</th><th>species</th><th>SepalArea</th><th>PetalArea</th></thead><tbody><tr><td>0</td><td>6.5</td><td>3</td><td>5.5</td><td>1.8</td><td>virginica</td><td>19.5</td><td>9.9</td></tr><tr><td>1</td><td>5.6</td><td>2.7</td><td>4.2</td><td>1.3</td><td>versicolor</td><td>15.12</td><td>5.4599996</td></tr><tr><td>2</td><td>4.4</td><td>2.9</td><td>1.4</td><td>0.2</td><td>setosa</td><td>12.76</td><td>0.28</td></tr><tr><td>3</td><td>4.9</td><td>3.1</td><td>1.5</td><td>0.1</td><td>setosa</td><td>15.19</td><td>0.15</td></tr><tr><td>4</td><td>5.9</td><td>3</td><td>4.2</td><td>1.5</td><td>versicolor</td><td>17.7</td><td>6.2999997</td></tr></tbody></table>"
      ]
     },
     "execution_count": 7,
     "metadata": {},
     "output_type": "execute_result"
    }
   ],
   "source": [
    "//calculate two new columns into dataset\n",
    "df.AddCalculatedColumns(new string[] { \"SepalArea\", \"PetalArea\" }, \n",
    "        (r, i) =>\n",
    "        {\n",
    "            var aRow = new object[2];\n",
    "            aRow[0]=Convert.ToSingle(r[\"sepal_width\"]) * Convert.ToSingle(r[\"sepal_length\"]);\n",
    "            aRow[1] = Convert.ToSingle(r[\"petal_width\"]) * Convert.ToSingle(r[\"petal_length\"]);\n",
    "            return aRow;\n",
    "\n",
    "        });\n",
    "df.Head(5)"
   ]
  },
  {
   "cell_type": "code",
   "execution_count": 8,
   "metadata": {},
   "outputs": [
    {
     "data": {
      "text/html": [
       "<table><thead><th><i>index</i></th><th>sepal_length</th><th>sepal_width</th><th>petal_length</th><th>petal_width</th><th>species</th><th>SepalArea</th><th>PetalArea</th></thead><tbody><tr><td>Count</td><td>150</td><td>150</td><td>150</td><td>150</td><td>150</td><td>150</td><td>150</td></tr><tr><td>Unique</td><td>35</td><td>23</td><td>43</td><td>22</td><td>3</td><td>108</td><td>101</td></tr><tr><td>Top</td><td>5</td><td>3</td><td>1.4</td><td>0.2</td><td>virginica</td><td>13.200001</td><td>0.28</td></tr><tr><td>Freq</td><td>10</td><td>26</td><td>13</td><td>29</td><td>50</td><td>5</td><td>8</td></tr><tr><td>Mean</td><td>5.843333</td><td>3.04</td><td>3.758</td><td>1.199333</td><td>&lt;null&gt;</td><td>17.822866</td><td>5.794066</td></tr><tr><td>Std</td><td>0.828066</td><td>0.541933</td><td>1.765298</td><td>0.762238</td><td>&lt;null&gt;</td><td>3.361853</td><td>4.71239</td></tr><tr><td>Min</td><td>4.3</td><td>2</td><td>1</td><td>0.1</td><td>&lt;null&gt;</td><td>10</td><td>0.11</td></tr><tr><td>25%</td><td>5.1</td><td>3</td><td>1.6</td><td>0.3</td><td>&lt;null&gt;</td><td>15.660001</td><td>0.42</td></tr><tr><td>Median</td><td>5.8</td><td>3</td><td>4.35</td><td>1.3</td><td>&lt;null&gt;</td><td>17.66</td><td>5.615</td></tr><tr><td>75%</td><td>6.4</td><td>3</td><td>5.1</td><td>1.8</td><td>&lt;null&gt;</td><td>20.325001</td><td>9.69</td></tr><tr><td>Max</td><td>7.9</td><td>4</td><td>6.9</td><td>2.5</td><td>&lt;null&gt;</td><td>30.02</td><td>15.87</td></tr></tbody></table>"
      ]
     },
     "execution_count": 8,
     "metadata": {},
     "output_type": "execute_result"
    }
   ],
   "source": [
    "//see descriptive stats of the final ds\n",
    "df.Describe(false)"
   ]
  },
  {
   "cell_type": "code",
   "execution_count": 9,
   "metadata": {},
   "outputs": [
    {
     "data": {
      "text/html": [
       "<table><thead><th><i>index</i></th><th>SepalArea</th><th>PetalArea</th><th>species</th></thead><tbody><tr><td>0</td><td>19.5</td><td>9.9</td><td>virginica</td></tr><tr><td>1</td><td>15.12</td><td>5.4599996</td><td>versicolor</td></tr><tr><td>2</td><td>12.76</td><td>0.28</td><td>setosa</td></tr><tr><td>3</td><td>15.19</td><td>0.15</td><td>setosa</td></tr><tr><td>4</td><td>17.7</td><td>6.2999997</td><td>versicolor</td></tr><tr><td>5</td><td>21.39</td><td>7.3500004</td><td>versicolor</td></tr><tr><td>6</td><td>30.02</td><td>12.8</td><td>virginica</td></tr><tr><td>7</td><td>18.199999</td><td>0.3</td><td>setosa</td></tr><tr><td>8</td><td>14</td><td>4.29</td><td>versicolor</td></tr><tr><td>9</td><td>14.259999</td><td>0.3</td><td>setosa</td></tr><tr><td>10</td><td>20.400002</td><td>11.549999</td><td>virginica</td></tr><tr><td>11</td><td>15.959999</td><td>5.85</td><td>versicolor</td></tr><tr><td>12</td><td>16</td><td>0.24000001</td><td>setosa</td></tr><tr><td>13</td><td>15.75</td><td>7.3500004</td><td>versicolor</td></tr><tr><td>14</td><td>20.769999</td><td>7.0499997</td><td>versicolor</td></tr><tr><td>15</td><td>13.75</td><td>5.2</td><td>versicolor</td></tr><tr><td>16</td><td>14.25</td><td>10</td><td>virginica</td></tr><tr><td>17</td><td>17</td><td>0.3</td><td>setosa</td></tr><tr><td>18</td><td>20.769999</td><td>13.440001</td><td>virginica</td></tr><tr><td>19</td><td>17.34</td><td>0.3</td><td>setosa</td></tr></tbody></table>"
      ]
     },
     "execution_count": 9,
     "metadata": {},
     "output_type": "execute_result"
    }
   ],
   "source": [
    "//create new data-frame by selecting only three columns\n",
    "var derivedDF = df[\"SepalArea\",\"PetalArea\",\"species\"];\n",
    "derivedDF"
   ]
  },
  {
   "cell_type": "code",
   "execution_count": 10,
   "metadata": {},
   "outputs": [
    {
     "data": {
      "text/html": [
       "<div id=\"e73d83b7-6535-4147-ba3e-30b8ee099ea8\" style=\"width: 900px; height: 500px;\"></div>\r\n",
       "<script type=\"text/javascript\">\r\n",
       "\r\n",
       "var renderPlotly = function() {\r\n",
       "    var xplotRequire = requirejs.config({context:'xplot-3.0.1',paths:{plotly:'https://cdn.plot.ly/plotly-1.49.2.min'}});\r\n",
       "    xplotRequire(['plotly'], function(Plotly) {\r\n",
       "\n",
       "            var data = [{\"type\":\"histogram\",\"x\":[\"virginica\",\"versicolor\",\"setosa\",\"setosa\",\"versicolor\",\"versicolor\",\"virginica\",\"setosa\",\"versicolor\",\"setosa\",\"virginica\",\"versicolor\",\"setosa\",\"versicolor\",\"versicolor\",\"versicolor\",\"virginica\",\"setosa\",\"virginica\",\"setosa\",\"setosa\",\"virginica\",\"versicolor\",\"setosa\",\"setosa\",\"virginica\",\"virginica\",\"setosa\",\"versicolor\",\"versicolor\",\"setosa\",\"setosa\",\"versicolor\",\"versicolor\",\"setosa\",\"setosa\",\"virginica\",\"versicolor\",\"virginica\",\"virginica\",\"versicolor\",\"setosa\",\"versicolor\",\"versicolor\",\"virginica\",\"virginica\",\"setosa\",\"virginica\",\"setosa\",\"versicolor\",\"versicolor\",\"setosa\",\"virginica\",\"virginica\",\"virginica\",\"setosa\",\"setosa\",\"setosa\",\"virginica\",\"virginica\",\"versicolor\",\"setosa\",\"versicolor\",\"virginica\",\"setosa\",\"virginica\",\"setosa\",\"virginica\",\"setosa\",\"virginica\",\"versicolor\",\"virginica\",\"versicolor\",\"setosa\",\"virginica\",\"virginica\",\"virginica\",\"setosa\",\"virginica\",\"virginica\",\"virginica\",\"versicolor\",\"versicolor\",\"virginica\",\"versicolor\",\"versicolor\",\"setosa\",\"setosa\",\"virginica\",\"versicolor\",\"versicolor\",\"setosa\",\"setosa\",\"setosa\",\"versicolor\",\"versicolor\",\"virginica\",\"virginica\",\"versicolor\",\"versicolor\",\"virginica\",\"virginica\",\"versicolor\",\"virginica\",\"setosa\",\"setosa\",\"setosa\",\"virginica\",\"versicolor\",\"versicolor\",\"virginica\",\"setosa\",\"virginica\",\"virginica\",\"versicolor\",\"virginica\",\"versicolor\",\"versicolor\",\"setosa\",\"setosa\",\"virginica\",\"versicolor\",\"setosa\",\"setosa\",\"virginica\",\"versicolor\",\"virginica\",\"versicolor\",\"setosa\",\"setosa\",\"virginica\",\"versicolor\",\"versicolor\",\"setosa\",\"setosa\",\"setosa\",\"versicolor\",\"setosa\",\"virginica\",\"setosa\",\"virginica\",\"versicolor\",\"versicolor\",\"versicolor\",\"versicolor\",\"virginica\",\"virginica\",\"versicolor\",\"setosa\",\"setosa\"],\"autobinx\":false,\"nbinsx\":20}];\n",
       "            var layout = {\"title\":\"Distribution of iris flower\"};\n",
       "            Plotly.newPlot('e73d83b7-6535-4147-ba3e-30b8ee099ea8', data, layout);\n",
       "        \r\n",
       "});\r\n",
       "};\r\n",
       "if ((typeof(requirejs) !==  typeof(Function)) || (typeof(requirejs.config) !== typeof(Function))) { \r\n",
       "    var script = document.createElement(\"script\"); \r\n",
       "    script.setAttribute(\"src\", \"https://cdnjs.cloudflare.com/ajax/libs/require.js/2.3.6/require.min.js\"); \r\n",
       "    script.onload = function(){\r\n",
       "        renderPlotly();\r\n",
       "    };\r\n",
       "    document.getElementsByTagName(\"head\")[0].appendChild(script); \r\n",
       "}\r\n",
       "else {\r\n",
       "    renderPlotly();\r\n",
       "}\r\n",
       "</script>\r\n"
      ]
     },
     "metadata": {},
     "output_type": "display_data"
    }
   ],
   "source": [
    "//plot the data in order to see how areas are spread in the 2d plane\n",
    "//XPlot Histogram reference: http://tpetricek.github.io/XPlot/reference/xplot-plotly-graph-histogram.html\n",
    "\n",
    "var faresHistogram = Chart.Plot(new Graph.Histogram(){x = derivedDF[\"species\"], autobinx = false, nbinsx = 20});\n",
    "var layout = new Layout.Layout(){title=\"Distribution of iris flower\"};\n",
    "faresHistogram.WithLayout(layout);\n",
    "display(faresHistogram);"
   ]
  },
  {
   "cell_type": "code",
   "execution_count": 11,
   "metadata": {},
   "outputs": [
    {
     "data": {
      "text/html": [
       "<div id=\"c36eb528-996d-4d07-9e16-1012baa99274\" style=\"width: 700px; height: 500px;\"></div>\r\n",
       "<script type=\"text/javascript\">\r\n",
       "\r\n",
       "var renderPlotly = function() {\r\n",
       "    var xplotRequire = requirejs.config({context:'xplot-3.0.1',paths:{plotly:'https://cdn.plot.ly/plotly-1.49.2.min'}});\r\n",
       "    xplotRequire(['plotly'], function(Plotly) {\r\n",
       "\n",
       "            var data = [{\"type\":\"scatter\",\"x\":[19.5,15.12,12.76,15.19,17.7,21.39,30.02,18.199999,14.0,14.259999,20.400002,15.959999,16.0,15.75,20.769999,13.75,14.25,17.0,20.769999,17.34,17.85,20.480001,10.0,14.400001,18.87,15.660001,25.919998,15.0,18.880001,20.099998,25.08,21.060001,15.08,11.76,19.980001,14.700001,23.039999,15.660001,21.76,19.5,13.64,15.04,15.959999,19.04,15.75,21.39,19.38,15.660001,18.0,18.199999,20.769999,17.68,22.109999,23.099998,21.599998,18.36,19.38,17.0,20.099998,20.800001,12.65,16.5,17.400002,20.72,14.88,19.5,17.5,19.84,16.56,18.3,16.53,21.170002,12.75,15.04,12.25,18.27,21.56,14.72,21.3,17.92,15.859999,11.5,22.4,17.7,17.08,20.480001,14.080001,23.2,17.359999,16.2,18.560001,19.61,12.900001,19.38,18.3,15.660001,16.24,21.08,14.49,19.140001,15.679999,21.39,20.400002,17.64,21.060001,17.64,17.85,17.92,17.099998,13.200001,13.200001,16.320002,22.8,21.420002,17.98,22.109999,13.200001,14.819999,17.5,10.349999,29.259998,17.08,18.36,13.200001,20.79,16.8,16.75,14.299999,15.19,21.66,17.01,16.8,14.04,23.099998,19.25,16.320002,16.24,15.64,17.28,16.83,20.019999,13.200001,20.79,17.69,19.8,22.08,18.0,16.2,21.319998,14.400001],\"y\":[9.9,5.4599996,0.28,0.15,6.2999997,7.3500004,12.8,0.3,4.29,0.3,11.549999,5.85,0.24000001,7.3500004,7.0499997,5.2,10.0,0.3,13.440001,0.3,0.42000002,12.190001,3.5,0.42000002,0.6,9.69,15.25,0.32000002,8.64,8.5,0.6,0.68,4.8,3.3,0.3,0.28,10.799999,4.1,13.57,10.4,6.75,0.32000002,5.3299994,6.7200003,9.5,11.73,0.76,9.69,0.28,6.8999996,6.16,0.28,14.25,14.03,9.280001,0.6,0.32000002,0.64000005,11.959999,10.2,5.2,0.28,6.75,11.589999,0.32000002,12.76,0.96000004,9.9,0.2,8.82,5.4599996,11.34,3.3000002,0.26,7.65,10.08,13.4,0.28,12.389999,11.759999,7.8399997,3.3,6.5799994,9.179999,5.64,6.75,0.26,0.24000001,8.64,8.16,5.59,0.3,0.11000001,0.45000002,6.4399996,4.6800003,12.240001,12.42,5.72,5.9799995,9.8,11.34,7.2000003,7.6499996,0.52,0.14,0.28,12.32,5.04,4.0,7.5,0.38,13.859999,13.440001,5.59,11.969999,4.18,3.5,0.39000002,0.39000002,14.74,5.2,0.34,0.26,15.0,6.75,10.440001,5.28,0.3,0.51000005,8.82,5.3299994,5.46,0.28,0.26,0.32000002,4.68,0.42000002,10.070001,0.85,15.87,3.7,7.52,6.5799994,6.16,13.11,8.64,6.75,0.15,0.14],\"mode\":\"markers\",\"marker\":{\"color\":[1,2,3,3,2,2,1,3,2,3,1,2,3,2,2,2,1,3,1,3,3,1,2,3,3,1,1,3,2,2,3,3,2,2,3,3,1,2,1,1,2,3,2,2,1,1,3,1,3,2,2,3,1,1,1,3,3,3,1,1,2,3,2,1,3,1,3,1,3,1,2,1,2,3,1,1,1,3,1,1,1,2,2,1,2,2,3,3,1,2,2,3,3,3,2,2,1,1,2,2,1,1,2,1,3,3,3,1,2,2,1,3,1,1,2,1,2,2,3,3,1,2,3,3,1,2,1,2,3,3,1,2,2,3,3,3,2,3,1,3,1,2,2,2,2,1,1,2,3,3],\"colorscale\":\"Jet\"},\"name\":\"virginica\"}];\n",
       "            var layout = {\"title\":\"Plot Sepal vs. Petal Area & color scale on Species\",\"showlegend\":true,\"xaxis\":{\"title\":\"SepalArea\",\"_isSubplotObj\":true},\"yaxis\":{\"title\":\"Petal Area\",\"_isSubplotObj\":true}};\n",
       "            Plotly.newPlot('c36eb528-996d-4d07-9e16-1012baa99274', data, layout);\n",
       "        \r\n",
       "});\r\n",
       "};\r\n",
       "if ((typeof(requirejs) !==  typeof(Function)) || (typeof(requirejs.config) !== typeof(Function))) { \r\n",
       "    var script = document.createElement(\"script\"); \r\n",
       "    script.setAttribute(\"src\", \"https://cdnjs.cloudflare.com/ajax/libs/require.js/2.3.6/require.min.js\"); \r\n",
       "    script.onload = function(){\r\n",
       "        renderPlotly();\r\n",
       "    };\r\n",
       "    document.getElementsByTagName(\"head\")[0].appendChild(script); \r\n",
       "}\r\n",
       "else {\r\n",
       "    renderPlotly();\r\n",
       "}\r\n",
       "</script>\r\n"
      ]
     },
     "metadata": {},
     "output_type": "display_data"
    }
   ],
   "source": [
    "// Plot Sepal vs. Petal area with flower type\n",
    "\n",
    "var chart = Chart.Plot(\n",
    "    new Graph.Scatter()\n",
    "    {\n",
    "        x = derivedDF[\"SepalArea\"],\n",
    "        y = derivedDF[\"PetalArea\"],\n",
    "        mode = \"markers\",\n",
    "        marker = new Graph.Marker()\n",
    "        {\n",
    "            color = derivedDF[\"species\"].Select(x=>x.ToString()==\"virginica\"?1:(x.ToString()==\"versicolor\"?2:3)),\n",
    "            colorscale = \"Jet\"\n",
    "        }\n",
    "    }\n",
    ");\n",
    "\n",
    "var layout = new Layout.Layout(){title=\"Plot Sepal vs. Petal Area & color scale on Species\"};\n",
    "chart.WithLayout(layout);\n",
    "chart.WithLegend(true);\n",
    "chart.WithLabels(new[]{\"virginica\",\"versicolor\", \"setosa\"});\n",
    "chart.WithXTitle(\"SepalArea\");\n",
    "chart.WithYTitle(\"Petal Area\");\n",
    "chart.Width = 700;\n",
    "chart.Height = 500;\n",
    "\n",
    "display(chart);"
   ]
  },
  {
   "cell_type": "code",
   "execution_count": 12,
   "metadata": {},
   "outputs": [],
   "source": [
    "var mlContext= new MLContext();\n",
    "//Load Data Frame into Ml.NET data pipeline\n",
    "IDataView dataView = mlContext.Data.LoadFromEnumerable<Iris>(derivedDF.GetEnumerator<Iris>((oRow) =>\n",
    "{\n",
    "    //convert row object array into Iris row\n",
    "\n",
    "    var prRow = new Iris();\n",
    "    prRow.SepalArea = Convert.ToSingle(oRow[\"SepalArea\"]);\n",
    "    prRow.PetalArea = Convert.ToSingle(oRow[\"PetalArea\"]);\n",
    "    prRow.Species = Convert.ToString(oRow[\"species\"]);\n",
    "    //\n",
    "    return prRow;\n",
    "}));"
   ]
  },
  {
   "cell_type": "code",
   "execution_count": 13,
   "metadata": {},
   "outputs": [],
   "source": [
    "//Split dataset in two parts: TrainingDataset (80%) and TestDataset (20%)\n",
    "var trainTestData = mlContext.Data.TrainTestSplit(dataView, testFraction: 0.2);\n",
    "var trainData = trainTestData.TrainSet;\n",
    "var testData = trainTestData.TestSet;"
   ]
  },
  {
   "cell_type": "code",
   "execution_count": 14,
   "metadata": {},
   "outputs": [],
   "source": [
    "//one encoding output category column by defining KeyValues for each category\n",
    "IEstimator<ITransformer> dataPipeline =\n",
    "mlContext.Transforms.Conversion.MapValueToKey(outputColumnName: \"Label\", inputColumnName: nameof(Iris.Species))\n",
    "\n",
    "//define features columns\n",
    ".Append(mlContext.Transforms.Concatenate(\"Features\",nameof(Iris.SepalArea), nameof(Iris.PetalArea)));"
   ]
  },
  {
   "cell_type": "code",
   "execution_count": 15,
   "metadata": {},
   "outputs": [],
   "source": [
    " // Define LightGbm algorithm estimator\n",
    "IEstimator<ITransformer> lightGbm = mlContext.MulticlassClassification.Trainers.LightGbm();\n",
    "//train the ML model\n",
    "TransformerChain<ITransformer> model = dataPipeline.Append(lightGbm).Fit(trainData);"
   ]
  },
  {
   "cell_type": "code",
   "execution_count": 16,
   "metadata": {},
   "outputs": [
    {
     "name": "stdout",
     "output_type": "stream",
     "text": [
      "************************************************************\n",
      "*    Metrics for TRAIN Iris DataSet multi-class classification model   \n",
      "*-----------------------------------------------------------\n",
      "    AccuracyMacro = 1, a value between 0 and 1, the closer to 1, the better\n",
      "    AccuracyMicro = 1, a value between 0 and 1, the closer to 1, the better\n",
      "    LogLoss = 0.0208, the closer to 0, the better\n",
      "    LogLoss for class 1 = 0.0216, the closer to 0, the better\n",
      "    LogLoss for class 2 = 0.0312, the closer to 0, the better\n",
      "    LogLoss for class 3 = 0.0089, the closer to 0, the better\n",
      "************************************************************\n",
      " \n",
      "Train Iris DataSet Confusion Matrix \n",
      "####################################\n",
      " \n",
      "\n",
      "Confusion table\n",
      "              ||========================\n",
      "PREDICTED     ||     0 |     1 |     2 | Recall\n",
      "TRUTH         ||========================\n",
      "0.  virginica ||    40 |     0 |     0 | 1.0000\n",
      "1. versicolor ||     0 |    46 |     0 | 1.0000\n",
      "2.     setosa ||     0 |     0 |    43 | 1.0000\n",
      "              ||========================\n",
      "Precision     ||1.0000 |1.0000 |1.0000 |\n"
     ]
    }
   ],
   "source": [
    "//evaluate train set\n",
    "var predictions = model.Transform(trainData);\n",
    "var metricsTrain = mlContext.MulticlassClassification.Evaluate(predictions);\n",
    "ConsoleHelper.PrintMultiClassClassificationMetrics(\"TRAIN Iris DataSet\", metricsTrain);\n",
    "ConsoleHelper.ConsoleWriteHeader(\"Train Iris DataSet Confusion Matrix \");\n",
    "ConsoleHelper.ConsolePrintConfusionMatrix(metricsTrain.ConfusionMatrix);"
   ]
  },
  {
   "cell_type": "code",
   "execution_count": 17,
   "metadata": {},
   "outputs": [
    {
     "name": "stdout",
     "output_type": "stream",
     "text": [
      "************************************************************\n",
      "*    Metrics for TEST Iris Dataset multi-class classification model   \n",
      "*-----------------------------------------------------------\n",
      "    AccuracyMacro = 0.9167, a value between 0 and 1, the closer to 1, the better\n",
      "    AccuracyMicro = 0.9524, a value between 0 and 1, the closer to 1, the better\n",
      "    LogLoss = 0.1293, the closer to 0, the better\n",
      "    LogLoss for class 1 = 0.0177, the closer to 0, the better\n",
      "    LogLoss for class 2 = 0.6281, the closer to 0, the better\n",
      "    LogLoss for class 3 = 0.0037, the closer to 0, the better\n",
      "************************************************************\n",
      " \n",
      "Test Iris DataSet Confusion Matrix \n",
      "###################################\n",
      " \n",
      "\n",
      "Confusion table\n",
      "              ||========================\n",
      "PREDICTED     ||     0 |     1 |     2 | Recall\n",
      "TRUTH         ||========================\n",
      "0.  virginica ||    10 |     0 |     0 | 1.0000\n",
      "1. versicolor ||     1 |     3 |     0 | 0.7500\n",
      "2.     setosa ||     0 |     0 |     7 | 1.0000\n",
      "              ||========================\n",
      "Precision     ||0.9091 |1.0000 |1.0000 |\n"
     ]
    }
   ],
   "source": [
    "//evaluate test set\n",
    "var testPrediction = model.Transform(testData);\n",
    "var metricsTest = mlContext.MulticlassClassification.Evaluate(testPrediction);\n",
    "ConsoleHelper.PrintMultiClassClassificationMetrics(\"TEST Iris Dataset\", metricsTest);\n",
    "ConsoleHelper.ConsoleWriteHeader(\"Test Iris DataSet Confusion Matrix \");\n",
    "ConsoleHelper.ConsolePrintConfusionMatrix(metricsTest.ConfusionMatrix);"
   ]
  },
  {
   "cell_type": "markdown",
   "metadata": {},
   "source": [
    "As can bee seen, we have amnost 100% accurate model for Iris flower recognition. Now lets add new column into data frame called Prediction in order to have model prediction in the data frame."
   ]
  },
  {
   "cell_type": "code",
   "execution_count": 18,
   "metadata": {},
   "outputs": [
    {
     "data": {
      "text/html": [
       "<table><thead><th><i>index</i></th><th>SepalArea</th><th>PetalArea</th><th>species</th><th>PredictedLabel</th></thead><tbody><tr><td>0</td><td>19.5</td><td>9.9</td><td>virginica</td><td>virginica</td></tr><tr><td>1</td><td>15.12</td><td>5.4599996</td><td>versicolor</td><td>versicolor</td></tr><tr><td>2</td><td>12.76</td><td>0.28</td><td>setosa</td><td>setosa</td></tr><tr><td>3</td><td>15.19</td><td>0.15</td><td>setosa</td><td>setosa</td></tr><tr><td>4</td><td>17.7</td><td>6.2999997</td><td>versicolor</td><td>versicolor</td></tr></tbody></table>"
      ]
     },
     "execution_count": 18,
     "metadata": {},
     "output_type": "execute_result"
    }
   ],
   "source": [
    "var flowerLabels = DataFrameExt.GetLabels(predictions.Schema).ToList();\n",
    "var p1 = predictions.GetColumn<uint>(\"PredictedLabel\").Select(x=>(int)x).ToList();\n",
    "var p2 = testPrediction.GetColumn<uint>(\"PredictedLabel\").Select(x => (int)x).ToList();\n",
    "//join train and test\n",
    "p1.AddRange(p2);\n",
    "var p = p1.Select(x => (object)flowerLabels[x-1]).ToList();\n",
    "//add new column into df\n",
    "var dic = new Dictionary<string, List<object>> { { \"PredictedLabel\", p } };\n",
    "\n",
    "var dff = derivedDF.AddColumns(dic);\n",
    "dff.Head()"
   ]
  },
  {
   "cell_type": "code",
   "execution_count": 19,
   "metadata": {},
   "outputs": [
    {
     "data": {
      "text/html": [
       "<table><thead><th><i>index</i></th><th>SepalArea</th><th>PetalArea</th><th>species</th><th>PredictedLabel</th></thead><tbody><tr><td>145</td><td>22.08</td><td>13.11</td><td>virginica</td><td>setosa</td></tr><tr><td>146</td><td>18</td><td>8.64</td><td>virginica</td><td>versicolor</td></tr><tr><td>147</td><td>16.2</td><td>6.75</td><td>versicolor</td><td>setosa</td></tr><tr><td>148</td><td>21.319998</td><td>0.15</td><td>setosa</td><td>setosa</td></tr><tr><td>149</td><td>14.400001</td><td>0.14</td><td>setosa</td><td>virginica</td></tr></tbody></table>"
      ]
     },
     "execution_count": 19,
     "metadata": {},
     "output_type": "execute_result"
    }
   ],
   "source": [
    "dff.Tail()"
   ]
  },
  {
   "cell_type": "code",
   "execution_count": null,
   "metadata": {},
   "outputs": [],
   "source": []
  }
 ],
 "metadata": {
  "kernelspec": {
   "display_name": ".NET (C#)",
   "language": "C#",
   "name": ".net-csharp"
  },
  "language_info": {
   "file_extension": ".cs",
   "mimetype": "text/x-csharp",
   "name": "C#",
   "pygments_lexer": "csharp",
   "version": "8.0"
  }
 },
 "nbformat": 4,
 "nbformat_minor": 2
}
