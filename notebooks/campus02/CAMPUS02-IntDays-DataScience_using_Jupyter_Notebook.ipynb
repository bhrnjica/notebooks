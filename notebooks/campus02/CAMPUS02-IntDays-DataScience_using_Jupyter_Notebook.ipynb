{
 "cells": [
  {
   "cell_type": "markdown",
   "metadata": {
    "slideshow": {
     "slide_type": "slide"
    }
   },
   "source": [
    "**CAMPUS02 International Days**\n",
    "\n",
    "<img src=\"../img/campus02-lecture-img.jpg\" alt=\"drawing\" width=\"300\"/>\n",
    "\n",
    "# Data Science using Jupyter Notebook – how to present your research project using Jupyter Notebook\n",
    "\n",
    "dr. sc. Bahrudin Hrnjica\n",
    "\n",
    "bahrudin.hrnjica@unbi.ba\n",
    "April, 24, 2020\n",
    "\n",
    "CAMPUS02 International Days"
   ]
  },
  {
   "cell_type": "markdown",
   "metadata": {
    "slideshow": {
     "slide_type": "slide"
    }
   },
   "source": [
    "# Agenda\n",
    "\n",
    "- About Me\n",
    "- What is Jupyter Notebook\n",
    "- Getting Started with Jupyter Notebook\n",
    "- What is EDA (Exploratory Data Analysis)\n",
    "- ML.NET in Jupyter Notebook\n",
    "- Recup\n",
    "- Q/A"
   ]
  },
  {
   "cell_type": "markdown",
   "metadata": {
    "slideshow": {
     "slide_type": "slide"
    }
   },
   "source": [
    "\n",
    "# About Me\n",
    "- Dr. Sc. Bahrudin Hrnjica\n",
    "- Comming from Bihać, Bosnia and Herzegovina.\n",
    "- Assistant professor at University of Bihać, Bosnia and Herzegovina\n",
    "- Teaching students about `Numerical Analysis`, `Finite Element Method`, `Mathematical Modelling` and `Machine Learning` \n",
    "\n",
    "\n",
    "<img src=\"../img/campus02-lecture-img03.jpg\" alt=\"drawing\"  width=\"700\"/>\n"
   ]
  },
  {
   "cell_type": "markdown",
   "metadata": {
    "slideshow": {
     "slide_type": "slide"
    }
   },
   "source": [
    "# About Me\n",
    "\n",
    "- Bihać, Bosnia and Herzegovina.\n",
    "\n",
    "<img src=\"../img/campus02-lecture-img02.jpg\" alt=\"drawing\" width=\"800\"/>"
   ]
  },
  {
   "cell_type": "markdown",
   "metadata": {
    "slideshow": {
     "slide_type": "slide"
    }
   },
   "source": [
    "# About Me\n",
    "\n",
    "- Microsoft expert MVP for Developer Technologies \n",
    "\n",
    "<img src=\"../img/campus02-lecture-img04.jpg\" alt=\"drawing\" width=\"800\"/>\n"
   ]
  },
  {
   "cell_type": "markdown",
   "metadata": {
    "slideshow": {
     "slide_type": "slide"
    }
   },
   "source": [
    "# About Me\n",
    "\n",
    "-Some of recent research publications\n",
    "\n",
    "<img src=\"../img/campus02-lecture-img05.jpg\" alt=\"drawing\" width=\"600\"/>"
   ]
  },
  {
   "cell_type": "markdown",
   "metadata": {
    "slideshow": {
     "slide_type": "slide"
    }
   },
   "source": [
    "# About Me\n",
    "\n",
    "- My GitHub Account http://github.com/bhrnjica\n",
    "\n",
    "<img src=\"../img/campus02-lecture-img06.jpg\" alt=\"drawing\" width=\"800\"/>"
   ]
  },
  {
   "cell_type": "markdown",
   "metadata": {
    "slideshow": {
     "slide_type": "slide"
    }
   },
   "source": [
    "## What is Jupyter Notebook\n",
    "\n",
    " 1. extends the console-based approach to interactive computing,\n",
    " 2. providing a web-based application and user experience, \n",
    " 3. provides the whole computation process: \n",
    "     - developing, \n",
    "     - documenting, and \n",
    "     - executing."
   ]
  },
  {
   "cell_type": "markdown",
   "metadata": {
    "slideshow": {
     "slide_type": "slide"
    }
   },
   "source": [
    "## What is Jupyter Notebook\n",
    "\n",
    "The Jupyter notebook combines two components:\n",
    "\n",
    "- **A web application**: a browser-based tool for interactive authoring of documents which combine explanatory text,\n",
    "mathematics, computations and their rich media output.\n",
    "- **Notebook documents**: a representation of all content visible in the web application, including inputs and outputs of\n",
    "the computations, explanatory text, mathematics, images, and rich media representations of objects."
   ]
  },
  {
   "cell_type": "markdown",
   "metadata": {
    "slideshow": {
     "slide_type": "slide"
    }
   },
   "source": [
    "## What you can do with Jupyter Notebook\n",
    "\n",
    "\n",
    "- In-browser editing for code with automatic syntax highlighting, indentation, and tab completion/introspection\n",
    "- Displaying the result of computation using rich media representations, such as HTML, LaTeX, PNG, SVG, etc.\n",
    "- Rich text using the Markdown markup language, which can provide commentary for the code, is not limited to plain text.\n",
    "- Markdown cells using $\\LaTeX$, and rendered natively by MathJax.\n",
    "\n"
   ]
  },
  {
   "cell_type": "markdown",
   "metadata": {
    "slideshow": {
     "slide_type": "slide"
    }
   },
   "source": [
    "## What is Jupyter Notebook\n",
    "\n",
    "#### Jupyter Notebook properties\n",
    "\n",
    "- Options for exported to a range of static formats:\n",
    "    - including HTML (for example, for blog posts), \n",
    "    - reStructuredText, LaTeX, PDF, and \n",
    "    - slide shows, via the nbconvert command.\n",
    "- any .ipynb notebook document can be shared via the Jupyter Notebook Viewer (nbviewer)."
   ]
  },
  {
   "cell_type": "markdown",
   "metadata": {
    "slideshow": {
     "slide_type": "slide"
    }
   },
   "source": [
    "## Getting Started with Jupyter Notebook\n",
    "\n",
    "\n",
    "- Install Anaconda - the most popular Data Science platform based on Python language\n",
    "    - Jupyter Notebook is part of the Anaconda distribution\n",
    "-  Anaconda: https://www.anaconda.com/distribution/\n",
    "\n",
    "\n",
    "<img src=\"../img/anaconda_distro.png\" alt=\"drawing\" width=\"300\"/>"
   ]
  },
  {
   "cell_type": "markdown",
   "metadata": {
    "slideshow": {
     "slide_type": "slide"
    }
   },
   "source": [
    "## Getting Started with .NET Jupyter Notebook\n",
    "\n",
    "### Software requirements for .NET Notebooks:\n",
    "\n",
    "- [.NET Core 3.1 SDK](https://dotnet.microsoft.com/download) and [2.1](https://dotnet.microsoft.com/download/dotnet-core/2.1) currently `dotnet interactive` global tool targets 2.1.\n",
    "### How to install .NET Jupyter Notebook\n",
    "- Open Ananconda Prompt\n",
    "- Install the dotnet try global tool. `dotnet tool install -g --add-source \"https://dotnet.myget.org/F/dotnet-try/api/v3/index.json\" Microsoft.dotnet-interactive`\n",
    "- Register .NET Interactive as a Jupyter kernel  `dotnet interactive jupyter install`\n",
    "- Check to see if the .NET kernel is installed `jupyter kernelspec list`\n",
    "\n",
    "<img src=\"../img/campus02-lecture-img10.jpg\" alt=\"drawing\" width=\"1500\"/>"
   ]
  },
  {
   "cell_type": "markdown",
   "metadata": {
    "slideshow": {
     "slide_type": "slide"
    }
   },
   "source": [
    "## How to Start .NET Jupyter Notebook\n",
    "\n",
    "-  To start a new notebook, you can either type\n",
    "    - `jupyter lab` - to get Jupyter Lab\n",
    "    - `jupyter notebook` - to start Jupyter Notebook.\n",
    "- Once Jupyter Notebook (Lab) has launched your default browser should open page:\n",
    "\n",
    "<img src=\"../img/notebook_jupyter.png\" alt=\"drawing\" width=\"400\"/>\n"
   ]
  },
  {
   "cell_type": "markdown",
   "metadata": {
    "slideshow": {
     "slide_type": "slide"
    }
   },
   "source": [
    "## Notebook use interface\n",
    "\n",
    "Main part of the Notebook:\n",
    "- notebook name,\n",
    "- menu bar,\n",
    "- toolbar\n",
    "- code cell.\n",
    "<img src=\"../img/notebook_jupyter01.png\" alt=\"drawing\" width=\"800\"/>\n"
   ]
  },
  {
   "cell_type": "markdown",
   "metadata": {
    "slideshow": {
     "slide_type": "slide"
    }
   },
   "source": [
    "## Structure of a notebook document\n",
    "\n",
    "Sequence of cells, which is multiline text input field. The execution can be activate by `Shift-Enter` or `Run` button.\n",
    "\n",
    "Notebook cell types:\n",
    "- code cell,\n",
    "- markdown cell,\n",
    "- raw cell.\n",
    "\n",
    "\n",
    "\n"
   ]
  },
  {
   "cell_type": "markdown",
   "metadata": {
    "slideshow": {
     "slide_type": "slide"
    }
   },
   "source": [
    "### Keyboard shortcuts\n",
    "\n",
    "-  `Shift-Enter` - execute current cell, show output and jump to the next cell below. This is equvalent to press Run button.\n",
    "- `Esc` - lose the focus of the curent cell\n",
    "- `Enter` - put the cell in edit mode.\n"
   ]
  },
  {
   "cell_type": "markdown",
   "metadata": {
    "slideshow": {
     "slide_type": "slide"
    }
   },
   "source": [
    "## Plotting\n",
    "\n",
    "One of the mayor feature for show data graphically:\n",
    "\n",
    "- For python lang `matplotlib` package is commonoly used.\n",
    "- For .NET languages (C#, F#) `XPlot` is used.\n",
    "\n"
   ]
  },
  {
   "cell_type": "code",
   "execution_count": 4,
   "metadata": {
    "dotnet_interactive": {
     "language": "csharp"
    }
   },
   "outputs": [
    {
     "data": {
      "text/html": [
       "<!DOCTYPE html>\r\n",
       "<div style=\"width: 600px; height: 400px;\" id=\"88e05507-d47d-4812-a3fc-5111f9d6a20c\"></div><script type=\"text/javascript\">\r\n",
       "\n",
       "var renderPlotly = function() {\n",
       "    var xplotRequire = require.config({context:'xplot-3.0.1',paths:{plotly:'https://cdn.plot.ly/plotly-1.49.2.min'}}) || require;\n",
       "    xplotRequire(['plotly'], function(Plotly) { \r\n",
       "\n",
       "            var data = [{\"type\":\"scatter\",\"x\":[-20,-19,-18,-17,-16,-15,-14,-13,-12,-11,-10,-9,-8,-7,-6,-5,-4,-3,-2,-1,0,1,2,3,4,5,6,7,8,9,10,11,12,13,14,15,16,17,18,19],\"dx\":2.0,\"y\":[401.0,362.0,325.0,290.0,257.0,226.0,197.0,170.0,145.0,122.0,101.0,82.0,65.0,50.0,37.0,26.0,17.0,10.0,5.0,2.0,1.0,2.0,5.0,10.0,17.0,26.0,37.0,50.0,65.0,82.0,101.0,122.0,145.0,170.0,197.0,226.0,257.0,290.0,325.0,362.0],\"mode\":\"lines\"}];\n",
       "           var layout = \"\";\n",
       "           Plotly.newPlot('88e05507-d47d-4812-a3fc-5111f9d6a20c', data, layout);\n",
       "        \r\n",
       "});\n",
       "};\r\n",
       "// ensure `require` is available globally\r\n",
       "if ((typeof(require) !==  typeof(Function)) || (typeof(require.config) !== typeof(Function))) {\r\n",
       "    let require_script = document.createElement('script');\r\n",
       "    require_script.setAttribute('src', 'https://cdnjs.cloudflare.com/ajax/libs/require.js/2.3.6/require.min.js');\r\n",
       "    require_script.setAttribute('type', 'text/javascript');\r\n",
       "    \r\n",
       "    \r\n",
       "    require_script.onload = function() {\r\n",
       "        renderPlotly();\r\n",
       "    };\r\n",
       "\r\n",
       "    document.getElementsByTagName('head')[0].appendChild(require_script);\r\n",
       "}\r\n",
       "else {\r\n",
       "    renderPlotly();\r\n",
       "}\r\n",
       "\r\n",
       "</script>\r\n"
      ]
     },
     "metadata": {},
     "output_type": "display_data"
    }
   ],
   "source": [
    "//Install XPlot package\n",
    "#r \"nuget: XPlot.Plotly.Interactive,4.0.2\"\n",
    "using XPlot.Plotly;\n",
    "var x= Enumerable.Range(-20, 40);\n",
    "var y = x.Select(t=>t*t+1.0);\n",
    "\n",
    "//create chart\n",
    "var chart = Chart.Plot(new Scatter()\n",
    "                { x = x, y = y, mode = \"lines\", dx=2}\n",
    ");\n",
    "chart.Height=400;\n",
    "chart.Width = 600;\n",
    "var w = chart.Width;\n",
    "display(chart)\n",
    "//chart"
   ]
  },
  {
   "cell_type": "code",
   "execution_count": 5,
   "metadata": {
    "dotnet_interactive": {
     "language": "csharp"
    }
   },
   "outputs": [
    {
     "data": {
      "text/html": [
       "<!DOCTYPE html>\r\n",
       "<div style=\"width: 600px; height: 400px;\" id=\"7aeb9df2-dfdb-4f86-8ee3-3618832ca886\"></div><script type=\"text/javascript\">\r\n",
       "\n",
       "var renderPlotly = function() {\n",
       "    var xplotRequire = require.config({context:'xplot-3.0.1',paths:{plotly:'https://cdn.plot.ly/plotly-1.49.2.min'}}) || require;\n",
       "    xplotRequire(['plotly'], function(Plotly) { \r\n",
       "\n",
       "            var data = [{\"type\":\"histogram\",\"x\":[\"a\",\"b\",\"a\",\"b\",\"b\",\"b\",\"a\",\"b\",\"b\",\"b\",\"a\",\"b\",\"a\",\"b\"],\"name\":\"a\"}];\n",
       "           var layout = \"\";\n",
       "           Plotly.newPlot('7aeb9df2-dfdb-4f86-8ee3-3618832ca886', data, layout);\n",
       "        \r\n",
       "});\n",
       "};\r\n",
       "// ensure `require` is available globally\r\n",
       "if ((typeof(require) !==  typeof(Function)) || (typeof(require.config) !== typeof(Function))) {\r\n",
       "    let require_script = document.createElement('script');\r\n",
       "    require_script.setAttribute('src', 'https://cdnjs.cloudflare.com/ajax/libs/require.js/2.3.6/require.min.js');\r\n",
       "    require_script.setAttribute('type', 'text/javascript');\r\n",
       "    \r\n",
       "    \r\n",
       "    require_script.onload = function() {\r\n",
       "        renderPlotly();\r\n",
       "    };\r\n",
       "\r\n",
       "    document.getElementsByTagName('head')[0].appendChild(require_script);\r\n",
       "}\r\n",
       "else {\r\n",
       "    renderPlotly();\r\n",
       "}\r\n",
       "\r\n",
       "</script>\r\n"
      ]
     },
     "execution_count": 5,
     "metadata": {},
     "output_type": "execute_result"
    }
   ],
   "source": [
    "//PLot support\n",
    "using XPlot.Plotly;\n",
    "\n",
    "var xx = new string[] { \"a\", \"b\", \"a\", \"b\", \"b\", \"b\", \"a\", \"b\", \"b\", \"b\", \"a\", \"b\", \"a\", \"b\" };\n",
    "\n",
    "var chart = Chart.Plot( new Histogram() { x = xx });\n",
    "\n",
    "chart.WithLabels(new string[2]{\"a\",\"b\"});\n",
    "chart.Height=400;\n",
    "chart.Width = 600;\n",
    "chart\n"
   ]
  },
  {
   "cell_type": "markdown",
   "metadata": {
    "slideshow": {
     "slide_type": "slide"
    }
   },
   "source": [
    "## Jupyter Notebook in Action\n",
    "\n",
    "- How to present your research to audience using Jupyter Notebook\n",
    "\n"
   ]
  },
  {
   "cell_type": "markdown",
   "metadata": {
    "slideshow": {
     "slide_type": "slide"
    }
   },
   "source": [
    "# Q&A"
   ]
  },
  {
   "cell_type": "code",
   "execution_count": null,
   "metadata": {
    "dotnet_interactive": {
     "language": "csharp"
    }
   },
   "outputs": [],
   "source": []
  },
  {
   "cell_type": "code",
   "execution_count": null,
   "metadata": {
    "dotnet_interactive": {
     "language": "csharp"
    }
   },
   "outputs": [],
   "source": []
  }
 ],
 "metadata": {
  "celltoolbar": "Slideshow",
  "kernelspec": {
   "display_name": ".NET (C#)",
   "language": "C#",
   "name": ".net-csharp"
  },
  "language_info": {
   "file_extension": ".cs",
   "mimetype": "text/x-csharp",
   "name": "C#",
   "pygments_lexer": "csharp",
   "version": "9.0"
  }
 },
 "nbformat": 4,
 "nbformat_minor": 2
}
