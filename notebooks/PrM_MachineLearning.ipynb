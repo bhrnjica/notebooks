{
 "cells": [
  {
   "cell_type": "code",
   "execution_count": 1,
   "metadata": {},
   "outputs": [
    {
     "ename": "SyntaxError",
     "evalue": "invalid syntax (<ipython-input-1-a94f6d6beef0>, line 4)",
     "output_type": "error",
     "traceback": [
      "\u001b[1;36m  File \u001b[1;32m\"<ipython-input-1-a94f6d6beef0>\"\u001b[1;36m, line \u001b[1;32m4\u001b[0m\n\u001b[1;33m    //Install Daany packages\u001b[0m\n\u001b[1;37m     ^\u001b[0m\n\u001b[1;31mSyntaxError\u001b[0m\u001b[1;31m:\u001b[0m invalid syntax\n"
     ]
    }
   ],
   "source": [
    "#r \"nuget:Microsoft.ML\"\n",
    "#r \"nuget:Microsoft.ML.LightGbm\"\n",
    "    \n",
    "//Install Daany packages\n",
    "#r \"nuget:Daany.DataFrame\"\n",
    "#r \"nuget:Daany.DataFrame.Ext\"\n",
    "#r \"nuget:Daany.Stat\"\n",
    "    \n",
    "//Install XPlot package\n",
    "#r \"nuget:XPlot.Plotly\""
   ]
  },
  {
   "cell_type": "markdown",
   "metadata": {},
   "source": [
    "# Building Predictive Maintenance Model Using ML.NET"
   ]
  },
  {
   "cell_type": "markdown",
   "metadata": {},
   "source": [
    "## Summary\n",
    "This C# notebook is a continuation from the previous blog post [Predictive Maintenance on .NET Platform](https://bhrnjica.net/2019/12/04/predictive-maintenance-on-net-platform/).\n",
    "\n",
    "The notebook is completely implemented on .NET platform using `C# Jupyter Notebook` and `Daany` - C# data analytics library. There are small differences between this notebook and the notebooks at the official azure gallery portal, but in most cases, the code follows the steps defined there.\n",
    "\n",
    "The notebook shows how to use `.NET Jupyter Notebook` with `Daany.DataFrame` and `ML.NET` in order to prepare the data and build the Predictive Maintenance Model on .NET platform.  "
   ]
  },
  {
   "cell_type": "markdown",
   "metadata": {},
   "source": [
    "## Description\n",
    "\n",
    "In the previous post, we analyzed 5 data sets with information about `telemetry`, `data`, `errors` and `maintenance` as well as `failure` for 100 machines. The data were transformed and analyzed in order to create the final data set for building a machine learning model for Predictive maintenance.\n",
    "\n",
    "Once we created all features from the data sets, as a final step we created the label column so that it describes if a certain machine will fail in the next 24 hours due to failure a `component1`, `component2`, `component3`, `component4` or it will continue to work.\n",
    ".\n",
    "In this part, we are going to perform a part of the machine learning task and start training a machine learning model for predicting if a certain machine will fail in the next 24 hours due to failure, or it will be in functioning normal in that time period. \n",
    "\n",
    "The model which we are going to build is multiclass classification model sice it has 5 values to predict: \n",
    "- `component1`,\n",
    "- `component2`, \n",
    "- `component3`, \n",
    "- `component4` or\n",
    "- `none` - means it will continue to work."
   ]
  },
  {
   "cell_type": "markdown",
   "metadata": {},
   "source": [
    "# ML.NET framework as librabry for training\n",
    "\n",
    "In order to train the model, we are going to use ML.NET - Microsoft open source framerowkr for Machine Leanirng on .NET Platform. \n",
    "First we need to put some preparation codes like:\n",
    "- Required Nuget packages,\n",
    "- Set of using statements and code for formatting the output:\n",
    "\n",
    "At the beggining of this notebook, we installed the several NugetPackages in order to complete this notebook. The following code shows using statements, and method for formatting the data from the DataFrame."
   ]
  },
  {
   "cell_type": "code",
   "execution_count": 2,
   "metadata": {},
   "outputs": [],
   "source": [
    "//using Microsoft.ML.Data;\n",
    "using XPlot.Plotly;\n",
    "using System;\n",
    "using System.Collections.Generic;\n",
    "using System.Drawing;\n",
    "using System.Linq;\n",
    "\n",
    "//\n",
    "using Microsoft.ML;\n",
    "using Microsoft.ML;\n",
    "using Microsoft.ML.Data;\n",
    "using Microsoft.ML.Transforms;\n",
    "using Microsoft.ML.Trainers.LightGbm;\n",
    "//\n",
    "using Daany;\n",
    "using Daany.Ext;\n",
    "//DataFrame formatter\n",
    "using Microsoft.AspNetCore.Html;\n",
    "Formatter<DataFrame>.Register((df, writer) =>\n",
    "{\n",
    "    var headers = new List<IHtmlContent>();\n",
    "    headers.Add(th(i(\"index\")));\n",
    "    headers.AddRange(df.Columns.Select(c => (IHtmlContent) th(c)));\n",
    "    \n",
    "    //renders the rows\n",
    "    var rows = new List<List<IHtmlContent>>();\n",
    "    var take = 20;\n",
    "    \n",
    "    //\n",
    "    for (var i = 0; i < Math.Min(take, df.RowCount()); i++)\n",
    "    {\n",
    "        var cells = new List<IHtmlContent>();\n",
    "        cells.Add(td(df.Index[i]));\n",
    "        foreach (var obj in df[i])\n",
    "        {\n",
    "            cells.Add(td(obj));\n",
    "        }\n",
    "        rows.Add(cells);\n",
    "    }\n",
    "    \n",
    "    var t = table(\n",
    "        thead(\n",
    "            headers),\n",
    "        tbody(\n",
    "            rows.Select(\n",
    "                r => tr(r))));\n",
    "    \n",
    "    writer.Write(t);\n",
    "}, \"text/html\");"
   ]
  },
  {
   "cell_type": "markdown",
   "metadata": {},
   "source": [
    "Once we install the Nuget packages and define using statements we are going to define a class we need to create an ML.NET pipeline.\n",
    "\n",
    "The class `PrMaintenanceClass` - contains the features (properties) we build in the previous post. We need them to define features in the ML.NET pipeline. The second class we defined is `PrMaintenancePrediction` we used for prediction and model evaluation."
   ]
  },
  {
   "cell_type": "code",
   "execution_count": 3,
   "metadata": {},
   "outputs": [],
   "source": [
    "class PrMaintenancePrediction\n",
    "{\n",
    "    [ColumnName(\"PredictedLabel\")]\n",
    "    public string failure { get; set; }\n",
    "}\n",
    "class PrMaintenanceClass\n",
    "{\n",
    "    public DateTime datetime { get; set; }\n",
    "    public int machineID { get; set; }\n",
    "    public float voltmean_3hrs { get; set; }\n",
    "    public float rotatemean_3hrs { get; set; }\n",
    "    public float pressuremean_3hrs { get; set; }\n",
    "    public float vibrationmean_3hrs { get; set; }\n",
    "    public float voltstd_3hrs { get; set; }\n",
    "    public float rotatestd_3hrs { get; set; }\n",
    "    public float pressurestd_3hrs { get; set; }\n",
    "    public float vibrationstd_3hrs { get; set; }\n",
    "    public float voltmean_24hrs { get; set; }\n",
    "    public float rotatemean_24hrs { get; set; }\n",
    "    public float pressuremean_24hrs { get; set; }\n",
    "    public float vibrationmean_24hrs { get; set; }\n",
    "    public float voltstd_24hrs { get; set; }\n",
    "    public float rotatestd_24hrs { get; set; }\n",
    "    public float pressurestd_24hrs { get; set; }\n",
    "    public float vibrationstd_24hrs { get; set; }\n",
    "    public float error1count { get; set; }\n",
    "    public float error2count { get; set; }\n",
    "    public float error3count { get; set; }\n",
    "    public float error4count { get; set; }\n",
    "    public float error5count { get; set; }\n",
    "    public float sincelastcomp1 { get; set; }\n",
    "    public float sincelastcomp2 { get; set; }\n",
    "    public float sincelastcomp3 { get; set; }\n",
    "    public float sincelastcomp4 { get; set; }\n",
    "    public string model { get; set; }\n",
    "    public float age { get; set; }\n",
    "    public string failure { get; set; }\n",
    "}"
   ]
  },
  {
   "cell_type": "markdown",
   "metadata": {},
   "source": [
    "Now that we have defined a class type, we are going to implement the pipleine for this ml model.First, we create `MLContext` with constant seed, so that the model can be reproduced by any user running this notebook. Then we load the data and split the data into train and test set."
   ]
  },
  {
   "cell_type": "code",
   "execution_count": 4,
   "metadata": {},
   "outputs": [],
   "source": [
    "MLContext mlContext= new MLContext(seed:88888);\n",
    "var strPath=\"data/final_dataFrame.csv\";\n",
    "var mlDF= DataFrame.FromCsv(strPath);\n",
    "//\n",
    "//split data frame on training and testing part\n",
    "//split at 2015-08-01 00:00:00, to train on the first 8 months and test on last 4 months\n",
    "var trainDF = mlDF.Filter(\"datetime\", new DateTime(2015, 08, 1, 1, 0, 0), FilterOperator.LessOrEqual);\n",
    "var testDF = mlDF.Filter(\"datetime\", new DateTime(2015, 08, 1, 1, 0, 0), FilterOperator.Greather);"
   ]
  },
  {
   "cell_type": "code",
   "execution_count": 5,
   "metadata": {},
   "outputs": [
    {
     "data": {
      "text/html": [
       "<table><thead><th><i>index</i></th><th>machineID</th><th>voltmean_3hrs</th><th>rotatemean_3hrs</th><th>pressuremean_3hrs</th><th>vibrationmean_3hrs</th><th>voltsd_3hrs</th><th>rotatesd_3hrs</th><th>pressuresd_3hrs</th><th>vibrationsd_3hrs</th><th>voltmean_24hrs</th><th>rotatemean_24hrs</th><th>pressuremean_24hrs</th><th>vibrationmean_24hrs</th><th>voltsd_24hrs</th><th>rotatesd_24hrs</th><th>pressuresd_24hrs</th><th>vibrationsd_24hrs</th><th>error1count</th><th>error2count</th><th>error3count</th><th>error4count</th><th>error5count</th><th>sincelastcomp1</th><th>sincelastcomp2</th><th>sincelastcomp3</th><th>sincelastcomp4</th><th>age</th></thead><tbody><tr><td>Count</td><td>168876</td><td>168876</td><td>168876</td><td>168876</td><td>168876</td><td>168876</td><td>168876</td><td>168876</td><td>168876</td><td>168876</td><td>168876</td><td>168876</td><td>168876</td><td>168876</td><td>168876</td><td>168876</td><td>168876</td><td>168876</td><td>168876</td><td>168876</td><td>168876</td><td>168876</td><td>168876</td><td>168876</td><td>168876</td><td>168876</td><td>168876</td></tr><tr><td>Unique</td><td>100</td><td>162187</td><td>164744</td><td>163901</td><td>163802</td><td>162187</td><td>164744</td><td>163901</td><td>163802</td><td>151923</td><td>158491</td><td>155825</td><td>156039</td><td>166584</td><td>166607</td><td>166126</td><td>163498</td><td>3</td><td>3</td><td>3</td><td>3</td><td>3</td><td>3166</td><td>2792</td><td>2968</td><td>2680</td><td>20</td></tr><tr><td>Top</td><td>22</td><td>175.460434</td><td>477.667084</td><td>103.714561</td><td>37.233704</td><td>175.460434</td><td>477.667084</td><td>103.714561</td><td>37.233704</td><td>172.87442</td><td>454.052643</td><td>99.487488</td><td>40.20649</td><td>18.003925</td><td>53.94923</td><td>8.729134</td><td>5.07115</td><td>0</td><td>0</td><td>0</td><td>0</td><td>0</td><td>4.958333</td><td>0.958333</td><td>0.083333</td><td>0.083333</td><td>14</td></tr><tr><td>Freq</td><td>1703</td><td>4</td><td>4</td><td>4</td><td>4</td><td>4</td><td>4</td><td>4</td><td>4</td><td>5</td><td>4</td><td>5</td><td>5</td><td>3</td><td>3</td><td>3</td><td>4</td><td>164132</td><td>164458</td><td>164826</td><td>165640</td><td>167118</td><td>398</td><td>443</td><td>409</td><td>409</td><td>23682</td></tr><tr><td>Mean</td><td>50.492231</td><td>170.799561</td><td>446.600098</td><td>100.815468</td><td>40.394905</td><td>170.799561</td><td>446.600098</td><td>100.815468</td><td>40.394905</td><td>170.805573</td><td>446.601318</td><td>100.81736</td><td>40.395767</td><td>14.90595</td><td>49.911221</td><td>10.036919</td><td>4.998013</td><td>0.028441</td><td>0.026605</td><td>0.024124</td><td>0.01931</td><td>0.010493</td><td>60.348289</td><td>59.665043</td><td>61.300648</td><td>60.179634</td><td>11.331788</td></tr><tr><td>Std</td><td>28.872004</td><td>9.503836</td><td>33.04018</td><td>7.368439</td><td>3.480648</td><td>9.503836</td><td>33.04018</td><td>7.368439</td><td>3.480648</td><td>4.760393</td><td>18.012669</td><td>4.692562</td><td>2.077442</td><td>2.269454</td><td>7.690305</td><td>1.702571</td><td>0.803144</td><td>0.168318</td><td>0.163664</td><td>0.154359</td><td>0.138684</td><td>0.102707</td><td>69.981432</td><td>69.818737</td><td>68.87872</td><td>65.756215</td><td>5.827269</td></tr><tr><td>Min</td><td>1</td><td>125.532501</td><td>219.152267</td><td>72.118637</td><td>26.569635</td><td>125.532501</td><td>219.152267</td><td>72.118637</td><td>26.569635</td><td>156.284729</td><td>267.938446</td><td>90.352638</td><td>35.253277</td><td>6.63169</td><td>22.349758</td><td>4.433239</td><td>2.107598</td><td>0</td><td>0</td><td>0</td><td>0</td><td>0</td><td>0.083333</td><td>0.083333</td><td>0.083333</td><td>0.083333</td><td>0</td></tr><tr><td>25%</td><td>25</td><td>164.480766</td><td>427.591972</td><td>96.217316</td><td>38.156631</td><td>164.480766</td><td>427.591972</td><td>96.217316</td><td>38.156631</td><td>168.073498</td><td>441.476715</td><td>98.654911</td><td>39.366099</td><td>13.329696</td><td>44.635914</td><td>8.919842</td><td>4.45405</td><td>0</td><td>0</td><td>0</td><td>0</td><td>0</td><td>13.458333</td><td>12.208333</td><td>13.458333</td><td>13.333333</td><td>7</td></tr><tr><td>Median</td><td>50</td><td>170.446716</td><td>448.414551</td><td>100.204285</td><td>40.152775</td><td>170.446716</td><td>448.414551</td><td>100.204285</td><td>40.152775</td><td>170.229919</td><td>449.176208</td><td>100.083374</td><td>40.077965</td><td>14.845225</td><td>49.580578</td><td>9.913457</td><td>4.952832</td><td>0</td><td>0</td><td>0</td><td>0</td><td>0</td><td>34.208332</td><td>31.083334</td><td>34.958332</td><td>34.208332</td><td>12</td></tr><tr><td>75%</td><td>75</td><td>176.613708</td><td>468.372093</td><td>104.362736</td><td>42.22999</td><td>176.613708</td><td>468.372093</td><td>104.362736</td><td>42.22999</td><td>172.474007</td><td>456.397896</td><td>101.588448</td><td>40.835839</td><td>16.396019</td><td>54.748691</td><td>10.968109</td><td>5.483441</td><td>0</td><td>0</td><td>0</td><td>0</td><td>0</td><td>76.958336</td><td>75.833336</td><td>79.083336</td><td>82.489586</td><td>16</td></tr><tr><td>Max</td><td>100</td><td>241.420715</td><td>584.83075</td><td>162.29805</td><td>69.311325</td><td>241.420715</td><td>584.83075</td><td>162.29805</td><td>69.311325</td><td>220.569061</td><td>493.554901</td><td>152.314606</td><td>61.259308</td><td>27.539467</td><td>100.707497</td><td>24.078493</td><td>11.234724</td><td>2</td><td>2</td><td>2</td><td>2</td><td>2</td><td>395.708344</td><td>348.958344</td><td>370.958344</td><td>334.958344</td><td>20</td></tr></tbody></table>"
      ]
     },
     "execution_count": 5,
     "metadata": {},
     "output_type": "execute_result"
    }
   ],
   "source": [
    "trainDF.Describe()"
   ]
  },
  {
   "cell_type": "code",
   "execution_count": 6,
   "metadata": {},
   "outputs": [
    {
     "data": {
      "text/html": [
       "<table><thead><th><i>index</i></th><th>machineID</th><th>voltmean_3hrs</th><th>rotatemean_3hrs</th><th>pressuremean_3hrs</th><th>vibrationmean_3hrs</th><th>voltsd_3hrs</th><th>rotatesd_3hrs</th><th>pressuresd_3hrs</th><th>vibrationsd_3hrs</th><th>voltmean_24hrs</th><th>rotatemean_24hrs</th><th>pressuremean_24hrs</th><th>vibrationmean_24hrs</th><th>voltsd_24hrs</th><th>rotatesd_24hrs</th><th>pressuresd_24hrs</th><th>vibrationsd_24hrs</th><th>error1count</th><th>error2count</th><th>error3count</th><th>error4count</th><th>error5count</th><th>sincelastcomp1</th><th>sincelastcomp2</th><th>sincelastcomp3</th><th>sincelastcomp4</th><th>age</th></thead><tbody><tr><td>Count</td><td>122752</td><td>122752</td><td>122752</td><td>122752</td><td>122752</td><td>122752</td><td>122752</td><td>122752</td><td>122752</td><td>122752</td><td>122752</td><td>122752</td><td>122752</td><td>122752</td><td>122752</td><td>122752</td><td>122752</td><td>122752</td><td>122752</td><td>122752</td><td>122752</td><td>122752</td><td>122752</td><td>122752</td><td>122752</td><td>122752</td><td>122752</td></tr><tr><td>Unique</td><td>100</td><td>119141</td><td>120591</td><td>119995</td><td>120053</td><td>119141</td><td>120591</td><td>119995</td><td>120053</td><td>113330</td><td>116904</td><td>115881</td><td>115826</td><td>121427</td><td>121494</td><td>121206</td><td>119781</td><td>3</td><td>3</td><td>3</td><td>3</td><td>3</td><td>2588</td><td>1800</td><td>1920</td><td>2994</td><td>20</td></tr><tr><td>Top</td><td>13</td><td>174.895172</td><td>471.315857</td><td>100.375046</td><td>39.443283</td><td>174.895172</td><td>471.315857</td><td>100.375046</td><td>39.443283</td><td>170.031601</td><td>446.008667</td><td>101.329124</td><td>40.84037</td><td>14.206243</td><td>45.504265</td><td>10.355402</td><td>4.527656</td><td>0</td><td>0</td><td>0</td><td>0</td><td>0</td><td>0.833333</td><td>2.833333</td><td>14.833333</td><td>14.833333</td><td>14</td></tr><tr><td>Freq</td><td>1242</td><td>4</td><td>4</td><td>4</td><td>3</td><td>4</td><td>4</td><td>4</td><td>3</td><td>4</td><td>4</td><td>4</td><td>4</td><td>3</td><td>3</td><td>3</td><td>3</td><td>119398</td><td>119167</td><td>119988</td><td>120138</td><td>121495</td><td>305</td><td>327</td><td>307</td><td>312</td><td>17212</td></tr><tr><td>Mean</td><td>50.496318</td><td>170.756744</td><td>446.49057</td><td>100.932724</td><td>40.384457</td><td>170.756744</td><td>446.49057</td><td>100.932724</td><td>40.384457</td><td>170.750656</td><td>446.489044</td><td>100.927963</td><td>40.384068</td><td>14.93679</td><td>50.001114</td><td>10.060551</td><td>5.007632</td><td>0.027788</td><td>0.029433</td><td>0.022941</td><td>0.021474</td><td>0.010273</td><td>44.073059</td><td>40.16396</td><td>40.704807</td><td>44.921112</td><td>11.333632</td></tr><tr><td>Std</td><td>28.865789</td><td>9.515308</td><td>33.404365</td><td>7.509693</td><td>3.491901</td><td>9.515308</td><td>33.404365</td><td>7.509693</td><td>3.491901</td><td>4.712856</td><td>18.473802</td><td>4.860883</td><td>2.07145</td><td>2.248045</td><td>7.690313</td><td>1.725013</td><td>0.794275</td><td>0.167166</td><td>0.170363</td><td>0.152518</td><td>0.146191</td><td>0.101156</td><td>48.804064</td><td>37.297347</td><td>37.872459</td><td>48.634826</td><td>5.826362</td></tr><tr><td>Min</td><td>1</td><td>132.588959</td><td>211.811188</td><td>74.875999</td><td>27.682785</td><td>132.588959</td><td>211.811188</td><td>74.875999</td><td>27.682785</td><td>157.193085</td><td>267.008148</td><td>91.159561</td><td>36.023071</td><td>6.502827</td><td>19.83952</td><td>4.445923</td><td>2.275665</td><td>0</td><td>0</td><td>0</td><td>0</td><td>0</td><td>0.083333</td><td>0.083333</td><td>0.083333</td><td>0.083333</td><td>0</td></tr><tr><td>25%</td><td>25</td><td>164.39756</td><td>427.401917</td><td>96.265844</td><td>38.13948</td><td>164.39756</td><td>427.401917</td><td>96.265844</td><td>38.13948</td><td>168.064827</td><td>441.647293</td><td>98.692015</td><td>39.345946</td><td>13.39748</td><td>44.716764</td><td>8.930172</td><td>4.471256</td><td>0</td><td>0</td><td>0</td><td>0</td><td>0</td><td>13.208333</td><td>11.958333</td><td>12.833333</td><td>12.708333</td><td>7</td></tr><tr><td>Median</td><td>50</td><td>170.425323</td><td>448.273499</td><td>100.27816</td><td>40.144547</td><td>170.425323</td><td>448.273499</td><td>100.27816</td><td>40.144547</td><td>170.188446</td><td>449.207001</td><td>100.119148</td><td>40.062256</td><td>14.870501</td><td>49.668045</td><td>9.935278</td><td>4.964489</td><td>0</td><td>0</td><td>0</td><td>0</td><td>0</td><td>30.958334</td><td>28.458334</td><td>29.583334</td><td>30.458334</td><td>12</td></tr><tr><td>75%</td><td>76</td><td>176.617683</td><td>468.522041</td><td>104.471903</td><td>42.23519</td><td>176.617683</td><td>468.522041</td><td>104.471903</td><td>42.23519</td><td>172.434006</td><td>456.321007</td><td>101.653372</td><td>40.830544</td><td>16.396651</td><td>54.883877</td><td>11.000475</td><td>5.48524</td><td>0</td><td>0</td><td>0</td><td>0</td><td>0</td><td>59.958332</td><td>57.583332</td><td>56.833332</td><td>60.083332</td><td>16</td></tr><tr><td>Max</td><td>100</td><td>234.51091</td><td>586.682861</td><td>162.309662</td><td>65.522766</td><td>234.51091</td><td>586.682861</td><td>162.309662</td><td>65.522766</td><td>218.996292</td><td>499.288788</td><td>152.660904</td><td>61.85284</td><td>27.914051</td><td>105.326447</td><td>28.867737</td><td>12.609035</td><td>2</td><td>2</td><td>2</td><td>2</td><td>2</td><td>491.958344</td><td>224.958328</td><td>239.958328</td><td>394.958344</td><td>20</td></tr></tbody></table>"
      ]
     },
     "execution_count": 6,
     "metadata": {},
     "output_type": "execute_result"
    }
   ],
   "source": [
    "testDF.Describe()"
   ]
  },
  {
   "cell_type": "markdown",
   "metadata": {},
   "source": [
    "Once we have data into application memory, we can prepare the ML.NET pipeline. The pipeline consists of data transformation from the `Daany.DataFrame` type into collection `IDataView`. For this task, the `LoadFromEnumerable` method is used."
   ]
  },
  {
   "cell_type": "code",
   "execution_count": 7,
   "metadata": {},
   "outputs": [],
   "source": [
    "//Load daany:DataFrame into ML.NET pipeline\n",
    "public static IDataView loadFromDataFrame(MLContext mlContext,Daany.DataFrame df)\n",
    "{\n",
    "    IDataView dataView = mlContext.Data.LoadFromEnumerable<PrMaintenanceClass>(df.GetEnumerator<PrMaintenanceClass>(oRow =>\n",
    "    {\n",
    "        //convert row object array into PrManitenance row\n",
    "        var ooRow = oRow;\n",
    "        var prRow = new PrMaintenanceClass();\n",
    "        prRow.datetime = (DateTime)ooRow[\"datetime\"];\n",
    "        prRow.machineID = (int)ooRow[\"machineID\"];\n",
    "        prRow.voltmean_3hrs = Convert.ToSingle(ooRow[\"voltmean_3hrs\"]);\n",
    "        prRow.rotatemean_3hrs = Convert.ToSingle(ooRow[\"rotatemean_3hrs\"]);\n",
    "        prRow.pressuremean_3hrs = Convert.ToSingle(ooRow[\"pressuremean_3hrs\"]);\n",
    "        prRow.vibrationmean_3hrs = Convert.ToSingle(ooRow[\"vibrationmean_3hrs\"]);\n",
    "        prRow.voltstd_3hrs = Convert.ToSingle(ooRow[\"voltsd_3hrs\"]);\n",
    "        prRow.rotatestd_3hrs = Convert.ToSingle(ooRow[\"rotatesd_3hrs\"]);\n",
    "        prRow.pressurestd_3hrs = Convert.ToSingle(ooRow[\"pressuresd_3hrs\"]);\n",
    "        prRow.vibrationstd_3hrs = Convert.ToSingle(ooRow[\"vibrationsd_3hrs\"]);\n",
    "        prRow.voltmean_24hrs = Convert.ToSingle(ooRow[\"voltmean_24hrs\"]);\n",
    "        prRow.rotatemean_24hrs = Convert.ToSingle(ooRow[\"rotatemean_24hrs\"]);\n",
    "        prRow.pressuremean_24hrs = Convert.ToSingle(ooRow[\"pressuremean_24hrs\"]);\n",
    "        prRow.vibrationmean_24hrs = Convert.ToSingle(ooRow[\"vibrationmean_24hrs\"]);\n",
    "        prRow.voltstd_24hrs = Convert.ToSingle(ooRow[\"voltsd_24hrs\"]);\n",
    "        prRow.rotatestd_24hrs = Convert.ToSingle(ooRow[\"rotatesd_24hrs\"]);\n",
    "        prRow.pressurestd_24hrs = Convert.ToSingle(ooRow[\"pressuresd_24hrs\"]);\n",
    "        prRow.vibrationstd_24hrs = Convert.ToSingle(ooRow[\"vibrationsd_24hrs\"]);\n",
    "        prRow.error1count = Convert.ToSingle(ooRow[\"error1count\"]);\n",
    "        prRow.error2count = Convert.ToSingle(ooRow[\"error2count\"]);\n",
    "        prRow.error3count = Convert.ToSingle(ooRow[\"error3count\"]);\n",
    "        prRow.error4count = Convert.ToSingle(ooRow[\"error4count\"]);\n",
    "        prRow.error5count = Convert.ToSingle(ooRow[\"error5count\"]);\n",
    "        prRow.sincelastcomp1 = Convert.ToSingle(ooRow[\"sincelastcomp1\"]);\n",
    "        prRow.sincelastcomp2 = Convert.ToSingle(ooRow[\"sincelastcomp2\"]);\n",
    "        prRow.sincelastcomp3 = Convert.ToSingle(ooRow[\"sincelastcomp3\"]);\n",
    "        prRow.sincelastcomp4 = Convert.ToSingle(ooRow[\"sincelastcomp4\"]);\n",
    "        prRow.model = (string)ooRow[\"model\"];\n",
    "        prRow.age = Convert.ToSingle(ooRow[\"age\"]);\n",
    "        prRow.failure = (string)ooRow[\"failure\"];\n",
    "        //\n",
    "        return prRow;\n",
    "    }));\n",
    "            \n",
    "    return dataView;\n",
    "}"
   ]
  },
  {
   "cell_type": "code",
   "execution_count": 8,
   "metadata": {},
   "outputs": [],
   "source": [
    "//Split dataset in two parts: TrainingDataset  and TestDataset          \n",
    "var trainData = loadFromDataFrame(mlContext, trainDF);\n",
    "var testData = loadFromDataFrame(mlContext, testDF);"
   ]
  },
  {
   "cell_type": "markdown",
   "metadata": {},
   "source": [
    "Prior to start training we need to process that data, so that we encoded all non-numerical columns into numerical columns. Also we need to define which columns are going to be part of the `Features`and which one will be label. For this reason we define `PrepareData` method. "
   ]
  },
  {
   "cell_type": "code",
   "execution_count": 9,
   "metadata": {},
   "outputs": [],
   "source": [
    "public static IEstimator<ITransformer> PrepareData(MLContext mlContext)\n",
    "{\n",
    "    //one hot encoding category column\n",
    "    IEstimator<ITransformer> dataPipeline =\n",
    "\n",
    "    mlContext.Transforms.Conversion.MapValueToKey(outputColumnName: \"Label\", inputColumnName: nameof(PrMaintenanceClass.failure))\n",
    "    //encode model column\n",
    "    .Append(mlContext.Transforms.Categorical.OneHotEncoding(\"model\",outputKind: OneHotEncodingEstimator.OutputKind.Indicator))\n",
    "\n",
    "    //define features column\n",
    "    .Append(mlContext.Transforms.Concatenate(\"Features\",\n",
    "    // \n",
    "    nameof(PrMaintenanceClass.voltmean_3hrs), nameof(PrMaintenanceClass.rotatemean_3hrs),\n",
    "    nameof(PrMaintenanceClass.pressuremean_3hrs),nameof(PrMaintenanceClass.vibrationmean_3hrs),\n",
    "    nameof(PrMaintenanceClass.voltstd_3hrs), nameof(PrMaintenanceClass.rotatestd_3hrs), \n",
    "    nameof(PrMaintenanceClass.pressurestd_3hrs), nameof(PrMaintenanceClass.vibrationstd_3hrs), \n",
    "    nameof(PrMaintenanceClass.voltmean_24hrs),nameof(PrMaintenanceClass.rotatemean_24hrs),\n",
    "    nameof(PrMaintenanceClass.pressuremean_24hrs),nameof(PrMaintenanceClass.vibrationmean_24hrs), \n",
    "    nameof(PrMaintenanceClass.voltstd_24hrs),nameof(PrMaintenanceClass.rotatestd_24hrs),\n",
    "    nameof(PrMaintenanceClass.pressurestd_24hrs),nameof(PrMaintenanceClass.vibrationstd_24hrs), \n",
    "    nameof(PrMaintenanceClass.error1count), nameof(PrMaintenanceClass.error2count),\n",
    "    nameof(PrMaintenanceClass.error3count), nameof(PrMaintenanceClass.error4count), \n",
    "    nameof(PrMaintenanceClass.error5count), nameof(PrMaintenanceClass.sincelastcomp1),\n",
    "    nameof(PrMaintenanceClass.sincelastcomp2),nameof(PrMaintenanceClass.sincelastcomp3),\n",
    "    nameof(PrMaintenanceClass.sincelastcomp4),nameof(PrMaintenanceClass.model), nameof(PrMaintenanceClass.age) ));\n",
    "\n",
    "    return dataPipeline;\n",
    "}"
   ]
  },
  {
   "cell_type": "markdown",
   "metadata": {},
   "source": [
    "As can be seen, the method converts the label column `failure` which is a simple textual column into categorical columns containing numerical representation for each different category called `Keys`.\n",
    "\n",
    "Now that we have finished with data transformation, we are going to define the `Train` method which is going to implement ML algorithm, hyperparameters for it and training process. Once we call this method the method will return the trained model."
   ]
  },
  {
   "cell_type": "code",
   "execution_count": 10,
   "metadata": {},
   "outputs": [],
   "source": [
    "//train method\n",
    "static public TransformerChain<ITransformer> Train(MLContext mlContext, IDataView preparedData)\n",
    "{\n",
    "    var transformationPipeline=PrepareData(mlContext);\n",
    "    //settings hyper parameters\n",
    "    var options = new LightGbmMulticlassTrainer.Options();\n",
    "    options.FeatureColumnName = \"Features\";\n",
    "    options.LearningRate = 0.005;\n",
    "    options.NumberOfLeaves = 70;\n",
    "    options.NumberOfIterations = 2000;\n",
    "    options.NumberOfLeaves = 50;\n",
    "    options.UnbalancedSets = true;\n",
    "    //\n",
    "    var boost = new DartBooster.Options();\n",
    "    boost.XgboostDartMode = true;\n",
    "    boost.MaximumTreeDepth = 25;\n",
    "    options.Booster = boost;\n",
    "    \n",
    "    // Define LightGbm algorithm estimator\n",
    "    IEstimator<ITransformer> lightGbm = mlContext.MulticlassClassification.Trainers.LightGbm(options);\n",
    "\n",
    "    //train the ML model\n",
    "    TransformerChain<ITransformer> model = transformationPipeline.Append(lightGbm).Fit(preparedData);\n",
    "\n",
    "    //return trained model for evaluation\n",
    "    return model;\n",
    "}"
   ]
  },
  {
   "cell_type": "markdown",
   "metadata": {},
   "source": [
    "# Training proces and model evaluation\n",
    "\n",
    "Since we have all rquired methods, the main program structure looks like:\n"
   ]
  },
  {
   "cell_type": "code",
   "execution_count": 11,
   "metadata": {},
   "outputs": [],
   "source": [
    "//prepare data transformation pipeline\n",
    "var dataPipeline = PrepareData(mlContext);\n",
    "\n",
    "//print prepared data\n",
    "var pp = dataPipeline.Fit(trainData);\n",
    "var transformedData = pp.Transform(trainData);"
   ]
  },
  {
   "cell_type": "code",
   "execution_count": null,
   "metadata": {},
   "outputs": [],
   "source": [
    "//train the model\n",
    "var model = Train(mlContext, trainData);"
   ]
  },
  {
   "cell_type": "markdown",
   "metadata": {},
   "source": [
    "Once the `Train` method retrns the model, the evaluation phase started. In order to evaluate model, we performe full evaluation with trainig and testing data. "
   ]
  },
  {
   "cell_type": "markdown",
   "metadata": {},
   "source": [
    "# Model Evaluation with train data set"
   ]
  },
  {
   "cell_type": "code",
   "execution_count": null,
   "metadata": {},
   "outputs": [],
   "source": [
    "//evaluate train set\n",
    "var predictions = model.Transform(trainData);\n",
    "var metricsTrain = mlContext.MulticlassClassification.Evaluate(predictions);"
   ]
  },
  {
   "cell_type": "code",
   "execution_count": null,
   "metadata": {},
   "outputs": [],
   "source": [
    "ConsoleHelper.PrintMultiClassClassificationMetrics(\"TRAIN DataSet\", metricsTrain);\n",
    "ConsoleHelper.ConsoleWriteHeader(\"Train DataSet Confusion Matrix \");\n",
    "ConsoleHelper.ConsolePrintConfusionMatrix(metricsTrain.ConfusionMatrix);\n"
   ]
  },
  {
   "cell_type": "markdown",
   "metadata": {},
   "source": [
    "As can be seen the model predict the values corectly in most cases in the traini dataset. Now lets see how the model predict the data which have not been part of the raining process."
   ]
  },
  {
   "cell_type": "markdown",
   "metadata": {},
   "source": [
    "# Model evaluation with test data set"
   ]
  },
  {
   "cell_type": "code",
   "execution_count": null,
   "metadata": {},
   "outputs": [],
   "source": [
    "//evaluate test set\n",
    "var testPrediction = model.Transform(testData);\n",
    "var metricsTest = mlContext.MulticlassClassification.Evaluate(testPrediction);\n",
    "ConsoleHelper.PrintMultiClassClassificationMetrics(\"Test Dataset\", metricsTest);\n",
    "\n",
    "ConsoleHelper.ConsoleWriteHeader(\"Test DataSet Confusion Matrix \");\n",
    "ConsoleHelper.ConsolePrintConfusionMatrix(metricsTest.ConfusionMatrix);"
   ]
  },
  {
   "cell_type": "markdown",
   "metadata": {},
   "source": [
    "We can see, that the model has overall accuracy 99%, and 95% average per class accuracy."
   ]
  }
 ],
 "metadata": {
  "kernelspec": {
   "display_name": "Python 3.7.4 64-bit ('ProgramData': virtualenv)",
   "language": "C#",
   "name": "python37464bitprogramdatavirtualenv10affe97317f408c9e96974b00d9b924"
  },
  "language_info": {
   "file_extension": ".cs",
   "mimetype": "text/x-csharp",
   "name": "C#",
   "pygments_lexer": "csharp",
   "version": "3.7.4-final"
  }
 },
 "nbformat": 4,
 "nbformat_minor": 4
}