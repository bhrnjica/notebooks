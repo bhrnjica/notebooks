{
 "cells": [
  {
   "cell_type": "markdown",
   "metadata": {},
   "source": [
    "Note: The .NET Jupyter notebook for this blog post can be found [here](). "
   ]
  },
  {
   "cell_type": "markdown",
   "metadata": {},
   "source": [
    "# Your first data analysis with .NET Jupyter Notebook and  Daany.DataFrame"
   ]
  },
  {
   "cell_type": "code",
   "execution_count": null,
   "metadata": {
    "dotnet_interactive": {
     "language": "csharp"
    }
   },
   "outputs": [
    {
     "data": {
      "text/html": [
       "<div><div></div><div><strong>Installed Packages</strong><ul><li><span>Daany.DataFrame, 1.1.0</span></li><li><span>Daany.DataFrame.Ext, 1.1.0</span></li><li><span>Daany.Stat, 1.1.0</span></li><li><span>fsharp.core, 5.0.2</span></li><li><span>giraffe.viewengine, 1.2.0</span></li><li><span>humanizer.core, 2.2.0</span></li><li><span>markdig.signed, 0.21.1</span></li><li><span>microsoft.applicationinsights, 2.17.0</span></li><li><span>microsoft.applicationinsights.aspnetcore, 2.17.0</span></li><li><span>microsoft.applicationinsights.dependencycollector, 2.17.0</span></li><li><span>microsoft.applicationinsights.eventcountercollector, 2.17.0</span></li><li><span>microsoft.applicationinsights.perfcountercollector, 2.17.0</span></li><li><span>microsoft.applicationinsights.windowsserver, 2.17.0</span></li><li><span>microsoft.applicationinsights.windowsserver.telemetrychannel, 2.17.0</span></li><li><span>microsoft.aspnetcore.http.connections.client, 3.1.8</span></li><li><span>microsoft.aspnetcore.signalr.client, 3.1.8</span></li><li><span>microsoft.aspnetcore.signalr.client.core, 3.1.8</span></li><li><span>microsoft.bcl.asyncinterfaces, 5.0.0</span></li><li><span>microsoft.codeanalysis.common, 3.9.0</span></li><li><span>microsoft.codeanalysis.csharp, 3.9.0</span></li><li><span>microsoft.codeanalysis.csharp.workspaces, 3.9.0</span></li><li><span>microsoft.codeanalysis.visualbasic, 3.9.0</span></li><li><span>microsoft.codeanalysis.visualbasic.workspaces, 3.9.0</span></li><li><span>microsoft.codeanalysis.workspaces.common, 3.9.0</span></li><li><span>microsoft.dotnet.interactive, 1.0.0-beta.21228.1</span></li><li><span>microsoft.dotnet.interactive.formatting, 1.0.0-beta.21228.1</span></li><li><span>microsoft.dotnet.interactive.http, 1.0.0-beta.21228.1</span></li><li><span>microsoft.dotnet.interactive.powershell, 1.0.0-beta.21228.1</span></li><li><span>microsoft.extensions.logging.applicationinsights, 2.17.0</span></li><li><span>microsoft.management.infrastructure.cimcmdlets, 7.1.3</span></li><li><span>microsoft.powershell.commands.diagnostics, 7.1.3</span></li><li><span>microsoft.powershell.commands.management, 7.1.3</span></li><li><span>microsoft.powershell.commands.utility, 7.1.3</span></li><li><span>microsoft.powershell.consolehost, 7.1.3</span></li><li><span>microsoft.powershell.coreclr.eventing, 7.1.3</span></li><li><span>microsoft.powershell.markdownrender, 7.1.3</span></li><li><span>microsoft.powershell.native, 7.1.0</span></li><li><span>microsoft.powershell.sdk, 7.1.3</span></li><li><span>microsoft.powershell.security, 7.1.3</span></li><li><span>microsoft.win32.registry.accesscontrol, 5.0.0</span></li><li><span>microsoft.wsman.management, 7.1.3</span></li><li><span>microsoft.wsman.runtime, 7.1.3</span></li><li><span>namotion.reflection, 1.0.14</span></li><li><span>newtonsoft.json, 12.0.3</span></li><li><span>njsonschema, 10.2.2</span></li><li><span>oxyplot.core, 2.0.0</span></li><li><span>runtime.win-x64.runtime.native.system.data.sqlclient.sni, 4.4.0</span></li><li><span>system.codedom, 5.0.0</span></li><li><span>system.commandline, 2.0.0-beta1.21216.1</span></li><li><span>system.commandline.rendering, 0.3.0-alpha.20427.1</span></li><li><span>system.componentmodel.composition, 5.0.0</span></li><li><span>system.componentmodel.composition.registration, 5.0.0</span></li><li><span>system.composition.attributedmodel, 1.0.31</span></li><li><span>system.composition.convention, 1.0.31</span></li><li><span>system.composition.hosting, 1.0.31</span></li><li><span>system.composition.runtime, 1.0.31</span></li><li><span>system.composition.typedparts, 1.0.31</span></li><li><span>system.configuration.configurationmanager, 5.0.0</span></li><li><span>system.data.odbc, 5.0.0</span></li><li><span>system.data.oledb, 5.0.0</span></li><li><span>system.data.sqlclient, 4.8.2</span></li><li><span>system.diagnostics.eventlog, 5.0.1</span></li><li><span>system.diagnostics.performancecounter, 5.0.0</span></li><li><span>system.directoryservices, 5.0.0</span></li><li><span>system.directoryservices.accountmanagement, 5.0.0</span></li><li><span>system.directoryservices.protocols, 5.0.0</span></li><li><span>system.drawing.common, 5.0.2</span></li><li><span>system.io.packaging, 5.0.0</span></li><li><span>system.io.ports, 5.0.0</span></li><li><span>system.management, 5.0.0</span></li><li><span>system.management.automation, 7.1.3</span></li><li><span>system.net.http.winhttphandler, 5.0.0</span></li><li><span>system.private.servicemodel, 4.7.0</span></li><li><span>system.reactive, 5.0.0</span></li><li><span>system.reflection.context, 5.0.0</span></li><li><span>system.runtime.caching, 5.0.0</span></li><li><span>system.security.cryptography.pkcs, 5.0.1</span></li><li><span>system.security.cryptography.protecteddata, 5.0.0</span></li><li><span>system.servicemodel.duplex, 4.7.0</span></li><li><span>system.servicemodel.http, 4.7.0</span></li><li><span>system.servicemodel.nettcp, 4.7.0</span></li><li><span>system.servicemodel.primitives, 4.7.0</span></li><li><span>system.servicemodel.security, 4.7.0</span></li><li><span>system.servicemodel.syndication, 5.0.0</span></li><li><span>system.serviceprocess.servicecontroller, 5.0.0</span></li><li><span>system.text.encodings.web, 5.0.1</span></li><li><span>system.text.json, 5.0.2</span></li><li><span>system.threading.accesscontrol, 5.0.0</span></li><li><span>xplot.plotly, 4.0.3</span></li><li><span>XPlot.Plotly.Interactive, 4.0.2</span></li></ul></div><div></div></div>"
      ]
     },
     "output_type": "unknown"
    },
    {
     "data": {
      "text/markdown": [
       "Loading extensions from `XPlot.Plotly.Interactive.dll`"
      ]
     },
     "output_type": "unknown"
    },
    {
     "data": {
      "text/markdown": [
       "Configuring PowerShell Kernel for XPlot.Plotly integration."
      ]
     },
     "output_type": "unknown"
    },
    {
     "data": {
      "text/markdown": [
       "Installed support for XPlot.Plotly."
      ]
     },
     "output_type": "unknown"
    }
   ],
   "source": [
    "//Nuget package installation\r\n",
    "#r \"nuget:Daany.DataFrame,1.1.0\"\r\n",
    "#r \"nuget:Daany.DataFrame.Ext,1.1.0\"\r\n",
    "#r \"nuget: Daany.Stat,1.1.0\"\r\n",
    "//Plot capabilities\r\n",
    "#r \"nuget: XPlot.Plotly.Interactive,4.0.2\""
   ]
  },
  {
   "cell_type": "code",
   "execution_count": null,
   "metadata": {
    "dotnet_interactive": {
     "language": "csharp"
    }
   },
   "outputs": [],
   "source": [
    "//using statement of Daany package\r\n",
    "using System;\r\n",
    "using Daany;\r\n",
    "using Daany.MathStuff;\r\n",
    "using Daany.Ext;\r\n",
    "\r\n",
    "//PLot support\r\n",
    "using XPlot.Plotly;\r\n",
    "//custom display implementation\r\n",
    "using static Microsoft.DotNet.Interactive.Formatting.PocketViewTags;\r\n",
    "using Microsoft.AspNetCore.Html;\r\n",
    "using Microsoft.DotNet.Interactive.Formatting;\r\n",
    "using static System.Diagnostics.Debug;\r\n",
    "using System.Globalization;\r\n",
    "\r\n",
    "Formatter.Register<DataFrame>((df, writer) =>\r\n",
    "{\r\n",
    "    var headers = new List<IHtmlContent>();\r\n",
    "\r\n",
    "    headers.Add(th(i($\"({df.Index.Name})\")));\r\n",
    "    headers.AddRange(df.Columns.Select(c => (IHtmlContent) th(c)));\r\n",
    "    \r\n",
    "    //renders the rows\r\n",
    "    var rows = new List<List<IHtmlContent>>();\r\n",
    "    var take = 20;\r\n",
    "    \r\n",
    "    //\r\n",
    "    for (var i = 0; i < Math.Min(take, df.RowCount()); i++)\r\n",
    "    {\r\n",
    "        var cells = new List<IHtmlContent>();\r\n",
    "        cells.Add(td(df.Index[i]));\r\n",
    "        foreach (var obj in df[i])\r\n",
    "        {\r\n",
    "            cells.Add(td(obj));\r\n",
    "        }\r\n",
    "        rows.Add(cells);\r\n",
    "    }\r\n",
    "    \r\n",
    "    var t = table(\r\n",
    "        thead(\r\n",
    "            headers),\r\n",
    "        tbody(\r\n",
    "            rows.Select(\r\n",
    "                r => tr(r))));\r\n",
    "    \r\n",
    "    writer.Write(t);\r\n",
    "}, \"text/html\");\r\n"
   ]
  },
  {
   "cell_type": "markdown",
   "metadata": {},
   "source": [
    "# The Structure of  ```Daany.DataFrame```\n",
    "\n",
    "The main part of ```Daany``` project is ```Daany.DataFrame``` -  an c\\# implementation of a data frame. A data frame is software component used for handling tabular data, especially for data preparation, feature engineering and analysis during development of machine learning models. The concept of `Daany.DataFrame` implementation is based on simplicity and .NET coding standard. It represents tabular data consisting of columns and rows. Each column has name and type and each row has its index and label."
   ]
  },
  {
   "cell_type": "markdown",
   "metadata": {},
   "source": [
    "Usually, rows indicate a `zero` axis, while columns indicate axis `one`.\n",
    "\n",
    "The following image shows a data frame structure\n",
    "\n",
    "![data frame structure](https://bhrnjica.files.wordpress.com/2019/12/daany_data_frame_structure.png)\n",
    "\n",
    "The basic components of the data frame are:\n",
    "\n",
    "-   ```header``` - list of column names,\n",
    "-   ```index```  – list of object representing each row,\n",
    "-   ```data``` – list of values in the data frame,\n",
    "-   ```missing value``` – data with no values in data frame.\n",
    "\n",
    "The image above shows the data frame components visually, and how they are\n",
    "positioned in the data frame."
   ]
  },
  {
   "cell_type": "markdown",
   "metadata": {},
   "source": [
    "# Create Data Frame from a text based file"
   ]
  },
  {
   "cell_type": "markdown",
   "metadata": {},
   "source": [
    "The data we used are stored in files, and they must be load into application memory in order to be analyzed and transformed. Loading data from files by using `Daany.DataFrame` is as easy as calling one method.\n",
    "\n",
    "By using static method ```DataFrame.FromCsv``` a user can create data frame object\n",
    "from the ``csv`` file. Otherwise, data frame can be persisted on disk by calling\n",
    "static method ```DataFrame.ToCsv```. \n",
    "\n",
    "The following code shows how to use static methods ```ToCsv``` and ```FromCsv``` to show persisting and loading data to data frame:"
   ]
  },
  {
   "cell_type": "code",
   "execution_count": null,
   "metadata": {
    "dotnet_interactive": {
     "language": "csharp"
    }
   },
   "outputs": [
    {
     "data": {
      "text/html": [
       "<table><thead><th><i>(index)</i></th><th>ID</th><th>City</th><th>Zip Code</th><th>State</th><th>IsHome</th><th>Values</th><th>Date</th></thead><tbody><tr><td><div class=\"dni-plaintext\">0</div></td><td><div class=\"dni-plaintext\">1</div></td><td>Sarajevo</td><td><div class=\"dni-plaintext\">71000</div></td><td>BiH</td><td>True</td><td><div class=\"dni-plaintext\">3.14</div></td><td><span>2021-06-14 22:19:59Z</span></td></tr><tr><td><div class=\"dni-plaintext\">1</div></td><td><div class=\"dni-plaintext\">2</div></td><td>Seattle</td><td><div class=\"dni-plaintext\">98101</div></td><td>USA</td><td>False</td><td><div class=\"dni-plaintext\">3.21</div></td><td><span>2021-06-24 22:19:59Z</span></td></tr><tr><td><div class=\"dni-plaintext\">2</div></td><td><div class=\"dni-plaintext\">3</div></td><td>Berlin</td><td><div class=\"dni-plaintext\">10115</div></td><td>GER</td><td>False</td><td><div class=\"dni-plaintext\">4.55</div></td><td><span>2021-06-29 22:19:59Z</span></td></tr></tbody></table>"
      ]
     },
     "output_type": "unknown"
    }
   ],
   "source": [
    "string filename = \"df_file.txt\";\n",
    "//define a dictionary of data\n",
    "var dict = new Dictionary<string, List<object>>\n",
    "{\n",
    "    { \"ID\",new List<object>() { 1,2,3} },\n",
    "    { \"City\",new List<object>() { \"Sarajevo\", \"Seattle\", \"Berlin\" } },\n",
    "    { \"Zip Code\",new List<object>() { 71000,98101,10115 } },\n",
    "    { \"State\",new List<object>() {\"BiH\",\"USA\",\"GER\" } },\n",
    "    { \"IsHome\",new List<object>() { true, false, false} },\n",
    "    { \"Values\",new List<object>() { 3.14, 3.21, 4.55 } },\n",
    "    { \"Date\",new List<object>() { DateTime.Now.AddDays(-20) , DateTime.Now.AddDays(-10) , DateTime.Now.AddDays(-5) } },\n",
    "\n",
    "};\n",
    "\n",
    "//create data frame with 3 rows and 7 columns\n",
    "var df = new DataFrame(dict);\n",
    "\n",
    "//first Save data frame on disk and load it\n",
    "DataFrame.ToCsv(filename, df);\n",
    "\n",
    "//create data frame with 3 rows and 7 columns\n",
    "var dfFromFile = DataFrame.FromCsv(filename, sep:',');\n",
    "\n",
    "//show dataframe\n",
    "dfFromFile"
   ]
  },
  {
   "cell_type": "markdown",
   "metadata": {},
   "source": [
    "In case the performance is important, you should pass column types to `FromCSV` method in order to achieve up to 50% of loading time. \n",
    "For example the following code loads the data from the file, by passing predefined column types:"
   ]
  },
  {
   "cell_type": "code",
   "execution_count": null,
   "metadata": {
    "dotnet_interactive": {
     "language": "csharp"
    }
   },
   "outputs": [
    {
     "data": {
      "text/html": [
       "<table><thead><th><i>(index)</i></th><th>ID</th><th>City</th><th>Zip Code</th><th>State</th><th>IsHome</th><th>Values</th><th>Date</th></thead><tbody><tr><td><div class=\"dni-plaintext\">0</div></td><td><div class=\"dni-plaintext\">1</div></td><td>Sarajevo</td><td><div class=\"dni-plaintext\">71000</div></td><td>BiH</td><td><div class=\"dni-plaintext\">True</div></td><td><div class=\"dni-plaintext\">3.14</div></td><td><span>2021-06-14 22:19:59Z</span></td></tr><tr><td><div class=\"dni-plaintext\">1</div></td><td><div class=\"dni-plaintext\">2</div></td><td>Seattle</td><td><div class=\"dni-plaintext\">98101</div></td><td>USA</td><td><div class=\"dni-plaintext\">False</div></td><td><div class=\"dni-plaintext\">3.21</div></td><td><span>2021-06-24 22:19:59Z</span></td></tr><tr><td><div class=\"dni-plaintext\">2</div></td><td><div class=\"dni-plaintext\">3</div></td><td>Berlin</td><td><div class=\"dni-plaintext\">10115</div></td><td>GER</td><td><div class=\"dni-plaintext\">False</div></td><td><div class=\"dni-plaintext\">4.55</div></td><td><span>2021-06-29 22:19:59Z</span></td></tr></tbody></table>"
      ]
     },
     "output_type": "unknown"
    }
   ],
   "source": [
    "//defined types of the column \n",
    "var colTypes1 = new ColType[] { ColType.I32, ColType.IN, ColType.I32, ColType.STR, ColType.I2, ColType.F32, ColType.DT };\n",
    "//create data frame with 3 rows and 7 columns\n",
    "var dfFromFile = DataFrame.FromCsv(filename, sep: ',', colTypes: colTypes1);\n",
    "//show dataframe\n",
    "dfFromFile"
   ]
  },
  {
   "cell_type": "markdown",
   "metadata": {},
   "source": [
    "# Loading Real Data from the Web"
   ]
  },
  {
   "cell_type": "markdown",
   "metadata": {},
   "source": [
    "Data can be loaded directly from the web storage by using `FromWeb`static method. The following code shows how to load the `Concrete Slump Test` data from the web. The data set includes 103 data points. There are 7 input variables, and 3 output variables in the data set: `Cement`, `Slag`, `Fly ash`, `Water`, `SP`, `Coarse Aggr.`,`Fine Aggr.`, `SLUMP (cm)`, `FLOW (cm)`, `Strength (Mpa)`. \n",
    "The following code load the `Concrete Slump Test` data set into Daany DataFrame:"
   ]
  },
  {
   "cell_type": "code",
   "execution_count": null,
   "metadata": {
    "dotnet_interactive": {
     "language": "csharp"
    }
   },
   "outputs": [
    {
     "data": {
      "text/html": [
       "<table><thead><th><i>(index)</i></th><th>No</th><th>Cement</th><th>Slag</th><th>Fly ash</th><th>Water</th><th>SP</th><th>Coarse Aggr.</th><th>Fine Aggr.</th><th>SLUMP(cm)</th><th>FLOW(cm)</th><th>Compressive Strength (28-day)(Mpa)</th></thead><tbody><tr><td><div class=\"dni-plaintext\">0</div></td><td><div class=\"dni-plaintext\">1</div></td><td><div class=\"dni-plaintext\">273</div></td><td><div class=\"dni-plaintext\">82</div></td><td><div class=\"dni-plaintext\">105</div></td><td><div class=\"dni-plaintext\">210</div></td><td><div class=\"dni-plaintext\">9</div></td><td><div class=\"dni-plaintext\">904</div></td><td><div class=\"dni-plaintext\">680</div></td><td><div class=\"dni-plaintext\">23</div></td><td><div class=\"dni-plaintext\">62</div></td><td><div class=\"dni-plaintext\">34.99</div></td></tr><tr><td><div class=\"dni-plaintext\">1</div></td><td><div class=\"dni-plaintext\">2</div></td><td><div class=\"dni-plaintext\">163</div></td><td><div class=\"dni-plaintext\">149</div></td><td><div class=\"dni-plaintext\">191</div></td><td><div class=\"dni-plaintext\">180</div></td><td><div class=\"dni-plaintext\">12</div></td><td><div class=\"dni-plaintext\">843</div></td><td><div class=\"dni-plaintext\">746</div></td><td><div class=\"dni-plaintext\">0</div></td><td><div class=\"dni-plaintext\">20</div></td><td><div class=\"dni-plaintext\">41.14</div></td></tr><tr><td><div class=\"dni-plaintext\">2</div></td><td><div class=\"dni-plaintext\">3</div></td><td><div class=\"dni-plaintext\">162</div></td><td><div class=\"dni-plaintext\">148</div></td><td><div class=\"dni-plaintext\">191</div></td><td><div class=\"dni-plaintext\">179</div></td><td><div class=\"dni-plaintext\">16</div></td><td><div class=\"dni-plaintext\">840</div></td><td><div class=\"dni-plaintext\">743</div></td><td><div class=\"dni-plaintext\">1</div></td><td><div class=\"dni-plaintext\">20</div></td><td><div class=\"dni-plaintext\">41.81</div></td></tr><tr><td><div class=\"dni-plaintext\">3</div></td><td><div class=\"dni-plaintext\">4</div></td><td><div class=\"dni-plaintext\">162</div></td><td><div class=\"dni-plaintext\">148</div></td><td><div class=\"dni-plaintext\">190</div></td><td><div class=\"dni-plaintext\">179</div></td><td><div class=\"dni-plaintext\">19</div></td><td><div class=\"dni-plaintext\">838</div></td><td><div class=\"dni-plaintext\">741</div></td><td><div class=\"dni-plaintext\">3</div></td><td><div class=\"dni-plaintext\">21.5</div></td><td><div class=\"dni-plaintext\">42.08</div></td></tr><tr><td><div class=\"dni-plaintext\">4</div></td><td><div class=\"dni-plaintext\">5</div></td><td><div class=\"dni-plaintext\">154</div></td><td><div class=\"dni-plaintext\">112</div></td><td><div class=\"dni-plaintext\">144</div></td><td><div class=\"dni-plaintext\">220</div></td><td><div class=\"dni-plaintext\">10</div></td><td><div class=\"dni-plaintext\">923</div></td><td><div class=\"dni-plaintext\">658</div></td><td><div class=\"dni-plaintext\">20</div></td><td><div class=\"dni-plaintext\">64</div></td><td><div class=\"dni-plaintext\">26.82</div></td></tr></tbody></table>"
      ]
     },
     "output_type": "unknown"
    }
   ],
   "source": [
    "//define web url where the data is stored\n",
    "var url = \"https://archive.ics.uci.edu/ml/machine-learning-databases/concrete/slump/slump_test.data\";\n",
    "//\n",
    "var df = DataFrame.FromWeb(url);\n",
    "df.Head(5)"
   ]
  },
  {
   "cell_type": "markdown",
   "metadata": {},
   "source": [
    "Once we have the data in to the application memeory, we can perform some statistical calculation. First, lets see the structure of the data by calling `Describe` metod:"
   ]
  },
  {
   "cell_type": "code",
   "execution_count": null,
   "metadata": {
    "dotnet_interactive": {
     "language": "csharp"
    }
   },
   "outputs": [
    {
     "data": {
      "text/html": [
       "<table><thead><th><i>(index)</i></th><th>No</th><th>Cement</th><th>Slag</th><th>Fly ash</th><th>Water</th><th>SP</th><th>Coarse Aggr.</th><th>Fine Aggr.</th><th>SLUMP(cm)</th><th>FLOW(cm)</th><th>Compressive Strength (28-day)(Mpa)</th></thead><tbody><tr><td>Count</td><td><div class=\"dni-plaintext\">103</div></td><td><div class=\"dni-plaintext\">103</div></td><td><div class=\"dni-plaintext\">103</div></td><td><div class=\"dni-plaintext\">103</div></td><td><div class=\"dni-plaintext\">103</div></td><td><div class=\"dni-plaintext\">103</div></td><td><div class=\"dni-plaintext\">103</div></td><td><div class=\"dni-plaintext\">103</div></td><td><div class=\"dni-plaintext\">103</div></td><td><div class=\"dni-plaintext\">103</div></td><td><div class=\"dni-plaintext\">103</div></td></tr><tr><td>Unique</td><td><div class=\"dni-plaintext\">103</div></td><td><div class=\"dni-plaintext\">80</div></td><td><div class=\"dni-plaintext\">63</div></td><td><div class=\"dni-plaintext\">58</div></td><td><div class=\"dni-plaintext\">70</div></td><td><div class=\"dni-plaintext\">32</div></td><td><div class=\"dni-plaintext\">92</div></td><td><div class=\"dni-plaintext\">90</div></td><td><div class=\"dni-plaintext\">39</div></td><td><div class=\"dni-plaintext\">51</div></td><td><div class=\"dni-plaintext\">83</div></td></tr><tr><td>Top</td><td><div class=\"dni-plaintext\">1</div></td><td><div class=\"dni-plaintext\">159</div></td><td><div class=\"dni-plaintext\">0</div></td><td><div class=\"dni-plaintext\">0</div></td><td><div class=\"dni-plaintext\">210</div></td><td><div class=\"dni-plaintext\">6</div></td><td><div class=\"dni-plaintext\">904</div></td><td><div class=\"dni-plaintext\">757</div></td><td><div class=\"dni-plaintext\">0</div></td><td><div class=\"dni-plaintext\">20</div></td><td><div class=\"dni-plaintext\">34.990002</div></td></tr><tr><td>Freq</td><td><div class=\"dni-plaintext\">1</div></td><td><div class=\"dni-plaintext\">4</div></td><td><div class=\"dni-plaintext\">26</div></td><td><div class=\"dni-plaintext\">20</div></td><td><div class=\"dni-plaintext\">3</div></td><td><div class=\"dni-plaintext\">24</div></td><td><div class=\"dni-plaintext\">3</div></td><td><div class=\"dni-plaintext\">4</div></td><td><div class=\"dni-plaintext\">11</div></td><td><div class=\"dni-plaintext\">17</div></td><td><div class=\"dni-plaintext\">2</div></td></tr><tr><td>Mean</td><td><div class=\"dni-plaintext\">52</div></td><td><div class=\"dni-plaintext\">229.864078</div></td><td><div class=\"dni-plaintext\">77.951456</div></td><td><div class=\"dni-plaintext\">149.029126</div></td><td><div class=\"dni-plaintext\">197.145631</div></td><td><div class=\"dni-plaintext\">8.543689</div></td><td><div class=\"dni-plaintext\">883.990291</div></td><td><div class=\"dni-plaintext\">739.582524</div></td><td><div class=\"dni-plaintext\">18.058252</div></td><td><div class=\"dni-plaintext\">49.582524</div></td><td><div class=\"dni-plaintext\">36.039417</div></td></tr><tr><td>Std</td><td><div class=\"dni-plaintext\">29.877528</div></td><td><div class=\"dni-plaintext\">78.912591</div></td><td><div class=\"dni-plaintext\">60.461846</div></td><td><div class=\"dni-plaintext\">85.432631</div></td><td><div class=\"dni-plaintext\">20.2254</div></td><td><div class=\"dni-plaintext\">2.810264</div></td><td><div class=\"dni-plaintext\">88.417736</div></td><td><div class=\"dni-plaintext\">63.346158</div></td><td><div class=\"dni-plaintext\">8.791512</div></td><td><div class=\"dni-plaintext\">17.547428</div></td><td><div class=\"dni-plaintext\">7.838232</div></td></tr><tr><td>Min</td><td><div class=\"dni-plaintext\">1</div></td><td><div class=\"dni-plaintext\">137</div></td><td><div class=\"dni-plaintext\">0</div></td><td><div class=\"dni-plaintext\">0</div></td><td><div class=\"dni-plaintext\">160</div></td><td><div class=\"dni-plaintext\">4</div></td><td><div class=\"dni-plaintext\">708</div></td><td><div class=\"dni-plaintext\">641</div></td><td><div class=\"dni-plaintext\">0</div></td><td><div class=\"dni-plaintext\">20</div></td><td><div class=\"dni-plaintext\">17.190001</div></td></tr><tr><td>25%</td><td><div class=\"dni-plaintext\">26.5</div></td><td><div class=\"dni-plaintext\">152</div></td><td><div class=\"dni-plaintext\">0</div></td><td><div class=\"dni-plaintext\">115.5</div></td><td><div class=\"dni-plaintext\">180</div></td><td><div class=\"dni-plaintext\">6</div></td><td><div class=\"dni-plaintext\">819.5</div></td><td><div class=\"dni-plaintext\">684.5</div></td><td><div class=\"dni-plaintext\">14</div></td><td><div class=\"dni-plaintext\">38.5</div></td><td><div class=\"dni-plaintext\">30.9</div></td></tr><tr><td>Median</td><td><div class=\"dni-plaintext\">52</div></td><td><div class=\"dni-plaintext\">248</div></td><td><div class=\"dni-plaintext\">100</div></td><td><div class=\"dni-plaintext\">164</div></td><td><div class=\"dni-plaintext\">196</div></td><td><div class=\"dni-plaintext\">8</div></td><td><div class=\"dni-plaintext\">879</div></td><td><div class=\"dni-plaintext\">743</div></td><td><div class=\"dni-plaintext\">22</div></td><td><div class=\"dni-plaintext\">54</div></td><td><div class=\"dni-plaintext\">35.52</div></td></tr><tr><td>75%</td><td><div class=\"dni-plaintext\">77.5</div></td><td><div class=\"dni-plaintext\">304</div></td><td><div class=\"dni-plaintext\">125</div></td><td><div class=\"dni-plaintext\">236</div></td><td><div class=\"dni-plaintext\">209.5</div></td><td><div class=\"dni-plaintext\">10</div></td><td><div class=\"dni-plaintext\">953</div></td><td><div class=\"dni-plaintext\">788</div></td><td><div class=\"dni-plaintext\">24</div></td><td><div class=\"dni-plaintext\">64</div></td><td><div class=\"dni-plaintext\">41.205</div></td></tr><tr><td>Max</td><td><div class=\"dni-plaintext\">103</div></td><td><div class=\"dni-plaintext\">374</div></td><td><div class=\"dni-plaintext\">193</div></td><td><div class=\"dni-plaintext\">260</div></td><td><div class=\"dni-plaintext\">240</div></td><td><div class=\"dni-plaintext\">19</div></td><td><div class=\"dni-plaintext\">1050</div></td><td><div class=\"dni-plaintext\">902</div></td><td><div class=\"dni-plaintext\">29</div></td><td><div class=\"dni-plaintext\">78</div></td><td><div class=\"dni-plaintext\">58.529999</div></td></tr></tbody></table>"
      ]
     },
     "output_type": "unknown"
    }
   ],
   "source": [
    "df.Describe(false)"
   ]
  },
  {
   "cell_type": "markdown",
   "metadata": {},
   "source": [
    "Now, we see we have data frame with `103` rows and all columns are of numerical type. Frequency of the data indicated that values are mostly not repeated. From the maximum and minimum values we can see the data have no outliners, since distributions of the values are tends to be normal."
   ]
  },
  {
   "cell_type": "markdown",
   "metadata": {},
   "source": [
    "# Data Visualization"
   ]
  },
  {
   "cell_type": "markdown",
   "metadata": {},
   "source": [
    "Lets perform some visualization just to see how visualy data look like. As first let's see the `Slump` distribution with respect of `SP` and `Fly ash`:"
   ]
  },
  {
   "cell_type": "code",
   "execution_count": null,
   "metadata": {
    "dotnet_interactive": {
     "language": "csharp"
    }
   },
   "outputs": [
    {
     "data": {
      "text/html": [
       "<!DOCTYPE html>\r\n",
       "<div style=\"width: 900px; height: 500px;\" id=\"9fb4eb94-8b6b-40b0-b8a2-bd39282c2483\"></div><script type=\"text/javascript\">\r\n",
       "\n",
       "var renderPlotly = function() {\n",
       "    var xplotRequire = require.config({context:'xplot-3.0.1',paths:{plotly:'https://cdn.plot.ly/plotly-1.49.2.min'}}) || require;\n",
       "    xplotRequire(['plotly'], function(Plotly) { \r\n",
       "\n",
       "            var data = [{\"type\":\"scatter\",\"x\":[9,12,16,19,10,9,18,6,6,6,10,7,6,6,7,15,6,11,10,9,10,10,11,11,11,12,10,6,6,6,5,6,7,9,6,13,8,12,7,11,11,11,11,6,6,6,9,9,6,6,9,11,11,10,8,12,10,11,6,6,9,7,10,9,6,12,12,13,6,6,9,10,10,6,6,6,11,9,4.4,4.6,4.7,4.9,9.2,5.3,5.5,5.7,6.2,8.9,6.5,6.5,6.7,7.1,8.3,7.4,7.4,7.5,7.4,8.3,7.7,7.7,7.6,7.5,9.6],\"y\":[105,191,191,190,144,115,178,227,237,140,136,139,167,0,0,149,239,136,143,0,0,143,0,0,167,164,142,136,137,161,164,178,187,115,214,127,97,0,246,243,227,181,188,0,0,0,118,121,170,167,163,0,0,142,149,0,0,0,168,164,117,121,0,0,111,248,250,260,164,0,116,0,0,136,137,139,187,100,198.1,209.5,215.9,226.1,240,239,234.9,238.9,239.8,240,239.7,238.8,240,238.3,239.8,238.5,239.5,239.2,239,239.9,239.1,239.9,239.6,239.9,223.1],\"mode\":\"markers\",\"marker\":{\"color\":[23,0,1,3,20,23,0,14.5,15.5,19,24.5,23.75,25.5,17,14.5,23.5,12,25,20.5,15,20,13,0,18,0,23.75,25,26.5,16,21.5,24,20,24.75,26.5,27.5,25.75,23,14.5,19,21,2.5,23,13,24,3,17.5,25.5,25,0,21.5,23.5,21,8,24,20.5,23,22,22,25,24,19,22.5,25,23,27,21,18,21,2,26,0,23,25.5,24,24,23.5,12,23,16.25,23.5,24.5,21,24,21.25,23.5,24.5,25,26.5,9.5,14.5,14.5,17,25,0,0,0,27.5,25,0,2,0,27.5,29],\"colorscale\":\"Jet\"}}];\n",
       "           var layout = {\"title\":\"Slump vs. Cement and Slag\",\"xaxis\":{\"title\":\"Cement\",\"_isSubplotObj\":true},\"yaxis\":{\"title\":\"Slag\",\"_isSubplotObj\":true}};\n",
       "           Plotly.newPlot('9fb4eb94-8b6b-40b0-b8a2-bd39282c2483', data, layout);\n",
       "        \r\n",
       "});\n",
       "};\r\n",
       "// ensure `require` is available globally\r\n",
       "if ((typeof(require) !==  typeof(Function)) || (typeof(require.config) !== typeof(Function))) {\r\n",
       "    let require_script = document.createElement('script');\r\n",
       "    require_script.setAttribute('src', 'https://cdnjs.cloudflare.com/ajax/libs/require.js/2.3.6/require.min.js');\r\n",
       "    require_script.setAttribute('type', 'text/javascript');\r\n",
       "    \r\n",
       "    \r\n",
       "    require_script.onload = function() {\r\n",
       "        renderPlotly();\r\n",
       "    };\r\n",
       "\r\n",
       "    document.getElementsByTagName('head')[0].appendChild(require_script);\r\n",
       "}\r\n",
       "else {\r\n",
       "    renderPlotly();\r\n",
       "}\r\n",
       "\r\n",
       "</script>\r\n"
      ]
     },
     "output_type": "unknown"
    }
   ],
   "source": [
    "var chart = Chart.Plot(\r\n",
    "    new Scatter()\r\n",
    "    {\r\n",
    "        x = df[\"SP\"],\r\n",
    "        y = df[\"Fly ash\"],\r\n",
    "        mode = \"markers\",\r\n",
    "        marker = new Marker()\r\n",
    "        {\r\n",
    "            color = df[\"SLUMP(cm)\"].Select(x=>x),\r\n",
    "            colorscale = \"Jet\"\r\n",
    "        }\r\n",
    "    }\r\n",
    ");\r\n",
    "\r\n",
    "var layout = new Layout.Layout(){title=\"Slump vs. Cement and Slag\"};\r\n",
    "chart.WithLayout(layout);\r\n",
    "chart.WithXTitle(\"Cement\");\r\n",
    "chart.WithYTitle(\"Slag\");\r\n",
    "chart\r\n"
   ]
  },
  {
   "cell_type": "markdown",
   "metadata": {},
   "source": [
    "Now lets look correlation between `Slump` and `Flow`:"
   ]
  },
  {
   "cell_type": "code",
   "execution_count": null,
   "metadata": {
    "dotnet_interactive": {
     "language": "csharp"
    }
   },
   "outputs": [
    {
     "data": {
      "text/html": [
       "<!DOCTYPE html>\r\n",
       "<div style=\"width: 900px; height: 500px;\" id=\"27136265-4d66-42e1-acdc-a694095dd2da\"></div><script type=\"text/javascript\">\r\n",
       "\n",
       "var renderPlotly = function() {\n",
       "    var xplotRequire = require.config({context:'xplot-3.0.1',paths:{plotly:'https://cdn.plot.ly/plotly-1.49.2.min'}}) || require;\n",
       "    xplotRequire(['plotly'], function(Plotly) { \r\n",
       "\n",
       "            var data = [{\"type\":\"scatter\",\"x\":[23,0,1,3,20,23,0,14.5,15.5,19,24.5,23.75,25.5,17,14.5,23.5,12,25,20.5,15,20,13,0,18,0,23.75,25,26.5,16,21.5,24,20,24.75,26.5,27.5,25.75,23,14.5,19,21,2.5,23,13,24,3,17.5,25.5,25,0,21.5,23.5,21,8,24,20.5,23,22,22,25,24,19,22.5,25,23,27,21,18,21,2,26,0,23,25.5,24,24,23.5,12,23,16.25,23.5,24.5,21,24,21.25,23.5,24.5,25,26.5,9.5,14.5,14.5,17,25,0,0,0,27.5,25,0,2,0,27.5,29],\"y\":[62,20,20,21.5,64,55,20,58.5,51,51,61,58,67,54,42.5,54.5,35,68.5,48.2,48.5,49,46,20,46,20,53,70,70,26,64,60,68.5,62.7,68,70,64.5,54,20,43,57,20,65,38,59,20,48,64,61,20,42,60,61,30,62,61.5,50,40,49,69,65,48,48.5,63,69,60,51,48,54,20,64,20,58,67,47,67,58.5,39,63.5,31,53,57,64,75,46,52.5,60,55,78,27.5,36.5,41.5,27,78,20,20,20,64,77,20,20,20,67,78],\"mode\":\"markers\"}];\n",
       "           var layout = {\"title\":\"Slump vs. Cement and Slag\",\"showlegend\":true,\"xaxis\":{\"title\":\"Slump\",\"_isSubplotObj\":true},\"yaxis\":{\"title\":\"Flow\",\"_isSubplotObj\":true}};\n",
       "           Plotly.newPlot('27136265-4d66-42e1-acdc-a694095dd2da', data, layout);\n",
       "        \r\n",
       "});\n",
       "};\r\n",
       "// ensure `require` is available globally\r\n",
       "if ((typeof(require) !==  typeof(Function)) || (typeof(require.config) !== typeof(Function))) {\r\n",
       "    let require_script = document.createElement('script');\r\n",
       "    require_script.setAttribute('src', 'https://cdnjs.cloudflare.com/ajax/libs/require.js/2.3.6/require.min.js');\r\n",
       "    require_script.setAttribute('type', 'text/javascript');\r\n",
       "    \r\n",
       "    \r\n",
       "    require_script.onload = function() {\r\n",
       "        renderPlotly();\r\n",
       "    };\r\n",
       "\r\n",
       "    document.getElementsByTagName('head')[0].appendChild(require_script);\r\n",
       "}\r\n",
       "else {\r\n",
       "    renderPlotly();\r\n",
       "}\r\n",
       "\r\n",
       "</script>\r\n"
      ]
     },
     "output_type": "unknown"
    }
   ],
   "source": [
    "var chart = Chart.Plot(\r\n",
    "    new Scatter()\r\n",
    "    {\r\n",
    "        x = df[\"SLUMP(cm)\"],\r\n",
    "        y = df[\"FLOW(cm)\"],\r\n",
    "        mode = \"markers\",\r\n",
    "    }\r\n",
    ");\r\n",
    "\r\n",
    "var layout = new Layout.Layout(){title=\"Slump vs. Cement and Slag\"};\r\n",
    "chart.WithLayout(layout);\r\n",
    "chart.WithLegend(true);\r\n",
    "chart.WithXTitle(\"Slump\");\r\n",
    "chart.WithYTitle(\"Flow\");\r\n",
    "chart"
   ]
  },
  {
   "cell_type": "markdown",
   "metadata": {},
   "source": [
    "We can see some relation in the chart and the relation is positive. This means as `Slupm` is growing, `Flow` value grows as well. If we want to measure the relation between the columns we can do that with the following code:"
   ]
  },
  {
   "cell_type": "code",
   "execution_count": null,
   "metadata": {
    "dotnet_interactive": {
     "language": "csharp"
    }
   },
   "outputs": [
    {
     "data": {
      "text/html": [
       "<div class=\"dni-plaintext\">0.9061345368762578</div>"
      ]
     },
     "output_type": "unknown"
    }
   ],
   "source": [
    "var x1= df[\"SLUMP(cm)\"].Select(x=>Convert.ToDouble(x)).ToArray();\n",
    "var x2= df[\"FLOW(cm)\"].Select(x=>Convert.ToDouble(x)).ToArray();\n",
    "\n",
    "//The Pearosn coeficient is calculated by\n",
    "var r=x1.R(x2);\n",
    "r"
   ]
  },
  {
   "cell_type": "markdown",
   "metadata": {},
   "source": [
    "As can be seen, the Pearosn coeficient is very high. "
   ]
  },
  {
   "cell_type": "code",
   "execution_count": null,
   "metadata": {
    "dotnet_interactive": {
     "language": "csharp"
    }
   },
   "outputs": [],
   "source": []
  }
 ],
 "metadata": {
  "kernelspec": {
   "display_name": ".NET (C#)",
   "language": "C#",
   "name": ".net-csharp"
  },
  "language_info": {
   "file_extension": ".cs",
   "mimetype": "text/x-csharp",
   "name": "C#",
   "pygments_lexer": "csharp",
   "version": "9.0"
  },
  "metadata": {
   "interpreter": {
    "hash": "ac59ebe37160ed0dfa835113d9b8498d9f09ceb179beaac4002f036b9467c963"
   }
  }
 },
 "nbformat": 4,
 "nbformat_minor": 2
}