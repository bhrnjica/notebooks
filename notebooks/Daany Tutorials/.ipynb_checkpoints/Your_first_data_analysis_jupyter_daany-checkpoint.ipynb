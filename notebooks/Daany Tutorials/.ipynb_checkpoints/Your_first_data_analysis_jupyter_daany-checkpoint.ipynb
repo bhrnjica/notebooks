{
 "cells": [
  {
   "cell_type": "markdown",
   "metadata": {},
   "source": [
    "Note: The .NET Jupyter notebook for this blog post can be found [here](). "
   ]
  },
  {
   "cell_type": "markdown",
   "metadata": {},
   "source": [
    "# Your first data analysis with .NET Jupyter Notebook and  Daany.DataFrame"
   ]
  },
  {
   "cell_type": "code",
   "execution_count": 2,
   "metadata": {},
   "outputs": [
    {
     "data": {
      "text/html": [
       "Installing package Daany.DataFrame.....done!"
      ]
     },
     "metadata": {},
     "output_type": "display_data"
    },
    {
     "data": {
      "text/html": [
       "Successfully added reference to package Daany.DataFrame, version 0.6.1"
      ]
     },
     "metadata": {},
     "output_type": "display_data"
    },
    {
     "data": {
      "text/html": [
       "Installing package Daany.DataFrame.Ext........done!"
      ]
     },
     "metadata": {},
     "output_type": "display_data"
    },
    {
     "data": {
      "text/html": [
       "Successfully added reference to package Daany.DataFrame.Ext, version 0.6.1"
      ]
     },
     "metadata": {},
     "output_type": "display_data"
    },
    {
     "data": {
      "text/html": [
       "Installing package Daany.Stat......done!"
      ]
     },
     "metadata": {},
     "output_type": "display_data"
    },
    {
     "data": {
      "text/html": [
       "Successfully added reference to package Daany.Stat, version 0.6.1"
      ]
     },
     "metadata": {},
     "output_type": "display_data"
    },
    {
     "data": {
      "text/html": [
       "Installing package XPlot.Plotly......done!"
      ]
     },
     "metadata": {},
     "output_type": "display_data"
    },
    {
     "data": {
      "text/html": [
       "Successfully added reference to package XPlot.Plotly, version 3.0.1"
      ]
     },
     "metadata": {},
     "output_type": "display_data"
    }
   ],
   "source": [
    "//Nuget package installation\n",
    "#r \"nuget:Daany.DataFrame\"\n",
    "#r \"nuget:Daany.DataFrame.Ext\"\n",
    "#r \"nuget: Daany.Stat\"\n",
    "//Plot capabilities\n",
    "#r \"nuget:XPlot.Plotly\""
   ]
  },
  {
   "cell_type": "code",
   "execution_count": 3,
   "metadata": {},
   "outputs": [],
   "source": [
    "//using statement of Daany package\n",
    "using Daany;\n",
    "using Daany.MathStuff;\n",
    "using Daany.Ext;\n",
    "//PLot support\n",
    "using XPlot.Plotly;\n",
    "//custom display imlementation\n",
    "\n",
    "// Temporal DataFrame formatter for this early preview\n",
    "using Microsoft.AspNetCore.Html;\n",
    "Formatter<DataFrame>.Register((df, writer) =>\n",
    "{\n",
    "    var headers = new List<IHtmlContent>();\n",
    "    headers.Add(th(i($\"({df.Index.Name})\")));\n",
    "    headers.AddRange(df.Columns.Select(c => (IHtmlContent) th(c)));\n",
    "    \n",
    "    //renders the rows\n",
    "    var rows = new List<List<IHtmlContent>>();\n",
    "    var take = 20;\n",
    "    \n",
    "    //\n",
    "    for (var i = 0; i < Math.Min(take, df.RowCount()); i++)\n",
    "    {\n",
    "        var cells = new List<IHtmlContent>();\n",
    "        cells.Add(td(df.Index[i]));\n",
    "        foreach (var obj in df[i])\n",
    "        {\n",
    "            cells.Add(td(obj));\n",
    "        }\n",
    "        rows.Add(cells);\n",
    "    }\n",
    "    \n",
    "    var t = table(\n",
    "        thead(\n",
    "            headers),\n",
    "        tbody(\n",
    "            rows.Select(\n",
    "                r => tr(r))));\n",
    "    \n",
    "    writer.Write(t);\n",
    "}, \"text/html\");"
   ]
  },
  {
   "cell_type": "markdown",
   "metadata": {},
   "source": [
    "# The Structure of  ```Daany.DataFrame```\n",
    "\n",
    "The main part of ```Daany``` project is ```Daany.DataFrame``` -  an c\\# implementation of a data frame. A data frame is software component used for handling tabular data, especially for data preparation, feature engineering and analysis during development of machine learning models. The concept of `Daany.DataFrame` implementation is based on simplicity and .NET coding standard. It represents tabular data consisting of columns and rows. Each column has name and type and each row has its index and label."
   ]
  },
  {
   "cell_type": "markdown",
   "metadata": {},
   "source": [
    "Usually, rows indicate a `zero` axis, while columns indicate axis `one`.\n",
    "\n",
    "The following image shows a data frame structure\n",
    "\n",
    "![data frame structure](https://bhrnjica.files.wordpress.com/2019/12/daany_data_frame_structure.png)\n",
    "\n",
    "The basic components of the data frame are:\n",
    "\n",
    "-   ```header``` - list of column names,\n",
    "-   ```index```  – list of object representing each row,\n",
    "-   ```data``` – list of values in the data frame,\n",
    "-   ```missing value``` – data with no values in data frame.\n",
    "\n",
    "The image above shows the data frame components visually, and how they are\n",
    "positioned in the data frame."
   ]
  },
  {
   "cell_type": "markdown",
   "metadata": {},
   "source": [
    "# Create Data Frame from a text based file"
   ]
  },
  {
   "cell_type": "markdown",
   "metadata": {},
   "source": [
    "The data we used are stored in files, and they must be load into application memory in order to be analyzed and transformed. Loading data from files by using `Daany.DataFrame` is as easy as calling one method.\n",
    "\n",
    "By using static method ```DataFrame.FromCsv``` a user can create data frame object\n",
    "from the ``csv`` file. Otherwise, data frame can be persisted on disk by calling\n",
    "static method ```DataFrame.ToCsv```. \n",
    "\n",
    "The following code shows how to use static methods ```ToCsv``` and ```FromCsv``` to show persisting and loading data to data frame:"
   ]
  },
  {
   "cell_type": "code",
   "execution_count": 5,
   "metadata": {},
   "outputs": [
    {
     "data": {
      "text/html": [
       "<table><thead><th><i>(index)</i></th><th>ID</th><th>City</th><th>Zip Code</th><th>State</th><th>IsHome</th><th>Values</th><th>Date</th></thead><tbody><tr><td>0</td><td>1</td><td>Sarajevo</td><td>71000</td><td>BiH</td><td>True</td><td>3.14</td><td>2019-12-02 08:39:48Z</td></tr><tr><td>1</td><td>2</td><td>Seattle</td><td>98101</td><td>USA</td><td>False</td><td>3.21</td><td>2019-12-12 08:39:48Z</td></tr><tr><td>2</td><td>3</td><td>Berlin</td><td>10115</td><td>GER</td><td>False</td><td>4.55</td><td>2019-12-17 08:39:48Z</td></tr></tbody></table>"
      ]
     },
     "execution_count": 5,
     "metadata": {},
     "output_type": "execute_result"
    }
   ],
   "source": [
    "string filename = \"df_file.txt\";\n",
    "//define a dictionary of data\n",
    "var dict = new Dictionary<string, List<object>>\n",
    "{\n",
    "    { \"ID\",new List<object>() { 1,2,3} },\n",
    "    { \"City\",new List<object>() { \"Sarajevo\", \"Seattle\", \"Berlin\" } },\n",
    "    { \"Zip Code\",new List<object>() { 71000,98101,10115 } },\n",
    "    { \"State\",new List<object>() {\"BiH\",\"USA\",\"GER\" } },\n",
    "    { \"IsHome\",new List<object>() { true, false, false} },\n",
    "    { \"Values\",new List<object>() { 3.14, 3.21, 4.55 } },\n",
    "    { \"Date\",new List<object>() { DateTime.Now.AddDays(-20) , DateTime.Now.AddDays(-10) , DateTime.Now.AddDays(-5) } },\n",
    "\n",
    "};\n",
    "\n",
    "//create data frame with 3 rows and 7 columns\n",
    "var df = new DataFrame(dict);\n",
    "\n",
    "//first Save data frame on disk and load it\n",
    "DataFrame.ToCsv(filename, df);\n",
    "\n",
    "//create data frame with 3 rows and 7 columns\n",
    "var dfFromFile = DataFrame.FromCsv(filename, sep:',');\n",
    "\n",
    "//show dataframe\n",
    "dfFromFile"
   ]
  },
  {
   "cell_type": "markdown",
   "metadata": {},
   "source": [
    "In case the performance is important, you should pass column types to `FromCSV` method in order to achieve up to 50% of loading time. \n",
    "For example the following code loads the data from the file, by passing predefined column types:"
   ]
  },
  {
   "cell_type": "code",
   "execution_count": 6,
   "metadata": {},
   "outputs": [
    {
     "data": {
      "text/html": [
       "<table><thead><th><i>(index)</i></th><th>ID</th><th>City</th><th>Zip Code</th><th>State</th><th>IsHome</th><th>Values</th><th>Date</th></thead><tbody><tr><td>0</td><td>1</td><td>Sarajevo</td><td>71000</td><td>BiH</td><td>True</td><td>3.14</td><td>2019-12-02 08:39:48Z</td></tr><tr><td>1</td><td>2</td><td>Seattle</td><td>98101</td><td>USA</td><td>False</td><td>3.21</td><td>2019-12-12 08:39:48Z</td></tr><tr><td>2</td><td>3</td><td>Berlin</td><td>10115</td><td>GER</td><td>False</td><td>4.55</td><td>2019-12-17 08:39:48Z</td></tr></tbody></table>"
      ]
     },
     "execution_count": 6,
     "metadata": {},
     "output_type": "execute_result"
    }
   ],
   "source": [
    "//defined types of the column \n",
    "var colTypes1 = new ColType[] { ColType.I32, ColType.IN, ColType.I32, ColType.STR, ColType.I2, ColType.F32, ColType.DT };\n",
    "//create data frame with 3 rows and 7 columns\n",
    "var dfFromFile = DataFrame.FromCsv(filename, sep: ',', colTypes: colTypes1);\n",
    "//show dataframe\n",
    "dfFromFile"
   ]
  },
  {
   "cell_type": "markdown",
   "metadata": {},
   "source": [
    "# Loading Real Data from the Web"
   ]
  },
  {
   "cell_type": "markdown",
   "metadata": {},
   "source": [
    "Data can be loaded directly from the web storage by using `FromWeb`static method. The following code shows how to load the `Concrete Slump Test` data from the web. The data set includes 103 data points. There are 7 input variables, and 3 output variables in the data set: `Cement`, `Slag`, `Fly ash`, `Water`, `SP`, `Coarse Aggr.`,`Fine Aggr.`, `SLUMP (cm)`, `FLOW (cm)`, `Strength (Mpa)`. \n",
    "The following code load the `Concrete Slump Test` data set into Daany DataFrame:"
   ]
  },
  {
   "cell_type": "code",
   "execution_count": 7,
   "metadata": {},
   "outputs": [
    {
     "data": {
      "text/html": [
       "<table><thead><th><i>(index)</i></th><th>No</th><th>Cement</th><th>Slag</th><th>Fly ash</th><th>Water</th><th>SP</th><th>Coarse Aggr.</th><th>Fine Aggr.</th><th>SLUMP(cm)</th><th>FLOW(cm)</th><th>Compressive Strength (28-day)(Mpa)</th></thead><tbody><tr><td>0</td><td>1</td><td>273</td><td>82</td><td>105</td><td>210</td><td>9</td><td>904</td><td>680</td><td>23</td><td>62</td><td>34.99</td></tr><tr><td>1</td><td>2</td><td>163</td><td>149</td><td>191</td><td>180</td><td>12</td><td>843</td><td>746</td><td>0</td><td>20</td><td>41.14</td></tr><tr><td>2</td><td>3</td><td>162</td><td>148</td><td>191</td><td>179</td><td>16</td><td>840</td><td>743</td><td>1</td><td>20</td><td>41.81</td></tr><tr><td>3</td><td>4</td><td>162</td><td>148</td><td>190</td><td>179</td><td>19</td><td>838</td><td>741</td><td>3</td><td>21.5</td><td>42.08</td></tr><tr><td>4</td><td>5</td><td>154</td><td>112</td><td>144</td><td>220</td><td>10</td><td>923</td><td>658</td><td>20</td><td>64</td><td>26.82</td></tr></tbody></table>"
      ]
     },
     "execution_count": 7,
     "metadata": {},
     "output_type": "execute_result"
    }
   ],
   "source": [
    "//define web url where the data is stored\n",
    "var url = \"https://archive.ics.uci.edu/ml/machine-learning-databases/concrete/slump/slump_test.data\";\n",
    "//\n",
    "var df = DataFrame.FromWeb(url);\n",
    "df.Head(5)"
   ]
  },
  {
   "cell_type": "markdown",
   "metadata": {},
   "source": [
    "Once we have the data in to the application memeory, we can perform some statistical calculation. First, lets see the structure of the data by calling `Describe` metod:"
   ]
  },
  {
   "cell_type": "code",
   "execution_count": 9,
   "metadata": {},
   "outputs": [
    {
     "data": {
      "text/html": [
       "<table><thead><th><i>(index)</i></th><th>No</th><th>Cement</th><th>Slag</th><th>Fly ash</th><th>Water</th><th>SP</th><th>Coarse Aggr.</th><th>Fine Aggr.</th><th>SLUMP(cm)</th><th>FLOW(cm)</th><th>Compressive Strength (28-day)(Mpa)</th></thead><tbody><tr><td>Count</td><td>103</td><td>103</td><td>103</td><td>103</td><td>103</td><td>103</td><td>103</td><td>103</td><td>103</td><td>103</td><td>103</td></tr><tr><td>Unique</td><td>103</td><td>80</td><td>63</td><td>58</td><td>70</td><td>32</td><td>92</td><td>90</td><td>39</td><td>51</td><td>83</td></tr><tr><td>Top</td><td>1</td><td>159</td><td>0</td><td>0</td><td>210</td><td>6</td><td>904</td><td>757</td><td>0</td><td>20</td><td>34.990002</td></tr><tr><td>Freq</td><td>1</td><td>4</td><td>26</td><td>20</td><td>3</td><td>24</td><td>3</td><td>4</td><td>11</td><td>17</td><td>2</td></tr><tr><td>Mean</td><td>52</td><td>229.864078</td><td>77.951456</td><td>149.029126</td><td>197.145631</td><td>8.543689</td><td>883.990291</td><td>739.582524</td><td>18.058252</td><td>49.582524</td><td>36.039417</td></tr><tr><td>Std</td><td>29.877528</td><td>78.912591</td><td>60.461846</td><td>85.432631</td><td>20.2254</td><td>2.810264</td><td>88.417736</td><td>63.346158</td><td>8.791512</td><td>17.547428</td><td>7.838232</td></tr><tr><td>Min</td><td>1</td><td>137</td><td>0</td><td>0</td><td>160</td><td>4</td><td>708</td><td>641</td><td>0</td><td>20</td><td>17.190001</td></tr><tr><td>25%</td><td>26.5</td><td>152</td><td>0</td><td>115.5</td><td>180</td><td>6</td><td>819.5</td><td>684.5</td><td>14</td><td>38.5</td><td>30.9</td></tr><tr><td>Median</td><td>52</td><td>248</td><td>100</td><td>164</td><td>196</td><td>8</td><td>879</td><td>743</td><td>22</td><td>54</td><td>35.52</td></tr><tr><td>75%</td><td>77.5</td><td>304</td><td>125</td><td>236</td><td>209.5</td><td>10</td><td>953</td><td>788</td><td>24</td><td>64</td><td>41.205</td></tr><tr><td>Max</td><td>103</td><td>374</td><td>193</td><td>260</td><td>240</td><td>19</td><td>1050</td><td>902</td><td>29</td><td>78</td><td>58.529999</td></tr></tbody></table>"
      ]
     },
     "execution_count": 9,
     "metadata": {},
     "output_type": "execute_result"
    }
   ],
   "source": [
    "df.Describe(false)"
   ]
  },
  {
   "cell_type": "markdown",
   "metadata": {},
   "source": [
    "Now, we see we have data frame with `103` rows and all columns are of numerical type. Frequency of the data indicated that values are mostly not repeated. From the maximum and minimum values we can see the data have no outliners, since distributions of the values are tends to be normal."
   ]
  },
  {
   "cell_type": "markdown",
   "metadata": {},
   "source": [
    "# Data Visualization"
   ]
  },
  {
   "cell_type": "markdown",
   "metadata": {},
   "source": [
    "Lets perform some visualization just to see how visualy data look like. As first let's see the `Slump` distribution with respect of `SP` and `Fly ash`:"
   ]
  },
  {
   "cell_type": "code",
   "execution_count": 19,
   "metadata": {},
   "outputs": [
    {
     "data": {
      "text/html": [
       "<div id=\"e5f55c2f-e755-4ac7-9a12-267056628d2b\" style=\"width: 900px; height: 500px;\"></div><script type=\"text/javascript\">\r\n",
       "\r\n",
       "var renderPlotly = function() {\r\n",
       "    var xplotRequire = requirejs.config({context:'xplot-2.0.0',paths:{plotly:'https://cdn.plot.ly/plotly-1.49.2.min'}});\r\n",
       "    xplotRequire(['plotly'], function(Plotly) {\r\n",
       "\n",
       "            var data = [{\"type\":\"scatter\",\"x\":[9,12,16,19,10,9,18,6,6,6,10,7,6,6,7,15,6,11,10,9,10,10,11,11,11,12,10,6,6,6,5,6,7,9,6,13,8,12,7,11,11,11,11,6,6,6,9,9,6,6,9,11,11,10,8,12,10,11,6,6,9,7,10,9,6,12,12,13,6,6,9,10,10,6,6,6,11,9,4.4,4.6,4.7,4.9,9.2,5.3,5.5,5.7,6.2,8.9,6.5,6.5,6.7,7.1,8.3,7.4,7.4,7.5,7.4,8.3,7.7,7.7,7.6,7.5,9.6],\"y\":[105,191,191,190,144,115,178,227,237,140,136,139,167,0,0,149,239,136,143,0,0,143,0,0,167,164,142,136,137,161,164,178,187,115,214,127,97,0,246,243,227,181,188,0,0,0,118,121,170,167,163,0,0,142,149,0,0,0,168,164,117,121,0,0,111,248,250,260,164,0,116,0,0,136,137,139,187,100,198.1,209.5,215.9,226.1,240,239,234.9,238.9,239.8,240,239.7,238.8,240,238.3,239.8,238.5,239.5,239.2,239,239.9,239.1,239.9,239.6,239.9,223.1],\"mode\":\"markers\",\"marker\":{\"color\":[23,0,1,3,20,23,0,14.5,15.5,19,24.5,23.75,25.5,17,14.5,23.5,12,25,20.5,15,20,13,0,18,0,23.75,25,26.5,16,21.5,24,20,24.75,26.5,27.5,25.75,23,14.5,19,21,2.5,23,13,24,3,17.5,25.5,25,0,21.5,23.5,21,8,24,20.5,23,22,22,25,24,19,22.5,25,23,27,21,18,21,2,26,0,23,25.5,24,24,23.5,12,23,16.25,23.5,24.5,21,24,21.25,23.5,24.5,25,26.5,9.5,14.5,14.5,17,25,0,0,0,27.5,25,0,2,0,27.5,29],\"colorscale\":\"Jet\"}}];\n",
       "            var layout = {\"title\":\"Slump vs. Cement and Slag\",\"xaxis\":{\"title\":\"Cement\",\"_isSubplotObj\":true},\"yaxis\":{\"title\":\"Slag\",\"_isSubplotObj\":true}};\n",
       "            Plotly.newPlot('e5f55c2f-e755-4ac7-9a12-267056628d2b', data, layout);\n",
       "        });\r\n",
       "};\r\n",
       "if ((typeof(requirejs) !==  typeof(Function)) || (typeof(requirejs.config) !== typeof(Function))) { \r\n",
       "    var script = document.createElement(\"script\"); \r\n",
       "    script.setAttribute(\"src\", \"https://cdnjs.cloudflare.com/ajax/libs/require.js/2.3.6/require.min.js\"); \r\n",
       "    script.onload = function(){\r\n",
       "        renderPlotly();\r\n",
       "    };\r\n",
       "    document.getElementsByTagName(\"head\")[0].appendChild(script); \r\n",
       "}\r\n",
       "else {\r\n",
       "    renderPlotly();\r\n",
       "}\r\n",
       "</script>"
      ]
     },
     "metadata": {},
     "output_type": "display_data"
    }
   ],
   "source": [
    "var chart = Chart.Plot(\n",
    "    new Graph.Scatter()\n",
    "    {\n",
    "        x = df[\"SP\"],\n",
    "        y = df[\"Fly ash\"],\n",
    "        mode = \"markers\",\n",
    "        marker = new Graph.Marker()\n",
    "        {\n",
    "            color = df[\"SLUMP(cm)\"].Select(x=>x),\n",
    "            colorscale = \"Jet\"\n",
    "        }\n",
    "    }\n",
    ");\n",
    "\n",
    "var layout = new Layout.Layout(){title=\"Slump vs. Cement and Slag\"};\n",
    "chart.WithLayout(layout);\n",
    "chart.WithXTitle(\"Cement\");\n",
    "chart.WithYTitle(\"Slag\");\n",
    "\n",
    "display(chart);"
   ]
  },
  {
   "cell_type": "markdown",
   "metadata": {},
   "source": [
    "Now lets look correlation between `Slump` and `Flow`:"
   ]
  },
  {
   "cell_type": "code",
   "execution_count": 24,
   "metadata": {},
   "outputs": [
    {
     "data": {
      "text/html": [
       "<div id=\"f055da4b-acd7-4c1d-ab24-a7bfbdc26214\" style=\"width: 900px; height: 500px;\"></div><script type=\"text/javascript\">\r\n",
       "\r\n",
       "var renderPlotly = function() {\r\n",
       "    var xplotRequire = requirejs.config({context:'xplot-2.0.0',paths:{plotly:'https://cdn.plot.ly/plotly-1.49.2.min'}});\r\n",
       "    xplotRequire(['plotly'], function(Plotly) {\r\n",
       "\n",
       "            var data = [{\"type\":\"scatter\",\"x\":[23,0,1,3,20,23,0,14.5,15.5,19,24.5,23.75,25.5,17,14.5,23.5,12,25,20.5,15,20,13,0,18,0,23.75,25,26.5,16,21.5,24,20,24.75,26.5,27.5,25.75,23,14.5,19,21,2.5,23,13,24,3,17.5,25.5,25,0,21.5,23.5,21,8,24,20.5,23,22,22,25,24,19,22.5,25,23,27,21,18,21,2,26,0,23,25.5,24,24,23.5,12,23,16.25,23.5,24.5,21,24,21.25,23.5,24.5,25,26.5,9.5,14.5,14.5,17,25,0,0,0,27.5,25,0,2,0,27.5,29],\"y\":[62,20,20,21.5,64,55,20,58.5,51,51,61,58,67,54,42.5,54.5,35,68.5,48.2,48.5,49,46,20,46,20,53,70,70,26,64,60,68.5,62.7,68,70,64.5,54,20,43,57,20,65,38,59,20,48,64,61,20,42,60,61,30,62,61.5,50,40,49,69,65,48,48.5,63,69,60,51,48,54,20,64,20,58,67,47,67,58.5,39,63.5,31,53,57,64,75,46,52.5,60,55,78,27.5,36.5,41.5,27,78,20,20,20,64,77,20,20,20,67,78],\"mode\":\"markers\"}];\n",
       "            var layout = {\"title\":\"Slump vs. Cement and Slag\",\"showlegend\":true,\"xaxis\":{\"title\":\"Slump\",\"_isSubplotObj\":true},\"yaxis\":{\"title\":\"Flow\",\"_isSubplotObj\":true}};\n",
       "            Plotly.newPlot('f055da4b-acd7-4c1d-ab24-a7bfbdc26214', data, layout);\n",
       "        });\r\n",
       "};\r\n",
       "if ((typeof(requirejs) !==  typeof(Function)) || (typeof(requirejs.config) !== typeof(Function))) { \r\n",
       "    var script = document.createElement(\"script\"); \r\n",
       "    script.setAttribute(\"src\", \"https://cdnjs.cloudflare.com/ajax/libs/require.js/2.3.6/require.min.js\"); \r\n",
       "    script.onload = function(){\r\n",
       "        renderPlotly();\r\n",
       "    };\r\n",
       "    document.getElementsByTagName(\"head\")[0].appendChild(script); \r\n",
       "}\r\n",
       "else {\r\n",
       "    renderPlotly();\r\n",
       "}\r\n",
       "</script>"
      ]
     },
     "metadata": {},
     "output_type": "display_data"
    }
   ],
   "source": [
    "var chart = Chart.Plot(\n",
    "    new Graph.Scatter()\n",
    "    {\n",
    "        x = df[\"SLUMP(cm)\"],\n",
    "        y = df[\"FLOW(cm)\"],\n",
    "        mode = \"markers\",\n",
    "    }\n",
    ");\n",
    "\n",
    "var layout = new Layout.Layout(){title=\"Slump vs. Cement and Slag\"};\n",
    "chart.WithLayout(layout);\n",
    "chart.WithLegend(true);\n",
    "chart.WithXTitle(\"Slump\");\n",
    "chart.WithYTitle(\"Flow\");\n",
    "\n",
    "display(chart);"
   ]
  },
  {
   "cell_type": "markdown",
   "metadata": {},
   "source": [
    "We can see some relation in the chart and the relation is positive. This means as `Slupm` is growing, `Flow` value grows as well. If we want to measure the relation between the columns we can do that with the following code:"
   ]
  },
  {
   "cell_type": "code",
   "execution_count": 27,
   "metadata": {},
   "outputs": [
    {
     "data": {
      "text/plain": [
       "0.9061345368762578"
      ]
     },
     "execution_count": 27,
     "metadata": {},
     "output_type": "execute_result"
    }
   ],
   "source": [
    "var x1= df[\"SLUMP(cm)\"].Select(x=>Convert.ToDouble(x)).ToArray();\n",
    "var x2= df[\"FLOW(cm)\"].Select(x=>Convert.ToDouble(x)).ToArray();\n",
    "\n",
    "//The Pearosn coeficient is calculated by\n",
    "var r=x1.R(x2);\n",
    "r"
   ]
  },
  {
   "cell_type": "markdown",
   "metadata": {},
   "source": [
    "As can be seen, the Pearosn coeficient is very high. "
   ]
  },
  {
   "cell_type": "code",
   "execution_count": null,
   "metadata": {},
   "outputs": [],
   "source": []
  }
 ],
 "metadata": {
  "kernelspec": {
   "display_name": ".NET (C#)",
   "language": "C#",
   "name": ".net-csharp"
  },
  "language_info": {
   "file_extension": ".cs",
   "mimetype": "text/x-csharp",
   "name": "C#",
   "pygments_lexer": "csharp",
   "version": "8.0"
  }
 },
 "nbformat": 4,
 "nbformat_minor": 2
}
