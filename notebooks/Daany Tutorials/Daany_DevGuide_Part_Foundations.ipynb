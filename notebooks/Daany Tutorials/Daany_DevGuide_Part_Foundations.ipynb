{
 "cells": [
  {
   "cell_type": "markdown",
   "metadata": {},
   "source": [
    "# Daany Developer Guide - Part 1: DataFrame - cross platform NET library for analysis and transformation of tabular data. "
   ]
  },
  {
   "cell_type": "markdown",
   "metadata": {},
   "source": [
    "Try the notebook by using [![Binder](https://mybinder.org/badge_logo.svg)](https://mybinder.org/v2/gh/bhrnjica/notebooks/master)"
   ]
  },
  {
   "cell_type": "code",
   "execution_count": 2,
   "metadata": {
    "dotnet_interactive": {
     "language": "csharp"
    }
   },
   "outputs": [
    {
     "data": {
      "text/html": [
       "<div><div></div><div></div><div><strong>Installed Packages</strong><ul><li><span>Daany.DataFrame, 1.3.0</span></li><li><span>Daany.DataFrame.Ext, 1.3.0</span></li><li><span>Daany.LinA.win-x64, 1.3.0</span></li><li><span>Daany.Stat, 1.1.0</span></li><li><span>XPlot.Plotly.Interactive, 4.0.6</span></li></ul></div></div>"
      ]
     },
     "metadata": {},
     "output_type": "display_data"
    },
    {
     "data": {
      "text/markdown": [
       "Loading extensions from `XPlot.Plotly.Interactive.dll`"
      ]
     },
     "metadata": {},
     "output_type": "display_data"
    },
    {
     "data": {
      "text/markdown": [
       "Configuring PowerShell Kernel for XPlot.Plotly integration."
      ]
     },
     "metadata": {},
     "output_type": "display_data"
    },
    {
     "data": {
      "text/markdown": [
       "Installed support for XPlot.Plotly."
      ]
     },
     "metadata": {},
     "output_type": "display_data"
    }
   ],
   "source": [
    "//Nuget package installation\n",
    "#r \"nuget:Daany.DataFrame,1.3.0\"\n",
    "#r \"nuget:Daany.DataFrame.Ext,1.3.0\"\n",
    "#r \"nuget: Daany.Stat,1.1.0\"\n",
    "#r \"nuget: Daany.LinA.win-x64,1.3.0\"\n",
    "\n",
    "//Plot capabilities\n",
    "#r \"nuget: XPlot.Plotly.Interactive\""
   ]
  },
  {
   "cell_type": "code",
   "execution_count": 3,
   "metadata": {
    "dotnet_interactive": {
     "language": "csharp"
    }
   },
   "outputs": [],
   "source": [
    "//using statement of Daany package\n",
    "using System;\n",
    "using Daany;\n",
    "using Daany.MathStuff;\n",
    "using Daany.Ext;\n",
    "\n",
    "//PLot support\n",
    "using XPlot.Plotly;\n",
    "//custom display implementation\n",
    "using static Microsoft.DotNet.Interactive.Formatting.PocketViewTags;\n",
    "using Microsoft.AspNetCore.Html;\n",
    "using Microsoft.DotNet.Interactive.Formatting;\n",
    "using static System.Diagnostics.Debug;\n",
    "using System.Globalization;\n",
    "\n",
    "Formatter.Register<DataFrame>((df, writer) =>\n",
    "{\n",
    "    var headers = new List<IHtmlContent>();\n",
    "\n",
    "    headers.Add(th(i($\"({df.Index.Name})\")));\n",
    "    headers.AddRange(df.Columns.Select(c => (IHtmlContent) th(c)));\n",
    "    \n",
    "    //renders the rows\n",
    "    var rows = new List<List<IHtmlContent>>();\n",
    "    var take = 20;\n",
    "    \n",
    "    //\n",
    "    for (var i = 0; i < Math.Min(take, df.RowCount()); i++)\n",
    "    {\n",
    "        var cells = new List<IHtmlContent>();\n",
    "        cells.Add(td(df.Index[i]));\n",
    "        foreach (var obj in df[i])\n",
    "        {\n",
    "            cells.Add(td(obj));\n",
    "        }\n",
    "        rows.Add(cells);\n",
    "    }\n",
    "    \n",
    "    var t = table(\n",
    "        thead(\n",
    "            headers),\n",
    "        tbody(\n",
    "            rows.Select(\n",
    "                r => tr(r))));\n",
    "    \n",
    "    writer.Write(t);\n",
    "}, \"text/html\");\n"
   ]
  },
  {
   "cell_type": "markdown",
   "metadata": {},
   "source": [
    "```Daany``` – .NET DAta ANalYtics library \n",
    "====================================\n",
    "\n",
    "\n",
    "\n",
    "![Daany - .NET DAta ANalYtics library ](img/daany_logo_small.png)\n",
    "\n",
    "### Summary\n",
    "\n",
    "`Daany` is .NET and cross platform data analytics and linear algebra library written in C\\# supposed to be a tool for data preparation, feature engineering and other kinds of data transformations. The library is implemented on top of .NET Standard 2.1 and supports .NET Core 3.0 and above separated on several Visual Studio projects that can be installed separately as a NuGet package. The library implements `DataFrame` as the core component with extensions of a set of data science and linear algebra features. The library contains several implementation of time series decomposition (SSA, STL ARIMA), optimization  methods (SGD) as well as plotting support. The library also implements set of features based on matrix, vectors and similar linear algebra operations. The main part of the library is the `Daany.DataFrame` with similar implementation that can be found in python based Pandas library. \n",
    "\n",
    "Introduction\n",
    "=======================\n",
    "\n",
    "`Daany` is .NET  data analytic library written in `C#` with support various kind of data transformation, descriptive statistics and linear algebra. With `Daany` an user can load the data from txt based file into the `DataFrame` arranged into columns, rows and index. The user can also create `Series` object - a special kind of `Daany.DataFrame` in order to work with time series data. Once the data is loaded the user can start analyzing the data by performing various transformation and results can be display as chart or tabular data.\n",
    "\n",
    "The library implements the `Daany.MathStuff` module which consists of of mathematics operations on matrix and vectors as well as rich set of statistics distributions and parameters. Furthermore `Daany.LinA` extends it in order to gain better performance and functionalities. The `Daany.LinA` is the .NET wrapper around the LAPACK  and BLAS  C++ libraries. Besides data analysis, the library implements a set of statistics or data science features e.g. time series decomposition, optimization performance parameters and similar. The main components of the library which can be installed separately as a NuGet package are:\n",
    "\n",
    "Currently ```Daany``` project consists of four main components:\n",
    "\n",
    "-   ```Daany.DataFrame```,\n",
    "-   ```Daany.DataFrame.Ext```\n",
    "-   ```Daany.Stats```, and\n",
    "-   ```Daany.LinA``` \n",
    "\n",
    "### Daany Architecture\n",
    "\n",
    "`Daany` is a classic .NET component implemented through the several visual studio projects. The library is based on .NET Framework and Intel MKL implementation of LAPACK and BLASS libraries. The architecture diagram of the library is described at the following figure. \n",
    "\n",
    "![](img/daany_architecture_diagram.jpg)\n",
    "\n",
    "\n",
    "The project is developed as a need to have a set of data transformation features in one library while I am working with machine learning. So, I thought it might help to others. Currently, the library has pretty much data transformation features and might be your number one data analytics library on .NET platform. Collaboration to the project is also welcome."
   ]
  },
  {
   "cell_type": "markdown",
   "metadata": {},
   "source": [
    "How to start with Daany\n",
    "=======================\n",
    "\n",
    "```Daany``` is 100% .NET Core component and can be run on any platform .NET Core supports, from the Windows x86/x64 to Mac or Linux based OS. It can be used by Visual Studio or Visual Studio Code. It consisted of 4 NuGet packages, so\n",
    "the easiest way to start with it is to install the packages in your .NET\n",
    "application. Within Visual Studio create or open your .NET application and open\n",
    "NuGet packages window. Type ```Daany``` in the browse edit box and hit enter. You can\n",
    "find four packages starting with Daany. You have few options to install the\n",
    "packages.\n",
    "\n",
    "1.  Install ```Daany.DataFrame```  – only. *Use this option if you want only data\n",
    "    analysis by using data frame. Once you click Install button, Daany.DataFrame\n",
    "    and Daany.Math will be installed into your project app.*\n",
    "\n",
    "2.  Install ```Daany.Stat``` package. This package already contains ```DataFrame```, as well as time series decomposition and related statistics features.\n",
    "\n",
    "![](img/daany_nuget.png)\n",
    "\n",
    "Once you install the packages, you can start developing your app using Daany\n",
    "packages.\n",
    "\n"
   ]
  },
  {
   "cell_type": "markdown",
   "metadata": {},
   "source": [
    "Using ```Daany``` as assembly reference\n",
    "===========================================\n",
    "\n",
    "Since ```Daany``` has no dependency to other libraries you can copy three dlls and add them as reference to your project.\n",
    "\n",
    "![file explorer](img/daany_file_exp.png)\n",
    "\n",
    "In order to do so clone the project from [http://github.com/bhrnjica/daany](http://github.com/bhrnjica/daany),build it and copy ```Daany.DataFrame.dll```, ```Daany.Math.dll``` and ```Daany.Stat.dll``` to your project as assembly references. Whole project is just 270 KB.\n"
   ]
  },
  {
   "cell_type": "markdown",
   "metadata": {},
   "source": [
    "Namespaces in Daany\n",
    "================================================\n",
    "\n",
    "```Daany``` project contains several namespaces for separating different\n",
    "implementation. The following list contains relevant namespaces:\n",
    "\n",
    "-   ```using Daany``` – data frame and related code implementation,\n",
    "-   ```using Daany.Ext``` – data frame extensions, used with dependency on third party\n",
    "    library,\n",
    "-   ```using Daany.MathStuff``` – math related stuff implemented in Daany,\n",
    "-   ```using Daany.Optimizers``` – set of optimizers like SGD,\n",
    "-   ```using Daany.Stat``` – set of statistics implementations in the project.\n",
    "- ```using Daany.LinA``` -  Intel MKL Lapack and Blass routines."
   ]
  },
  {
   "cell_type": "markdown",
   "metadata": {},
   "source": [
    "Working with ```Daany.DataFrame```\n",
    "============================\n",
    "\n",
    "The main part of ```Daany``` project is ```Daany.DataFrame``` -  an c\\# implementation of data frame. A data frame is software component used for handling tabular data, especially for data preparation, feature engineering and analysis during development of machine learning models. The concept of ```Daany.DataFrame``` implementation is based on simplicity and .NET coding standard. It represents tabular data consisting of columns and rows. Each column has name and type and each row has its index and label.\n",
    "Usually, rows indicate a zero axis, while columns indicate axis one.\n",
    "\n",
    "The following image shows a data frame structure\n",
    "\n",
    "![data frame structure](img/daany_data_frame_structure.png)\n",
    "\n",
    "The basic components of the data frame are:\n",
    "\n",
    "-   ```header``` - list of column names,\n",
    "-   ```index```  – list of object representing each row,\n",
    "-   ```data``` – list of values in the data frame,\n",
    "-   ```missing value``` – data with no values in data frame.\n",
    "\n",
    "The image above shows the data frame components visually, and how they are\n",
    "positioned in the data frame."
   ]
  },
  {
   "cell_type": "markdown",
   "metadata": {},
   "source": [
    "How to create ```Daany.DataFrame```  .NET object\n",
    "-----------------------------------------\n",
    "\n",
    "In order to create a DataFrame there are several options:\n",
    "\n",
    "-   from a list of values, by specifying column names and row count\n",
    "-   from a dictionary, letting keys be column names and values be column values,\n",
    "-   from text-based file, where each line represents row values,\n",
    "-   as a return object for almost any data frame operations."
   ]
  },
  {
   "cell_type": "markdown",
   "metadata": {},
   "source": [
    "## Create ```DataFrame``` from a list of data.\n",
    "\n",
    "```Daany.DataFrame```  can be created by passing 1d list of data and column header. The following code shows such action.\n"
   ]
  },
  {
   "cell_type": "code",
   "execution_count": 4,
   "metadata": {
    "dotnet_interactive": {
     "language": "csharp"
    }
   },
   "outputs": [
    {
     "data": {
      "text/html": [
       "<table><thead><th><i>(index)</i></th><th>ID</th><th>City</th><th>Zip Code</th><th>Country</th><th>IsHome</th><th>Values</th><th>Date</th></thead><tbody><tr><td><div class=\"dni-plaintext\">0</div></td><td><div class=\"dni-plaintext\">1</div></td><td>Sarajevo</td><td><div class=\"dni-plaintext\">77000</div></td><td>BiH</td><td><div class=\"dni-plaintext\">True</div></td><td><div class=\"dni-plaintext\">3.14</div></td><td><span>2022-01-20 09:15:17Z</span></td></tr><tr><td><div class=\"dni-plaintext\">1</div></td><td><div class=\"dni-plaintext\">2</div></td><td>Seattle</td><td><div class=\"dni-plaintext\">98101</div></td><td>USA</td><td><div class=\"dni-plaintext\">False</div></td><td><div class=\"dni-plaintext\">3.21</div></td><td><span>2022-01-30 09:15:17Z</span></td></tr><tr><td><div class=\"dni-plaintext\">2</div></td><td><div class=\"dni-plaintext\">3</div></td><td>Berlin</td><td><div class=\"dni-plaintext\">10115</div></td><td>GER</td><td><div class=\"dni-plaintext\">False</div></td><td><div class=\"dni-plaintext\">4.55</div></td><td><span>2022-02-04 09:15:17Z</span></td></tr></tbody></table>"
      ]
     },
     "execution_count": 4,
     "metadata": {},
     "output_type": "execute_result"
    }
   ],
   "source": [
    "//define a list of data\n",
    "var lst = new List<object>() \n",
    "    { 1, \"Sarajevo\", 77000, \"BiH\", true, 3.14, DateTime.Now.AddDays(-20),\n",
    "      2, \"Seattle\", 98101, \"USA\", false, 3.21, DateTime.Now.AddDays(-10),\n",
    "      3, \"Berlin\", 10115, \"GER\", false, 4.55, DateTime.Now.AddDays(-5) };\n",
    "\n",
    "//define column header for the data frame\n",
    "var columns = new List<string>() { \"ID\", \"City\", \"Zip Code\",\"Country\", \"IsHome\",\"Values\", \"Date\" };\n",
    "\n",
    "//create data frame with 3 rows and 7 columns\n",
    "var df = new DataFrame(lst.ToArray(), columns);\n",
    "//show df\n",
    "df"
   ]
  },
  {
   "cell_type": "markdown",
   "metadata": {},
   "source": [
    "## Create ```DataFrame``` from dictionary\n",
    "\n",
    "Similarly ```Daany.DataFrame```  can be created by passing dictionary collection. The following code shows how to create data frame from the dictionary:"
   ]
  },
  {
   "cell_type": "code",
   "execution_count": 5,
   "metadata": {
    "dotnet_interactive": {
     "language": "csharp"
    }
   },
   "outputs": [
    {
     "data": {
      "text/html": [
       "<table><thead><th><i>(index)</i></th><th>ID</th><th>City</th><th>Zip Code</th><th>State</th><th>IsHome</th><th>Values</th><th>Date</th></thead><tbody><tr><td><div class=\"dni-plaintext\">0</div></td><td><div class=\"dni-plaintext\">1</div></td><td>Sarajevo</td><td><div class=\"dni-plaintext\">71000</div></td><td>BiH</td><td><div class=\"dni-plaintext\">True</div></td><td><div class=\"dni-plaintext\">3.14</div></td><td><span>2022-01-20 09:15:19Z</span></td></tr><tr><td><div class=\"dni-plaintext\">1</div></td><td><div class=\"dni-plaintext\">2</div></td><td>Seattle</td><td><div class=\"dni-plaintext\">98101</div></td><td>USA</td><td><div class=\"dni-plaintext\">False</div></td><td><div class=\"dni-plaintext\">3.21</div></td><td><span>2022-01-30 09:15:19Z</span></td></tr><tr><td><div class=\"dni-plaintext\">2</div></td><td><div class=\"dni-plaintext\">3</div></td><td>Berlin</td><td><div class=\"dni-plaintext\">10115</div></td><td>GER</td><td><div class=\"dni-plaintext\">False</div></td><td><div class=\"dni-plaintext\">4.55</div></td><td><span>2022-02-04 09:15:19Z</span></td></tr></tbody></table>"
      ]
     },
     "execution_count": 5,
     "metadata": {},
     "output_type": "execute_result"
    }
   ],
   "source": [
    "//define a dictionary of data\n",
    "var dict = new Dictionary<string, List<object>>\n",
    "{\n",
    "\n",
    "    { \"ID\",new List<object>() { 1,2,3} },\n",
    "    { \"City\",new List<object>() { \"Sarajevo\", \"Seattle\", \"Berlin\" } },\n",
    "    { \"Zip Code\",new List<object>() { 71000,98101,10115 } },\n",
    "    { \"State\",new List<object>() {\"BiH\",\"USA\",\"GER\" } },\n",
    "    { \"IsHome\",new List<object>() { true, false, false} },\n",
    "    { \"Values\",new List<object>() { 3.14, 3.21, 4.55 } },\n",
    "    { \"Date\",new List<object>() { DateTime.Now.AddDays(-20) ,\n",
    "    DateTime.Now.AddDays(-10) , DateTime.Now.AddDays(-5) } },\n",
    "\n",
    "};\n",
    "\n",
    "//create data frame with 3 rows and 7 columns\n",
    "var df = new DataFrame(dict);\n",
    "//check the size of the data frame\n",
    "df"
   ]
  },
  {
   "cell_type": "markdown",
   "metadata": {},
   "source": [
    "## Create ```DataFrame``` by loading data from a file\n",
    "\n",
    "By using static method ```DataFrame.FromCsv``` a user can create data frame object\n",
    "from the ``csv`` file. Otherwise, data frame can be persisted on disk by calling\n",
    "static method ```DataFrame.ToCsv```. \n",
    "The following code shows how to use static methods ```ToCsv``` and ```FromCsv``` to show persisting and loading data to data frame:"
   ]
  },
  {
   "cell_type": "code",
   "execution_count": 6,
   "metadata": {
    "dotnet_interactive": {
     "language": "csharp"
    }
   },
   "outputs": [
    {
     "data": {
      "text/html": [
       "<table><thead><th><i>(index)</i></th><th>ID</th><th>City</th><th>Zip Code</th><th>State</th><th>IsHome</th><th>Values</th><th>Date</th></thead><tbody><tr><td><div class=\"dni-plaintext\">0</div></td><td><div class=\"dni-plaintext\">1</div></td><td>Sarajevo</td><td><div class=\"dni-plaintext\">71000</div></td><td>BiH</td><td>True</td><td><div class=\"dni-plaintext\">3.14</div></td><td><span>2022-01-20 09:15:20Z</span></td></tr><tr><td><div class=\"dni-plaintext\">1</div></td><td><div class=\"dni-plaintext\">2</div></td><td>Seattle</td><td><div class=\"dni-plaintext\">98101</div></td><td>USA</td><td>False</td><td><div class=\"dni-plaintext\">3.21</div></td><td><span>2022-01-30 09:15:20Z</span></td></tr><tr><td><div class=\"dni-plaintext\">2</div></td><td><div class=\"dni-plaintext\">3</div></td><td>Berlin</td><td><div class=\"dni-plaintext\">10115</div></td><td>GER</td><td>False</td><td><div class=\"dni-plaintext\">4.55</div></td><td><span>2022-02-04 09:15:20Z</span></td></tr></tbody></table>"
      ]
     },
     "execution_count": 6,
     "metadata": {},
     "output_type": "execute_result"
    }
   ],
   "source": [
    "string filename = \"df_file.txt\";\n",
    "//define a dictionary of data\n",
    "var dict = new Dictionary<string, List<object>>\n",
    "{\n",
    "    { \"ID\",new List<object>() { 1,2,3} },\n",
    "    { \"City\",new List<object>() { \"Sarajevo\", \"Seattle\", \"Berlin\" } },\n",
    "    { \"Zip Code\",new List<object>() { 71000,98101,10115 } },\n",
    "    { \"State\",new List<object>() {\"BiH\",\"USA\",\"GER\" } },\n",
    "    { \"IsHome\",new List<object>() { true, false, false} },\n",
    "    { \"Values\",new List<object>() { 3.14, 3.21, 4.55 } },\n",
    "    { \"Date\",new List<object>() { DateTime.Now.AddDays(-20) , DateTime.Now.AddDays(-10) , DateTime.Now.AddDays(-5) } },\n",
    "\n",
    "};\n",
    "\n",
    "//create data frame with 3 rows and 7 columns\n",
    "var df1 = new DataFrame(dict);\n",
    "\n",
    "//first Save data frame on disk and load it\n",
    "DataFrame.ToCsv(filename, df1);\n",
    "\n",
    "//create data frame with 3 rows and 7 columns\n",
    "var dfFromFile = DataFrame.FromCsv(filename, sep:',');\n",
    "//show data frame\n",
    "dfFromFile"
   ]
  },
  {
   "cell_type": "markdown",
   "metadata": {},
   "source": [
    "First, we created data frame from the dictionary collection. Then we store data frame to file. After successfully saving, we load the same data frame from the csv file. The end of the code snippet, put asserts in order to prove everything is correctly implemented.\n",
    "\n",
    "In case the performance is important, you should pass column types to `FromCSV` method in order to achieve up to 50% of loading time. \n",
    "For example the following code loads the data from the file, by passing predefined column types:"
   ]
  },
  {
   "cell_type": "code",
   "execution_count": 7,
   "metadata": {
    "dotnet_interactive": {
     "language": "csharp"
    }
   },
   "outputs": [
    {
     "data": {
      "text/html": [
       "<table><thead><th><i>(index)</i></th><th>ID</th><th>City</th><th>Zip Code</th><th>State</th><th>IsHome</th><th>Values</th><th>Date</th></thead><tbody><tr><td><div class=\"dni-plaintext\">0</div></td><td><div class=\"dni-plaintext\">1</div></td><td>Sarajevo</td><td><div class=\"dni-plaintext\">71000</div></td><td>BiH</td><td><div class=\"dni-plaintext\">True</div></td><td><div class=\"dni-plaintext\">3.14</div></td><td><span>2022-01-20 09:15:20Z</span></td></tr><tr><td><div class=\"dni-plaintext\">1</div></td><td><div class=\"dni-plaintext\">2</div></td><td>Seattle</td><td><div class=\"dni-plaintext\">98101</div></td><td>USA</td><td><div class=\"dni-plaintext\">False</div></td><td><div class=\"dni-plaintext\">3.21</div></td><td><span>2022-01-30 09:15:20Z</span></td></tr><tr><td><div class=\"dni-plaintext\">2</div></td><td><div class=\"dni-plaintext\">3</div></td><td>Berlin</td><td><div class=\"dni-plaintext\">10115</div></td><td>GER</td><td><div class=\"dni-plaintext\">False</div></td><td><div class=\"dni-plaintext\">4.55</div></td><td><span>2022-02-04 09:15:20Z</span></td></tr></tbody></table>"
      ]
     },
     "execution_count": 7,
     "metadata": {},
     "output_type": "execute_result"
    }
   ],
   "source": [
    "//defined types of the column \n",
    "var colTypes1 = new ColType[] { ColType.I32, ColType.IN, ColType.I32, ColType.STR, ColType.I2, ColType.F32, ColType.DT };\n",
    "\n",
    "//create data frame with 3 rows and 7 columns\n",
    "var dfFromFile01 = DataFrame.FromCsv(filename, sep: ',', colTypes: colTypes1);\n",
    "dfFromFile01"
   ]
  },
  {
   "cell_type": "markdown",
   "metadata": {},
   "source": [
    "## Loading Data from a Web\n",
    "\n",
    "Data can be loaded directly from the web storage by using `FromWeb`static method. The following code shows how to load the `Concrete Slump Test` data from the web. The data set includes 103 data points. There are 7 input variables, and 3 output variables in the data set: `Cement`, `Slag`, `Fly ash`, `Water`, `SP`, `Coarse Aggr.`,`Fine Aggr.`, `SLUMP (cm)`, `FLOW (cm)`, `Strength (Mpa)`. \n",
    "The following code load the `Concrete Slump Test` data set into Daany DataFrame:\n"
   ]
  },
  {
   "cell_type": "code",
   "execution_count": 8,
   "metadata": {
    "dotnet_interactive": {
     "language": "csharp"
    },
    "scrolled": true
   },
   "outputs": [
    {
     "data": {
      "text/html": [
       "<table><thead><th><i>(index)</i></th><th>No</th><th>Cement</th><th>Slag</th><th>Fly ash</th><th>Water</th><th>SP</th><th>Coarse Aggr.</th><th>Fine Aggr.</th><th>SLUMP(cm)</th><th>FLOW(cm)</th><th>Compressive Strength (28-day)(Mpa)</th></thead><tbody><tr><td><div class=\"dni-plaintext\">0</div></td><td><div class=\"dni-plaintext\">1</div></td><td><div class=\"dni-plaintext\">273</div></td><td><div class=\"dni-plaintext\">82</div></td><td><div class=\"dni-plaintext\">105</div></td><td><div class=\"dni-plaintext\">210</div></td><td><div class=\"dni-plaintext\">9</div></td><td><div class=\"dni-plaintext\">904</div></td><td><div class=\"dni-plaintext\">680</div></td><td><div class=\"dni-plaintext\">23</div></td><td><div class=\"dni-plaintext\">62</div></td><td><div class=\"dni-plaintext\">34.99</div></td></tr><tr><td><div class=\"dni-plaintext\">1</div></td><td><div class=\"dni-plaintext\">2</div></td><td><div class=\"dni-plaintext\">163</div></td><td><div class=\"dni-plaintext\">149</div></td><td><div class=\"dni-plaintext\">191</div></td><td><div class=\"dni-plaintext\">180</div></td><td><div class=\"dni-plaintext\">12</div></td><td><div class=\"dni-plaintext\">843</div></td><td><div class=\"dni-plaintext\">746</div></td><td><div class=\"dni-plaintext\">0</div></td><td><div class=\"dni-plaintext\">20</div></td><td><div class=\"dni-plaintext\">41.14</div></td></tr><tr><td><div class=\"dni-plaintext\">2</div></td><td><div class=\"dni-plaintext\">3</div></td><td><div class=\"dni-plaintext\">162</div></td><td><div class=\"dni-plaintext\">148</div></td><td><div class=\"dni-plaintext\">191</div></td><td><div class=\"dni-plaintext\">179</div></td><td><div class=\"dni-plaintext\">16</div></td><td><div class=\"dni-plaintext\">840</div></td><td><div class=\"dni-plaintext\">743</div></td><td><div class=\"dni-plaintext\">1</div></td><td><div class=\"dni-plaintext\">20</div></td><td><div class=\"dni-plaintext\">41.81</div></td></tr><tr><td><div class=\"dni-plaintext\">3</div></td><td><div class=\"dni-plaintext\">4</div></td><td><div class=\"dni-plaintext\">162</div></td><td><div class=\"dni-plaintext\">148</div></td><td><div class=\"dni-plaintext\">190</div></td><td><div class=\"dni-plaintext\">179</div></td><td><div class=\"dni-plaintext\">19</div></td><td><div class=\"dni-plaintext\">838</div></td><td><div class=\"dni-plaintext\">741</div></td><td><div class=\"dni-plaintext\">3</div></td><td><div class=\"dni-plaintext\">21.5</div></td><td><div class=\"dni-plaintext\">42.08</div></td></tr><tr><td><div class=\"dni-plaintext\">4</div></td><td><div class=\"dni-plaintext\">5</div></td><td><div class=\"dni-plaintext\">154</div></td><td><div class=\"dni-plaintext\">112</div></td><td><div class=\"dni-plaintext\">144</div></td><td><div class=\"dni-plaintext\">220</div></td><td><div class=\"dni-plaintext\">10</div></td><td><div class=\"dni-plaintext\">923</div></td><td><div class=\"dni-plaintext\">658</div></td><td><div class=\"dni-plaintext\">20</div></td><td><div class=\"dni-plaintext\">64</div></td><td><div class=\"dni-plaintext\">26.82</div></td></tr></tbody></table>"
      ]
     },
     "execution_count": 8,
     "metadata": {},
     "output_type": "execute_result"
    }
   ],
   "source": [
    "//define web url where the data is stored\n",
    "var url = \"https://archive.ics.uci.edu/ml/machine-learning-databases/concrete/slump/slump_test.data\";\n",
    "//\n",
    "var df2 = DataFrame.FromWeb(url);\n",
    "df2.Head(5)"
   ]
  },
  {
   "cell_type": "markdown",
   "metadata": {},
   "source": [
    "## Other ways to create a ```DataFrame```\n",
    "\n",
    "Besides above, the data frame can be created on other ways:\n",
    "\n",
    "- Create data frame from existing one - This method can be used in order to create\n",
    "new data frame with different numbers of columns. For example, the new data frame\n",
    "can be created from existing one by specifying specific columns:"
   ]
  },
  {
   "cell_type": "code",
   "execution_count": 9,
   "metadata": {
    "dotnet_interactive": {
     "language": "csharp"
    }
   },
   "outputs": [
    {
     "data": {
      "text/html": [
       "<table><thead><th><i>(index)</i></th><th>City</th><th>Zip Code</th><th>State</th></thead><tbody><tr><td><div class=\"dni-plaintext\">0</div></td><td>Sarajevo</td><td><div class=\"dni-plaintext\">71000</div></td><td>BiH</td></tr><tr><td><div class=\"dni-plaintext\">1</div></td><td>Seattle</td><td><div class=\"dni-plaintext\">98101</div></td><td>USA</td></tr><tr><td><div class=\"dni-plaintext\">2</div></td><td>Berlin</td><td><div class=\"dni-plaintext\">10115</div></td><td>GER</td></tr></tbody></table>"
      ]
     },
     "execution_count": 9,
     "metadata": {},
     "output_type": "execute_result"
    }
   ],
   "source": [
    "//now create a new data frame with only three columns\n",
    "var newDf = df1[\"City\", \"Zip Code\", \"State\"];\n",
    "\n",
    "//check the size of the data frame\n",
    "newDf"
   ]
  },
  {
   "cell_type": "markdown",
   "metadata": {},
   "source": [
    "- Data frame can be created using ```Create``` method and passing tuples of\n",
    "existing and new column name. For example:"
   ]
  },
  {
   "cell_type": "code",
   "execution_count": 10,
   "metadata": {
    "dotnet_interactive": {
     "language": "csharp"
    }
   },
   "outputs": [
    {
     "data": {
      "text/html": [
       "<table><thead><th><i>(index)</i></th><th>Place</th><th>Zip Code</th><th>Country</th></thead><tbody><tr><td><div class=\"dni-plaintext\">0</div></td><td>Sarajevo</td><td><div class=\"dni-plaintext\">71000</div></td><td>BiH</td></tr><tr><td><div class=\"dni-plaintext\">1</div></td><td>Seattle</td><td><div class=\"dni-plaintext\">98101</div></td><td>USA</td></tr><tr><td><div class=\"dni-plaintext\">2</div></td><td>Berlin</td><td><div class=\"dni-plaintext\">10115</div></td><td>GER</td></tr></tbody></table>"
      ]
     },
     "execution_count": 10,
     "metadata": {},
     "output_type": "execute_result"
    }
   ],
   "source": [
    "//create data frame with 3 rows and 7 columns\n",
    "var df3 = DataFrame.FromCsv(\"data/simple_data_frame.txt\", sep: ',',names: null, dformat: \"MM/dd/yyyy\");\n",
    "\n",
    "//now create a new data frame with three columns which can be renamed during creation\n",
    "var newDf1 = df3.Create((\"City\",\"Place\"), (\"Zip Code\", null), (\"State\",\"Country\"));\n",
    "newDf1"
   ]
  },
  {
   "cell_type": "markdown",
   "metadata": {},
   "source": [
    "In case you want the column names remains the same pass ```null``` as second tuple\n",
    "item, or write the same name.\n",
    "\n",
    "- It is handy to create an empty data frame with specific column header. To do so\n",
    "use similar code like following:"
   ]
  },
  {
   "cell_type": "code",
   "execution_count": 11,
   "metadata": {
    "dotnet_interactive": {
     "language": "csharp"
    }
   },
   "outputs": [
    {
     "data": {
      "text/plain": [
       "(0, 4)"
      ]
     },
     "metadata": {},
     "output_type": "display_data"
    },
    {
     "data": {
      "text/html": [
       "<table><thead><tr><th><i>index</i></th><th>value</th></tr></thead><tbody><tr><td>0</td><td>Place</td></tr><tr><td>1</td><td>Country</td></tr><tr><td>2</td><td>Zip Code</td></tr><tr><td>3</td><td>Values</td></tr></tbody></table>"
      ]
     },
     "metadata": {},
     "output_type": "display_data"
    }
   ],
   "source": [
    "var cols = new List<string> { \"Place\", \"Country\", \"Zip Code\", \"Values\" };\n",
    "\n",
    "//create empty data frame with 4 columns\n",
    "var df = DataFrame.CreateEmpty(cols);\n",
    "\n",
    "//check the size of the data frame\n",
    "display(df.Shape.ToString());\n",
    "display(df.Columns.ToList());"
   ]
  },
  {
   "cell_type": "markdown",
   "metadata": {},
   "source": [
    "- Data frame is created almost in any performed operation like sorting, filtering,\n",
    "grouping, aggregation and similar."
   ]
  },
  {
   "cell_type": "markdown",
   "metadata": {},
   "source": [
    "Enumeration of  ```DataFrame```\n",
    "--------------------------\n",
    "\n",
    "Enumeration of data frame means iterating it row by row.\n",
    "```Daany.DataFrame```  provides three ways for the enumeration:\n",
    "\n",
    "-   **Strongly typed enumeration** – it means that you have to provide a Class type\n",
    "    during enumeration, as well as mapping logic for conversion data frame row into\n",
    "    the class object. This is done by providing callback mapping method.\n",
    "\n",
    "-   **Enumeration by dictionary** – it means that each data frame row is returned as\n",
    "    dictionary, where keys are column names and values are row array.\n",
    "\n",
    "-   **Enumeration by list** – it means the each data frame row is returned as list\n",
    "    of data."
   ]
  },
  {
   "cell_type": "markdown",
   "metadata": {},
   "source": [
    "### Strongly typed enumeration\n",
    "\n",
    "This enumeration is suitable when data frame need to be converted into list of\n",
    "custom types. Also, in order to convert ```Daany.DataFram``` into ```ML.NET```  ```IDataView``` you have to use typed enumeration. The following code shows how data set as previously loaded into ```Daany.DataFrame```  is converted into ```ML.NET``` ```IDataView```.\n",
    "\n",
    "Assume we defined ```Person``` class as follow:\n"
   ]
  },
  {
   "cell_type": "code",
   "execution_count": 12,
   "metadata": {
    "dotnet_interactive": {
     "language": "csharp"
    }
   },
   "outputs": [],
   "source": [
    "//define class type\n",
    "class Person\n",
    "{\n",
    "    public int ID { get; set; }\n",
    "    public string City { get; set; }\n",
    "    public int Zip { get; set; }\n",
    "    public string State { get; set; }\n",
    "    public bool IsHome { get; set; }\n",
    "    public float Values { get; set; }\n",
    "    public DateTime Date { get; set; }\n",
    "}"
   ]
  },
  {
   "cell_type": "markdown",
   "metadata": {},
   "source": [
    "Previously we created ```Daany.DataFrame```  from the file containing lists of Persons. Conversion from ```Daany.DataFrame``` to list of ```Persons``` the following code should be implemented:"
   ]
  },
  {
   "cell_type": "code",
   "execution_count": 13,
   "metadata": {
    "dotnet_interactive": {
     "language": "csharp"
    }
   },
   "outputs": [
    {
     "data": {
      "text/html": [
       "<table><thead><tr><th><i>index</i></th><th>ID</th><th>City</th><th>Zip</th><th>State</th><th>IsHome</th><th>Values</th><th>Date</th></tr></thead><tbody><tr><td>0</td><td><div class=\"dni-plaintext\">1</div></td><td>Sarajevo</td><td><div class=\"dni-plaintext\">71000</div></td><td>BiH</td><td><div class=\"dni-plaintext\">True</div></td><td><div class=\"dni-plaintext\">3.14</div></td><td><span>2019-10-17 13:03:40Z</span></td></tr><tr><td>1</td><td><div class=\"dni-plaintext\">2</div></td><td>Seattle</td><td><div class=\"dni-plaintext\">98101</div></td><td>USA</td><td><div class=\"dni-plaintext\">False</div></td><td><div class=\"dni-plaintext\">3.21</div></td><td><span>2019-10-27 13:03:40Z</span></td></tr><tr><td>2</td><td><div class=\"dni-plaintext\">3</div></td><td>Berlin</td><td><div class=\"dni-plaintext\">10115</div></td><td>GER</td><td><div class=\"dni-plaintext\">False</div></td><td><div class=\"dni-plaintext\">4.55</div></td><td><span>2019-11-01 13:03:40Z</span></td></tr></tbody></table>"
      ]
     },
     "metadata": {},
     "output_type": "display_data"
    }
   ],
   "source": [
    "//create data frame with 3 rows and 7 columns\n",
    "var df34 = DataFrame.FromCsv($\"data/simple_data_frame.txt\");\n",
    "\n",
    "//convert data frame into strongly typed list\n",
    "List<Person> list = df34.GetEnumerator<Person>((oRow) =>\n",
    "{\n",
    "    //convert row object array into Iris row\n",
    "\n",
    "    var prRow = new Person();\n",
    "    prRow.ID = Convert.ToInt32(oRow[\"ID\"]);\n",
    "    prRow.City = Convert.ToString(oRow[\"City\"]);\n",
    "    prRow.Zip = Convert.ToInt32(oRow[\"Zip Code\"]);\n",
    "    prRow.State = Convert.ToString(oRow[\"State\"]);\n",
    "    prRow.IsHome = Convert.ToBoolean(oRow[\"IsHome\"]);\n",
    "    prRow.Values = Convert.ToSingle(oRow[\"Values\"]);\n",
    "    prRow.Date = Convert.ToDateTime(oRow[\"Date\"]);\n",
    "    //\n",
    "    return prRow;\n",
    "}).ToList();\n",
    "\n",
    "//\n",
    "display(list)"
   ]
  },
  {
   "cell_type": "markdown",
   "metadata": {},
   "source": [
    "As can be seen, ```GetEnumerator``` takes one argument `oRow` which is dictionary of the\n",
    "data frame row. The `oRow` is passed into delegate where conversion is performed."
   ]
  },
  {
   "cell_type": "markdown",
   "metadata": {},
   "source": [
    "### Enumeration by dictionary"
   ]
  },
  {
   "cell_type": "markdown",
   "metadata": {},
   "source": [
    "In order to enumerate data frame by dictionary call ```GetEnumerator``` method, without providing custom type. The following code uses previously loaded data frame and perform `Linq` operators against it.\n"
   ]
  },
  {
   "cell_type": "code",
   "execution_count": 14,
   "metadata": {
    "dotnet_interactive": {
     "language": "csharp"
    }
   },
   "outputs": [
    {
     "data": {
      "text/html": [
       "<table><thead><tr><th><i>key</i></th><th><i>type</i></th><th>value</th></tr></thead><tbody><tr><td>ID</td><td><span><a href=\"https://docs.microsoft.com/dotnet/api/system.int32?view=net-5.0\">System.Int32</a></span></td><td><div class=\"dni-plaintext\">2</div></td></tr><tr><td>City</td><td><span><a href=\"https://docs.microsoft.com/dotnet/api/system.string?view=net-5.0\">System.String</a></span></td><td>Seattle</td></tr><tr><td>Zip Code</td><td><span><a href=\"https://docs.microsoft.com/dotnet/api/system.int32?view=net-5.0\">System.Int32</a></span></td><td><div class=\"dni-plaintext\">98101</div></td></tr><tr><td>State</td><td><span><a href=\"https://docs.microsoft.com/dotnet/api/system.string?view=net-5.0\">System.String</a></span></td><td>USA</td></tr><tr><td>IsHome</td><td><span><a href=\"https://docs.microsoft.com/dotnet/api/system.string?view=net-5.0\">System.String</a></span></td><td>False</td></tr><tr><td>Values</td><td><span><a href=\"https://docs.microsoft.com/dotnet/api/system.single?view=net-5.0\">System.Single</a></span></td><td><div class=\"dni-plaintext\">3.21</div></td></tr><tr><td>Date</td><td><span><a href=\"https://docs.microsoft.com/dotnet/api/system.datetime?view=net-5.0\">System.DateTime</a></span></td><td><span>2019-10-27 13:03:40Z</span></td></tr></tbody></table>"
      ]
     },
     "execution_count": 14,
     "metadata": {},
     "output_type": "execute_result"
    }
   ],
   "source": [
    "//create data frame with 3 rows and 7 columns\n",
    "var df42 = DataFrame.FromCsv($\"data/simple_data_frame.txt\");\n",
    "\n",
    "//get second data frame row\n",
    "//row2 is a dictionary with column names as keys\n",
    "var row2 = df42.GetEnumerator().Skip(1).First();\n",
    "row2"
   ]
  },
  {
   "cell_type": "markdown",
   "metadata": {},
   "source": [
    "### Enumeration by list\n",
    "\n",
    "Data frame can be enumerated by returning the row as a list. This method can be use when the performance is important, otherwise use previous method. The following code shows how to use enumeration by list."
   ]
  },
  {
   "cell_type": "code",
   "execution_count": 15,
   "metadata": {
    "dotnet_interactive": {
     "language": "csharp"
    }
   },
   "outputs": [
    {
     "data": {
      "text/html": [
       "<div class=\"dni-plaintext\">&lt;null&gt;</div>"
      ]
     },
     "metadata": {},
     "output_type": "display_data"
    }
   ],
   "source": [
    "//create data frame with 3 rows and 7 columns\n",
    "var df46 = DataFrame.FromCsv($\"data/simple_data_frame.txt\");\n",
    "\n",
    "//get second data frame row\n",
    "//row2 is a dictionary with column names as keys\n",
    "var row46 = df.GetRowEnumerator().FirstOrDefault();\n",
    "display(row46)"
   ]
  },
  {
   "cell_type": "markdown",
   "metadata": {},
   "source": [
    "Selecting data in ```Daany``` data frame\n",
    "==================================\n",
    "\n",
    "Accessing data in data frame can be achieved in many ways. Also different kind of data can be selected from the data frame. You can select a data as a single values, or list of data from a single row, list of column values or data frame as subset of the existing one. Let's see how can the column be selected from the data frame. \n",
    "\n",
    "## Column selection\n",
    "\n",
    "This code sample select two columns separately from data frame, and convert them\n",
    "into array and list."
   ]
  },
  {
   "cell_type": "code",
   "execution_count": 16,
   "metadata": {
    "dotnet_interactive": {
     "language": "csharp"
    }
   },
   "outputs": [
    {
     "data": {
      "text/html": [
       "<table><thead><tr><th>Item1</th><th>Item2</th></tr></thead><tbody><tr><td><div class=\"dni-plaintext\">[ Sarajevo, Seattle, Berlin ]</div></td><td><div class=\"dni-plaintext\">[ 71000, 98101, 10115 ]</div></td></tr></tbody></table>"
      ]
     },
     "execution_count": 16,
     "metadata": {},
     "output_type": "execute_result"
    }
   ],
   "source": [
    "//create data frame with 3 rows and 7 columns\n",
    "var df = DataFrame.FromCsv($\"data/simple_data_frame.txt\");\n",
    "\n",
    "//select one column from the data frame\n",
    "var cities = df[\"City\"].ToArray();\n",
    "var zipCodes = df[\"Zip Code\"].ToList();\n",
    "\n",
    "(cities,zipCodes)"
   ]
  },
  {
   "cell_type": "markdown",
   "metadata": {},
   "source": [
    "## Two or more columns selection\n",
    "\n",
    "Selecting more than one column at once returns data frame. The following code\n",
    "creates new data frame from selected columns:"
   ]
  },
  {
   "cell_type": "code",
   "execution_count": 17,
   "metadata": {
    "dotnet_interactive": {
     "language": "csharp"
    }
   },
   "outputs": [
    {
     "data": {
      "text/html": [
       "<table><thead><th><i>(index)</i></th><th>City</th><th>Zip Code</th></thead><tbody><tr><td><div class=\"dni-plaintext\">0</div></td><td>Sarajevo</td><td><div class=\"dni-plaintext\">71000</div></td></tr><tr><td><div class=\"dni-plaintext\">1</div></td><td>Seattle</td><td><div class=\"dni-plaintext\">98101</div></td></tr><tr><td><div class=\"dni-plaintext\">2</div></td><td>Berlin</td><td><div class=\"dni-plaintext\">10115</div></td></tr></tbody></table>"
      ]
     },
     "execution_count": 17,
     "metadata": {},
     "output_type": "execute_result"
    }
   ],
   "source": [
    "//create data frame with 3 rows and 7 columns\n",
    "var df54 = DataFrame.FromCsv($\"data/simple_data_frame.txt\");\n",
    "\n",
    "//select one column from the data frame\n",
    "var citiesDf = df54[\"City\", \"Zip Code\"];\n",
    "\n",
    "//check for values\n",
    "citiesDf"
   ]
  },
  {
   "cell_type": "markdown",
   "metadata": {},
   "source": [
    "## Row selection\n",
    "Selecting data by rows returns whole row from the data frame. The following code\n",
    "returns third rows from the existing data frame."
   ]
  },
  {
   "cell_type": "code",
   "execution_count": 18,
   "metadata": {
    "dotnet_interactive": {
     "language": "csharp"
    }
   },
   "outputs": [
    {
     "data": {
      "text/html": [
       "<table><thead><tr><th><i>index</i></th><th><i>type</i></th><th>value</th></tr></thead><tbody><tr><td>0</td><td><span><a href=\"https://docs.microsoft.com/dotnet/api/system.int32?view=net-5.0\">System.Int32</a></span></td><td><div class=\"dni-plaintext\">3</div></td></tr><tr><td>1</td><td><span><a href=\"https://docs.microsoft.com/dotnet/api/system.string?view=net-5.0\">System.String</a></span></td><td>Berlin</td></tr><tr><td>2</td><td><span><a href=\"https://docs.microsoft.com/dotnet/api/system.int32?view=net-5.0\">System.Int32</a></span></td><td><div class=\"dni-plaintext\">10115</div></td></tr><tr><td>3</td><td><span><a href=\"https://docs.microsoft.com/dotnet/api/system.string?view=net-5.0\">System.String</a></span></td><td>GER</td></tr><tr><td>4</td><td><span><a href=\"https://docs.microsoft.com/dotnet/api/system.string?view=net-5.0\">System.String</a></span></td><td>False</td></tr><tr><td>5</td><td><span><a href=\"https://docs.microsoft.com/dotnet/api/system.single?view=net-5.0\">System.Single</a></span></td><td><div class=\"dni-plaintext\">4.55</div></td></tr><tr><td>6</td><td><span><a href=\"https://docs.microsoft.com/dotnet/api/system.datetime?view=net-5.0\">System.DateTime</a></span></td><td><span>2019-11-01 13:03:40Z</span></td></tr></tbody></table>"
      ]
     },
     "execution_count": 18,
     "metadata": {},
     "output_type": "execute_result"
    }
   ],
   "source": [
    "//select third row from data frame\n",
    "//3, \"Berlin\", 10115, \"GER\", false, 4.55, DateTime.Now.AddDays(-5)\n",
    "var row = df54[2].ToArray();\n",
    "row"
   ]
  },
  {
   "cell_type": "markdown",
   "metadata": {},
   "source": [
    "## Data selection\n",
    "\n",
    "Selecting data is achieved by using zero-based position of row and column or by column name and rows position. The following code select ```City``` from the third row:"
   ]
  },
  {
   "cell_type": "code",
   "execution_count": 19,
   "metadata": {
    "dotnet_interactive": {
     "language": "csharp"
    }
   },
   "outputs": [
    {
     "data": {
      "text/html": [
       "<table><thead><tr><th>Item1</th><th>Item2</th></tr></thead><tbody><tr><td><div class=\"dni-plaintext\">Berlin</div></td><td><div class=\"dni-plaintext\">Berlin</div></td></tr></tbody></table>"
      ]
     },
     "execution_count": 19,
     "metadata": {},
     "output_type": "execute_result"
    }
   ],
   "source": [
    "//create data frame with 3 rows and 7 columns\n",
    "var df57 = DataFrame.FromCsv($\"data/simple_data_frame.txt\");\n",
    "\n",
    "//select city from the third row\n",
    "var city = df57[2,1];\n",
    "var city1 = df57[\"City\", 2];\n",
    "\n",
    "(city, city1)//the same values with diferent indexer accessors"
   ]
  },
  {
   "cell_type": "markdown",
   "metadata": {},
   "source": [
    "# Operations in `Daany.DataFrame`"
   ]
  },
  {
   "cell_type": "markdown",
   "metadata": {},
   "source": [
    "```Daany.DataFrame```  supports the following operations:\n",
    "\n",
    "-   Add/Insert Column,\n",
    "-   AddRows,\n",
    "-   AddCalculatedColumns,\n",
    "-   Aggregate,\n",
    "-   Describe,\n",
    "-   Drop, DropNA and FillNA,\n",
    "-   Filter and RemoveRows,\n",
    "-   SortBy and SortByDescending,\n",
    "-   GroupBy and Rolling\n",
    "-   Merge and Join two data frames\n",
    "-   Select.\n",
    "\n",
    "In the next section eery feature is going to be presented."
   ]
  },
  {
   "cell_type": "markdown",
   "metadata": {},
   "source": [
    "Add/Insert new columns into data frame\n",
    "--------------------------\n",
    "\n",
    "Adding one or more new columns into data frame can be achieve by calling\n",
    "```AddColumns``` data frame method. The following code add two new columns `Age` and\n",
    "`Gender` to existing data frame:"
   ]
  },
  {
   "cell_type": "code",
   "execution_count": 20,
   "metadata": {
    "dotnet_interactive": {
     "language": "csharp"
    }
   },
   "outputs": [
    {
     "data": {
      "text/html": [
       "<table><thead><th><i>(index)</i></th><th>ID</th><th>City</th><th>Zip Code</th><th>State</th><th>IsHome</th><th>Values</th><th>Date</th><th>Age</th><th>Gender</th></thead><tbody><tr><td><div class=\"dni-plaintext\">0</div></td><td><div class=\"dni-plaintext\">1</div></td><td>Sarajevo</td><td><div class=\"dni-plaintext\">71000</div></td><td>BiH</td><td>True</td><td><div class=\"dni-plaintext\">3.14</div></td><td><span>2019-10-17 13:03:40Z</span></td><td><div class=\"dni-plaintext\">31</div></td><td>male</td></tr><tr><td><div class=\"dni-plaintext\">1</div></td><td><div class=\"dni-plaintext\">2</div></td><td>Seattle</td><td><div class=\"dni-plaintext\">98101</div></td><td>USA</td><td>False</td><td><div class=\"dni-plaintext\">3.21</div></td><td><span>2019-10-27 13:03:40Z</span></td><td><div class=\"dni-plaintext\">25</div></td><td>female</td></tr><tr><td><div class=\"dni-plaintext\">2</div></td><td><div class=\"dni-plaintext\">3</div></td><td>Berlin</td><td><div class=\"dni-plaintext\">10115</div></td><td>GER</td><td>False</td><td><div class=\"dni-plaintext\">4.55</div></td><td><span>2019-11-01 13:03:40Z</span></td><td><div class=\"dni-plaintext\">45</div></td><td>male</td></tr></tbody></table>"
      ]
     },
     "execution_count": 20,
     "metadata": {},
     "output_type": "execute_result"
    }
   ],
   "source": [
    "//create data frame with 3 rows and 7 columns\n",
    "var df = DataFrame.FromCsv($\"data/simple_data_frame.txt\");\n",
    "\n",
    "//add Age column\n",
    "var newCols = new Dictionary<string, List<object>>()\n",
    "    {\n",
    "        { \"Age\", new List<object>() { 31, 25, 45 } },\n",
    "        { \"Gender\", new List<object>() { \"male\", \"female\", \"male\" } } \n",
    "    };\n",
    "\n",
    "//add column\n",
    "var newDf = df.AddColumns(newCols);\n",
    "\n",
    "newDf"
   ]
  },
  {
   "cell_type": "markdown",
   "metadata": {},
   "source": [
    "Similarly, column can be inserted at any column list position. In case the above column should be inserted somewhere in column header, `InsertColumn` should be called:"
   ]
  },
  {
   "cell_type": "code",
   "execution_count": 21,
   "metadata": {
    "dotnet_interactive": {
     "language": "csharp"
    }
   },
   "outputs": [
    {
     "data": {
      "text/html": [
       "<table><thead><th><i>(index)</i></th><th>ID</th><th>City</th><th>Zip Code</th><th>State</th><th>IsHome</th><th>Values</th><th>Date</th><th>Age</th><th>Age2</th><th>Gender</th></thead><tbody><tr><td><div class=\"dni-plaintext\">0</div></td><td><div class=\"dni-plaintext\">1</div></td><td>Sarajevo</td><td><div class=\"dni-plaintext\">71000</div></td><td>BiH</td><td>True</td><td><div class=\"dni-plaintext\">3.14</div></td><td><span>2019-10-17 13:03:40Z</span></td><td><div class=\"dni-plaintext\">31</div></td><td><div class=\"dni-plaintext\">131</div></td><td>male</td></tr><tr><td><div class=\"dni-plaintext\">1</div></td><td><div class=\"dni-plaintext\">2</div></td><td>Seattle</td><td><div class=\"dni-plaintext\">98101</div></td><td>USA</td><td>False</td><td><div class=\"dni-plaintext\">3.21</div></td><td><span>2019-10-27 13:03:40Z</span></td><td><div class=\"dni-plaintext\">25</div></td><td><div class=\"dni-plaintext\">125</div></td><td>female</td></tr><tr><td><div class=\"dni-plaintext\">2</div></td><td><div class=\"dni-plaintext\">3</div></td><td>Berlin</td><td><div class=\"dni-plaintext\">10115</div></td><td>GER</td><td>False</td><td><div class=\"dni-plaintext\">4.55</div></td><td><span>2019-11-01 13:03:40Z</span></td><td><div class=\"dni-plaintext\">45</div></td><td><div class=\"dni-plaintext\">145</div></td><td>male</td></tr></tbody></table>"
      ]
     },
     "execution_count": 21,
     "metadata": {},
     "output_type": "execute_result"
    }
   ],
   "source": [
    "//add Age column\n",
    "var newCol= new List<object>() { 131, 125, 145 };\n",
    "\n",
    "//inser column at third position\n",
    "var newDf01= newDf.InsertColumn(\"Age2\", newCol, 8 );\n",
    "newDf01"
   ]
  },
  {
   "cell_type": "markdown",
   "metadata": {},
   "source": [
    "Add new rows into data frame\n",
    "------------------------------------\n",
    "\n",
    "In order to add one or more rows into existing data frame the `AddRow` or `AddRows`\n",
    "should be called respectively. The following code shows adding one row into\n",
    "existing data frame:"
   ]
  },
  {
   "cell_type": "code",
   "execution_count": 22,
   "metadata": {
    "dotnet_interactive": {
     "language": "csharp"
    }
   },
   "outputs": [],
   "source": [
    "//create data frame with 3 rows and 7 columns\n",
    "var df = DataFrame.FromCsv($\"data/simple_data_frame.txt\");\n",
    "\n",
    "//new row\n",
    "var newRow = new List<object>() { 4, \"London\", 11000, \"GB\", false, 5.55,\n",
    "DateTime.Now.AddDays(-5) };\n",
    "\n",
    "//add column\n",
    "df.AddRow(newRow);\n",
    "//check for values\n",
    "Assert(7==df.ColCount());\n",
    "Assert(4==df.RowCount());\n",
    "Assert(\"GB\"== df[\"State\", 3].ToString());\n",
    "Assert(5.55== (double)df[\"Values\", 3]);"
   ]
  },
  {
   "cell_type": "markdown",
   "metadata": {},
   "source": [
    "In case more than one rows should be added into data frame we can used `AddRows`\n",
    "method by passing data frame object containing new rows. The data frame object must have the same number of columns as existing. More than one row can be added by calling `AddRow` from the loop.\n"
   ]
  },
  {
   "cell_type": "markdown",
   "metadata": {},
   "source": [
    "# Add calculated column\n",
    "\n",
    "Adding calculated column into data frame is often task. We use this feature when performing features engineering or feature selection during data preparation. In order to add new column into data frame which is based on the calculation on each rows in the data frame use `AddCalculatedColumn` method. The method has two variants with current row as dictionary or as list collection. Both methods are very similar, so we are going to show the example by using the first variant. The\n",
    "following code shows adding calculated column into existing data frame:"
   ]
  },
  {
   "cell_type": "code",
   "execution_count": 23,
   "metadata": {
    "dotnet_interactive": {
     "language": "csharp"
    }
   },
   "outputs": [
    {
     "data": {
      "text/html": [
       "<table><thead><th><i>(index)</i></th><th>col1</th><th>col2</th><th>col3</th><th>col4</th><th>col5</th><th>col6</th><th>col7</th><th>col8</th><th>col9</th><th>col10</th><th>col11</th><th>col12</th></thead><tbody><tr><td><div class=\"dni-plaintext\">0</div></td><td><div class=\"dni-plaintext\">1</div></td><td><div class=\"dni-plaintext\">2</div></td><td><div class=\"dni-plaintext\">3</div></td><td><div class=\"dni-plaintext\">4</div></td><td><div class=\"dni-plaintext\">5</div></td><td><div class=\"dni-plaintext\">6</div></td><td><div class=\"dni-plaintext\">7</div></td><td><div class=\"dni-plaintext\">8</div></td><td><div class=\"dni-plaintext\">9</div></td><td><div class=\"dni-plaintext\">10</div></td><td><div class=\"dni-plaintext\">11</div></td><td><div class=\"dni-plaintext\">12</div></td></tr><tr><td><div class=\"dni-plaintext\">1</div></td><td><div class=\"dni-plaintext\">13</div></td><td><div class=\"dni-plaintext\">14</div></td><td><div class=\"dni-plaintext\">15</div></td><td><div class=\"dni-plaintext\">16</div></td><td><div class=\"dni-plaintext\">17</div></td><td><div class=\"dni-plaintext\">18</div></td><td><div class=\"dni-plaintext\">19</div></td><td><div class=\"dni-plaintext\">20</div></td><td><div class=\"dni-plaintext\">21</div></td><td><div class=\"dni-plaintext\">22</div></td><td><div class=\"dni-plaintext\">23</div></td><td><div class=\"dni-plaintext\">24</div></td></tr><tr><td><div class=\"dni-plaintext\">2</div></td><td><div class=\"dni-plaintext\">25</div></td><td><div class=\"dni-plaintext\">26</div></td><td><div class=\"dni-plaintext\">27</div></td><td><div class=\"dni-plaintext\">28</div></td><td><div class=\"dni-plaintext\">29</div></td><td><div class=\"dni-plaintext\">30</div></td><td><div class=\"dni-plaintext\">31</div></td><td><div class=\"dni-plaintext\">32</div></td><td><div class=\"dni-plaintext\">33</div></td><td><div class=\"dni-plaintext\">34</div></td><td><div class=\"dni-plaintext\">35</div></td><td><div class=\"dni-plaintext\">36</div></td></tr><tr><td><div class=\"dni-plaintext\">3</div></td><td><div class=\"dni-plaintext\">37</div></td><td><div class=\"dni-plaintext\">38</div></td><td><div class=\"dni-plaintext\">39</div></td><td><div class=\"dni-plaintext\">40</div></td><td><div class=\"dni-plaintext\">41</div></td><td><div class=\"dni-plaintext\">42</div></td><td><div class=\"dni-plaintext\">43</div></td><td><div class=\"dni-plaintext\">44</div></td><td><div class=\"dni-plaintext\">45</div></td><td><div class=\"dni-plaintext\">46</div></td><td><div class=\"dni-plaintext\">47</div></td><td><div class=\"dni-plaintext\">48</div></td></tr><tr><td><div class=\"dni-plaintext\">4</div></td><td><div class=\"dni-plaintext\">49</div></td><td><div class=\"dni-plaintext\">50</div></td><td><div class=\"dni-plaintext\">51</div></td><td><div class=\"dni-plaintext\">52</div></td><td><div class=\"dni-plaintext\">53</div></td><td><div class=\"dni-plaintext\">54</div></td><td><div class=\"dni-plaintext\">55</div></td><td><div class=\"dni-plaintext\">56</div></td><td><div class=\"dni-plaintext\">57</div></td><td><div class=\"dni-plaintext\">58</div></td><td><div class=\"dni-plaintext\">59</div></td><td><div class=\"dni-plaintext\">60</div></td></tr></tbody></table>"
      ]
     },
     "execution_count": 23,
     "metadata": {},
     "output_type": "execute_result"
    }
   ],
   "source": [
    "var dict = new Dictionary<string, List<object>>\n",
    "    {\n",
    "        { \"col1\",new List<object>() { 1,13,25,37,49} },\n",
    "        { \"col2\",new List<object>() { 2,14,26,38,50} },\n",
    "        { \"col3\",new List<object>() { 3,15,27,39,51} },\n",
    "        { \"col4\",new List<object>() { 4,16,28,40,52} },\n",
    "        { \"col5\",new List<object>() { 5,17,29,41,53} },\n",
    "        { \"col6\",new List<object>() { 6,18,30,42,54} },\n",
    "        { \"col7\",new List<object>() { 7,19,31,43,55} },\n",
    "        { \"col8\",new List<object>() { 8,20,32,44,56} },\n",
    "        { \"col9\",new List<object>() { 9,21,33,45,57} },\n",
    "        { \"col10\",new List<object>(){ 10,22,34,46,58} },\n",
    "    };\n",
    "\n",
    "//\n",
    "var df = new DataFrame(dict);\n",
    "var sCols = new string[] { \"col11\", \"col12\" };\n",
    "var df01 = df.AddCalculatedColumns(sCols, (row, i) => calculate(row, i));\n",
    "\n",
    "//local function declaration\n",
    "object[] calculate(IDictionary<string, object> row, int i)\n",
    "    {\n",
    "        return new object[2] { i * (row.Count() +2) + row.Count() + 1,\n",
    "        i * (row.Count()+ 2) + row.Count() +2};\n",
    "    }\n",
    "df"
   ]
  },
  {
   "cell_type": "markdown",
   "metadata": {},
   "source": [
    "As can be seen two new columns have been added by the calculations made by the current\n",
    "row."
   ]
  },
  {
   "cell_type": "markdown",
   "metadata": {},
   "source": [
    "### Aggregation in data frame\n",
    "\n",
    "Aggregation process include performing arithmetic operation on data frame. The result of\n",
    "the aggregation is new list of values or new data frame containing the result of\n",
    "aggregation operations. The following code shows Aggregation method in action:"
   ]
  },
  {
   "cell_type": "code",
   "execution_count": 24,
   "metadata": {
    "dotnet_interactive": {
     "language": "csharp"
    }
   },
   "outputs": [
    {
     "data": {
      "text/html": [
       "<table><thead><th><i>(index)</i></th><th>ID</th><th>City</th><th>Zip Code</th><th>State</th><th>IsHome</th><th>Values</th><th>Date</th><th>Age</th><th>Gender</th></thead><tbody><tr><td><div class=\"dni-plaintext\">0</div></td><td><div class=\"dni-plaintext\">1</div></td><td>Sarajevo</td><td><div class=\"dni-plaintext\">71000</div></td><td>BiH</td><td><div class=\"dni-plaintext\">True</div></td><td><div class=\"dni-plaintext\">3.14</div></td><td><span>2022-01-20 09:15:50Z</span></td><td><div class=\"dni-plaintext\">31</div></td><td>male</td></tr><tr><td><div class=\"dni-plaintext\">1</div></td><td><div class=\"dni-plaintext\">2</div></td><td>Seattle</td><td><div class=\"dni-plaintext\">98101</div></td><td>USA</td><td><div class=\"dni-plaintext\">False</div></td><td><div class=\"dni-plaintext\">3.21</div></td><td><span>2022-01-30 09:15:50Z</span></td><td><div class=\"dni-plaintext\">25</div></td><td>female</td></tr><tr><td><div class=\"dni-plaintext\">2</div></td><td><div class=\"dni-plaintext\">3</div></td><td>Berlin</td><td><div class=\"dni-plaintext\">10115</div></td><td>GER</td><td><div class=\"dni-plaintext\">False</div></td><td><div class=\"dni-plaintext\">4.55</div></td><td><span>2022-02-04 09:15:50Z</span></td><td><div class=\"dni-plaintext\">45</div></td><td>male</td></tr></tbody></table>"
      ]
     },
     "execution_count": 24,
     "metadata": {},
     "output_type": "execute_result"
    }
   ],
   "source": [
    "var date = DateTime.Now.AddDays(-5);\n",
    "//define a dictionary of data\n",
    "var dict = new Dictionary<string, List<object>>\n",
    "{\n",
    "    { \"ID\",new List<object>() { 1,2,3} },\n",
    "    { \"City\",new List<object>() { \"Sarajevo\", \"Seattle\", \"Berlin\" } },\n",
    "    { \"Zip Code\",new List<object>() { 71000,98101,10115 } },\n",
    "    { \"State\",new List<object>() {\"BiH\",\"USA\",\"GER\" } },\n",
    "    { \"IsHome\",new List<object>() { true, false, false} },\n",
    "    { \"Values\",new List<object>() { 3.14, 3.21, 4.55 } },\n",
    "    { \"Date\",new List<object>() { DateTime.Now.AddDays(-20) ,\n",
    "    DateTime.Now.AddDays(-10) , date } },\n",
    "    { \"Age\", new List<object>() { 31, 25, 45 } },\n",
    "    { \"Gender\", new List<object>() { \"male\", \"female\", \"male\" } }\n",
    "};\n",
    "\n",
    "//create df\n",
    "var df = new DataFrame(dict);\n",
    "\n",
    "//define aggregation\n",
    "var agg = new Dictionary<string, Aggregation>() \n",
    "        { \n",
    "            {\"ID\",Aggregation.Count},\n",
    "            {\"City\",Aggregation.Top},\n",
    "            {\"Date\", Aggregation.Max},\n",
    "            {\"Values\",Aggregation.Avg },\n",
    "        };\n",
    "\n",
    "var row = df.Aggragate(agg);\n",
    "var val = new List<object>() { 3, \"Sarajevo\", 3.6333333333333329, date };\n",
    "\n",
    "for(int i=0; i< val.Count; i++)\n",
    "    Assert(val[i] == row[i]);\n",
    "\n",
    "df"
   ]
  },
  {
   "cell_type": "markdown",
   "metadata": {},
   "source": [
    "As can be seen from the code above. The aggregation process included performing\n",
    "different operation on four columns (`\"ID\"`,`\"City\"`,`\"Date\"`,`\"Values\"`). In case\n",
    "default argument `allColumns:true` then all columns from data frame will be shown\n",
    "in the aggregate result.\n",
    "\n",
    "In case more than one aggregate operation should be applied to single column, then the second aggregate method will be used. "
   ]
  },
  {
   "cell_type": "code",
   "execution_count": 25,
   "metadata": {
    "dotnet_interactive": {
     "language": "csharp"
    }
   },
   "outputs": [
    {
     "data": {
      "text/html": [
       "<table><thead><th><i>(index)</i></th><th>ID</th><th>City</th><th>Values</th><th>Date</th></thead><tbody><tr><td>Count</td><td><div class=\"dni-plaintext\">3</div></td><td><div class=\"dni-plaintext\">&lt;null&gt;</div></td><td><div class=\"dni-plaintext\">&lt;null&gt;</div></td><td><div class=\"dni-plaintext\">&lt;null&gt;</div></td></tr><tr><td>Sum</td><td><div class=\"dni-plaintext\">6</div></td><td><div class=\"dni-plaintext\">&lt;null&gt;</div></td><td><div class=\"dni-plaintext\">&lt;null&gt;</div></td><td><div class=\"dni-plaintext\">&lt;null&gt;</div></td></tr><tr><td>Top</td><td><div class=\"dni-plaintext\">&lt;null&gt;</div></td><td>Sarajevo</td><td><div class=\"dni-plaintext\">&lt;null&gt;</div></td><td><div class=\"dni-plaintext\">&lt;null&gt;</div></td></tr><tr><td>Freq</td><td><div class=\"dni-plaintext\">&lt;null&gt;</div></td><td><div class=\"dni-plaintext\">1</div></td><td><div class=\"dni-plaintext\">&lt;null&gt;</div></td><td><div class=\"dni-plaintext\">&lt;null&gt;</div></td></tr><tr><td>Mean</td><td><div class=\"dni-plaintext\">&lt;null&gt;</div></td><td><div class=\"dni-plaintext\">&lt;null&gt;</div></td><td><div class=\"dni-plaintext\">3.633333</div></td><td><div class=\"dni-plaintext\">&lt;null&gt;</div></td></tr><tr><td>Max</td><td><div class=\"dni-plaintext\">&lt;null&gt;</div></td><td><div class=\"dni-plaintext\">&lt;null&gt;</div></td><td><div class=\"dni-plaintext\">&lt;null&gt;</div></td><td><span>2022-02-04 09:15:50Z</span></td></tr></tbody></table>"
      ]
     },
     "execution_count": 25,
     "metadata": {},
     "output_type": "execute_result"
    }
   ],
   "source": [
    "var date = DateTime.Now.AddDays(-5);\n",
    "//define a dictionary of data\n",
    "var dict = new Dictionary<string, List<object>>\n",
    "{\n",
    "    { \"ID\",new List<object>() { 1,2,3} },\n",
    "    { \"City\",new List<object>() { \"Sarajevo\", \"Seattle\", \"Berlin\" } },\n",
    "    { \"Zip Code\",new List<object>() { 71000,98101,10115 } },\n",
    "    { \"State\",new List<object>() {\"BiH\",\"USA\",\"GER\" } },\n",
    "    { \"IsHome\",new List<object>() { true, false, false} },\n",
    "    { \"Values\",new List<object>() { 3.14, 3.21, 4.55 } },\n",
    "    { \"Date\",new List<object>() { DateTime.Now.AddDays(-20) , DateTime.Now.AddDays(-10) , date } },\n",
    "    { \"Age\", new List<object>() { 31, 25, 45 } },\n",
    "    { \"Gender\", new List<object>() { \"male\", \"female\", \"male\" } }\n",
    "};\n",
    "\n",
    "//create df\n",
    "var df = new DataFrame(dict);\n",
    "\n",
    "//define aggregation\n",
    "var agg = new Dictionary<string, Aggregation[]>() { {\"ID\",new Aggregation[]{Aggregation.Count,Aggregation.Sum }},\n",
    "                                                    {\"City\",new Aggregation[]{Aggregation.Top,Aggregation.Frequency }},\n",
    "                                                    {\"Date\", new Aggregation[]{Aggregation.Max }},\n",
    "                                                    {\"Values\",new Aggregation[]{Aggregation.Avg } },\n",
    "                                                };\n",
    "var newDf = df.Aggragate(agg);\n",
    "var val = new List<object>() { 3, null, null, null, 6, null, null, null, null, \"Sarajevo\", null, null, \n",
    "    null, 1, null, null, null, null, 3.633333, null, null, null, null, date};\n",
    "\n",
    "newDf\n",
    "\n"
   ]
  },
  {
   "cell_type": "markdown",
   "metadata": {},
   "source": [
    "### Describe data frame\n",
    "\n",
    "Describe data frame method prints out the based descriptive statistics for specified columns in the data frame. The following code shows usage of `Describe` method."
   ]
  },
  {
   "cell_type": "code",
   "execution_count": 26,
   "metadata": {
    "dotnet_interactive": {
     "language": "csharp"
    }
   },
   "outputs": [
    {
     "data": {
      "text/html": [
       "<table><thead><th><i>(index)</i></th><th>ID</th><th>Zip Code</th><th>Values</th><th>Age</th></thead><tbody><tr><td>Count</td><td><div class=\"dni-plaintext\">3</div></td><td><div class=\"dni-plaintext\">3</div></td><td><div class=\"dni-plaintext\">3</div></td><td><div class=\"dni-plaintext\">3</div></td></tr><tr><td>Unique</td><td><div class=\"dni-plaintext\">3</div></td><td><div class=\"dni-plaintext\">3</div></td><td><div class=\"dni-plaintext\">3</div></td><td><div class=\"dni-plaintext\">3</div></td></tr><tr><td>Top</td><td><div class=\"dni-plaintext\">1</div></td><td><div class=\"dni-plaintext\">71000</div></td><td><div class=\"dni-plaintext\">3.14</div></td><td><div class=\"dni-plaintext\">31</div></td></tr><tr><td>Freq</td><td><div class=\"dni-plaintext\">1</div></td><td><div class=\"dni-plaintext\">1</div></td><td><div class=\"dni-plaintext\">1</div></td><td><div class=\"dni-plaintext\">1</div></td></tr><tr><td>Mean</td><td><div class=\"dni-plaintext\">2</div></td><td><div class=\"dni-plaintext\">59738.666667</div></td><td><div class=\"dni-plaintext\">3.633333</div></td><td><div class=\"dni-plaintext\">33.666667</div></td></tr><tr><td>Std</td><td><div class=\"dni-plaintext\">1</div></td><td><div class=\"dni-plaintext\">45061.039384</div></td><td><div class=\"dni-plaintext\">0.794628</div></td><td><div class=\"dni-plaintext\">10.263203</div></td></tr><tr><td>Min</td><td><div class=\"dni-plaintext\">1</div></td><td><div class=\"dni-plaintext\">10115</div></td><td><div class=\"dni-plaintext\">3.14</div></td><td><div class=\"dni-plaintext\">25</div></td></tr><tr><td>25%</td><td><div class=\"dni-plaintext\">1.5</div></td><td><div class=\"dni-plaintext\">40557.5</div></td><td><div class=\"dni-plaintext\">3.175</div></td><td><div class=\"dni-plaintext\">28</div></td></tr><tr><td>Median</td><td><div class=\"dni-plaintext\">2</div></td><td><div class=\"dni-plaintext\">71000</div></td><td><div class=\"dni-plaintext\">3.21</div></td><td><div class=\"dni-plaintext\">31</div></td></tr><tr><td>75%</td><td><div class=\"dni-plaintext\">2.5</div></td><td><div class=\"dni-plaintext\">84550.5</div></td><td><div class=\"dni-plaintext\">3.88</div></td><td><div class=\"dni-plaintext\">38</div></td></tr><tr><td>Max</td><td><div class=\"dni-plaintext\">3</div></td><td><div class=\"dni-plaintext\">98101</div></td><td><div class=\"dni-plaintext\">4.55</div></td><td><div class=\"dni-plaintext\">45</div></td></tr></tbody></table>"
      ]
     },
     "execution_count": 26,
     "metadata": {},
     "output_type": "execute_result"
    }
   ],
   "source": [
    "var date = DateTime.Now.AddDays(-5);\n",
    "//define a dictionary of data\n",
    "var dict = new Dictionary<string, List<object>>\n",
    "{\n",
    "    { \"ID\",new List<object>() { 1,2,3} },\n",
    "    { \"City\",new List<object>() { \"Sarajevo\", \"Seattle\", \"Berlin\" } },\n",
    "    { \"Zip Code\",new List<object>() { 71000,98101,10115 } },\n",
    "    { \"State\",new List<object>() {\"BiH\",\"USA\",\"GER\" } },\n",
    "    { \"IsHome\",new List<object>() { true, false, false} },\n",
    "    { \"Values\",new List<object>() { 3.14, 3.21, 4.55 } },\n",
    "    { \"Date\",new List<object>() { DateTime.Now.AddDays(-20) , DateTime.Now.AddDays(-10) , date } },\n",
    "    { \"Age\", new List<object>() { 31, 25, 45 } },\n",
    "    { \"Gender\", new List<object>() { \"male\", \"female\", \"male\" } }\n",
    "};\n",
    "\n",
    "//create df\n",
    "var df = new DataFrame(dict);\n",
    "df.Describe()"
   ]
  },
  {
   "cell_type": "markdown",
   "metadata": {},
   "source": [
    "In case all columns should be presented the `Describe` method should be called with `df.Describe(numericOnly:false)`and the output should looks like:"
   ]
  },
  {
   "cell_type": "code",
   "execution_count": 27,
   "metadata": {
    "dotnet_interactive": {
     "language": "csharp"
    }
   },
   "outputs": [
    {
     "data": {
      "text/html": [
       "<table><thead><th><i>(index)</i></th><th>ID</th><th>City</th><th>Zip Code</th><th>State</th><th>IsHome</th><th>Values</th><th>Date</th><th>Age</th><th>Gender</th></thead><tbody><tr><td>Count</td><td><div class=\"dni-plaintext\">3</div></td><td><div class=\"dni-plaintext\">3</div></td><td><div class=\"dni-plaintext\">3</div></td><td><div class=\"dni-plaintext\">3</div></td><td><div class=\"dni-plaintext\">3</div></td><td><div class=\"dni-plaintext\">3</div></td><td><div class=\"dni-plaintext\">3</div></td><td><div class=\"dni-plaintext\">3</div></td><td><div class=\"dni-plaintext\">3</div></td></tr><tr><td>Unique</td><td><div class=\"dni-plaintext\">3</div></td><td><div class=\"dni-plaintext\">3</div></td><td><div class=\"dni-plaintext\">3</div></td><td><div class=\"dni-plaintext\">3</div></td><td><div class=\"dni-plaintext\">2</div></td><td><div class=\"dni-plaintext\">3</div></td><td><div class=\"dni-plaintext\">3</div></td><td><div class=\"dni-plaintext\">3</div></td><td><div class=\"dni-plaintext\">2</div></td></tr><tr><td>Top</td><td><div class=\"dni-plaintext\">1</div></td><td>Sarajevo</td><td><div class=\"dni-plaintext\">71000</div></td><td>BiH</td><td><div class=\"dni-plaintext\">False</div></td><td><div class=\"dni-plaintext\">3.14</div></td><td><span>2022-01-20 09:15:50Z</span></td><td><div class=\"dni-plaintext\">31</div></td><td>male</td></tr><tr><td>Freq</td><td><div class=\"dni-plaintext\">1</div></td><td><div class=\"dni-plaintext\">1</div></td><td><div class=\"dni-plaintext\">1</div></td><td><div class=\"dni-plaintext\">1</div></td><td><div class=\"dni-plaintext\">2</div></td><td><div class=\"dni-plaintext\">1</div></td><td><div class=\"dni-plaintext\">1</div></td><td><div class=\"dni-plaintext\">1</div></td><td><div class=\"dni-plaintext\">2</div></td></tr><tr><td>Mean</td><td><div class=\"dni-plaintext\">2</div></td><td><div class=\"dni-plaintext\">&lt;null&gt;</div></td><td><div class=\"dni-plaintext\">59738.666667</div></td><td><div class=\"dni-plaintext\">&lt;null&gt;</div></td><td><div class=\"dni-plaintext\">&lt;null&gt;</div></td><td><div class=\"dni-plaintext\">3.633333</div></td><td><div class=\"dni-plaintext\">&lt;null&gt;</div></td><td><div class=\"dni-plaintext\">33.666667</div></td><td><div class=\"dni-plaintext\">&lt;null&gt;</div></td></tr><tr><td>Std</td><td><div class=\"dni-plaintext\">1</div></td><td><div class=\"dni-plaintext\">&lt;null&gt;</div></td><td><div class=\"dni-plaintext\">45061.039384</div></td><td><div class=\"dni-plaintext\">&lt;null&gt;</div></td><td><div class=\"dni-plaintext\">&lt;null&gt;</div></td><td><div class=\"dni-plaintext\">0.794628</div></td><td><div class=\"dni-plaintext\">&lt;null&gt;</div></td><td><div class=\"dni-plaintext\">10.263203</div></td><td><div class=\"dni-plaintext\">&lt;null&gt;</div></td></tr><tr><td>Min</td><td><div class=\"dni-plaintext\">1</div></td><td><div class=\"dni-plaintext\">&lt;null&gt;</div></td><td><div class=\"dni-plaintext\">10115</div></td><td><div class=\"dni-plaintext\">&lt;null&gt;</div></td><td><div class=\"dni-plaintext\">&lt;null&gt;</div></td><td><div class=\"dni-plaintext\">3.14</div></td><td><span>2022-01-20 09:15:50Z</span></td><td><div class=\"dni-plaintext\">25</div></td><td><div class=\"dni-plaintext\">&lt;null&gt;</div></td></tr><tr><td>25%</td><td><div class=\"dni-plaintext\">1.5</div></td><td><div class=\"dni-plaintext\">&lt;null&gt;</div></td><td><div class=\"dni-plaintext\">40557.5</div></td><td><div class=\"dni-plaintext\">&lt;null&gt;</div></td><td><div class=\"dni-plaintext\">&lt;null&gt;</div></td><td><div class=\"dni-plaintext\">3.175</div></td><td><div class=\"dni-plaintext\">&lt;null&gt;</div></td><td><div class=\"dni-plaintext\">28</div></td><td><div class=\"dni-plaintext\">&lt;null&gt;</div></td></tr><tr><td>Median</td><td><div class=\"dni-plaintext\">2</div></td><td><div class=\"dni-plaintext\">&lt;null&gt;</div></td><td><div class=\"dni-plaintext\">71000</div></td><td><div class=\"dni-plaintext\">&lt;null&gt;</div></td><td><div class=\"dni-plaintext\">&lt;null&gt;</div></td><td><div class=\"dni-plaintext\">3.21</div></td><td><div class=\"dni-plaintext\">&lt;null&gt;</div></td><td><div class=\"dni-plaintext\">31</div></td><td><div class=\"dni-plaintext\">&lt;null&gt;</div></td></tr><tr><td>75%</td><td><div class=\"dni-plaintext\">2.5</div></td><td><div class=\"dni-plaintext\">&lt;null&gt;</div></td><td><div class=\"dni-plaintext\">84550.5</div></td><td><div class=\"dni-plaintext\">&lt;null&gt;</div></td><td><div class=\"dni-plaintext\">&lt;null&gt;</div></td><td><div class=\"dni-plaintext\">3.88</div></td><td><div class=\"dni-plaintext\">&lt;null&gt;</div></td><td><div class=\"dni-plaintext\">38</div></td><td><div class=\"dni-plaintext\">&lt;null&gt;</div></td></tr><tr><td>Max</td><td><div class=\"dni-plaintext\">3</div></td><td><div class=\"dni-plaintext\">&lt;null&gt;</div></td><td><div class=\"dni-plaintext\">98101</div></td><td><div class=\"dni-plaintext\">&lt;null&gt;</div></td><td><div class=\"dni-plaintext\">&lt;null&gt;</div></td><td><div class=\"dni-plaintext\">4.55</div></td><td><span>2022-02-04 09:15:50Z</span></td><td><div class=\"dni-plaintext\">45</div></td><td><div class=\"dni-plaintext\">&lt;null&gt;</div></td></tr></tbody></table>"
      ]
     },
     "execution_count": 27,
     "metadata": {},
     "output_type": "execute_result"
    }
   ],
   "source": [
    "df.Describe(numericOnly:false)"
   ]
  },
  {
   "cell_type": "markdown",
   "metadata": {},
   "source": [
    "### Drop columns and missing value handling\n",
    "\n",
    "We can drop or remove column from the data frame based on different criterion.\n",
    "For example the following code will remove columns `ID`, `Date`, `Age`, `Gender`\n",
    "from the existing data frame:"
   ]
  },
  {
   "cell_type": "code",
   "execution_count": 28,
   "metadata": {
    "dotnet_interactive": {
     "language": "csharp"
    }
   },
   "outputs": [
    {
     "data": {
      "text/html": [
       "<table><thead><th><i>(index)</i></th><th>ID</th><th>City</th><th>Zip Code</th><th>State</th><th>IsHome</th><th>Values</th><th>Date</th><th>Age</th><th>Gender</th></thead><tbody><tr><td><div class=\"dni-plaintext\">0</div></td><td><div class=\"dni-plaintext\">1</div></td><td>Sarajevo</td><td><div class=\"dni-plaintext\">71000</div></td><td>BiH</td><td><div class=\"dni-plaintext\">True</div></td><td><div class=\"dni-plaintext\">3.14</div></td><td><span>2022-01-20 09:15:52Z</span></td><td><div class=\"dni-plaintext\">31</div></td><td>male</td></tr><tr><td><div class=\"dni-plaintext\">1</div></td><td><div class=\"dni-plaintext\">2</div></td><td>Seattle</td><td><div class=\"dni-plaintext\">98101</div></td><td>USA</td><td><div class=\"dni-plaintext\">False</div></td><td><div class=\"dni-plaintext\">3.21</div></td><td><span>2022-01-30 09:15:52Z</span></td><td><div class=\"dni-plaintext\">25</div></td><td>female</td></tr><tr><td><div class=\"dni-plaintext\">2</div></td><td><div class=\"dni-plaintext\">3</div></td><td>Berlin</td><td><div class=\"dni-plaintext\">10115</div></td><td>GER</td><td><div class=\"dni-plaintext\">False</div></td><td><div class=\"dni-plaintext\">4.55</div></td><td><span>2022-02-04 09:15:52Z</span></td><td><div class=\"dni-plaintext\">45</div></td><td>male</td></tr></tbody></table>"
      ]
     },
     "execution_count": 28,
     "metadata": {},
     "output_type": "execute_result"
    }
   ],
   "source": [
    "var date1 = DateTime.Now.AddDays(-20);\n",
    "var date2 = DateTime.Now.AddDays(-10);\n",
    "var date3 = DateTime.Now.AddDays(-5);\n",
    "\n",
    "//define a dictionary of data\n",
    "var dict = new Dictionary<string, List<object>>\n",
    "{\n",
    "    { \"ID\",new List<object>() { 1,2,3} },\n",
    "    { \"City\",new List<object>() { \"Sarajevo\", \"Seattle\", \"Berlin\" } },\n",
    "    { \"Zip Code\",new List<object>() { 71000,98101,10115 } },\n",
    "    { \"State\",new List<object>() {\"BiH\",\"USA\",\"GER\" } },\n",
    "    { \"IsHome\",new List<object>() { true, false, false} },\n",
    "    { \"Values\",new List<object>() { 3.14, 3.21, 4.55 } },\n",
    "    { \"Date\",new List<object>() { date1 , date2 , date3 } },\n",
    "    { \"Age\", new List<object>() { 31, 25, 45 } },\n",
    "    { \"Gender\", new List<object>() { \"male\", \"female\", \"male\" } }\n",
    "};\n",
    "\n",
    "//create df\n",
    "var df = new DataFrame(dict);\n",
    "var df2 = df.Drop(\"ID\", \"Date\", \"Age\", \"Gender\");\n",
    "var lst = new List<object>() {\"Sarajevo\", 71000, \"BiH\", true, 3.14,\"Seattle\",\n",
    "98101, \"USA\", false, 3.21, \"Berlin\",10115, \"GER\", false, 4.55 };\n",
    "\n",
    "//\n",
    "df"
   ]
  },
  {
   "cell_type": "markdown",
   "metadata": {},
   "source": [
    "Drop row can be performed in case we want to remove missing values. The\n",
    "following code show dropping rows containing missing values:"
   ]
  },
  {
   "cell_type": "code",
   "execution_count": 29,
   "metadata": {
    "dotnet_interactive": {
     "language": "csharp"
    }
   },
   "outputs": [
    {
     "data": {
      "text/html": [
       "<table><thead><th><i>(index)</i></th><th>ID</th><th>City</th><th>Zip Code</th><th>State</th><th>IsHome</th><th>Values</th><th>Date</th><th>Age</th><th>Gender</th></thead><tbody><tr><td><div class=\"dni-plaintext\">0</div></td><td><div class=\"dni-plaintext\">1</div></td><td>Sarajevo</td><td><div class=\"dni-plaintext\">71000</div></td><td>BiH</td><td><div class=\"dni-plaintext\">True</div></td><td><div class=\"dni-plaintext\">3.14</div></td><td><span>2022-01-20 09:15:52Z</span></td><td><div class=\"dni-plaintext\">31</div></td><td>male</td></tr><tr><td><div class=\"dni-plaintext\">1</div></td><td><div class=\"dni-plaintext\">2</div></td><td>Seattle</td><td><div class=\"dni-plaintext\">98101</div></td><td>USA</td><td><div class=\"dni-plaintext\">False</div></td><td><div class=\"dni-plaintext\">3.21</div></td><td><span>2022-01-30 09:15:52Z</span></td><td><div class=\"dni-plaintext\">25</div></td><td><div class=\"dni-plaintext\">&lt;null&gt;</div></td></tr><tr><td><div class=\"dni-plaintext\">2</div></td><td><div class=\"dni-plaintext\">3</div></td><td><div class=\"dni-plaintext\">&lt;null&gt;</div></td><td><div class=\"dni-plaintext\">10115</div></td><td>GER</td><td><div class=\"dni-plaintext\">False</div></td><td><div class=\"dni-plaintext\">4.55</div></td><td><span>2022-01-20 09:15:52Z</span></td><td><div class=\"dni-plaintext\">45</div></td><td>male</td></tr></tbody></table>"
      ]
     },
     "execution_count": 29,
     "metadata": {},
     "output_type": "execute_result"
    }
   ],
   "source": [
    "var date = DateTime.Now.AddDays(-20);\n",
    "//define a dictionary of data\n",
    "var dict = new Dictionary<string, List<object>>\n",
    "{\n",
    "    { \"ID\",new List<object>() { 1,2,3} },\n",
    "    { \"City\",new List<object>() { \"Sarajevo\", \"Seattle\", DataFrame.NAN } },\n",
    "    { \"Zip Code\",new List<object>() { 71000,98101,10115 } },\n",
    "    { \"State\",new List<object>() {\"BiH\",\"USA\",\"GER\" } },\n",
    "    { \"IsHome\",new List<object>() { true, false, false} },\n",
    "    { \"Values\",new List<object>() { 3.14, 3.21, 4.55 } },\n",
    "    { \"Date\",new List<object>() { date , DateTime.Now.AddDays(-10) , date } },\n",
    "    { \"Age\", new List<object>() { 31, 25, 45 } },\n",
    "    { \"Gender\", new List<object>() { \"male\", DataFrame.NAN, \"male\" } }\n",
    "};\n",
    "\n",
    "//create df\n",
    "var df = new DataFrame(dict);\n",
    "df"
   ]
  },
  {
   "cell_type": "code",
   "execution_count": 30,
   "metadata": {
    "dotnet_interactive": {
     "language": "csharp"
    }
   },
   "outputs": [
    {
     "data": {
      "text/html": [
       "<table><thead><th><i>(index)</i></th><th>ID</th><th>City</th><th>Zip Code</th><th>State</th><th>IsHome</th><th>Values</th><th>Date</th><th>Age</th><th>Gender</th></thead><tbody><tr><td><div class=\"dni-plaintext\">0</div></td><td><div class=\"dni-plaintext\">1</div></td><td>Sarajevo</td><td><div class=\"dni-plaintext\">71000</div></td><td>BiH</td><td><div class=\"dni-plaintext\">True</div></td><td><div class=\"dni-plaintext\">3.14</div></td><td><span>2022-01-20 09:15:52Z</span></td><td><div class=\"dni-plaintext\">31</div></td><td>male</td></tr></tbody></table>"
      ]
     },
     "execution_count": 30,
     "metadata": {},
     "output_type": "execute_result"
    }
   ],
   "source": [
    "//drop rows with missing values\n",
    "var newDf = df.DropNA();\n",
    "newDf"
   ]
  },
  {
   "cell_type": "markdown",
   "metadata": {},
   "source": [
    "Replacing missing values with specified value can be achieve by using `FillNA`\n",
    "method. The following code replaces the missing values with `replValue`:"
   ]
  },
  {
   "cell_type": "code",
   "execution_count": 31,
   "metadata": {
    "dotnet_interactive": {
     "language": "csharp"
    }
   },
   "outputs": [
    {
     "data": {
      "text/html": [
       "<table><thead><th><i>(index)</i></th><th>ID</th><th>City</th><th>Zip Code</th><th>State</th><th>IsHome</th><th>Values</th><th>Date</th><th>Age</th><th>Gender</th></thead><tbody><tr><td><div class=\"dni-plaintext\">0</div></td><td><div class=\"dni-plaintext\">1</div></td><td>Sarajevo</td><td><div class=\"dni-plaintext\">71000</div></td><td>BiH</td><td><div class=\"dni-plaintext\">True</div></td><td><div class=\"dni-plaintext\">3.14</div></td><td><span>2022-01-20 09:15:53Z</span></td><td><div class=\"dni-plaintext\">31</div></td><td>male</td></tr><tr><td><div class=\"dni-plaintext\">1</div></td><td><div class=\"dni-plaintext\">2</div></td><td>Seattle</td><td><div class=\"dni-plaintext\">98101</div></td><td>USA</td><td><div class=\"dni-plaintext\">False</div></td><td><div class=\"dni-plaintext\">3.21</div></td><td><span>2022-01-30 09:15:53Z</span></td><td><div class=\"dni-plaintext\">25</div></td><td>female</td></tr><tr><td><div class=\"dni-plaintext\">2</div></td><td><div class=\"dni-plaintext\">3</div></td><td><div class=\"dni-plaintext\">&lt;null&gt;</div></td><td><div class=\"dni-plaintext\">10115</div></td><td>GER</td><td><div class=\"dni-plaintext\">False</div></td><td><div class=\"dni-plaintext\">4.55</div></td><td><span>2022-01-20 09:15:53Z</span></td><td><div class=\"dni-plaintext\">45</div></td><td>male</td></tr></tbody></table>"
      ]
     },
     "execution_count": 31,
     "metadata": {},
     "output_type": "execute_result"
    }
   ],
   "source": [
    "var date = DateTime.Now.AddDays(-20);\n",
    "//define a dictionary of data\n",
    "var dict = new Dictionary<string, List<object>>\n",
    "{\n",
    "    { \"ID\",new List<object>() { 1,2,3} },\n",
    "    { \"City\",new List<object>() { \"Sarajevo\", \"Seattle\", DataFrame.NAN } },\n",
    "    { \"Zip Code\",new List<object>() { 71000,98101,10115 } },\n",
    "    { \"State\",new List<object>() {\"BiH\",\"USA\",\"GER\" } },\n",
    "    { \"IsHome\",new List<object>() { true, false, false} },\n",
    "    { \"Values\",new List<object>() { 3.14, 3.21, 4.55 } },\n",
    "    { \"Date\",new List<object>() { date , DateTime.Now.AddDays(-10) , date } },\n",
    "    { \"Age\", new List<object>() { 31, 25, 45 } },\n",
    "    { \"Gender\", new List<object>() { \"male\", \"female\", \"male\" } }\n",
    "};\n",
    "\n",
    "//create df\n",
    "var df = new DataFrame(dict);\n",
    "df\n"
   ]
  },
  {
   "cell_type": "code",
   "execution_count": 32,
   "metadata": {
    "dotnet_interactive": {
     "language": "csharp"
    }
   },
   "outputs": [
    {
     "data": {
      "text/html": [
       "<table><thead><th><i>(index)</i></th><th>ID</th><th>City</th><th>Zip Code</th><th>State</th><th>IsHome</th><th>Values</th><th>Date</th><th>Age</th><th>Gender</th></thead><tbody><tr><td><div class=\"dni-plaintext\">0</div></td><td><div class=\"dni-plaintext\">1</div></td><td>Sarajevo</td><td><div class=\"dni-plaintext\">71000</div></td><td>BiH</td><td><div class=\"dni-plaintext\">True</div></td><td><div class=\"dni-plaintext\">3.14</div></td><td><span>2022-01-20 09:15:53Z</span></td><td><div class=\"dni-plaintext\">31</div></td><td>male</td></tr><tr><td><div class=\"dni-plaintext\">1</div></td><td><div class=\"dni-plaintext\">2</div></td><td>Seattle</td><td><div class=\"dni-plaintext\">98101</div></td><td>USA</td><td><div class=\"dni-plaintext\">False</div></td><td><div class=\"dni-plaintext\">3.21</div></td><td><span>2022-01-30 09:15:53Z</span></td><td><div class=\"dni-plaintext\">25</div></td><td>female</td></tr><tr><td><div class=\"dni-plaintext\">2</div></td><td><div class=\"dni-plaintext\">3</div></td><td>Berlin</td><td><div class=\"dni-plaintext\">10115</div></td><td>GER</td><td><div class=\"dni-plaintext\">False</div></td><td><div class=\"dni-plaintext\">4.55</div></td><td><span>2022-01-20 09:15:53Z</span></td><td><div class=\"dni-plaintext\">45</div></td><td>male</td></tr></tbody></table>"
      ]
     },
     "execution_count": 32,
     "metadata": {},
     "output_type": "execute_result"
    }
   ],
   "source": [
    "//drop rows with missing values\n",
    "string replValue = \"Berlin\";\n",
    "df.FillNA(replValue);\n",
    "df"
   ]
  },
  {
   "cell_type": "markdown",
   "metadata": {},
   "source": [
    "### Filter and Conditional Remove\n",
    "\n",
    "`Filter` operation returns data frame with specific filter condition. Also, `RemoveRows` method acts opposite  and removes all rows with specified condition by using delegate implementation. The following code shows filter data frame between dates:"
   ]
  },
  {
   "cell_type": "code",
   "execution_count": 33,
   "metadata": {
    "dotnet_interactive": {
     "language": "csharp"
    }
   },
   "outputs": [
    {
     "data": {
      "text/html": [
       "<table><thead><th><i>(index)</i></th><th>ID</th><th>City</th><th>Zip Code</th><th>State</th><th>IsHome</th><th>Values</th><th>Date</th><th>Age</th><th>Gender</th></thead><tbody><tr><td><div class=\"dni-plaintext\">0</div></td><td><div class=\"dni-plaintext\">1</div></td><td>Sarajevo</td><td><div class=\"dni-plaintext\">71000</div></td><td>BiH</td><td><div class=\"dni-plaintext\">True</div></td><td><div class=\"dni-plaintext\">3.14</div></td><td><span>2022-02-04 09:15:53Z</span></td><td><div class=\"dni-plaintext\">31</div></td><td>male</td></tr><tr><td><div class=\"dni-plaintext\">1</div></td><td><div class=\"dni-plaintext\">2</div></td><td>Seattle</td><td><div class=\"dni-plaintext\">98101</div></td><td>USA</td><td><div class=\"dni-plaintext\">False</div></td><td><div class=\"dni-plaintext\">3.21</div></td><td><span>2022-01-30 09:15:53Z</span></td><td><div class=\"dni-plaintext\">25</div></td><td>female</td></tr><tr><td><div class=\"dni-plaintext\">2</div></td><td><div class=\"dni-plaintext\">3</div></td><td>Berlin</td><td><div class=\"dni-plaintext\">10115</div></td><td>GER</td><td><div class=\"dni-plaintext\">False</div></td><td><div class=\"dni-plaintext\">4.55</div></td><td><span>2022-01-20 09:15:53Z</span></td><td><div class=\"dni-plaintext\">45</div></td><td>male</td></tr></tbody></table>"
      ]
     },
     "execution_count": 33,
     "metadata": {},
     "output_type": "execute_result"
    }
   ],
   "source": [
    "var date1 = DateTime.Now.AddDays(-20);\n",
    "var date2 = DateTime.Now.AddDays(-10);\n",
    "var date3 = DateTime.Now.AddDays(-5);\n",
    "//define a dictionary of data\n",
    "var dict = new Dictionary<string, List<object>>\n",
    "{\n",
    "    { \"ID\",new List<object>() { 1,2,3} },\n",
    "    { \"City\",new List<object>() { \"Sarajevo\", \"Seattle\", \"Berlin\" } },\n",
    "    { \"Zip Code\",new List<object>() { 71000,98101,10115 } },\n",
    "    { \"State\",new List<object>() {\"BiH\",\"USA\",\"GER\" } },\n",
    "    { \"IsHome\",new List<object>() { true, false, false} },\n",
    "    { \"Values\",new List<object>() { 3.14, 3.21, 4.55 } },\n",
    "    { \"Date\",new List<object>() { date3 , date2 , date1 } },\n",
    "    { \"Age\", new List<object>() { 31, 25, 45 } },\n",
    "    { \"Gender\", new List<object>() { \"male\", \"female\", \"male\" } }\n",
    "};\n",
    "\n",
    "//create df\n",
    "var df = new DataFrame(dict);\n",
    "\n",
    "df\n"
   ]
  },
  {
   "cell_type": "code",
   "execution_count": 34,
   "metadata": {
    "dotnet_interactive": {
     "language": "csharp"
    }
   },
   "outputs": [
    {
     "data": {
      "text/html": [
       "<table><thead><th><i>(index)</i></th><th>ID</th><th>City</th><th>Zip Code</th><th>State</th><th>IsHome</th><th>Values</th><th>Date</th><th>Age</th><th>Gender</th></thead><tbody><tr><td><div class=\"dni-plaintext\">0</div></td><td><div class=\"dni-plaintext\">1</div></td><td>Sarajevo</td><td><div class=\"dni-plaintext\">71000</div></td><td>BiH</td><td><div class=\"dni-plaintext\">True</div></td><td><div class=\"dni-plaintext\">3.14</div></td><td><span>2022-02-04 09:15:53Z</span></td><td><div class=\"dni-plaintext\">31</div></td><td>male</td></tr></tbody></table>"
      ]
     },
     "execution_count": 34,
     "metadata": {},
     "output_type": "execute_result"
    }
   ],
   "source": [
    "//filter data frame between dates\n",
    "var opers = new FilterOperator[2] { FilterOperator.Greather, FilterOperator.Less };\n",
    "var cols = new string[] { \"Date\", \"Date\" };\n",
    "var values = (new DateTime[] { DateTime.Now.AddDays(-7), DateTime.Now.AddDays(-3) }).Select(x => (object)x).ToArray();\n",
    "//filter\n",
    "var filteredDF = df.Filter(cols, values, opers);\n",
    "filteredDF"
   ]
  },
  {
   "cell_type": "markdown",
   "metadata": {},
   "source": [
    "The following code shows how to remove all rows in the data frame containing `Miami` value in the `City` column:"
   ]
  },
  {
   "cell_type": "code",
   "execution_count": 35,
   "metadata": {
    "dotnet_interactive": {
     "language": "csharp"
    }
   },
   "outputs": [
    {
     "data": {
      "text/html": [
       "<table><thead><th><i>(index)</i></th><th>ID</th><th>City</th><th>Zip Code</th><th>State</th><th>IsHome</th><th>Values</th><th>Date</th><th>Age</th><th>Gender</th></thead><tbody><tr><td><div class=\"dni-plaintext\">0</div></td><td><div class=\"dni-plaintext\">1</div></td><td>Sarajevo</td><td><div class=\"dni-plaintext\">71000</div></td><td>BiH</td><td><div class=\"dni-plaintext\">True</div></td><td><div class=\"dni-plaintext\">3.14</div></td><td><span>2022-01-20 09:15:54Z</span></td><td><div class=\"dni-plaintext\">31</div></td><td>male</td></tr><tr><td><div class=\"dni-plaintext\">1</div></td><td><div class=\"dni-plaintext\">2</div></td><td>Seattle</td><td><div class=\"dni-plaintext\">98101</div></td><td>USA</td><td><div class=\"dni-plaintext\">False</div></td><td><div class=\"dni-plaintext\">3.21</div></td><td><span>2022-01-30 09:15:54Z</span></td><td><div class=\"dni-plaintext\">25</div></td><td>female</td></tr><tr><td><div class=\"dni-plaintext\">2</div></td><td><div class=\"dni-plaintext\">3</div></td><td><div class=\"dni-plaintext\">&lt;null&gt;</div></td><td><div class=\"dni-plaintext\">10115</div></td><td>GER</td><td><div class=\"dni-plaintext\">False</div></td><td><div class=\"dni-plaintext\">4.55</div></td><td><span>2022-01-20 09:15:54Z</span></td><td><div class=\"dni-plaintext\">45</div></td><td>male</td></tr></tbody></table>"
      ]
     },
     "execution_count": 35,
     "metadata": {},
     "output_type": "execute_result"
    }
   ],
   "source": [
    "var date = DateTime.Now.AddDays(-20);\n",
    "//define a dictionary of data\n",
    "var dict = new Dictionary<string, List<object>>\n",
    "{\n",
    "    { \"ID\",new List<object>() { 1,2,3} },\n",
    "    { \"City\",new List<object>() { \"Sarajevo\", \"Seattle\", DataFrame.NAN } },\n",
    "    { \"Zip Code\",new List<object>() { 71000,98101,10115 } },\n",
    "    { \"State\",new List<object>() {\"BiH\",\"USA\",\"GER\" } },\n",
    "    { \"IsHome\",new List<object>() { true, false, false} },\n",
    "    { \"Values\",new List<object>() { 3.14, 3.21, 4.55 } },\n",
    "    { \"Date\",new List<object>() { date , DateTime.Now.AddDays(-10) , date } },\n",
    "    { \"Age\", new List<object>() { 31, 25, 45 } },\n",
    "    { \"Gender\", new List<object>() { \"male\", \"female\", \"male\" } }\n",
    "};\n",
    "\n",
    "//create df\n",
    "var dff = new DataFrame(dict);\n",
    "\n",
    "dff"
   ]
  },
  {
   "cell_type": "code",
   "execution_count": 36,
   "metadata": {
    "dotnet_interactive": {
     "language": "csharp"
    }
   },
   "outputs": [
    {
     "data": {
      "text/html": [
       "<table><thead><th><i>(index)</i></th><th>ID</th><th>City</th><th>Zip Code</th><th>State</th><th>IsHome</th><th>Values</th><th>Date</th><th>Age</th><th>Gender</th></thead><tbody><tr><td><div class=\"dni-plaintext\">0</div></td><td><div class=\"dni-plaintext\">1</div></td><td>Sarajevo</td><td><div class=\"dni-plaintext\">71000</div></td><td>BiH</td><td><div class=\"dni-plaintext\">True</div></td><td><div class=\"dni-plaintext\">3.14</div></td><td><span>2022-01-20 09:15:54Z</span></td><td><div class=\"dni-plaintext\">31</div></td><td>male</td></tr><tr><td><div class=\"dni-plaintext\">2</div></td><td><div class=\"dni-plaintext\">3</div></td><td><div class=\"dni-plaintext\">&lt;null&gt;</div></td><td><div class=\"dni-plaintext\">10115</div></td><td>GER</td><td><div class=\"dni-plaintext\">False</div></td><td><div class=\"dni-plaintext\">4.55</div></td><td><span>2022-01-20 09:15:54Z</span></td><td><div class=\"dni-plaintext\">45</div></td><td>male</td></tr></tbody></table>"
      ]
     },
     "execution_count": 36,
     "metadata": {},
     "output_type": "execute_result"
    }
   ],
   "source": [
    "//remove rows with 'Seattle'\n",
    "var newDf = dff.RemoveRows((row, i) => row[\"City\"]?.ToString() == \"Seattle\");\n",
    "newDf"
   ]
  },
  {
   "cell_type": "markdown",
   "metadata": {},
   "source": [
    "As can be seen the Function delegate is implemented with boolean return type. Every row will be remove if function delegate returns ```true``` value."
   ]
  },
  {
   "cell_type": "markdown",
   "metadata": {},
   "source": [
    "### Sorting in data frame\n",
    "\n",
    "Data frame can be sorted by using `SortBy` or `SortByDescending`. The following code sorts data frame in ascending and descending order:"
   ]
  },
  {
   "cell_type": "code",
   "execution_count": 37,
   "metadata": {
    "dotnet_interactive": {
     "language": "csharp"
    }
   },
   "outputs": [
    {
     "data": {
      "text/html": [
       "<table><thead><th><i>(index)</i></th><th>col1</th><th>col2</th><th>col3</th><th>col4</th></thead><tbody><tr><td><div class=\"dni-plaintext\">0</div></td><td><div class=\"dni-plaintext\">1</div></td><td><div class=\"dni-plaintext\">2</div></td><td><div class=\"dni-plaintext\">3</div></td><td><div class=\"dni-plaintext\">4</div></td></tr><tr><td><div class=\"dni-plaintext\">1</div></td><td><div class=\"dni-plaintext\">11</div></td><td><div class=\"dni-plaintext\">12</div></td><td><div class=\"dni-plaintext\">13</div></td><td><div class=\"dni-plaintext\">14</div></td></tr><tr><td><div class=\"dni-plaintext\">2</div></td><td><div class=\"dni-plaintext\">21</div></td><td><div class=\"dni-plaintext\">22</div></td><td><div class=\"dni-plaintext\">23</div></td><td><div class=\"dni-plaintext\">24</div></td></tr><tr><td><div class=\"dni-plaintext\">3</div></td><td><div class=\"dni-plaintext\">31</div></td><td><div class=\"dni-plaintext\">32</div></td><td><div class=\"dni-plaintext\">43</div></td><td><div class=\"dni-plaintext\">54</div></td></tr><tr><td><div class=\"dni-plaintext\">4</div></td><td><div class=\"dni-plaintext\">41</div></td><td><div class=\"dni-plaintext\">42</div></td><td><div class=\"dni-plaintext\">33</div></td><td><div class=\"dni-plaintext\">44</div></td></tr><tr><td><div class=\"dni-plaintext\">5</div></td><td><div class=\"dni-plaintext\">51</div></td><td><div class=\"dni-plaintext\">52</div></td><td><div class=\"dni-plaintext\">63</div></td><td><div class=\"dni-plaintext\">34</div></td></tr><tr><td><div class=\"dni-plaintext\">6</div></td><td><div class=\"dni-plaintext\">61</div></td><td><div class=\"dni-plaintext\">62</div></td><td><div class=\"dni-plaintext\">53</div></td><td><div class=\"dni-plaintext\">64</div></td></tr><tr><td><div class=\"dni-plaintext\">7</div></td><td><div class=\"dni-plaintext\">71</div></td><td><div class=\"dni-plaintext\">72</div></td><td><div class=\"dni-plaintext\">73</div></td><td><div class=\"dni-plaintext\">74</div></td></tr><tr><td><div class=\"dni-plaintext\">8</div></td><td><div class=\"dni-plaintext\">81</div></td><td><div class=\"dni-plaintext\">82</div></td><td><div class=\"dni-plaintext\">83</div></td><td><div class=\"dni-plaintext\">84</div></td></tr><tr><td><div class=\"dni-plaintext\">9</div></td><td><div class=\"dni-plaintext\">91</div></td><td><div class=\"dni-plaintext\">92</div></td><td><div class=\"dni-plaintext\">93</div></td><td><div class=\"dni-plaintext\">94</div></td></tr></tbody></table>"
      ]
     },
     "execution_count": 37,
     "metadata": {},
     "output_type": "execute_result"
    }
   ],
   "source": [
    "var dict = new Dictionary<string, List<object>>\n",
    "{\n",
    "    { \"col1\",new List<object>() { 1,31,41,51,61,11,21,71,81,91} },\n",
    "    { \"col2\",new List<object>() { 2,32,42,52,62,12,22,72,82,92 } },\n",
    "    { \"col3\",new List<object>() { 3,43,33,63,53,13,23,73,83,93 } },\n",
    "    { \"col4\",new List<object>() { 4,54,44,34,64,14,24,74,84,94} },\n",
    "\n",
    "};\n",
    "//\n",
    "var df = new DataFrame(dict);\n",
    "\n",
    "var dict1 = new Dictionary<string, List<object>>\n",
    "{\n",
    "    { \"col1\",new List<object>() { 1,11,21,31,41,51,61,71,81,91} },\n",
    "    { \"col2\",new List<object>() { 2,12,22,32,42,52,62,72,82,92 } },\n",
    "    { \"col3\",new List<object>() { 3,13,23,43,33,63,53,73,83,93 } },\n",
    "    { \"col4\",new List<object>() { 4,14,24,54,44,34,64,74,84,94} },\n",
    "};\n",
    "var df1 = new DataFrame(dict1);\n",
    "\n",
    "df1"
   ]
  },
  {
   "cell_type": "markdown",
   "metadata": {},
   "source": [
    "Same implementation would be in case of descending sort, except that the `SortByDescenging` would be called."
   ]
  },
  {
   "cell_type": "markdown",
   "metadata": {},
   "source": [
    "### GroupBy and Rolling \n",
    "\n",
    "Rolling operation provides calculation on specific number (window size) of successive data frame rows. The following code shows rolling of `sum` operation performed on column `A`."
   ]
  },
  {
   "cell_type": "code",
   "execution_count": 38,
   "metadata": {
    "dotnet_interactive": {
     "language": "csharp"
    }
   },
   "outputs": [
    {
     "data": {
      "text/html": [
       "<table><thead><th><i>(index)</i></th><th>A</th></thead><tbody><tr><td><div class=\"dni-plaintext\">0</div></td><td><div class=\"dni-plaintext\">&lt;null&gt;</div></td></tr><tr><td><div class=\"dni-plaintext\">1</div></td><td><div class=\"dni-plaintext\">&lt;null&gt;</div></td></tr><tr><td><div class=\"dni-plaintext\">2</div></td><td><div class=\"dni-plaintext\">-2.655105</div></td></tr><tr><td><div class=\"dni-plaintext\">3</div></td><td><div class=\"dni-plaintext\">-0.971785</div></td></tr><tr><td><div class=\"dni-plaintext\">4</div></td><td><div class=\"dni-plaintext\">-0.214335</div></td></tr><tr><td><div class=\"dni-plaintext\">5</div></td><td><div class=\"dni-plaintext\">1.514216</div></td></tr><tr><td><div class=\"dni-plaintext\">6</div></td><td><div class=\"dni-plaintext\">1.074618</div></td></tr><tr><td><div class=\"dni-plaintext\">7</div></td><td><div class=\"dni-plaintext\">2.718061</div></td></tr><tr><td><div class=\"dni-plaintext\">8</div></td><td><div class=\"dni-plaintext\">-0.289082</div></td></tr><tr><td><div class=\"dni-plaintext\">9</div></td><td><div class=\"dni-plaintext\">0.212673</div></td></tr></tbody></table>"
      ]
     },
     "execution_count": 38,
     "metadata": {},
     "output_type": "execute_result"
    }
   ],
   "source": [
    "var dict = new Dictionary<string, List<object>>\n",
    "{\n",
    "    { \"ID\",new List<object>()  { 1,2,3,4,5,6,7,8,9,10} },\n",
    "    { \"A\",new List<object>()  { -2.385977,-1.004295,0.735167, -0.702657,-0.246845,2.463718, -1.142255,1.396598, -0.543425,-0.64050} },\n",
    "    { \"B\",new List<object>()  { -0.102758,0.905829, -0.165272,-1.340923,0.211596, 3.157577, 2.340594, -1.647453,1.761277, 0.289374} },\n",
    "    { \"C\",new List<object>()  { 0.438822, -0.954544,-1.619346,-0.706334,-0.901819,-1.380906,-0.039875,1.677227, -0.220481,-1.55067} },\n",
    "    { \"D\",new List<object>()  { \"chair\", \"label\", \"item\", \"window\", \"computer\", \"label\", \"chair\", \"item\", \"abaqus\", \"window\" } },\n",
    "    {\"E\", new List<object>() { DateTime.ParseExact(\"12/20/2016\", \"MM/dd/yyyy\", CultureInfo.InvariantCulture, DateTimeStyles.None),\n",
    "                                DateTime.ParseExact(\"6/13/2016\" , \"M/dd/yyyy\", CultureInfo.InvariantCulture, DateTimeStyles.None),\n",
    "                                DateTime.ParseExact(\"8/25/2016\",  \"M/dd/yyyy\", CultureInfo.InvariantCulture, DateTimeStyles.None),\n",
    "                                DateTime.ParseExact(\"11/4/2016\" , \"MM/d/yyyy\", CultureInfo.InvariantCulture, DateTimeStyles.None),\n",
    "                                DateTime.ParseExact(\"6/18/2016\",  \"M/dd/yyyy\", CultureInfo.InvariantCulture, DateTimeStyles.None),\n",
    "                                DateTime.ParseExact(\"3/8/2016\" ,  \"M/d/yyyy\", CultureInfo.InvariantCulture, DateTimeStyles.None),\n",
    "                                DateTime.ParseExact(\"9/3/2016\" ,  \"M/d/yyyy\", CultureInfo.InvariantCulture, DateTimeStyles.None),\n",
    "                                DateTime.ParseExact(\"11/24/2016\", \"MM/dd/yyyy\", CultureInfo.InvariantCulture, DateTimeStyles.None),\n",
    "                                DateTime.ParseExact(\"6/16/2016\",  \"M/dd/yyyy\", CultureInfo.InvariantCulture, DateTimeStyles.None),\n",
    "                                DateTime.ParseExact(\"1/31/2016\",  \"M/dd/yyyy\", CultureInfo.InvariantCulture, DateTimeStyles.None)}\n",
    "    }\n",
    "};\n",
    "\n",
    "//\n",
    "var df = new DataFrame(dict);\n",
    "var rollingdf = df.Rolling(3, new Dictionary<string, Aggregation> { { \"A\", Aggregation.Sum } });\n",
    "\n",
    "rollingdf"
   ]
  },
  {
   "cell_type": "markdown",
   "metadata": {},
   "source": [
    "GroupBy operation perform grouping similar rows in data frame. The following code groups data frame based on `Gender` column:"
   ]
  },
  {
   "cell_type": "code",
   "execution_count": 39,
   "metadata": {
    "dotnet_interactive": {
     "language": "csharp"
    }
   },
   "outputs": [
    {
     "data": {
      "text/plain": [
       "Group By Column: Gender\r\n",
       "male                \r\n",
       "        ID      City    Zip CodeState   IsHome  Values  Date    Age     Gender  \r\n",
       "0       1       Sarajevo71000   BiH     True    3.14    2/4/2022 9:15:56 AM31      male    \r\n",
       "2       3       Berlin  10115   GER     False   4.55    1/20/2022 9:15:56 AM45      male    \r\n",
       "\r\n",
       "female              \r\n",
       "        ID      City    Zip CodeState   IsHome  Values  Date    Age     Gender  \r\n",
       "1       2       Seattle 98101   USA     False   3.21    1/30/2022 9:15:56 AM25      female  \r\n",
       "\r\n"
      ]
     },
     "execution_count": 39,
     "metadata": {},
     "output_type": "execute_result"
    }
   ],
   "source": [
    "var date1 = DateTime.Now.AddDays(-20);\n",
    "var date2 = DateTime.Now.AddDays(-10);\n",
    "var date3 = DateTime.Now.AddDays(-5);\n",
    "//define a dictionary of data\n",
    "var dict = new Dictionary<string, List<object>>\n",
    "{\n",
    "    { \"ID\",new List<object>() { 1,2,3} },\n",
    "    { \"City\",new List<object>() { \"Sarajevo\", \"Seattle\", \"Berlin\" } },\n",
    "    { \"Zip Code\",new List<object>() { 71000,98101,10115 } },\n",
    "    { \"State\",new List<object>() {\"BiH\",\"USA\",\"GER\" } },\n",
    "    { \"IsHome\",new List<object>() { true, false, false} },\n",
    "    { \"Values\",new List<object>() { 3.14, 3.21, 4.55 } },\n",
    "    { \"Date\",new List<object>() { date3 , date2 , date1 } },\n",
    "    { \"Age\", new List<object>() { 31, 25, 45 } },\n",
    "    { \"Gender\", new List<object>() { \"male\", \"female\", \"male\" } }\n",
    "};\n",
    "\n",
    "//create df\n",
    "var df = new DataFrame(dict);\n",
    "//group df by gender\n",
    "var gDf = df.GroupBy(\"Gender\");\n",
    "var swqs = gDf.ToStringBuilder();\n",
    "swqs"
   ]
  },
  {
   "cell_type": "markdown",
   "metadata": {},
   "source": [
    "In case two grouping columns should be applied (`Gender` and `City`), the following code is used:"
   ]
  },
  {
   "cell_type": "code",
   "execution_count": 40,
   "metadata": {
    "dotnet_interactive": {
     "language": "csharp"
    }
   },
   "outputs": [
    {
     "data": {
      "text/plain": [
       "Group By Column: Gender, City                \r\n",
       "male                Sarajevo            \r\n",
       "        ID      City    Zip CodeState   IsHome  Values  Date    Age     Gender  \r\n",
       "0       1       Sarajevo71000   BiH     True    3.14    2/4/2022 9:15:59 AM31      male    \r\n",
       "\r\n",
       "Berlin              \r\n",
       "        ID      City    Zip CodeState   IsHome  Values  Date    Age     Gender  \r\n",
       "2       3       Berlin  10115   GER     False   4.55    1/20/2022 9:15:59 AM45      male    \r\n",
       "\r\n",
       "female              Sarajevo            \r\n",
       "        ID      City    Zip CodeState   IsHome  Values  Date    Age     Gender  \r\n",
       "1       2       Sarajevo98101   USA     False   3.21    1/30/2022 9:15:59 AM25      female  \r\n",
       "\r\n"
      ]
     },
     "execution_count": 40,
     "metadata": {},
     "output_type": "execute_result"
    }
   ],
   "source": [
    "var date1 = DateTime.Now.AddDays(-20);\n",
    "var date2 = DateTime.Now.AddDays(-10);\n",
    "var date3 = DateTime.Now.AddDays(-5);\n",
    "//define a dictionary of data\n",
    "var dict = new Dictionary<string, List<object>>\n",
    "{\n",
    "    { \"ID\",new List<object>() { 1,2,3} },\n",
    "    { \"City\",new List<object>() { \"Sarajevo\", \"Sarajevo\", \"Berlin\" } },\n",
    "    { \"Zip Code\",new List<object>() { 71000,98101,10115 } },\n",
    "    { \"State\",new List<object>() {\"BiH\",\"USA\",\"GER\" } },\n",
    "    { \"IsHome\",new List<object>() { true, false, false} },\n",
    "    { \"Values\",new List<object>() { 3.14, 3.21, 4.55 } },\n",
    "    { \"Date\",new List<object>() { date3 , date2 , date1 } },\n",
    "    { \"Age\", new List<object>() { 31, 25, 45 } },\n",
    "    { \"Gender\", new List<object>() { \"male\", \"female\", \"male\" } }\n",
    "};\n",
    "\n",
    "//create df\n",
    "var df = new DataFrame(dict);\n",
    "//group df by gender\n",
    "var gDf = df.GroupBy(\"Gender\",\"City\");\n",
    "var swqs = gDf.ToStringBuilder();\n",
    "swqs"
   ]
  },
  {
   "cell_type": "markdown",
   "metadata": {},
   "source": [
    "Often, after grouping aggregation is applied on each group of data frame. The following code shows combination of  grouping and rolling. The following code, groups data by `Gender` column, then perform aggregation on two columns `Age` and `Values`."
   ]
  },
  {
   "cell_type": "code",
   "execution_count": 41,
   "metadata": {
    "dotnet_interactive": {
     "language": "csharp"
    }
   },
   "outputs": [
    {
     "data": {
      "text/html": [
       "<table><thead><th><i>(index)</i></th><th>Values</th><th>Age</th><th>Gender</th></thead><tbody><tr><td><div class=\"dni-plaintext\">2</div></td><td><div class=\"dni-plaintext\">7.69</div></td><td><div class=\"dni-plaintext\">38</div></td><td>male</td></tr><tr><td><div class=\"dni-plaintext\">3</div></td><td><div class=\"dni-plaintext\">8.76</div></td><td><div class=\"dni-plaintext\">29</div></td><td>female</td></tr></tbody></table>"
      ]
     },
     "execution_count": 41,
     "metadata": {},
     "output_type": "execute_result"
    }
   ],
   "source": [
    "var date1 = DateTime.Now.AddDays(-20);\n",
    "var date2 = DateTime.Now.AddDays(-10);\n",
    "var date3 = DateTime.Now.AddDays(-5);\n",
    "//define a dictionary of data\n",
    "var dict = new Dictionary<string, List<object>>\n",
    "{\n",
    "    { \"ID\",new List<object>() { 1,2,3,4} },\n",
    "    { \"City\",new List<object>() { \"Sarajevo\", \"Seattle\", \"Berlin\", \"Amsterdam\" } },\n",
    "    { \"Zip Code\",new List<object>() { 71000,98101,10115, 11000 } },\n",
    "    { \"State\",new List<object>() {\"BiH\",\"USA\",\"GER\", \"NL\" } },\n",
    "    { \"IsHome\",new List<object>() { true, false, false, true} },\n",
    "    { \"Values\",new List<object>() { 3.14, 3.21, 4.55, 5.55 } },\n",
    "    { \"Date\",new List<object>() { date3 , date2 , date1 , date2} },\n",
    "    { \"Age\", new List<object>() { 31, 25, 45, 33 } },\n",
    "    { \"Gender\", new List<object>() { \"male\", \"female\", \"male\", \"female\" } }\n",
    "};\n",
    "\n",
    "//create df\n",
    "var df = new DataFrame(dict);\n",
    "//group df by gender\n",
    "var gDf = df.GroupBy(\"Gender\")\n",
    "            .Rolling(2, new Dictionary<string, Aggregation>()\n",
    "                    { { \"Values\", Aggregation.Sum }, \n",
    "                       { \"Age\", Aggregation.Avg } }).TakeEvery(2);\n",
    "gDf\n"
   ]
  },
  {
   "cell_type": "markdown",
   "metadata": {},
   "source": [
    "### Merge and Join two data frames\n",
    "\n",
    "`Merge` method merges two data frames on a ways similar like SQL LIKE statement. In order to call it, you have to provide two data frames, left and right key columns and type of joining. The condition for merging is based on keys columns where the values from the first left key column must be equal to the first right key column. In case of more than one key column the values from the corresponded columns must be  equal. The following code shows mergings two data frames with two keys columns with inner join type."
   ]
  },
  {
   "cell_type": "code",
   "execution_count": 42,
   "metadata": {
    "dotnet_interactive": {
     "language": "csharp"
    }
   },
   "outputs": [
    {
     "data": {
      "text/html": [
       "<table><thead><th><i>(index)</i></th><th>itemID</th><th>catId</th><th>value1</th><th>item2ID</th><th>cat2ID</th><th>value2</th></thead><tbody><tr><td><div class=\"dni-plaintext\">0</div></td><td>foo</td><td>A</td><td><div class=\"dni-plaintext\">1</div></td><td>foo</td><td>A</td><td><div class=\"dni-plaintext\">5</div></td></tr><tr><td><div class=\"dni-plaintext\">3</div></td><td>foo</td><td>B</td><td><div class=\"dni-plaintext\">4</div></td><td>foo</td><td>B</td><td><div class=\"dni-plaintext\">8</div></td></tr></tbody></table>"
      ]
     },
     "execution_count": 42,
     "metadata": {},
     "output_type": "execute_result"
    }
   ],
   "source": [
    "var dict = new Dictionary<string, List<object>>\n",
    "{\n",
    "    { \"itemID\",new List<object>() { \"foo\", \"bar\", \"baz\", \"foo\" } },\n",
    "    { \"catId\",new List<object>() { \"A\", \"A\", \"B\", \"B\" } },\n",
    "    { \"value1\",new List<object>() { 1,2,3,4 } },\n",
    "};\n",
    "var dict1 = new Dictionary<string, List<object>>\n",
    "{\n",
    "    { \"item2ID\",new List<object>() {\"foo\", \"bar\", \"baz\",\"foo\" } },\n",
    "    { \"cat2ID\",new List<object>() { \"A\", \"B\", \"A\", \"B\" } },\n",
    "    { \"value2\",new List<object>() { 5,6,7,8 } },\n",
    "};\n",
    "//\n",
    "var df1 = new DataFrame(dict);\n",
    "var df2 = new DataFrame(dict1);\n",
    "var mergedDf = df1.Merge(df2, \n",
    "                    new string[] { \"itemID\", \"catId\" }, //left key columns\n",
    "                    new string[] { \"item2ID\", \"cat2ID\" }, //right key columns\n",
    "                    JoinType.Inner);//join type\n",
    "mergedDf"
   ]
  },
  {
   "cell_type": "markdown",
   "metadata": {},
   "source": [
    "The limitation for the number of key columns is 3. That means you cannot merge two data frames with more than 3 key columns.\n",
    "\n",
    "Unlike `Merge` which is working on ordinary columns, a `Join` method works only on data frame index, but the way of joining the data frames is the same. The following code joins two data frame base on their indexes:"
   ]
  },
  {
   "cell_type": "code",
   "execution_count": 43,
   "metadata": {
    "dotnet_interactive": {
     "language": "csharp"
    }
   },
   "outputs": [
    {
     "data": {
      "text/html": [
       "<table><thead><th><i>(index)</i></th><th>itemID</th><th>value1</th><th>item2ID</th><th>value2</th></thead><tbody><tr><td><div class=\"dni-plaintext\">0</div></td><td>foo</td><td><div class=\"dni-plaintext\">1</div></td><td>foo</td><td><div class=\"dni-plaintext\">5</div></td></tr><tr><td><div class=\"dni-plaintext\">1</div></td><td>bar</td><td><div class=\"dni-plaintext\">2</div></td><td>bar</td><td><div class=\"dni-plaintext\">6</div></td></tr><tr><td><div class=\"dni-plaintext\">2</div></td><td>baz</td><td><div class=\"dni-plaintext\">3</div></td><td>baz</td><td><div class=\"dni-plaintext\">7</div></td></tr></tbody></table>"
      ]
     },
     "execution_count": 43,
     "metadata": {},
     "output_type": "execute_result"
    }
   ],
   "source": [
    "var dict1 = new Dictionary<string, List<object>>\n",
    "{\n",
    "    { \"itemID\",new List<object>() { \"foo\", \"bar\", \"baz\", \"foo\" } },\n",
    "    { \"value1\",new List<object>() { 1,2,3,4 } },\n",
    "};\n",
    "var dict2 = new Dictionary<string, List<object>>\n",
    "{\n",
    "    { \"item2ID\",new List<object>() {\"foo\", \"bar\", \"baz\" } },\n",
    "    { \"value2\",new List<object>() { 5,6,7 } },\n",
    "};\n",
    "//\n",
    "var df1 = new DataFrame(dict1);\n",
    "var df2 = new DataFrame(dict2);\n",
    "//\n",
    "var mergedDf = df1.Join(df2, JoinType.Inner);\n",
    "mergedDf"
   ]
  },
  {
   "cell_type": "code",
   "execution_count": 44,
   "metadata": {
    "dotnet_interactive": {
     "language": "csharp"
    }
   },
   "outputs": [
    {
     "data": {
      "text/html": [
       "<table><thead><th><i>(index)</i></th><th>itemID</th><th>value1</th><th>item2ID</th><th>value2</th></thead><tbody><tr><td><div class=\"dni-plaintext\">0</div></td><td>foo</td><td><div class=\"dni-plaintext\">1</div></td><td>foo</td><td><div class=\"dni-plaintext\">5</div></td></tr><tr><td><div class=\"dni-plaintext\">1</div></td><td>bar</td><td><div class=\"dni-plaintext\">2</div></td><td>bar</td><td><div class=\"dni-plaintext\">6</div></td></tr><tr><td><div class=\"dni-plaintext\">2</div></td><td>baz</td><td><div class=\"dni-plaintext\">3</div></td><td>baz</td><td><div class=\"dni-plaintext\">7</div></td></tr><tr><td><div class=\"dni-plaintext\">3</div></td><td>foo</td><td><div class=\"dni-plaintext\">4</div></td><td><div class=\"dni-plaintext\">&lt;null&gt;</div></td><td><div class=\"dni-plaintext\">&lt;null&gt;</div></td></tr></tbody></table>"
      ]
     },
     "execution_count": 44,
     "metadata": {},
     "output_type": "execute_result"
    }
   ],
   "source": [
    "//\n",
    "mergedDf = df1.Join(df2, JoinType.Left);\n",
    "mergedDf"
   ]
  },
  {
   "cell_type": "markdown",
   "metadata": {},
   "source": [
    "### Select data from data frame\n",
    "\n",
    "The data from data frame can be selected on many ways. It is useful to have set of `Linq` oriented methods. There are several methods for selecting data from data frame:\n",
    "\n",
    "- ```TakeEvery(int nthRow)``` - select every nth row, created data frame and return.\n",
    "- ```TakeRandom(int rows)``` - select randomly `nrows` and return data frame.\n",
    "- ```Tail(int count = 5)``` - select last `count` rows.\n",
    "- ```Head(int count = 5)``` - select first `count` rows."
   ]
  },
  {
   "cell_type": "code",
   "execution_count": null,
   "metadata": {
    "dotnet_interactive": {
     "language": "csharp"
    }
   },
   "outputs": [],
   "source": []
  },
  {
   "cell_type": "code",
   "execution_count": null,
   "metadata": {
    "dotnet_interactive": {
     "language": "csharp"
    }
   },
   "outputs": [],
   "source": []
  },
  {
   "cell_type": "code",
   "execution_count": null,
   "metadata": {
    "dotnet_interactive": {
     "language": "csharp"
    }
   },
   "outputs": [],
   "source": []
  },
  {
   "cell_type": "code",
   "execution_count": null,
   "metadata": {
    "dotnet_interactive": {
     "language": "csharp"
    }
   },
   "outputs": [],
   "source": []
  }
 ],
 "metadata": {
  "kernelspec": {
   "display_name": ".NET (C#)",
   "language": "C#",
   "name": ".net-csharp"
  },
  "language_info": {
   "file_extension": ".cs",
   "mimetype": "text/x-csharp",
   "name": "C#",
   "pygments_lexer": "csharp",
   "version": "9.0"
  }
 },
 "nbformat": 4,
 "nbformat_minor": 2
}
