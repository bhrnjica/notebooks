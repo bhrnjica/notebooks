{
 "cells": [
  {
   "cell_type": "markdown",
   "metadata": {},
   "source": [
    "# Daany Developer Guide - Part 1: DataFrame Foundations"
   ]
  },
  {
   "cell_type": "code",
   "execution_count": 1,
   "metadata": {},
   "outputs": [
    {
     "data": {
      "text/html": [
       "Installing package Daany.DataFrame.......................................done!"
      ]
     },
     "metadata": {},
     "output_type": "display_data"
    },
    {
     "data": {
      "text/html": [
       "Successfully added reference to package Daany.DataFrame, version 0.6.1"
      ]
     },
     "metadata": {},
     "output_type": "display_data"
    },
    {
     "data": {
      "text/html": [
       "Installing package Daany.DataFrame.Ext...................done!"
      ]
     },
     "metadata": {},
     "output_type": "display_data"
    },
    {
     "data": {
      "text/html": [
       "Successfully added reference to package Daany.DataFrame.Ext, version 0.6.1"
      ]
     },
     "metadata": {},
     "output_type": "display_data"
    },
    {
     "data": {
      "text/html": [
       "Installing package Daany.Stat..............done!"
      ]
     },
     "metadata": {},
     "output_type": "display_data"
    },
    {
     "data": {
      "text/html": [
       "Successfully added reference to package Daany.Stat, version 0.6.1"
      ]
     },
     "metadata": {},
     "output_type": "display_data"
    },
    {
     "data": {
      "text/html": [
       "Installing package XPlot.Plotly.............done!"
      ]
     },
     "metadata": {},
     "output_type": "display_data"
    },
    {
     "data": {
      "text/html": [
       "Successfully added reference to package XPlot.Plotly, version 3.0.1"
      ]
     },
     "metadata": {},
     "output_type": "display_data"
    }
   ],
   "source": [
    "//NUget package installation\n",
    "#r \"nuget:Daany.DataFrame\"\n",
    "#r \"nuget:Daany.DataFrame.Ext\"\n",
    "#r \"nuget: Daany.Stat\"\n",
    "//Plot capabilities\n",
    "#r \"nuget:XPlot.Plotly\""
   ]
  },
  {
   "cell_type": "code",
   "execution_count": 10,
   "metadata": {},
   "outputs": [],
   "source": [
    "//using statement of Daany package\n",
    "using Daany;\n",
    "using Daany.MathStuff;\n",
    "using Daany.Ext;\n",
    "//PLot support\n",
    "using XPlot.Plotly;\n",
    "//custom display imlementation\n",
    "\n",
    "// Temporal DataFrame formatter for this early preview\n",
    "using Microsoft.AspNetCore.Html;\n",
    "Formatter<DataFrame>.Register((df, writer) =>\n",
    "{\n",
    "    var headers = new List<IHtmlContent>();\n",
    "    headers.Add(th(i($\"({df.Index.Name})\")));\n",
    "    headers.AddRange(df.Columns.Select(c => (IHtmlContent) th(c)));\n",
    "    \n",
    "    //renders the rows\n",
    "    var rows = new List<List<IHtmlContent>>();\n",
    "    var take = 20;\n",
    "    \n",
    "    //\n",
    "    for (var i = 0; i < Math.Min(take, df.RowCount()); i++)\n",
    "    {\n",
    "        var cells = new List<IHtmlContent>();\n",
    "        cells.Add(td(df.Index[i]));\n",
    "        foreach (var obj in df[i])\n",
    "        {\n",
    "            cells.Add(td(obj));\n",
    "        }\n",
    "        rows.Add(cells);\n",
    "    }\n",
    "    \n",
    "    var t = table(\n",
    "        thead(\n",
    "            headers),\n",
    "        tbody(\n",
    "            rows.Select(\n",
    "                r => tr(r))));\n",
    "    \n",
    "    writer.Write(t);\n",
    "}, \"text/html\");"
   ]
  },
  {
   "cell_type": "markdown",
   "metadata": {},
   "source": [
    "```Daany``` – .NET DAta ANalYtics library \n",
    "====================================\n",
    "\n",
    "![Daany - .NET DAta ANalYtics library ](img/daany_logo_small.png)\n",
    "\n",
    "Introduction\n",
    "=======================\n",
    "\n",
    "```Daany``` is .NET data analytics library written in C# and it supposed to be a tool\n",
    "for data preparation, feature engineering and other kinds of data\n",
    "transformations prior to creating ml-ready data set. It is .NET Core based\n",
    "library with ability to run on Windows Linux based distribution and Mac. It is\n",
    "based on .NET Standard 2.1.\n",
    "\n",
    "Besides data analysis, the library implements a set of statistics or data\n",
    "science features e.g. time series decompositions, optimization performance\n",
    "parameters and similar. \n",
    "\n",
    "Currently ```Daany``` project consists of four main\n",
    "components:\n",
    "\n",
    "-   ```Daany.DataFrame```,\n",
    "-   ```Daany.Stats```,\n",
    "-   ```Daany.MathStuff``` and\n",
    "-   ```Daany.DataFrame.Ext```\n",
    "\n",
    "The main ```Daany``` component is ```Daany.DataFrame``` - a data frame implementation for\n",
    "data analysis. It is much like ```Pandas``` but the component is not going to follow\n",
    "pandas implementation. It is suitable for doing data exploration and preparation\n",
    "with ```C# Jupyter Notebook```. In order to create or load data into data frame it\n",
    "doesn’t require any predefined class type. In order to defined relevant value type of each column all data are parsed internally during data frame creation. The ```Daany.DataFrame``` implements set of powerful features for data manipulation, handling missing values, calculated columns, merging two or more data frames into one, and similar. It is handy for extracting its rows or columns as series of elements and put into the chart to visualizing the data.\n",
    "\n",
    "```Daany.Stat``` is a collection of statistics features e.g. time series\n",
    "decompositions, optimization, performance parameters and similar.\n",
    "\n",
    "```Daany.Math``` is a component within data frame with implementation of od matrix and related\n",
    "linear algebra capabilities. It also contains some implementation of other great open source projects. The component is not going to be separate NuGet package.\n",
    "\n",
    "```Daany.DataFrame.Ext``` contains extensions for ```Daany.DataFrame``` component, but they are related to other projects mostly to ML.NET. The ```Daany.DataFrame```  should not be dependent on ```ML.NET```  and other libraries. So, any future data frame feature which depends on something other than ```Daany.Math```, should be placed in ```Daany.Ext```.\n",
    "\n",
    "The project is developed as a need to have a set of data transformation features\n",
    "in one library while I am working with machine learning. So, I thought it might\n",
    "help to others. Currently, the library has pretty much data transformation\n",
    "features and might be your number one data analytics library on .NET\n",
    "platform. Collaboration to the project is also welcome."
   ]
  },
  {
   "cell_type": "markdown",
   "metadata": {},
   "source": [
    "How to start with Daany\n",
    "=======================\n",
    "\n",
    "```Daany``` is 100% .NET Core component and can be run on any platform .NET Core supports, from the Windows x86/x64 to Mac or Linux based OS. It can be used by Visual Studio or Visual Studio Code. It consisted of 4 NuGet packages, so\n",
    "the easiest way to start with it is to install the packages in your .NET\n",
    "application. Within Visual Studio create or open your .NET application and open\n",
    "NuGet packages window. Type ```Daany``` in the browse edit box and hit enter. You can\n",
    "find four packages starting with Daany. You have few options to install the\n",
    "packages.\n",
    "\n",
    "1.  Install ```Daany.DataFrame```  – only. *Use this option if you want only data\n",
    "    analysis by using data frame. Once you click Install button, Daany.DataFrame\n",
    "    and Daany.Math will be installed into your project app.*\n",
    "\n",
    "2.  Install ```Daany.Stat``` package. This package already contains ```DataFrame```, as well as time series decomposition and related statistics features.\n",
    "\n",
    "![](img/daany_nuget.png)\n",
    "\n",
    "Once you install the packages, you can start developing your app using Daany\n",
    "packages."
   ]
  },
  {
   "cell_type": "markdown",
   "metadata": {},
   "source": [
    "Using ```Daany``` as assembly reference\n",
    "===========================================\n",
    "\n",
    "Since ```Daany``` has no dependency to other libraries you can copy three dlls and add them as reference to your project.\n",
    "\n",
    "![file explorer](img/daany_file_exp.png)\n",
    "\n",
    "In order to do so clone the project from [http://github.com/bhrnjica/daany](http://github.com/bhrnjica/daany),build it and copy ```Daany.DataFrame.dll```, ```Daany.Math.dll``` and ```Daany.Stat.dll``` to your project as assembly references. Whole project is just 270 KB.\n"
   ]
  },
  {
   "cell_type": "markdown",
   "metadata": {},
   "source": [
    "Namespaces in Daany\n",
    "================================================\n",
    "\n",
    "```Daany``` project contains several namespaces for separating different\n",
    "implementation. The following list contains relevant namespaces:\n",
    "\n",
    "-   ```using Daany``` – data frame and related code implementation,\n",
    "-   ```using Daany.Ext``` – data frame extensions, used with dependency on third party\n",
    "    library,\n",
    "-   ```using Daany.MathStuff``` – math related stuff implemented in Daany,\n",
    "-   ```using Daany.Optimizers``` – set of optimizers like SGD,\n",
    "-   ```using Daany.Stat``` – set of statistics implementations in the project."
   ]
  },
  {
   "cell_type": "markdown",
   "metadata": {},
   "source": [
    "Working with ```Daany.DataFrame```\n",
    "============================\n",
    "\n",
    "The main part of ```Daany``` project is ```Daany.DataFrame``` -  an c\\# implementation of data frame. A data frame is software component used for handling tabular data, especially for data preparation, feature engineering and analysis during development of machine learning models. The concept of ```Daany.DataFrame``` implementation is based on simplicity and .NET coding standard. It represents tabular data consisting of columns and rows. Each column has name and type and each row has its index and label.\n",
    "Usually, rows indicate a zero axis, while columns indicate axis one.\n",
    "\n",
    "The following image shows a data frame structure\n",
    "\n",
    "![data frame structure](img/daany_data_frame_structure.png)\n",
    "\n",
    "The basic components of the data frame are:\n",
    "\n",
    "-   ```header``` - list of column names,\n",
    "-   ```index```  – list of object representing each row,\n",
    "-   ```data``` – list of values in the data frame,\n",
    "-   ```missing value``` – data with no values in data frame.\n",
    "\n",
    "The image above shows the data frame components visually, and how they are\n",
    "positioned in the data frame."
   ]
  },
  {
   "cell_type": "markdown",
   "metadata": {},
   "source": [
    "How to create ```Daany.DataFrame```  .NET object\n",
    "-----------------------------------------\n",
    "\n",
    "In order to create a DataFrame there are several options:\n",
    "\n",
    "-   from a list of values, by specifying column names and row count\n",
    "-   from a dictionary, letting keys be column names and values be column values,\n",
    "-   from text-based file, where each line represents row values,\n",
    "-   as a return object for almost any data frame operations."
   ]
  },
  {
   "cell_type": "markdown",
   "metadata": {},
   "source": [
    "## Create ```DataFrame``` from a list of data.\n",
    "\n",
    "```Daany.DataFrame```  can be created by passing 1d list of data and column header. The following code shows such action.\n"
   ]
  },
  {
   "cell_type": "code",
   "execution_count": 13,
   "metadata": {},
   "outputs": [
    {
     "data": {
      "text/html": [
       "<table><thead><th><i>(index)</i></th><th>ID</th><th>City</th><th>Zip Code</th><th>Country</th><th>IsHome</th><th>Values</th><th>Date</th></thead><tbody><tr><td>0</td><td>1</td><td>Sarajevo</td><td>77000</td><td>BiH</td><td>True</td><td>3.14</td><td>2019-11-21 09:50:33Z</td></tr><tr><td>1</td><td>2</td><td>Seattle</td><td>98101</td><td>USA</td><td>False</td><td>3.21</td><td>2019-12-01 09:50:33Z</td></tr><tr><td>2</td><td>3</td><td>Berlin</td><td>10115</td><td>GER</td><td>False</td><td>4.55</td><td>2019-12-06 09:50:33Z</td></tr></tbody></table>"
      ]
     },
     "execution_count": 13,
     "metadata": {},
     "output_type": "execute_result"
    }
   ],
   "source": [
    "//define a list of data\n",
    "var lst = new List<object>() \n",
    "    { 1, \"Sarajevo\", 77000, \"BiH\", true, 3.14, DateTime.Now.AddDays(-20),\n",
    "      2, \"Seattle\", 98101, \"USA\", false, 3.21, DateTime.Now.AddDays(-10),\n",
    "      3, \"Berlin\", 10115, \"GER\", false, 4.55, DateTime.Now.AddDays(-5) };\n",
    "\n",
    "//define column header for the data frame\n",
    "var columns = new List<string>() { \"ID\", \"City\", \"Zip Code\",\"Country\", \"IsHome\",\"Values\", \"Date\" };\n",
    "\n",
    "//create data frame with 3 rows and 7 columns\n",
    "var df = new DataFrame(lst, columns);\n",
    "//show df\n",
    "df"
   ]
  },
  {
   "cell_type": "markdown",
   "metadata": {},
   "source": [
    "## Create ```DataFrame``` from dictionary\n",
    "\n",
    "Similarly ```Daany.DataFrame```  can be created by passing dictionary collection. The following code shows how to create data frame from the dictionary:"
   ]
  },
  {
   "cell_type": "code",
   "execution_count": 12,
   "metadata": {},
   "outputs": [
    {
     "data": {
      "text/html": [
       "<table><thead><th><i>(index)</i></th><th>ID</th><th>City</th><th>Zip Code</th><th>State</th><th>IsHome</th><th>Values</th><th>Date</th></thead><tbody><tr><td>0</td><td>1</td><td>Sarajevo</td><td>71000</td><td>BiH</td><td>True</td><td>3.14</td><td>2019-11-21 09:48:43Z</td></tr><tr><td>1</td><td>2</td><td>Seattle</td><td>98101</td><td>USA</td><td>False</td><td>3.21</td><td>2019-12-01 09:48:43Z</td></tr><tr><td>2</td><td>3</td><td>Berlin</td><td>10115</td><td>GER</td><td>False</td><td>4.55</td><td>2019-12-06 09:48:43Z</td></tr></tbody></table>"
      ]
     },
     "execution_count": 12,
     "metadata": {},
     "output_type": "execute_result"
    }
   ],
   "source": [
    "//define a dictionary of data\n",
    "var dict = new Dictionary<string, List<object>>\n",
    "{\n",
    "\n",
    "    { \"ID\",new List<object>() { 1,2,3} },\n",
    "    { \"City\",new List<object>() { \"Sarajevo\", \"Seattle\", \"Berlin\" } },\n",
    "    { \"Zip Code\",new List<object>() { 71000,98101,10115 } },\n",
    "    { \"State\",new List<object>() {\"BiH\",\"USA\",\"GER\" } },\n",
    "    { \"IsHome\",new List<object>() { true, false, false} },\n",
    "    { \"Values\",new List<object>() { 3.14, 3.21, 4.55 } },\n",
    "    { \"Date\",new List<object>() { DateTime.Now.AddDays(-20) ,\n",
    "    DateTime.Now.AddDays(-10) , DateTime.Now.AddDays(-5) } },\n",
    "\n",
    "};\n",
    "\n",
    "//create data frame with 3 rows and 7 columns\n",
    "var df = new DataFrame(dict);\n",
    "//check the size of the data frame\n",
    "df"
   ]
  },
  {
   "cell_type": "markdown",
   "metadata": {},
   "source": [
    "## Create ```DataFrame``` by loading data from a file\n",
    "\n",
    "By using static method ```DataFrame.FromCsv``` a user can create data frame object\n",
    "from the ``csv`` file. Otherwise, data frame can be persisted on disk by calling\n",
    "static method ```DataFrame.ToCsv```. \n",
    "The following code shows how to use static methods ```ToCsv``` and ```FromCsv``` to show persisting and loading data to data frame:"
   ]
  },
  {
   "cell_type": "code",
   "execution_count": 19,
   "metadata": {},
   "outputs": [
    {
     "data": {
      "text/html": [
       "<table><thead><th><i>(index)</i></th><th>ID</th><th>City</th><th>Zip Code</th><th>State</th><th>IsHome</th><th>Values</th><th>Date</th></thead><tbody><tr><td>0</td><td>1</td><td>Sarajevo</td><td>71000</td><td>BiH</td><td>True</td><td>3.14</td><td>2019-11-21 09:54:54Z</td></tr><tr><td>1</td><td>2</td><td>Seattle</td><td>98101</td><td>USA</td><td>False</td><td>3.21</td><td>2019-12-01 09:54:54Z</td></tr><tr><td>2</td><td>3</td><td>Berlin</td><td>10115</td><td>GER</td><td>False</td><td>4.55</td><td>2019-12-06 09:54:54Z</td></tr></tbody></table>"
      ]
     },
     "execution_count": 19,
     "metadata": {},
     "output_type": "execute_result"
    }
   ],
   "source": [
    "string filename = \"df_file.txt\";\n",
    "//define a dictionary of data\n",
    "var dict = new Dictionary<string, List<object>>\n",
    "{\n",
    "    { \"ID\",new List<object>() { 1,2,3} },\n",
    "    { \"City\",new List<object>() { \"Sarajevo\", \"Seattle\", \"Berlin\" } },\n",
    "    { \"Zip Code\",new List<object>() { 71000,98101,10115 } },\n",
    "    { \"State\",new List<object>() {\"BiH\",\"USA\",\"GER\" } },\n",
    "    { \"IsHome\",new List<object>() { true, false, false} },\n",
    "    { \"Values\",new List<object>() { 3.14, 3.21, 4.55 } },\n",
    "    { \"Date\",new List<object>() { DateTime.Now.AddDays(-20) , DateTime.Now.AddDays(-10) , DateTime.Now.AddDays(-5) } },\n",
    "\n",
    "};\n",
    "\n",
    "//create data frame with 3 rows and 7 columns\n",
    "var df1 = new DataFrame(dict);\n",
    "\n",
    "//first Save data frame on disk and load it\n",
    "DataFrame.ToCsv(filename, df1);\n",
    "\n",
    "//create data frame with 3 rows and 7 columns\n",
    "var dfFromFile = DataFrame.FromCsv(filename, sep:',');\n",
    "//show data frame\n",
    "dfFromFile"
   ]
  },
  {
   "cell_type": "markdown",
   "metadata": {},
   "source": [
    "First, we created data frame from the dictionary collection. Then we store data frame to file. After successfully saving, we load the same data frame from the csv file. The end of the code snippet, put asserts in order to prove everything is correctly implemented.\n",
    "\n",
    "In case the performance is important, you should pass column types to `FromCSV` method in order to achieve up to 50% of loading time. \n",
    "For example the following code loads the data from the file, by passing predefined column types:"
   ]
  },
  {
   "cell_type": "code",
   "execution_count": 20,
   "metadata": {},
   "outputs": [
    {
     "data": {
      "text/html": [
       "<table><thead><th><i>(index)</i></th><th>ID</th><th>City</th><th>Zip Code</th><th>State</th><th>IsHome</th><th>Values</th><th>Date</th></thead><tbody><tr><td>0</td><td>1</td><td>Sarajevo</td><td>71000</td><td>BiH</td><td>True</td><td>3.14</td><td>2019-11-21 09:54:54Z</td></tr><tr><td>1</td><td>2</td><td>Seattle</td><td>98101</td><td>USA</td><td>False</td><td>3.21</td><td>2019-12-01 09:54:54Z</td></tr><tr><td>2</td><td>3</td><td>Berlin</td><td>10115</td><td>GER</td><td>False</td><td>4.55</td><td>2019-12-06 09:54:54Z</td></tr></tbody></table>"
      ]
     },
     "execution_count": 20,
     "metadata": {},
     "output_type": "execute_result"
    }
   ],
   "source": [
    "//defined types of the column \n",
    "var colTypes1 = new ColType[] { ColType.I32, ColType.IN, ColType.I32, ColType.STR, ColType.I2, ColType.F32, ColType.DT };\n",
    "\n",
    "//create data frame with 3 rows and 7 columns\n",
    "var dfFromFile01 = DataFrame.FromCsv(filename, sep: ',', colTypes: colTypes1);\n",
    "dfFromFile01"
   ]
  },
  {
   "cell_type": "markdown",
   "metadata": {},
   "source": [
    "## Loading Data from a Web\n",
    "\n",
    "Data can be loaded directly from the web storage by using `FromWeb`static method. The following code shows how to load the `Concrete Slump Test` data from the web. The data set includes 103 data points. There are 7 input variables, and 3 output variables in the data set: `Cement`, `Slag`, `Fly ash`, `Water`, `SP`, `Coarse Aggr.`,`Fine Aggr.`, `SLUMP (cm)`, `FLOW (cm)`, `Strength (Mpa)`. \n",
    "The following code load the `Concrete Slump Test` data set into Daany DataFrame:\n"
   ]
  },
  {
   "cell_type": "code",
   "execution_count": 21,
   "metadata": {},
   "outputs": [
    {
     "data": {
      "text/html": [
       "<table><thead><th><i>(index)</i></th><th>No</th><th>Cement</th><th>Slag</th><th>Fly ash</th><th>Water</th><th>SP</th><th>Coarse Aggr.</th><th>Fine Aggr.</th><th>SLUMP(cm)</th><th>FLOW(cm)</th><th>Compressive Strength (28-day)(Mpa)</th></thead><tbody><tr><td>0</td><td>1</td><td>273</td><td>82</td><td>105</td><td>210</td><td>9</td><td>904</td><td>680</td><td>23</td><td>62</td><td>34.99</td></tr><tr><td>1</td><td>2</td><td>163</td><td>149</td><td>191</td><td>180</td><td>12</td><td>843</td><td>746</td><td>0</td><td>20</td><td>41.14</td></tr><tr><td>2</td><td>3</td><td>162</td><td>148</td><td>191</td><td>179</td><td>16</td><td>840</td><td>743</td><td>1</td><td>20</td><td>41.81</td></tr><tr><td>3</td><td>4</td><td>162</td><td>148</td><td>190</td><td>179</td><td>19</td><td>838</td><td>741</td><td>3</td><td>21.5</td><td>42.08</td></tr><tr><td>4</td><td>5</td><td>154</td><td>112</td><td>144</td><td>220</td><td>10</td><td>923</td><td>658</td><td>20</td><td>64</td><td>26.82</td></tr></tbody></table>"
      ]
     },
     "execution_count": 21,
     "metadata": {},
     "output_type": "execute_result"
    }
   ],
   "source": [
    "//define web url where the data is stored\n",
    "var url = \"https://archive.ics.uci.edu/ml/machine-learning-databases/concrete/slump/slump_test.data\";\n",
    "//\n",
    "var df2 = DataFrame.FromWeb(url);\n",
    "df.Head(5)"
   ]
  },
  {
   "cell_type": "markdown",
   "metadata": {},
   "source": [
    "## Other ways to create a ```DataFrame```\n",
    "\n",
    "Besides above, the data frame can be created on other ways:\n",
    "\n",
    "- Create data frame from existing one - This method can be used in order to create\n",
    "new data frame with different numbers of columns. For example, the new data frame\n",
    "can be created from existing one by specifying specific columns:"
   ]
  },
  {
   "cell_type": "code",
   "execution_count": 22,
   "metadata": {},
   "outputs": [
    {
     "data": {
      "text/html": [
       "<table><thead><th><i>(index)</i></th><th>City</th><th>Zip Code</th><th>State</th></thead><tbody><tr><td>0</td><td>Sarajevo</td><td>71000</td><td>BiH</td></tr><tr><td>1</td><td>Seattle</td><td>98101</td><td>USA</td></tr><tr><td>2</td><td>Berlin</td><td>10115</td><td>GER</td></tr></tbody></table>"
      ]
     },
     "execution_count": 22,
     "metadata": {},
     "output_type": "execute_result"
    }
   ],
   "source": [
    "//now create a new data frame with only three columns\n",
    "var newDf = df1[\"City\", \"Zip Code\", \"State\"];\n",
    "\n",
    "//check the size of the data frame\n",
    "newDf"
   ]
  },
  {
   "cell_type": "markdown",
   "metadata": {},
   "source": [
    "- Data frame can be created using ```Create``` method and passing tuples of\n",
    "existing and new column name. For example:"
   ]
  },
  {
   "cell_type": "code",
   "execution_count": 25,
   "metadata": {},
   "outputs": [
    {
     "data": {
      "text/html": [
       "<table><thead><th><i>(index)</i></th><th>Place</th><th>Zip Code</th><th>Country</th></thead><tbody><tr><td>0</td><td>Sarajevo</td><td>71000</td><td>BiH</td></tr><tr><td>1</td><td>Seattle</td><td>98101</td><td>USA</td></tr><tr><td>2</td><td>Berlin</td><td>10115</td><td>GER</td></tr></tbody></table>"
      ]
     },
     "execution_count": 25,
     "metadata": {},
     "output_type": "execute_result"
    }
   ],
   "source": [
    "//create data frame with 3 rows and 7 columns\n",
    "var df3 = DataFrame.FromCsv(\"data/simple_data_frame.txt\", sep: ',',names: null, dformat: \"MM/dd/yyyy\");\n",
    "\n",
    "//now create a new data frame with three columns which can be renamed during creation\n",
    "var newDf1 = df3.Create((\"City\",\"Place\"), (\"Zip Code\", null), (\"State\",\"Country\"));\n",
    "newDf1"
   ]
  },
  {
   "cell_type": "markdown",
   "metadata": {},
   "source": [
    "In case you want the column names remains the same pass ```null``` as second tuple\n",
    "item, or write the same name.\n",
    "\n",
    "- It is handy to create an empty data frame with specific column header. To do so\n",
    "use similar code like following:"
   ]
  },
  {
   "cell_type": "code",
   "execution_count": 30,
   "metadata": {},
   "outputs": [
    {
     "data": {
      "text/plain": [
       "(0, 4)"
      ]
     },
     "metadata": {},
     "output_type": "display_data"
    },
    {
     "data": {
      "text/html": [
       "<table><thead><tr><th><i>index</i></th><th>value</th></tr></thead><tbody><tr><td>0</td><td>Place</td></tr><tr><td>1</td><td>Country</td></tr><tr><td>2</td><td>Zip Code</td></tr><tr><td>3</td><td>Values</td></tr></tbody></table>"
      ]
     },
     "metadata": {},
     "output_type": "display_data"
    }
   ],
   "source": [
    "var cols = new List<string> { \"Place\", \"Country\", \"Zip Code\", \"Values\" };\n",
    "\n",
    "//create empty data frame with 4 columns\n",
    "var df = DataFrame.CreateEmpty(cols);\n",
    "\n",
    "//check the size of the data frame\n",
    "display(df.Shape.ToString());\n",
    "display(df.Columns.ToList());"
   ]
  },
  {
   "cell_type": "markdown",
   "metadata": {},
   "source": [
    "- Data frame is created almost in any performed operation like sorting, filtering,\n",
    "grouping, aggregation and similar."
   ]
  },
  {
   "cell_type": "markdown",
   "metadata": {},
   "source": [
    "Enumeration of  ```DataFrame```\n",
    "--------------------------\n",
    "\n",
    "Enumeration of data frame means iterating it row by row.\n",
    "```Daany.DataFrame```  provides three ways for the enumeration:\n",
    "\n",
    "-   **Strongly typed enumeration** – it means that you have to provide a Class type\n",
    "    during enumeration, as well as mapping logic for conversion data frame row into\n",
    "    the class object. This is done by providing callback mapping method.\n",
    "\n",
    "-   **Enumeration by dictionary** – it means that each data frame row is returned as\n",
    "    dictionary, where keys are column names and values are row array.\n",
    "\n",
    "-   **Enumeration by list** – it means the each data frame row is returned as list\n",
    "    of data."
   ]
  },
  {
   "cell_type": "markdown",
   "metadata": {},
   "source": [
    "### Strongly typed enumeration\n",
    "\n",
    "This enumeration is suitable when data frame need to be converted into list of\n",
    "custom types. Also, in order to convert ```Daany.DataFram``` into ```ML.NET```  ```IDataView``` you have to use typed enumeration. The following code shows how data set as previously loaded into ```Daany.DataFrame```  is converted into ```ML.NET``` ```IDataView```.\n",
    "\n",
    "Assume we defined ```Person``` class as follow:\n"
   ]
  },
  {
   "cell_type": "code",
   "execution_count": 40,
   "metadata": {},
   "outputs": [],
   "source": [
    "//define class type\n",
    "class Person\n",
    "{\n",
    "    public int ID { get; set; }\n",
    "    public string City { get; set; }\n",
    "    public int Zip { get; set; }\n",
    "    public string State { get; set; }\n",
    "    public bool IsHome { get; set; }\n",
    "    public float Values { get; set; }\n",
    "    public DateTime Date { get; set; }\n",
    "}"
   ]
  },
  {
   "cell_type": "markdown",
   "metadata": {},
   "source": [
    "Previously we created ```Daany.DataFrame```  from the file containing lists of Persons. Conversion from ```Daany.DataFrame``` to list of ```Persons``` the following code should be implemented:"
   ]
  },
  {
   "cell_type": "code",
   "execution_count": 41,
   "metadata": {},
   "outputs": [
    {
     "data": {
      "text/html": [
       "<table><thead><tr><th><i>index</i></th><th>ID</th><th>City</th><th>Zip</th><th>State</th><th>IsHome</th><th>Values</th><th>Date</th></tr></thead><tbody><tr><td>0</td><td>1</td><td>Sarajevo</td><td>71000</td><td>BiH</td><td>True</td><td>3.14</td><td>2019-10-17 13:03:40Z</td></tr><tr><td>1</td><td>2</td><td>Seattle</td><td>98101</td><td>USA</td><td>False</td><td>3.21</td><td>2019-10-27 13:03:40Z</td></tr><tr><td>2</td><td>3</td><td>Berlin</td><td>10115</td><td>GER</td><td>False</td><td>4.55</td><td>2019-11-01 13:03:40Z</td></tr></tbody></table>"
      ]
     },
     "metadata": {},
     "output_type": "display_data"
    }
   ],
   "source": [
    "//create data frame with 3 rows and 7 columns\n",
    "var df34 = DataFrame.FromCsv($\"data/simple_data_frame.txt\");\n",
    "\n",
    "//convert data frame into strongly typed list\n",
    "List<Person> list = df34.GetEnumerator<Person>((oRow) =>\n",
    "{\n",
    "    //convert row object array into Iris row\n",
    "\n",
    "    var prRow = new Person();\n",
    "    prRow.ID = Convert.ToInt32(oRow[\"ID\"]);\n",
    "    prRow.City = Convert.ToString(oRow[\"City\"]);\n",
    "    prRow.Zip = Convert.ToInt32(oRow[\"Zip Code\"]);\n",
    "    prRow.State = Convert.ToString(oRow[\"State\"]);\n",
    "    prRow.IsHome = Convert.ToBoolean(oRow[\"IsHome\"]);\n",
    "    prRow.Values = Convert.ToSingle(oRow[\"Values\"]);\n",
    "    prRow.Date = Convert.ToDateTime(oRow[\"Date\"]);\n",
    "    //\n",
    "    return prRow;\n",
    "}).ToList();\n",
    "\n",
    "//\n",
    "display(list)"
   ]
  },
  {
   "cell_type": "markdown",
   "metadata": {},
   "source": [
    "As can be seen, ```GetEnumerator``` takes one argument `oRow` which is dictionary of the\n",
    "data frame row. The `oRow` is passed into delegate where conversion is performed."
   ]
  },
  {
   "cell_type": "markdown",
   "metadata": {},
   "source": [
    "### Enumeration by dictionary"
   ]
  },
  {
   "cell_type": "markdown",
   "metadata": {},
   "source": [
    "In order to enumerate data frame by dictionary call ```GetEnumerator``` method, without providing custom type. The following code uses previously loaded data frame and perform `Linq` operators against it.\n"
   ]
  },
  {
   "cell_type": "code",
   "execution_count": 45,
   "metadata": {},
   "outputs": [
    {
     "data": {
      "text/html": [
       "<table><thead><tr><th><i>key</i></th><th></th></tr></thead><tbody><tr><td>ID</td><td>2</td></tr><tr><td>City</td><td>Seattle</td></tr><tr><td>Zip Code</td><td>98101</td></tr><tr><td>State</td><td>USA</td></tr><tr><td>IsHome</td><td>False</td></tr><tr><td>Values</td><td>3.21</td></tr><tr><td>Date</td><td>2019-10-27 13:03:40Z</td></tr></tbody></table>"
      ]
     },
     "execution_count": 45,
     "metadata": {},
     "output_type": "execute_result"
    }
   ],
   "source": [
    "//create data frame with 3 rows and 7 columns\n",
    "var df42 = DataFrame.FromCsv($\"data/simple_data_frame.txt\");\n",
    "\n",
    "//get second data frame row\n",
    "//row2 is a dictionary with column names as keys\n",
    "var row2 = df42.GetEnumerator().Skip(1).First();\n",
    "row2"
   ]
  },
  {
   "cell_type": "markdown",
   "metadata": {},
   "source": [
    "### Enumeration by list\n",
    "\n",
    "Data frame can be enumerated by returning the row as a list. This method can be use when the performance is important, otherwise use previous method. The following code shows how to use enumeration by list."
   ]
  },
  {
   "cell_type": "code",
   "execution_count": 49,
   "metadata": {},
   "outputs": [
    {
     "data": {
      "text/html": [
       "<table><thead><tr><th><i>index</i></th><th>value</th></tr></thead><tbody><tr><td>0</td><td>1</td></tr><tr><td>1</td><td>Sarajevo</td></tr><tr><td>2</td><td>71000</td></tr><tr><td>3</td><td>BiH</td></tr><tr><td>4</td><td>True</td></tr><tr><td>5</td><td>3.14</td></tr><tr><td>6</td><td>2019-10-17 00:00:00Z</td><td>17</td><td>{ System.DayOfWeek: value__: 4 }</td><td>290</td><td>13</td><td>{ System.DateTimeKind: value__: 0 }</td><td>0</td><td>3</td><td>10</td><td>40</td><td>637069142200000000</td><td>{ System.TimeSpan: Ticks: 470200000000, Days: 0, Hours: 13, Milliseconds: 0, Minutes: 3, Seconds: 40, TotalDays: 0.544212962962963, TotalHours: 13.061111111111112, TotalMilliseconds: 47020000, TotalMinutes: 783.6666666666666, TotalSeconds: 47020 }</td><td>2019</td></tr></tbody></table>"
      ]
     },
     "metadata": {},
     "output_type": "display_data"
    }
   ],
   "source": [
    "//create data frame with 3 rows and 7 columns\n",
    "var df46 = DataFrame.FromCsv($\"data/simple_data_frame.txt\");\n",
    "\n",
    "//get second data frame row\n",
    "//row2 is a dictionary with column names as keys\n",
    "var row46 = df.GetRowEnumerator().FirstOrDefault();\n",
    "display(row46)"
   ]
  },
  {
   "cell_type": "markdown",
   "metadata": {},
   "source": [
    "Selecting data in ```Daany``` data frame\n",
    "==================================\n",
    "\n",
    "Accessing data in data frame can be achieved in many ways. Also different kind of data can be selected from the data frame. You can select a data as a single values, or list of data from a single row, list of column values or data frame as subset of the existing one. Let's see how can the column be selected from the data frame. \n",
    "\n",
    "## Column selection\n",
    "\n",
    "This code sample select two columns separately from data frame, and convert them\n",
    "into array and list."
   ]
  },
  {
   "cell_type": "code",
   "execution_count": 53,
   "metadata": {},
   "outputs": [
    {
     "data": {
      "text/html": [
       "<table><thead><tr><th>Item1</th><th>Item2</th></tr></thead><tbody><tr><td>[ Sarajevo, Seattle, Berlin ]</td><td>[ 71000, 98101, 10115 ]</td></tr></tbody></table>"
      ]
     },
     "execution_count": 53,
     "metadata": {},
     "output_type": "execute_result"
    }
   ],
   "source": [
    "//create data frame with 3 rows and 7 columns\n",
    "var df = DataFrame.FromCsv($\"data/simple_data_frame.txt\");\n",
    "\n",
    "//select one column from the data frame\n",
    "var cities = df[\"City\"].ToArray();\n",
    "var zipCodes = df[\"Zip Code\"].ToList();\n",
    "\n",
    "(cities,zipCodes)"
   ]
  },
  {
   "cell_type": "markdown",
   "metadata": {},
   "source": [
    "## Two or more columns selection\n",
    "\n",
    "Selecting more than one column at once returns data frame. The following code\n",
    "creates new data frame from selected columns:"
   ]
  },
  {
   "cell_type": "code",
   "execution_count": 54,
   "metadata": {},
   "outputs": [
    {
     "data": {
      "text/html": [
       "<table><thead><th><i>(index)</i></th><th>City</th><th>Zip Code</th></thead><tbody><tr><td>0</td><td>Sarajevo</td><td>71000</td></tr><tr><td>1</td><td>Seattle</td><td>98101</td></tr><tr><td>2</td><td>Berlin</td><td>10115</td></tr></tbody></table>"
      ]
     },
     "execution_count": 54,
     "metadata": {},
     "output_type": "execute_result"
    }
   ],
   "source": [
    "//create data frame with 3 rows and 7 columns\n",
    "var df54 = DataFrame.FromCsv($\"data/simple_data_frame.txt\");\n",
    "\n",
    "//select one column from the data frame\n",
    "var citiesDf = df54[\"City\", \"Zip Code\"];\n",
    "\n",
    "//check for values\n",
    "citiesDf"
   ]
  },
  {
   "cell_type": "markdown",
   "metadata": {},
   "source": [
    "## Row selection\n",
    "Selecting data by rows returns whole row from the data frame. The following code\n",
    "returns third rows from the existing data frame."
   ]
  },
  {
   "cell_type": "code",
   "execution_count": 56,
   "metadata": {},
   "outputs": [
    {
     "data": {
      "text/html": [
       "<table><thead><tr><th><i>index</i></th><th>value</th></tr></thead><tbody><tr><td>0</td><td>3</td></tr><tr><td>1</td><td>Berlin</td></tr><tr><td>2</td><td>10115</td></tr><tr><td>3</td><td>GER</td></tr><tr><td>4</td><td>False</td></tr><tr><td>5</td><td>4.55</td></tr><tr><td>6</td><td>2019-11-01 00:00:00Z</td><td>1</td><td>{ System.DayOfWeek: value__: 5 }</td><td>305</td><td>13</td><td>{ System.DateTimeKind: value__: 0 }</td><td>0</td><td>3</td><td>11</td><td>40</td><td>637082102200000000</td><td>{ System.TimeSpan: Ticks: 470200000000, Days: 0, Hours: 13, Milliseconds: 0, Minutes: 3, Seconds: 40, TotalDays: 0.544212962962963, TotalHours: 13.061111111111112, TotalMilliseconds: 47020000, TotalMinutes: 783.6666666666666, TotalSeconds: 47020 }</td><td>2019</td></tr></tbody></table>"
      ]
     },
     "execution_count": 56,
     "metadata": {},
     "output_type": "execute_result"
    }
   ],
   "source": [
    "//select third row from data frame\n",
    "//3, \"Berlin\", 10115, \"GER\", false, 4.55, DateTime.Now.AddDays(-5)\n",
    "var row = df54[2].ToArray();\n",
    "row"
   ]
  },
  {
   "cell_type": "markdown",
   "metadata": {},
   "source": [
    "## Data selection\n",
    "\n",
    "Selecting data is achieved by using zero-based position of row and column or by column name and rows position. The following code select ```City``` from the third row:"
   ]
  },
  {
   "cell_type": "code",
   "execution_count": 59,
   "metadata": {},
   "outputs": [
    {
     "data": {
      "text/html": [
       "<table><thead><tr><th>Item1</th><th>Item2</th></tr></thead><tbody><tr><td>Berlin</td><td>Berlin</td></tr></tbody></table>"
      ]
     },
     "execution_count": 59,
     "metadata": {},
     "output_type": "execute_result"
    }
   ],
   "source": [
    "//create data frame with 3 rows and 7 columns\n",
    "var df57 = DataFrame.FromCsv($\"data/simple_data_frame.txt\");\n",
    "\n",
    "//select city from the third row\n",
    "var city = df57[2,1];\n",
    "var city1 = df57[\"City\", 2];\n",
    "\n",
    "(city, city1)//the same values with diferent indexer accessors"
   ]
  }
 ],
 "metadata": {
  "kernelspec": {
   "display_name": ".NET (C#)",
   "language": "C#",
   "name": ".net-csharp"
  },
  "language_info": {
   "file_extension": ".cs",
   "mimetype": "text/x-csharp",
   "name": "C#",
   "pygments_lexer": "csharp",
   "version": "8.0"
  }
 },
 "nbformat": 4,
 "nbformat_minor": 2
}
