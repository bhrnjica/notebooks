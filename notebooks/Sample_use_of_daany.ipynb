{
 "cells": [
  {
   "cell_type": "code",
   "execution_count": null,
   "metadata": {
    "dotnet_interactive": {
     "language": "csharp"
    }
   },
   "outputs": [
    {
     "data": {
      "text/plain": [
       "Hello NOtebook Jupyter from .NET\r\n"
      ]
     },
     "output_type": "unknown"
    }
   ],
   "source": [
    "Console.WriteLine(\"Hello NOtebook Jupyter from .NET\");"
   ]
  },
  {
   "cell_type": "code",
   "execution_count": null,
   "metadata": {
    "dotnet_interactive": {
     "language": "csharp"
    }
   },
   "outputs": [
    {
     "data": {
      "text/html": [
       "<div><div></div><div><strong>Installed Packages</strong><ul><li><span>Daany.DataFrame, 1.1.0</span></li><li><span>Daany.DataFrame.Ext, 1.1.0</span></li><li><span>fsharp.core, 5.0.2</span></li><li><span>newtonsoft.json, 12.0.3</span></li><li><span>xplot.plotly, 4.0.3</span></li></ul></div><div></div></div>"
      ]
     },
     "output_type": "unknown"
    }
   ],
   "source": [
    "#r \"nuget:Daany.DataFrame,1.1.0\"\r\n",
    "#r \"nuget:Daany.DataFrame.Ext,1.1.0\""
   ]
  },
  {
   "cell_type": "code",
   "execution_count": null,
   "metadata": {
    "dotnet_interactive": {
     "language": "csharp"
    }
   },
   "outputs": [],
   "source": []
  }
 ],
 "metadata": {
  "kernelspec": {
   "display_name": ".NET (C#)",
   "language": "C#",
   "name": ".net-csharp"
  },
  "language_info": {
   "file_extension": ".cs",
   "mimetype": "text/x-csharp",
   "name": "C#",
   "pygments_lexer": "csharp",
   "version": "8.0"
  }
 },
 "nbformat": 4,
 "nbformat_minor": 4
}