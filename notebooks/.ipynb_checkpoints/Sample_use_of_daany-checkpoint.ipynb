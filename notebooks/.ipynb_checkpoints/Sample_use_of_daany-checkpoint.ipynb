{
 "cells": [
  {
   "cell_type": "code",
   "execution_count": null,
   "metadata": {
    "dotnet_interactive": {
     "language": "csharp"
    }
   },
   "outputs": [],
   "source": [
    "Console.WriteLine(\"Hello NOtebook Jupyter from .NET\");"
   ]
  },
  {
   "cell_type": "code",
   "execution_count": 1,
   "metadata": {
    "dotnet_interactive": {
     "language": "csharp"
    }
   },
   "outputs": [
    {
     "data": {
      "text/html": [
       "\r\n",
       "<div>\r\n",
       "    <div id='dotnet-interactive-this-cell-13664.Microsoft.DotNet.Interactive.Http.HttpPort' style='display: none'>\r\n",
       "        The below script needs to be able to find the current output cell; this is an easy method to get it.\r\n",
       "    </div>\r\n",
       "    <script type='text/javascript'>\r\n",
       "async function probeAddresses(probingAddresses) {\r\n",
       "    function timeout(ms, promise) {\r\n",
       "        return new Promise(function (resolve, reject) {\r\n",
       "            setTimeout(function () {\r\n",
       "                reject(new Error('timeout'))\r\n",
       "            }, ms)\r\n",
       "            promise.then(resolve, reject)\r\n",
       "        })\r\n",
       "    }\r\n",
       "\r\n",
       "    if (Array.isArray(probingAddresses)) {\r\n",
       "        for (let i = 0; i < probingAddresses.length; i++) {\r\n",
       "\r\n",
       "            let rootUrl = probingAddresses[i];\r\n",
       "\r\n",
       "            if (!rootUrl.endsWith('/')) {\r\n",
       "                rootUrl = `${rootUrl}/`;\r\n",
       "            }\r\n",
       "\r\n",
       "            try {\r\n",
       "                let response = await timeout(1000, fetch(`${rootUrl}discovery`, {\r\n",
       "                    method: 'POST',\r\n",
       "                    cache: 'no-cache',\r\n",
       "                    mode: 'cors',\r\n",
       "                    timeout: 1000,\r\n",
       "                    headers: {\r\n",
       "                        'Content-Type': 'text/plain'\r\n",
       "                    },\r\n",
       "                    body: probingAddresses[i]\r\n",
       "                }));\r\n",
       "\r\n",
       "                if (response.status == 200) {\r\n",
       "                    return rootUrl;\r\n",
       "                }\r\n",
       "            }\r\n",
       "            catch (e) { }\r\n",
       "        }\r\n",
       "    }\r\n",
       "}\r\n",
       "\r\n",
       "function loadDotnetInteractiveApi() {\r\n",
       "    probeAddresses([\"http://192.168.56.1:1000/\", \"http://192.168.0.21:1000/\", \"http://127.0.0.1:1000/\"])\r\n",
       "        .then((root) => {\r\n",
       "        // use probing to find host url and api resources\r\n",
       "        // load interactive helpers and language services\r\n",
       "        let dotnetInteractiveRequire = require.config({\r\n",
       "        context: '13664.Microsoft.DotNet.Interactive.Http.HttpPort',\r\n",
       "                paths:\r\n",
       "            {\r\n",
       "                'dotnet-interactive': `${root}resources`\r\n",
       "                }\r\n",
       "        }) || require;\r\n",
       "\r\n",
       "            window.dotnetInteractiveRequire = dotnetInteractiveRequire;\r\n",
       "\r\n",
       "            window.configureRequireFromExtension = function(extensionName, extensionCacheBuster) {\r\n",
       "                let paths = {};\r\n",
       "                paths[extensionName] = `${root}extensions/${extensionName}/resources/`;\r\n",
       "                \r\n",
       "                let internalRequire = require.config({\r\n",
       "                    context: extensionCacheBuster,\r\n",
       "                    paths: paths,\r\n",
       "                    urlArgs: `cacheBuster=${extensionCacheBuster}`\r\n",
       "                    }) || require;\r\n",
       "\r\n",
       "                return internalRequire\r\n",
       "            };\r\n",
       "        \r\n",
       "            dotnetInteractiveRequire([\r\n",
       "                    'dotnet-interactive/dotnet-interactive'\r\n",
       "                ],\r\n",
       "                function (dotnet) {\r\n",
       "                    dotnet.init(window);\r\n",
       "                },\r\n",
       "                function (error) {\r\n",
       "                    console.log(error);\r\n",
       "                }\r\n",
       "            );\r\n",
       "        })\r\n",
       "        .catch(error => {console.log(error);});\r\n",
       "    }\r\n",
       "\r\n",
       "// ensure `require` is available globally\r\n",
       "if ((typeof(require) !==  typeof(Function)) || (typeof(require.config) !== typeof(Function))) {\r\n",
       "    let require_script = document.createElement('script');\r\n",
       "    require_script.setAttribute('src', 'https://cdnjs.cloudflare.com/ajax/libs/require.js/2.3.6/require.min.js');\r\n",
       "    require_script.setAttribute('type', 'text/javascript');\r\n",
       "    \r\n",
       "    \r\n",
       "    require_script.onload = function() {\r\n",
       "        loadDotnetInteractiveApi();\r\n",
       "    };\r\n",
       "\r\n",
       "    document.getElementsByTagName('head')[0].appendChild(require_script);\r\n",
       "}\r\n",
       "else {\r\n",
       "    loadDotnetInteractiveApi();\r\n",
       "}\r\n",
       "\r\n",
       "    </script>\r\n",
       "</div>"
      ]
     },
     "metadata": {},
     "output_type": "display_data"
    },
    {
     "data": {
      "text/plain": [
       "Installing package Daany.LinA.win-x64, version 1.0.0........"
      ]
     },
     "metadata": {},
     "output_type": "display_data"
    },
    {
     "ename": "Unhandled exception",
     "evalue": "C:\\Users\\bhrnjica\\AppData\\Local\\Temp\\nuget\\13664--2c67c14f-d11b-4724-9254-df5876b3cdb0\\Project.fsproj : warning NU1603: intelmkl.devel.win-x64 2021.3.0.524 depends on intelopenmp.devel.win (>= 2021.0.0 && < 2022.0.0) but intelopenmp.devel.win 2021.0.0 was not found. An approximate best match of intelopenmp.devel.win 2021.1.1.191 was resolved.\r\nC:\\Users\\bhrnjica\\AppData\\Local\\Temp\\nuget\\13664--2c67c14f-d11b-4724-9254-df5876b3cdb0\\Project.fsproj : warning NU1603: intelmkl.redist.win-x64 2021.3.0.524 depends on intelopenmp.redist.win (>= 2021.0.0 && < 2022.0.0) but intelopenmp.redist.win 2021.0.0 was not found. An approximate best match of intelopenmp.redist.win 2021.1.1.191 was resolved.\r\nC:\\Users\\bhrnjica\\AppData\\Local\\Temp\\nuget\\13664--2c67c14f-d11b-4724-9254-df5876b3cdb0\\Project.fsproj : warning NU1603: intelmkl.devel.win-x64 2021.3.0.524 depends on inteltbb.devel.win (>= 2021.0.0 && < 2022.0.0) but inteltbb.devel.win 2021.0.0 was not found. An approximate best match of inteltbb.devel.win 2021.1.1.133 was resolved.\r\nC:\\Users\\bhrnjica\\AppData\\Local\\Temp\\nuget\\13664--2c67c14f-d11b-4724-9254-df5876b3cdb0\\Project.fsproj : warning NU1603: intelmkl.redist.win-x64 2021.3.0.524 depends on inteltbb.redist.win (>= 2021.0.0 && < 2022.0.0) but inteltbb.redist.win 2021.0.0 was not found. An approximate best match of inteltbb.redist.win 2021.1.1.133 was resolved.\r\nC:\\Users\\bhrnjica\\AppData\\Local\\Temp\\nuget\\13664--2c67c14f-d11b-4724-9254-df5876b3cdb0\\Project.fsproj : error NU1202: Package intelmkl.devel.win-x64 2021.3.0.524 is not compatible with net5.0 (.NETCoreApp,Version=v5.0). Package intelmkl.devel.win-x64 2021.3.0.524 does not support any target frameworks.\r\nC:\\Users\\bhrnjica\\AppData\\Local\\Temp\\nuget\\13664--2c67c14f-d11b-4724-9254-df5876b3cdb0\\Project.fsproj : error NU1202: Package intelopenmp.devel.win 2021.1.1.191 is not compatible with net5.0 (.NETCoreApp,Version=v5.0). Package intelopenmp.devel.win 2021.1.1.191 does not support any target frameworks.\r\nC:\\Users\\bhrnjica\\AppData\\Local\\Temp\\nuget\\13664--2c67c14f-d11b-4724-9254-df5876b3cdb0\\Project.fsproj : error NU1202: Package inteltbb.devel.win 2021.1.1.133 is not compatible with net5.0 (.NETCoreApp,Version=v5.0). Package inteltbb.devel.win 2021.1.1.133 does not support any target frameworks.\r\nC:\\Users\\bhrnjica\\AppData\\Local\\Temp\\nuget\\13664--2c67c14f-d11b-4724-9254-df5876b3cdb0\\Project.fsproj : error NU1202: Package intelmkl.devel.win-x64 2021.3.0.524 is not compatible with net5.0 (.NETCoreApp,Version=v5.0) / win-x64. Package intelmkl.devel.win-x64 2021.3.0.524 does not support any target frameworks.\r\nC:\\Users\\bhrnjica\\AppData\\Local\\Temp\\nuget\\13664--2c67c14f-d11b-4724-9254-df5876b3cdb0\\Project.fsproj : error NU1202: Package intelopenmp.devel.win 2021.1.1.191 is not compatible with net5.0 (.NETCoreApp,Version=v5.0) / win-x64. Package intelopenmp.devel.win 2021.1.1.191 does not support any target frameworks.\r\nC:\\Users\\bhrnjica\\AppData\\Local\\Temp\\nuget\\13664--2c67c14f-d11b-4724-9254-df5876b3cdb0\\Project.fsproj : error NU1202: Package inteltbb.devel.win 2021.1.1.133 is not compatible with net5.0 (.NETCoreApp,Version=v5.0) / win-x64. Package inteltbb.devel.win 2021.1.1.133 does not support any target frameworks.",
     "output_type": "error",
     "traceback": [
      "C:\\Users\\bhrnjica\\AppData\\Local\\Temp\\nuget\\13664--2c67c14f-d11b-4724-9254-df5876b3cdb0\\Project.fsproj : warning NU1603: intelmkl.devel.win-x64 2021.3.0.524 depends on intelopenmp.devel.win (>= 2021.0.0 && < 2022.0.0) but intelopenmp.devel.win 2021.0.0 was not found. An approximate best match of intelopenmp.devel.win 2021.1.1.191 was resolved.\r\nC:\\Users\\bhrnjica\\AppData\\Local\\Temp\\nuget\\13664--2c67c14f-d11b-4724-9254-df5876b3cdb0\\Project.fsproj : warning NU1603: intelmkl.redist.win-x64 2021.3.0.524 depends on intelopenmp.redist.win (>= 2021.0.0 && < 2022.0.0) but intelopenmp.redist.win 2021.0.0 was not found. An approximate best match of intelopenmp.redist.win 2021.1.1.191 was resolved.\r\nC:\\Users\\bhrnjica\\AppData\\Local\\Temp\\nuget\\13664--2c67c14f-d11b-4724-9254-df5876b3cdb0\\Project.fsproj : warning NU1603: intelmkl.devel.win-x64 2021.3.0.524 depends on inteltbb.devel.win (>= 2021.0.0 && < 2022.0.0) but inteltbb.devel.win 2021.0.0 was not found. An approximate best match of inteltbb.devel.win 2021.1.1.133 was resolved.\r\nC:\\Users\\bhrnjica\\AppData\\Local\\Temp\\nuget\\13664--2c67c14f-d11b-4724-9254-df5876b3cdb0\\Project.fsproj : warning NU1603: intelmkl.redist.win-x64 2021.3.0.524 depends on inteltbb.redist.win (>= 2021.0.0 && < 2022.0.0) but inteltbb.redist.win 2021.0.0 was not found. An approximate best match of inteltbb.redist.win 2021.1.1.133 was resolved.\r\nC:\\Users\\bhrnjica\\AppData\\Local\\Temp\\nuget\\13664--2c67c14f-d11b-4724-9254-df5876b3cdb0\\Project.fsproj : error NU1202: Package intelmkl.devel.win-x64 2021.3.0.524 is not compatible with net5.0 (.NETCoreApp,Version=v5.0). Package intelmkl.devel.win-x64 2021.3.0.524 does not support any target frameworks.\r\nC:\\Users\\bhrnjica\\AppData\\Local\\Temp\\nuget\\13664--2c67c14f-d11b-4724-9254-df5876b3cdb0\\Project.fsproj : error NU1202: Package intelopenmp.devel.win 2021.1.1.191 is not compatible with net5.0 (.NETCoreApp,Version=v5.0). Package intelopenmp.devel.win 2021.1.1.191 does not support any target frameworks.\r\nC:\\Users\\bhrnjica\\AppData\\Local\\Temp\\nuget\\13664--2c67c14f-d11b-4724-9254-df5876b3cdb0\\Project.fsproj : error NU1202: Package inteltbb.devel.win 2021.1.1.133 is not compatible with net5.0 (.NETCoreApp,Version=v5.0). Package inteltbb.devel.win 2021.1.1.133 does not support any target frameworks.\r\nC:\\Users\\bhrnjica\\AppData\\Local\\Temp\\nuget\\13664--2c67c14f-d11b-4724-9254-df5876b3cdb0\\Project.fsproj : error NU1202: Package intelmkl.devel.win-x64 2021.3.0.524 is not compatible with net5.0 (.NETCoreApp,Version=v5.0) / win-x64. Package intelmkl.devel.win-x64 2021.3.0.524 does not support any target frameworks.\r\nC:\\Users\\bhrnjica\\AppData\\Local\\Temp\\nuget\\13664--2c67c14f-d11b-4724-9254-df5876b3cdb0\\Project.fsproj : error NU1202: Package intelopenmp.devel.win 2021.1.1.191 is not compatible with net5.0 (.NETCoreApp,Version=v5.0) / win-x64. Package intelopenmp.devel.win 2021.1.1.191 does not support any target frameworks.\r\nC:\\Users\\bhrnjica\\AppData\\Local\\Temp\\nuget\\13664--2c67c14f-d11b-4724-9254-df5876b3cdb0\\Project.fsproj : error NU1202: Package inteltbb.devel.win 2021.1.1.133 is not compatible with net5.0 (.NETCoreApp,Version=v5.0) / win-x64. Package inteltbb.devel.win 2021.1.1.133 does not support any target frameworks."
     ]
    }
   ],
   "source": [
    "\n",
    "#r \"nuget:Daany.LinA.win-x64,1.0.1\""
   ]
  },
  {
   "cell_type": "code",
   "execution_count": null,
   "metadata": {},
   "outputs": [],
   "source": []
  },
  {
   "cell_type": "code",
   "execution_count": null,
   "metadata": {
    "dotnet_interactive": {
     "language": "csharp"
    }
   },
   "outputs": [],
   "source": [
    "using Daany.LinA;"
   ]
  },
  {
   "cell_type": "code",
   "execution_count": null,
   "metadata": {},
   "outputs": [],
   "source": []
  }
 ],
 "metadata": {
  "kernelspec": {
   "display_name": ".NET (C#)",
   "language": "C#",
   "name": ".net-csharp"
  },
  "language_info": {
   "file_extension": ".cs",
   "mimetype": "text/x-csharp",
   "name": "C#",
   "pygments_lexer": "csharp",
   "version": "9.0"
  }
 },
 "nbformat": 4,
 "nbformat_minor": 4
}
