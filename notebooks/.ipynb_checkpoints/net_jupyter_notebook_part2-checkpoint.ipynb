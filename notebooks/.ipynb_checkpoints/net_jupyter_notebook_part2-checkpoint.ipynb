{
 "cells": [
  {
   "cell_type": "code",
   "execution_count": 17,
   "metadata": {
    "dotnet_interactive": {
     "language": "csharp"
    }
   },
   "outputs": [],
   "source": [
    "//ML.NET\n",
    "#r \"nuget:Microsoft.ML,1.5.5\"\n",
    "#r \"nuget:Microsoft.ML.LightGbm,1.5.5\"\n",
    "#r \"nuget:Microsoft.ML.DataView,1.5.5\"\n",
    "//#r \"ConsoleHelper.cs\"\n",
    "//Install Daany.DataFrame \n",
    "//Nuget package installation\n",
    "#r \"nuget:Daany.DataFrame,1.1.0\"\n",
    "#r \"nuget:Daany.DataFrame.Ext,1.1.0\"\n",
    "#r \"nuget: Daany.Stat,1.1.0\"\n",
    "#r \"bin/Daany.Util.dll\"\n",
    "//Plot capabilities\n",
    "#r \"nuget: XPlot.Plotly.Interactive,4.0.2\"\n",
    "\n",
    "using System;\n",
    "using System.Linq;\n",
    "\n",
    "//Daany data frame\n",
    "using Daany;\n",
    "using Daany.Ext;\n",
    "using Daany.Util;\n",
    "\n",
    "//Plotting functionalities\n",
    "using XPlot.Plotly;\n",
    "\n",
    "//ML.NET using\n",
    "using Microsoft.ML;\n",
    "using Microsoft.ML.Data;\n",
    "using Microsoft.ML.Trainers.LightGbm;\n",
    "//custom display implementation\n",
    "using static Microsoft.DotNet.Interactive.Formatting.PocketViewTags;\n",
    "using Microsoft.AspNetCore.Html;\n",
    "using Microsoft.DotNet.Interactive.Formatting;\n",
    "using static System.Diagnostics.Debug;\n",
    "using System.Globalization;"
   ]
  },
  {
   "cell_type": "markdown",
   "metadata": {},
   "source": [
    "# C# Jupyter Notebook Part 2/n"
   ]
  },
  {
   "cell_type": "markdown",
   "metadata": {},
   "source": [
    "In this blog post, we are going to explore the main features in the new C# Juypter Notebook. For those who used Notebook from other programming languages like Python or R, this would be an easy task. First of all, the Notebook concept provides a quick, simple and straightforward way to present a mix of text and $\\LaTeX$, source code implementation and its output. This means you have a full-featured platform to write a paper or blog post, presentation slides, lecture notes, and other educated materials. \n",
    "\n",
    "The notebook consists of cells, where a user can write code or markdown text. Once he completes the cell content confirmation for cell editing can be achieved by `Ctrl+Enter` or by press run button from the notebook toolbar. The image below shows the notebook toolbar, with a run button. The popup combo box shows the type of cell the user can define. In the case of text, `Markdown` should be selected, for writing source code the cell should be `Code`.\n",
    "![run button](img/jupyter_notebook_b2_img01.png)"
   ]
  },
  {
   "cell_type": "markdown",
   "metadata": {},
   "source": [
    "To start writing code to C# Notebook, the first thing we should do is install NuGet packages or add assembly references and define using statements. In order to do that, the following code installs several `nuget packages`, and declare several `using statements`. But before writing code, we should add a new cell by pressing `+` toolbar button. \n",
    "\n",
    "The first few NuGet packages are packages for ML.NET. Then we install the XPlot package for data visualization in .NET Notebook, and then we install a set of Daany packages for data analytics.  First, we install  `Daany.DataFrame` for data exploration and analysis, and then `Daany.DataFrame.Ext` set of extensions for data manipulation used with ML.NET.\n"
   ]
  },
  {
   "cell_type": "markdown",
   "metadata": {},
   "source": [
    "Once the NuGet packages are installed successfully, we can start with data exploration. But before this declare few using statements:\n",
    "\n",
    "We can define classes or methods globally. The following code implements the formatter method for displaying `Daany.DataFrame` in the output cell.\n"
   ]
  },
  {
   "cell_type": "code",
   "execution_count": 2,
   "metadata": {
    "dotnet_interactive": {
     "language": "csharp"
    }
   },
   "outputs": [],
   "source": [
    "\n",
    "Formatter.Register<DataFrame>((df, writer) =>\n",
    "{\n",
    "    var headers = new List<IHtmlContent>();\n",
    "\n",
    "    headers.Add(th(i($\"({df.Index.Name})\")));\n",
    "    headers.AddRange(df.Columns.Select(c => (IHtmlContent) th(c)));\n",
    "    \n",
    "    //renders the rows\n",
    "    var rows = new List<List<IHtmlContent>>();\n",
    "    var take = 20;\n",
    "    \n",
    "    //\n",
    "    for (var i = 0; i < Math.Min(take, df.RowCount()); i++)\n",
    "    {\n",
    "        var cells = new List<IHtmlContent>();\n",
    "        cells.Add(td(df.Index[i]));\n",
    "        foreach (var obj in df[i])\n",
    "        {\n",
    "            cells.Add(td(obj));\n",
    "        }\n",
    "        rows.Add(cells);\n",
    "    }\n",
    "    \n",
    "    var t = table(\n",
    "        thead(\n",
    "            headers),\n",
    "        tbody(\n",
    "            rows.Select(\n",
    "                r => tr(r))));\n",
    "    \n",
    "    writer.Write(t);\n",
    "}, \"text/html\");"
   ]
  },
  {
   "cell_type": "markdown",
   "metadata": {},
   "source": [
    "For this demo we will used famous `Iris` data set. We will download the file from the internet, load it by using Daany.DataFrame, a display few first rows. In order to do that we run the folloing code: "
   ]
  },
  {
   "cell_type": "code",
   "execution_count": 3,
   "metadata": {
    "dotnet_interactive": {
     "language": "csharp"
    }
   },
   "outputs": [
    {
     "data": {
      "text/html": [
       "<table><thead><th><i>(index)</i></th><th>sepal_length</th><th>sepal_width</th><th>petal_length</th><th>petal_width</th><th>flower_type</th></thead><tbody><tr><td><div class=\"dni-plaintext\">0</div></td><td><div class=\"dni-plaintext\">5.1</div></td><td><div class=\"dni-plaintext\">3.5</div></td><td><div class=\"dni-plaintext\">1.4</div></td><td><div class=\"dni-plaintext\">0.2</div></td><td>Iris-setosa</td></tr><tr><td><div class=\"dni-plaintext\">1</div></td><td><div class=\"dni-plaintext\">4.9</div></td><td><div class=\"dni-plaintext\">3</div></td><td><div class=\"dni-plaintext\">1.4</div></td><td><div class=\"dni-plaintext\">0.2</div></td><td>Iris-setosa</td></tr><tr><td><div class=\"dni-plaintext\">2</div></td><td><div class=\"dni-plaintext\">4.7</div></td><td><div class=\"dni-plaintext\">3.2</div></td><td><div class=\"dni-plaintext\">1.3</div></td><td><div class=\"dni-plaintext\">0.2</div></td><td>Iris-setosa</td></tr><tr><td><div class=\"dni-plaintext\">3</div></td><td><div class=\"dni-plaintext\">4.6</div></td><td><div class=\"dni-plaintext\">3.1</div></td><td><div class=\"dni-plaintext\">1.5</div></td><td><div class=\"dni-plaintext\">0.2</div></td><td>Iris-setosa</td></tr><tr><td><div class=\"dni-plaintext\">4</div></td><td><div class=\"dni-plaintext\">5</div></td><td><div class=\"dni-plaintext\">3.6</div></td><td><div class=\"dni-plaintext\">1.4</div></td><td><div class=\"dni-plaintext\">0.2</div></td><td>Iris-setosa</td></tr></tbody></table>"
      ]
     },
     "execution_count": 3,
     "metadata": {},
     "output_type": "execute_result"
    }
   ],
   "source": [
    "var url = \"https://archive.ics.uci.edu/ml/machine-learning-databases/iris/iris.data\";\n",
    "var cols = new string[] {\"sepal_length\",\"sepal_width\", \"petal_length\", \"petal_width\", \"flower_type\"};\n",
    "var df = DataFrame.FromWeb(url, sep:',',names:cols);\n",
    "df.Head(5)"
   ]
  },
  {
   "cell_type": "markdown",
   "metadata": {},
   "source": [
    "As can be seen, the last line from the previous code has no semicolon, which means the line should be displayed in the output cell. Lets move on, and implement two new columns. Th enew columns will be `sepal` and `petal` area for the flower.\n",
    "The expression we are going to use is:\n",
    "\n",
    "\n",
    "$$\n",
    "PetalArea = petal\\_width \\cdot petal\\_length;\\\\\n",
    "SepalArea = sepal\\_width \\cdot sepal\\_length;\n",
    "$$\n",
    "\n",
    "As can be seen, the $\\LaTeX$ is fully supported in the notebook.\n",
    "\n",
    "The above formulea is implemented in the following code:"
   ]
  },
  {
   "cell_type": "code",
   "execution_count": 4,
   "metadata": {
    "dotnet_interactive": {
     "language": "csharp"
    }
   },
   "outputs": [],
   "source": [
    "//calculate two new columns into dataset\n",
    "df.AddCalculatedColumns(new string[] { \"SepalArea\", \"PetalArea\" }, \n",
    "            (r, i) =>\n",
    "            {\n",
    "                var aRow = new object[2];\n",
    "                aRow[0]=Convert.ToSingle(r[\"sepal_width\"]) * Convert.ToSingle(r[\"sepal_length\"]);\n",
    "                aRow[1] = Convert.ToSingle(r[\"petal_width\"]) * Convert.ToSingle(r[\"petal_length\"]);\n",
    "                return aRow;\n",
    "\n",
    "            });\n"
   ]
  },
  {
   "cell_type": "code",
   "execution_count": 5,
   "metadata": {
    "dotnet_interactive": {
     "language": "csharp"
    }
   },
   "outputs": [
    {
     "data": {
      "text/html": [
       "<table><thead><th><i>(index)</i></th><th>sepal_length</th><th>sepal_width</th><th>petal_length</th><th>petal_width</th><th>flower_type</th><th>SepalArea</th><th>PetalArea</th></thead><tbody><tr><td><div class=\"dni-plaintext\">0</div></td><td><div class=\"dni-plaintext\">5.1</div></td><td><div class=\"dni-plaintext\">3.5</div></td><td><div class=\"dni-plaintext\">1.4</div></td><td><div class=\"dni-plaintext\">0.2</div></td><td>Iris-setosa</td><td><div class=\"dni-plaintext\">17.85</div></td><td><div class=\"dni-plaintext\">0.28</div></td></tr><tr><td><div class=\"dni-plaintext\">1</div></td><td><div class=\"dni-plaintext\">4.9</div></td><td><div class=\"dni-plaintext\">3</div></td><td><div class=\"dni-plaintext\">1.4</div></td><td><div class=\"dni-plaintext\">0.2</div></td><td>Iris-setosa</td><td><div class=\"dni-plaintext\">14.700001</div></td><td><div class=\"dni-plaintext\">0.28</div></td></tr><tr><td><div class=\"dni-plaintext\">2</div></td><td><div class=\"dni-plaintext\">4.7</div></td><td><div class=\"dni-plaintext\">3.2</div></td><td><div class=\"dni-plaintext\">1.3</div></td><td><div class=\"dni-plaintext\">0.2</div></td><td>Iris-setosa</td><td><div class=\"dni-plaintext\">15.04</div></td><td><div class=\"dni-plaintext\">0.26</div></td></tr><tr><td><div class=\"dni-plaintext\">3</div></td><td><div class=\"dni-plaintext\">4.6</div></td><td><div class=\"dni-plaintext\">3.1</div></td><td><div class=\"dni-plaintext\">1.5</div></td><td><div class=\"dni-plaintext\">0.2</div></td><td>Iris-setosa</td><td><div class=\"dni-plaintext\">14.259999</div></td><td><div class=\"dni-plaintext\">0.3</div></td></tr><tr><td><div class=\"dni-plaintext\">4</div></td><td><div class=\"dni-plaintext\">5</div></td><td><div class=\"dni-plaintext\">3.6</div></td><td><div class=\"dni-plaintext\">1.4</div></td><td><div class=\"dni-plaintext\">0.2</div></td><td>Iris-setosa</td><td><div class=\"dni-plaintext\">18</div></td><td><div class=\"dni-plaintext\">0.28</div></td></tr></tbody></table>"
      ]
     },
     "execution_count": 5,
     "metadata": {},
     "output_type": "execute_result"
    }
   ],
   "source": [
    "df.Head(5)"
   ]
  },
  {
   "cell_type": "markdown",
   "metadata": {},
   "source": [
    "The data frame has two new columns. They indicate the areas for the flower. In order to see baseic statistics parameters for each of the defined columns we call `Describe` method."
   ]
  },
  {
   "cell_type": "code",
   "execution_count": 6,
   "metadata": {
    "dotnet_interactive": {
     "language": "csharp"
    }
   },
   "outputs": [
    {
     "data": {
      "text/html": [
       "<table><thead><th><i>(index)</i></th><th>sepal_length</th><th>sepal_width</th><th>petal_length</th><th>petal_width</th><th>flower_type</th><th>SepalArea</th><th>PetalArea</th></thead><tbody><tr><td>Count</td><td><div class=\"dni-plaintext\">150</div></td><td><div class=\"dni-plaintext\">150</div></td><td><div class=\"dni-plaintext\">150</div></td><td><div class=\"dni-plaintext\">150</div></td><td><div class=\"dni-plaintext\">150</div></td><td><div class=\"dni-plaintext\">150</div></td><td><div class=\"dni-plaintext\">150</div></td></tr><tr><td>Unique</td><td><div class=\"dni-plaintext\">35</div></td><td><div class=\"dni-plaintext\">23</div></td><td><div class=\"dni-plaintext\">43</div></td><td><div class=\"dni-plaintext\">22</div></td><td><div class=\"dni-plaintext\">3</div></td><td><div class=\"dni-plaintext\">108</div></td><td><div class=\"dni-plaintext\">101</div></td></tr><tr><td>Top</td><td><div class=\"dni-plaintext\">5</div></td><td><div class=\"dni-plaintext\">3</div></td><td><div class=\"dni-plaintext\">1.5</div></td><td><div class=\"dni-plaintext\">0.2</div></td><td>Iris-setosa</td><td><div class=\"dni-plaintext\">13.200001</div></td><td><div class=\"dni-plaintext\">0.28</div></td></tr><tr><td>Freq</td><td><div class=\"dni-plaintext\">10</div></td><td><div class=\"dni-plaintext\">26</div></td><td><div class=\"dni-plaintext\">14</div></td><td><div class=\"dni-plaintext\">28</div></td><td><div class=\"dni-plaintext\">50</div></td><td><div class=\"dni-plaintext\">5</div></td><td><div class=\"dni-plaintext\">8</div></td></tr><tr><td>Mean</td><td><div class=\"dni-plaintext\">5.843333</div></td><td><div class=\"dni-plaintext\">3.054</div></td><td><div class=\"dni-plaintext\">3.758667</div></td><td><div class=\"dni-plaintext\">1.198667</div></td><td><div class=\"dni-plaintext\">&lt;null&gt;</div></td><td><div class=\"dni-plaintext\">17.806534</div></td><td><div class=\"dni-plaintext\">5.793133</div></td></tr><tr><td>Std</td><td><div class=\"dni-plaintext\">0.828066</div></td><td><div class=\"dni-plaintext\">0.433594</div></td><td><div class=\"dni-plaintext\">1.76442</div></td><td><div class=\"dni-plaintext\">0.763161</div></td><td><div class=\"dni-plaintext\">&lt;null&gt;</div></td><td><div class=\"dni-plaintext\">3.368692</div></td><td><div class=\"dni-plaintext\">4.713499</div></td></tr><tr><td>Min</td><td><div class=\"dni-plaintext\">4.3</div></td><td><div class=\"dni-plaintext\">2</div></td><td><div class=\"dni-plaintext\">1</div></td><td><div class=\"dni-plaintext\">0.1</div></td><td><div class=\"dni-plaintext\">&lt;null&gt;</div></td><td><div class=\"dni-plaintext\">10</div></td><td><div class=\"dni-plaintext\">0.11</div></td></tr><tr><td>25%</td><td><div class=\"dni-plaintext\">5.1</div></td><td><div class=\"dni-plaintext\">2.8</div></td><td><div class=\"dni-plaintext\">1.6</div></td><td><div class=\"dni-plaintext\">0.3</div></td><td><div class=\"dni-plaintext\">&lt;null&gt;</div></td><td><div class=\"dni-plaintext\">15.645</div></td><td><div class=\"dni-plaintext\">0.42</div></td></tr><tr><td>Median</td><td><div class=\"dni-plaintext\">5.8</div></td><td><div class=\"dni-plaintext\">3</div></td><td><div class=\"dni-plaintext\">4.35</div></td><td><div class=\"dni-plaintext\">1.3</div></td><td><div class=\"dni-plaintext\">&lt;null&gt;</div></td><td><div class=\"dni-plaintext\">17.66</div></td><td><div class=\"dni-plaintext\">5.615</div></td></tr><tr><td>75%</td><td><div class=\"dni-plaintext\">6.4</div></td><td><div class=\"dni-plaintext\">3.3</div></td><td><div class=\"dni-plaintext\">5.1</div></td><td><div class=\"dni-plaintext\">1.8</div></td><td><div class=\"dni-plaintext\">&lt;null&gt;</div></td><td><div class=\"dni-plaintext\">20.325001</div></td><td><div class=\"dni-plaintext\">9.69</div></td></tr><tr><td>Max</td><td><div class=\"dni-plaintext\">7.9</div></td><td><div class=\"dni-plaintext\">4.4</div></td><td><div class=\"dni-plaintext\">6.9</div></td><td><div class=\"dni-plaintext\">2.5</div></td><td><div class=\"dni-plaintext\">&lt;null&gt;</div></td><td><div class=\"dni-plaintext\">30.02</div></td><td><div class=\"dni-plaintext\">15.87</div></td></tr></tbody></table>"
      ]
     },
     "execution_count": 6,
     "metadata": {},
     "output_type": "execute_result"
    }
   ],
   "source": [
    "//see descriptive stats of the final ds\n",
    "df.Describe(false)"
   ]
  },
  {
   "cell_type": "markdown",
   "metadata": {},
   "source": [
    "From the table above, we can see the `flower` column has only 3 values. The most frequent value has a frequency equal to 50, which is an indicator for a balanced dataset."
   ]
  },
  {
   "cell_type": "markdown",
   "metadata": {},
   "source": [
    "# Data visulaization"
   ]
  },
  {
   "cell_type": "markdown",
   "metadata": {},
   "source": [
    "The most powerful feature in Notebook is a data visualization. In this section, we are going to plot some interesting charts.\n",
    "\n",
    "In order to see how sepal and petal areas are spread in 2D plane, the following plot is implemented:\n"
   ]
  },
  {
   "cell_type": "code",
   "execution_count": 7,
   "metadata": {
    "dotnet_interactive": {
     "language": "csharp"
    }
   },
   "outputs": [
    {
     "data": {
      "text/html": [
       "<!DOCTYPE html>\r\n",
       "<div style=\"width: 900px; height: 500px;\" id=\"04b408ec-7f82-4915-8240-b0a14a9f54ea\"></div><script type=\"text/javascript\">\r\n",
       "\n",
       "var renderPlotly = function() {\n",
       "    var xplotRequire = require.config({context:'xplot-3.0.1',paths:{plotly:'https://cdn.plot.ly/plotly-1.49.2.min'}}) || require;\n",
       "    xplotRequire(['plotly'], function(Plotly) { \r\n",
       "\n",
       "            var data = [{\"type\":\"histogram\",\"x\":[\"Iris-setosa\",\"Iris-setosa\",\"Iris-setosa\",\"Iris-setosa\",\"Iris-setosa\",\"Iris-setosa\",\"Iris-setosa\",\"Iris-setosa\",\"Iris-setosa\",\"Iris-setosa\",\"Iris-setosa\",\"Iris-setosa\",\"Iris-setosa\",\"Iris-setosa\",\"Iris-setosa\",\"Iris-setosa\",\"Iris-setosa\",\"Iris-setosa\",\"Iris-setosa\",\"Iris-setosa\",\"Iris-setosa\",\"Iris-setosa\",\"Iris-setosa\",\"Iris-setosa\",\"Iris-setosa\",\"Iris-setosa\",\"Iris-setosa\",\"Iris-setosa\",\"Iris-setosa\",\"Iris-setosa\",\"Iris-setosa\",\"Iris-setosa\",\"Iris-setosa\",\"Iris-setosa\",\"Iris-setosa\",\"Iris-setosa\",\"Iris-setosa\",\"Iris-setosa\",\"Iris-setosa\",\"Iris-setosa\",\"Iris-setosa\",\"Iris-setosa\",\"Iris-setosa\",\"Iris-setosa\",\"Iris-setosa\",\"Iris-setosa\",\"Iris-setosa\",\"Iris-setosa\",\"Iris-setosa\",\"Iris-setosa\",\"Iris-versicolor\",\"Iris-versicolor\",\"Iris-versicolor\",\"Iris-versicolor\",\"Iris-versicolor\",\"Iris-versicolor\",\"Iris-versicolor\",\"Iris-versicolor\",\"Iris-versicolor\",\"Iris-versicolor\",\"Iris-versicolor\",\"Iris-versicolor\",\"Iris-versicolor\",\"Iris-versicolor\",\"Iris-versicolor\",\"Iris-versicolor\",\"Iris-versicolor\",\"Iris-versicolor\",\"Iris-versicolor\",\"Iris-versicolor\",\"Iris-versicolor\",\"Iris-versicolor\",\"Iris-versicolor\",\"Iris-versicolor\",\"Iris-versicolor\",\"Iris-versicolor\",\"Iris-versicolor\",\"Iris-versicolor\",\"Iris-versicolor\",\"Iris-versicolor\",\"Iris-versicolor\",\"Iris-versicolor\",\"Iris-versicolor\",\"Iris-versicolor\",\"Iris-versicolor\",\"Iris-versicolor\",\"Iris-versicolor\",\"Iris-versicolor\",\"Iris-versicolor\",\"Iris-versicolor\",\"Iris-versicolor\",\"Iris-versicolor\",\"Iris-versicolor\",\"Iris-versicolor\",\"Iris-versicolor\",\"Iris-versicolor\",\"Iris-versicolor\",\"Iris-versicolor\",\"Iris-versicolor\",\"Iris-versicolor\",\"Iris-virginica\",\"Iris-virginica\",\"Iris-virginica\",\"Iris-virginica\",\"Iris-virginica\",\"Iris-virginica\",\"Iris-virginica\",\"Iris-virginica\",\"Iris-virginica\",\"Iris-virginica\",\"Iris-virginica\",\"Iris-virginica\",\"Iris-virginica\",\"Iris-virginica\",\"Iris-virginica\",\"Iris-virginica\",\"Iris-virginica\",\"Iris-virginica\",\"Iris-virginica\",\"Iris-virginica\",\"Iris-virginica\",\"Iris-virginica\",\"Iris-virginica\",\"Iris-virginica\",\"Iris-virginica\",\"Iris-virginica\",\"Iris-virginica\",\"Iris-virginica\",\"Iris-virginica\",\"Iris-virginica\",\"Iris-virginica\",\"Iris-virginica\",\"Iris-virginica\",\"Iris-virginica\",\"Iris-virginica\",\"Iris-virginica\",\"Iris-virginica\",\"Iris-virginica\",\"Iris-virginica\",\"Iris-virginica\",\"Iris-virginica\",\"Iris-virginica\",\"Iris-virginica\",\"Iris-virginica\",\"Iris-virginica\",\"Iris-virginica\",\"Iris-virginica\",\"Iris-virginica\",\"Iris-virginica\",\"Iris-virginica\"],\"autobinx\":false,\"nbinsx\":20}];\n",
       "           var layout = {\"title\":\"Distribution of iris flower\"};\n",
       "           Plotly.newPlot('04b408ec-7f82-4915-8240-b0a14a9f54ea', data, layout);\n",
       "        \r\n",
       "});\n",
       "};\r\n",
       "// ensure `require` is available globally\r\n",
       "if ((typeof(require) !==  typeof(Function)) || (typeof(require.config) !== typeof(Function))) {\r\n",
       "    let require_script = document.createElement('script');\r\n",
       "    require_script.setAttribute('src', 'https://cdnjs.cloudflare.com/ajax/libs/require.js/2.3.6/require.min.js');\r\n",
       "    require_script.setAttribute('type', 'text/javascript');\r\n",
       "    \r\n",
       "    \r\n",
       "    require_script.onload = function() {\r\n",
       "        renderPlotly();\r\n",
       "    };\r\n",
       "\r\n",
       "    document.getElementsByTagName('head')[0].appendChild(require_script);\r\n",
       "}\r\n",
       "else {\r\n",
       "    renderPlotly();\r\n",
       "}\r\n",
       "\r\n",
       "</script>\r\n"
      ]
     },
     "execution_count": 7,
     "metadata": {},
     "output_type": "execute_result"
    }
   ],
   "source": [
    "//plot the data in order to see how areas are spread in the 2d plane\n",
    "//XPlot Histogram reference: http://tpetricek.github.io/XPlot/reference/xplot-plotly-graph-histogram.html\n",
    "\n",
    "var faresHistogram = Chart.Plot(new Histogram(){x = df[\"flower_type\"], autobinx = false, nbinsx = 20});\n",
    "var layout = new Layout.Layout(){title=\"Distribution of iris flower\"};\n",
    "faresHistogram.WithLayout(layout);\n",
    "faresHistogram"
   ]
  },
  {
   "cell_type": "markdown",
   "metadata": {},
   "source": [
    "The chart is also indication of balaced dataset."
   ]
  },
  {
   "cell_type": "markdown",
   "metadata": {},
   "source": [
    "Now lets plot areas depending of the flower type:"
   ]
  },
  {
   "cell_type": "code",
   "execution_count": 8,
   "metadata": {
    "dotnet_interactive": {
     "language": "csharp"
    }
   },
   "outputs": [
    {
     "data": {
      "text/html": [
       "<!DOCTYPE html>\r\n",
       "<div style=\"width: 800px; height: 400px;\" id=\"b540ef01-05ff-4bcc-8f67-8bf83c9ee72a\"></div><script type=\"text/javascript\">\r\n",
       "\n",
       "var renderPlotly = function() {\n",
       "    var xplotRequire = require.config({context:'xplot-3.0.1',paths:{plotly:'https://cdn.plot.ly/plotly-1.49.2.min'}}) || require;\n",
       "    xplotRequire(['plotly'], function(Plotly) { \r\n",
       "\n",
       "            var data = [{\"type\":\"scatter\",\"x\":[17.85,14.700001,15.04,14.259999,18.0,21.060001,15.64,17.0,12.76,15.19,19.980001,16.320002,14.400001,12.900001,23.2,25.08,21.060001,17.85,21.66,19.38,18.36,18.87,16.56,16.83,16.320002,15.0,17.0,18.199999,17.68,15.04,14.88,18.36,21.319998,23.099998,15.19,16.0,19.25,15.19,13.200001,17.34,17.5,10.349999,14.080001,17.5,19.38,14.400001,19.38,14.72,19.61,16.5,22.4,20.480001,21.39,12.65,18.199999,15.959999,20.79,11.76,19.140001,14.04,10.0,17.7,13.200001,17.69,16.24,20.769999,16.8,15.660001,13.64,14.0,18.880001,17.08,15.75,17.08,18.560001,19.8,19.04,20.099998,17.400002,14.819999,13.200001,13.200001,15.660001,16.2,16.2,20.400002,20.769999,14.49,16.8,13.75,14.299999,18.3,15.08,11.5,15.12,17.099998,16.53,17.98,12.75,15.959999,20.79,15.660001,21.3,18.27,19.5,22.8,12.25,21.170002,16.75,25.919998,20.800001,17.28,20.400002,14.25,16.24,20.480001,19.5,29.259998,20.019999,13.200001,22.08,15.679999,21.56,17.01,22.109999,23.039999,17.359999,18.3,17.92,21.599998,20.72,30.02,17.92,17.64,15.859999,23.099998,21.420002,19.84,18.0,21.39,20.769999,21.39,15.660001,21.76,22.109999,20.099998,15.75,19.5,21.08,17.7],\"y\":[0.28,0.28,0.26,0.3,0.28,0.68,0.42000002,0.3,0.28,0.15,0.3,0.32000002,0.14,0.11000001,0.24000001,0.6,0.52,0.42000002,0.51000005,0.45000002,0.34,0.6,0.2,0.85,0.38,0.32000002,0.64000005,0.3,0.28,0.32000002,0.32000002,0.6,0.15,0.28,0.15,0.24000001,0.26,0.15,0.26,0.3,0.39000002,0.39000002,0.26,0.96000004,0.76,0.42000002,0.32000002,0.28,0.3,0.28,6.5799994,6.75,7.3500004,5.2,6.8999996,5.85,7.52,3.3,5.9799995,5.46,3.5,6.2999997,4.0,6.5799994,4.68,6.16,6.75,4.1,6.75,4.29,8.64,5.2,7.3500004,5.64,5.59,6.16,6.7200003,8.5,6.75,3.5,4.18,3.7,4.6800003,8.16,6.75,7.2000003,7.0499997,5.72,5.3299994,5.2,5.28,6.4399996,4.8,3.3,5.4599996,5.04,5.4599996,5.59,3.3000002,5.3299994,15.0,9.69,12.389999,10.08,12.76,13.859999,7.65,11.34,10.440001,15.25,10.2,10.070001,11.549999,10.0,12.240001,12.190001,9.9,14.74,15.87,7.5,13.11,9.8,13.4,8.82,11.969999,10.799999,8.64,8.82,11.759999,9.280001,11.589999,12.8,12.32,7.6499996,7.8399997,14.03,13.440001,9.9,8.64,11.34,13.440001,11.73,9.69,13.57,14.25,11.959999,9.5,10.4,12.42,9.179999],\"mode\":\"markers\",\"marker\":{\"color\":[3,3,3,3,3,3,3,3,3,3,3,3,3,3,3,3,3,3,3,3,3,3,3,3,3,3,3,3,3,3,3,3,3,3,3,3,3,3,3,3,3,3,3,3,3,3,3,3,3,3,2,2,2,2,2,2,2,2,2,2,2,2,2,2,2,2,2,2,2,2,2,2,2,2,2,2,2,2,2,2,2,2,2,2,2,2,2,2,2,2,2,2,2,2,2,2,2,2,2,2,1,1,1,1,1,1,1,1,1,1,1,1,1,1,1,1,1,1,1,1,1,1,1,1,1,1,1,1,1,1,1,1,1,1,1,1,1,1,1,1,1,1,1,1,1,1,1,1,1,1],\"colorscale\":\"Jet\"},\"name\":\"Iris-virginica\"}];\n",
       "           var layout = {\"title\":\"Plot Sepal vs. Petal Area & color scale on flower type\",\"showlegend\":true,\"xaxis\":{\"title\":\"Sepal Area\",\"_isSubplotObj\":true},\"yaxis\":{\"title\":\"Petal Area\",\"_isSubplotObj\":true}};\n",
       "           Plotly.newPlot('b540ef01-05ff-4bcc-8f67-8bf83c9ee72a', data, layout);\n",
       "        \r\n",
       "});\n",
       "};\r\n",
       "// ensure `require` is available globally\r\n",
       "if ((typeof(require) !==  typeof(Function)) || (typeof(require.config) !== typeof(Function))) {\r\n",
       "    let require_script = document.createElement('script');\r\n",
       "    require_script.setAttribute('src', 'https://cdnjs.cloudflare.com/ajax/libs/require.js/2.3.6/require.min.js');\r\n",
       "    require_script.setAttribute('type', 'text/javascript');\r\n",
       "    \r\n",
       "    \r\n",
       "    require_script.onload = function() {\r\n",
       "        renderPlotly();\r\n",
       "    };\r\n",
       "\r\n",
       "    document.getElementsByTagName('head')[0].appendChild(require_script);\r\n",
       "}\r\n",
       "else {\r\n",
       "    renderPlotly();\r\n",
       "}\r\n",
       "\r\n",
       "</script>\r\n"
      ]
     },
     "execution_count": 8,
     "metadata": {},
     "output_type": "execute_result"
    }
   ],
   "source": [
    "// Plot Sepal vs. Petal area with flower type\n",
    "\n",
    "var chart = Chart.Plot(\n",
    "    new Scatter()\n",
    "    {\n",
    "        x = df[\"SepalArea\"],\n",
    "        y = df[\"PetalArea\"],\n",
    "        mode = \"markers\",\n",
    "        marker = new Marker()\n",
    "        {\n",
    "            color = df[\"flower_type\"].Select(x=>x.ToString()==\"Iris-virginica\"?1:(x.ToString()==\"Iris-versicolor\"?2:3)),\n",
    "            colorscale = \"Jet\"\n",
    "        }\n",
    "    }\n",
    ");\n",
    "\n",
    "var layout = new Layout.Layout(){title=\"Plot Sepal vs. Petal Area & color scale on flower type\"};\n",
    "chart.WithLayout(layout);\n",
    "chart.WithLegend(true);\n",
    "chart.WithLabels(new string[3]{\"Iris-virginica\",\"Iris-versicolor\", \"Iris-setosa\"});\n",
    "chart.WithXTitle(\"Sepal Area\");\n",
    "chart.WithYTitle(\"Petal Area\");\n",
    "chart.Width = 800;\n",
    "chart.Height = 400;\n",
    "chart\n"
   ]
  },
  {
   "cell_type": "markdown",
   "metadata": {},
   "source": [
    "As can be seen from the chart above, flower types are separated almost linearly, since we used petal and sepal areas instead of width and length. With this transformation, we can get a 100% accurate ml model."
   ]
  },
  {
   "cell_type": "markdown",
   "metadata": {},
   "source": [
    "# Machine Learning "
   ]
  },
  {
   "cell_type": "markdown",
   "metadata": {},
   "source": [
    "Once we finished with data transformation and visualization we can define the final data frame before machine learning application. To end this we are going to select only two columns for features and one label column which will be flower type."
   ]
  },
  {
   "cell_type": "code",
   "execution_count": 9,
   "metadata": {
    "dotnet_interactive": {
     "language": "csharp"
    }
   },
   "outputs": [
    {
     "data": {
      "text/html": [
       "<table><thead><th><i>(index)</i></th><th>SepalArea</th><th>PetalArea</th><th>flower_type</th></thead><tbody><tr><td><div class=\"dni-plaintext\">0</div></td><td><div class=\"dni-plaintext\">17.85</div></td><td><div class=\"dni-plaintext\">0.28</div></td><td>Iris-setosa</td></tr><tr><td><div class=\"dni-plaintext\">1</div></td><td><div class=\"dni-plaintext\">14.700001</div></td><td><div class=\"dni-plaintext\">0.28</div></td><td>Iris-setosa</td></tr><tr><td><div class=\"dni-plaintext\">2</div></td><td><div class=\"dni-plaintext\">15.04</div></td><td><div class=\"dni-plaintext\">0.26</div></td><td>Iris-setosa</td></tr><tr><td><div class=\"dni-plaintext\">3</div></td><td><div class=\"dni-plaintext\">14.259999</div></td><td><div class=\"dni-plaintext\">0.3</div></td><td>Iris-setosa</td></tr><tr><td><div class=\"dni-plaintext\">4</div></td><td><div class=\"dni-plaintext\">18</div></td><td><div class=\"dni-plaintext\">0.28</div></td><td>Iris-setosa</td></tr></tbody></table>"
      ]
     },
     "execution_count": 9,
     "metadata": {},
     "output_type": "execute_result"
    }
   ],
   "source": [
    "//create new data-frame by selecting only three columns\n",
    "var derivedDF = df[\"SepalArea\",\"PetalArea\",\"flower_type\"];\n",
    "derivedDF.Head(5)"
   ]
  },
  {
   "cell_type": "markdown",
   "metadata": {},
   "source": [
    "Since we are going to use ML.NET, we need to declare `Iris` in order to load the data into ML.NET."
   ]
  },
  {
   "cell_type": "code",
   "execution_count": 10,
   "metadata": {
    "dotnet_interactive": {
     "language": "csharp"
    }
   },
   "outputs": [],
   "source": [
    "//Define a Iris class for machine learning.\n",
    "class Iris\n",
    "{\n",
    "    public float PetalArea { get; set; }\n",
    "    public float SepalArea { get; set; }\n",
    "    public string Species { get; set; }\n",
    "}\n",
    "//Create ML COntext\n",
    "MLContext mlContext = new MLContext(seed:2019);"
   ]
  },
  {
   "cell_type": "markdown",
   "metadata": {},
   "source": [
    "Then load the data from Daany data frame into ML.NET:"
   ]
  },
  {
   "cell_type": "code",
   "execution_count": 13,
   "metadata": {
    "dotnet_interactive": {
     "language": "csharp"
    }
   },
   "outputs": [],
   "source": [
    "//Load Data Frame into Ml.NET data pipeline\n",
    "IDataView dataView = mlContext.Data.LoadFromEnumerable<Iris>(derivedDF.GetEnumerator<Iris>((oRow) =>\n",
    "{\n",
    "    //convert row object array into Iris row\n",
    "\n",
    "    var prRow = new Iris();\n",
    "    prRow.SepalArea = Convert.ToSingle(oRow[\"SepalArea\"]);\n",
    "    prRow.PetalArea = Convert.ToSingle(oRow[\"PetalArea\"]);\n",
    "    prRow.Species = Convert.ToString(oRow[\"flower_type\"]);\n",
    "    //\n",
    "    return prRow;\n",
    "}));"
   ]
  },
  {
   "cell_type": "markdown",
   "metadata": {},
   "source": [
    "Once we have data, we can split it into `train` and `test` sets:"
   ]
  },
  {
   "cell_type": "code",
   "execution_count": 14,
   "metadata": {
    "dotnet_interactive": {
     "language": "csharp"
    }
   },
   "outputs": [],
   "source": [
    "//Split dataset in two parts: TrainingDataset (80%) and TestDataset (20%)\n",
    "var trainTestData = mlContext.Data.TrainTestSplit(dataView, testFraction: 0.2);\n",
    "var trainData = trainTestData.TrainSet;\n",
    "var testData = trainTestData.TestSet;"
   ]
  },
  {
   "cell_type": "markdown",
   "metadata": {},
   "source": [
    "The next step in prepare the data for training is define pipeline for dtaa transformation and feature engineering:"
   ]
  },
  {
   "cell_type": "code",
   "execution_count": 18,
   "metadata": {
    "dotnet_interactive": {
     "language": "csharp"
    }
   },
   "outputs": [
    {
     "name": "stderr",
     "output_type": "stream",
     "text": [
      "\r\n",
      "(3,1): warning CS1701: Assuming assembly reference 'Microsoft.AspNetCore.Html.Abstractions, Version=2.2.0.0, Culture=neutral, PublicKeyToken=adb9793829ddae60' used by 'Microsoft.DotNet.Interactive.Formatting' matches identity 'Microsoft.AspNetCore.Html.Abstractions, Version=5.0.0.0, Culture=neutral, PublicKeyToken=adb9793829ddae60' of 'Microsoft.AspNetCore.Html.Abstractions', you may need to supply runtime policy\r\n",
      "\r\n"
     ]
    }
   ],
   "source": [
    "//one encoding output category column by defining KeyValues for each category\n",
    "IEstimator<ITransformer> dataPipeline =\n",
    "mlContext.Transforms.Conversion.MapValueToKey(outputColumnName: \"Label\", inputColumnName: nameof(Iris.Species))\n",
    "\n",
    "//define features columns\n",
    ".Append(mlContext.Transforms.Concatenate(\"Features\",nameof(Iris.SepalArea), nameof(Iris.PetalArea)));"
   ]
  },
  {
   "cell_type": "markdown",
   "metadata": {},
   "source": [
    "Once we completes the preparation paert, we can perform the training part. The training start by calling `Fit` to the pipeline:"
   ]
  },
  {
   "cell_type": "code",
   "execution_count": null,
   "metadata": {
    "dotnet_interactive": {
     "language": "csharp"
    }
   },
   "outputs": [],
   "source": [
    "\n",
    " // Define LightGbm algorithm estimator\n",
    "IEstimator<ITransformer> lightGbm = mlContext.MulticlassClassification.Trainers.LightGbm();\n",
    "//train the ML model\n",
    "TransformerChain<ITransformer> model = dataPipeline.Append(lightGbm).Fit(trainData);"
   ]
  },
  {
   "cell_type": "markdown",
   "metadata": {},
   "source": [
    "Once the training is completes, we have trained model which can be evaluated. In order to print the evaluation result with formatting, we are going to install Daany DataFrame extension which has implementation of printing results "
   ]
  },
  {
   "cell_type": "code",
   "execution_count": null,
   "metadata": {
    "dotnet_interactive": {
     "language": "csharp"
    }
   },
   "outputs": [
    {
     "data": {
      "text/plain": [
       "************************************************************\r\n"
      ]
     },
     "output_type": "unknown"
    },
    {
     "data": {
      "text/plain": [
       "*    Metrics for TRAIN Iris DataSet multi-class classification model   \r\n"
      ]
     },
     "output_type": "unknown"
    },
    {
     "data": {
      "text/plain": [
       "*-----------------------------------------------------------\r\n"
      ]
     },
     "output_type": "unknown"
    },
    {
     "data": {
      "text/plain": [
       "    AccuracyMacro = 1, a value between 0 and 1, the closer to 1, the better\r\n"
      ]
     },
     "output_type": "unknown"
    },
    {
     "data": {
      "text/plain": [
       "    AccuracyMicro = 1, a value between 0 and 1, the closer to 1, the better\r\n"
      ]
     },
     "output_type": "unknown"
    },
    {
     "data": {
      "text/plain": [
       "    LogLoss = 0.0195, the closer to 0, the better\r\n"
      ]
     },
     "output_type": "unknown"
    },
    {
     "data": {
      "text/plain": [
       "    LogLoss for class 1 = 0.0112, the closer to 0, the better\r\n"
      ]
     },
     "output_type": "unknown"
    },
    {
     "data": {
      "text/plain": [
       "    LogLoss for class 2 = 0.0293, the closer to 0, the better\r\n"
      ]
     },
     "output_type": "unknown"
    },
    {
     "data": {
      "text/plain": [
       "    LogLoss for class 3 = 0.019, the closer to 0, the better\r\n"
      ]
     },
     "output_type": "unknown"
    },
    {
     "data": {
      "text/plain": [
       "************************************************************\r\n"
      ]
     },
     "output_type": "unknown"
    },
    {
     "data": {
      "text/plain": [
       " \r\n"
      ]
     },
     "output_type": "unknown"
    },
    {
     "data": {
      "text/plain": [
       "Train Iris DataSet Confusion Matrix \r\n"
      ]
     },
     "output_type": "unknown"
    },
    {
     "data": {
      "text/plain": [
       "####################################\r\n"
      ]
     },
     "output_type": "unknown"
    },
    {
     "data": {
      "text/plain": [
       "************************************************************\r\n"
      ]
     },
     "output_type": "unknown"
    },
    {
     "data": {
      "text/plain": [
       "*    Metrics for Train multi-class classification model   \r\n"
      ]
     },
     "output_type": "unknown"
    },
    {
     "data": {
      "text/plain": [
       "*-----------------------------------------------------------\r\n"
      ]
     },
     "output_type": "unknown"
    },
    {
     "data": {
      "text/plain": [
       "    AccuracyMacro = 1, a value between 0 and 1, the closer to 1, the better\r\n"
      ]
     },
     "output_type": "unknown"
    },
    {
     "data": {
      "text/plain": [
       "    AccuracyMicro = 1, a value between 0 and 1, the closer to 1, the better\r\n"
      ]
     },
     "output_type": "unknown"
    },
    {
     "data": {
      "text/plain": [
       "    LogLoss = 0.0195, the closer to 0, the better\r\n"
      ]
     },
     "output_type": "unknown"
    },
    {
     "data": {
      "text/plain": [
       "    LogLoss for class 1 = 0.0112, the closer to 0, the better\r\n"
      ]
     },
     "output_type": "unknown"
    },
    {
     "data": {
      "text/plain": [
       "    LogLoss for class 2 = 0.0293, the closer to 0, the better\r\n"
      ]
     },
     "output_type": "unknown"
    },
    {
     "data": {
      "text/plain": [
       "    LogLoss for class 3 = 0.019, the closer to 0, the better\r\n"
      ]
     },
     "output_type": "unknown"
    },
    {
     "data": {
      "text/plain": [
       "************************************************************\r\n"
      ]
     },
     "output_type": "unknown"
    }
   ],
   "source": [
    "\n",
    "//evaluate train set\n",
    "var predictions = model.Transform(trainData);\n",
    "var metricsTrain = mlContext.MulticlassClassification.Evaluate(predictions);\n",
    "ConsoleHelper.PrintMultiClassClassificationMetrics(\"TRAIN Iris DataSet\", metricsTrain);\n",
    "ConsoleHelper.ConsoleWriteHeader(\"Train Iris DataSet Confusion Matrix \");\n",
    "ConsoleHelper.PrintMultiClassClassificationMetrics(\"Train metrix\",metricsTrain);"
   ]
  },
  {
   "cell_type": "code",
   "execution_count": null,
   "metadata": {
    "dotnet_interactive": {
     "language": "csharp"
    }
   },
   "outputs": [
    {
     "data": {
      "text/plain": [
       "************************************************************\r\n"
      ]
     },
     "output_type": "unknown"
    },
    {
     "data": {
      "text/plain": [
       "*    Metrics for TEST Iris Dataset multi-class classification model   \r\n"
      ]
     },
     "output_type": "unknown"
    },
    {
     "data": {
      "text/plain": [
       "*-----------------------------------------------------------\r\n"
      ]
     },
     "output_type": "unknown"
    },
    {
     "data": {
      "text/plain": [
       "    AccuracyMacro = 1, a value between 0 and 1, the closer to 1, the better\r\n"
      ]
     },
     "output_type": "unknown"
    },
    {
     "data": {
      "text/plain": [
       "    AccuracyMicro = 1, a value between 0 and 1, the closer to 1, the better\r\n"
      ]
     },
     "output_type": "unknown"
    },
    {
     "data": {
      "text/plain": [
       "    LogLoss = 0.0624, the closer to 0, the better\r\n"
      ]
     },
     "output_type": "unknown"
    },
    {
     "data": {
      "text/plain": [
       "    LogLoss for class 1 = 0.0068, the closer to 0, the better\r\n"
      ]
     },
     "output_type": "unknown"
    },
    {
     "data": {
      "text/plain": [
       "    LogLoss for class 2 = 0.0759, the closer to 0, the better\r\n"
      ]
     },
     "output_type": "unknown"
    },
    {
     "data": {
      "text/plain": [
       "    LogLoss for class 3 = 0.0744, the closer to 0, the better\r\n"
      ]
     },
     "output_type": "unknown"
    },
    {
     "data": {
      "text/plain": [
       "************************************************************\r\n"
      ]
     },
     "output_type": "unknown"
    },
    {
     "data": {
      "text/plain": [
       " \r\n"
      ]
     },
     "output_type": "unknown"
    },
    {
     "data": {
      "text/plain": [
       "Test Iris DataSet Confusion Matrix \r\n"
      ]
     },
     "output_type": "unknown"
    },
    {
     "data": {
      "text/plain": [
       "###################################\r\n"
      ]
     },
     "output_type": "unknown"
    },
    {
     "data": {
      "text/plain": [
       "************************************************************\r\n"
      ]
     },
     "output_type": "unknown"
    },
    {
     "data": {
      "text/plain": [
       "*    Metrics for Test metrix  multi-class classification model   \r\n"
      ]
     },
     "output_type": "unknown"
    },
    {
     "data": {
      "text/plain": [
       "*-----------------------------------------------------------\r\n"
      ]
     },
     "output_type": "unknown"
    },
    {
     "data": {
      "text/plain": [
       "    AccuracyMacro = 1, a value between 0 and 1, the closer to 1, the better\r\n"
      ]
     },
     "output_type": "unknown"
    },
    {
     "data": {
      "text/plain": [
       "    AccuracyMicro = 1, a value between 0 and 1, the closer to 1, the better\r\n"
      ]
     },
     "output_type": "unknown"
    },
    {
     "data": {
      "text/plain": [
       "    LogLoss = 0.0624, the closer to 0, the better\r\n"
      ]
     },
     "output_type": "unknown"
    },
    {
     "data": {
      "text/plain": [
       "    LogLoss for class 1 = 0.0068, the closer to 0, the better\r\n"
      ]
     },
     "output_type": "unknown"
    },
    {
     "data": {
      "text/plain": [
       "    LogLoss for class 2 = 0.0759, the closer to 0, the better\r\n"
      ]
     },
     "output_type": "unknown"
    },
    {
     "data": {
      "text/plain": [
       "    LogLoss for class 3 = 0.0744, the closer to 0, the better\r\n"
      ]
     },
     "output_type": "unknown"
    },
    {
     "data": {
      "text/plain": [
       "************************************************************\r\n"
      ]
     },
     "output_type": "unknown"
    }
   ],
   "source": [
    "//evaluate test set\n",
    "var testPrediction = model.Transform(testData);\n",
    "var metricsTest = mlContext.MulticlassClassification.Evaluate(testPrediction);\n",
    "ConsoleHelper.PrintMultiClassClassificationMetrics(\"TEST Iris Dataset\", metricsTest);\n",
    "ConsoleHelper.ConsoleWriteHeader(\"Test Iris DataSet Confusion Matrix \");\n",
    "ConsoleHelper.PrintMultiClassClassificationMetrics(\"Test metrix \",metricsTest);"
   ]
  },
  {
   "cell_type": "markdown",
   "metadata": {},
   "source": [
    "As can bee seen, we have 100% accurate model for Iris flower recognition. Now lets add new column into data frame called `Prediction` in order to have model prediction in the data frame.  "
   ]
  },
  {
   "cell_type": "code",
   "execution_count": null,
   "metadata": {
    "dotnet_interactive": {
     "language": "csharp"
    }
   },
   "outputs": [
    {
     "data": {
      "text/html": [
       "<table><thead><th><i>(index)</i></th><th>SepalArea</th><th>PetalArea</th><th>flower_type</th><th>PredictedLabel</th></thead><tbody><tr><td><div class=\"dni-plaintext\">0</div></td><td><div class=\"dni-plaintext\">17.85</div></td><td><div class=\"dni-plaintext\">0.28</div></td><td>Iris-setosa</td><td>Iris-setosa</td></tr><tr><td><div class=\"dni-plaintext\">1</div></td><td><div class=\"dni-plaintext\">14.700001</div></td><td><div class=\"dni-plaintext\">0.28</div></td><td>Iris-setosa</td><td>Iris-setosa</td></tr><tr><td><div class=\"dni-plaintext\">2</div></td><td><div class=\"dni-plaintext\">15.04</div></td><td><div class=\"dni-plaintext\">0.26</div></td><td>Iris-setosa</td><td>Iris-setosa</td></tr><tr><td><div class=\"dni-plaintext\">3</div></td><td><div class=\"dni-plaintext\">14.259999</div></td><td><div class=\"dni-plaintext\">0.3</div></td><td>Iris-setosa</td><td>Iris-setosa</td></tr><tr><td><div class=\"dni-plaintext\">4</div></td><td><div class=\"dni-plaintext\">18</div></td><td><div class=\"dni-plaintext\">0.28</div></td><td>Iris-setosa</td><td>Iris-setosa</td></tr></tbody></table>"
      ]
     },
     "output_type": "unknown"
    }
   ],
   "source": [
    "var flowerLabels = new string[]{\"Iris-setosa\", \"Iris-setosa\", \"Iris-setosa\"};//DataFrameExt.GetLabels(predictions.Schema).ToList();\n",
    "var p1 = predictions.GetColumn<uint>(\"PredictedLabel\").Select(x=>(int)x).ToList();\n",
    "var p2 = testPrediction.GetColumn<uint>(\"PredictedLabel\").Select(x => (int)x).ToList();\n",
    "//join train and test\n",
    "p1.AddRange(p2);\n",
    "var p = p1.Select(x => (object)flowerLabels[x-1]).ToList();\n",
    "//add new column into df\n",
    "var dic = new Dictionary<string, List<object>> { { \"PredictedLabel\", p } };\n",
    "\n",
    "var dff = derivedDF.AddColumns(dic);\n",
    "dff.Head()"
   ]
  },
  {
   "cell_type": "code",
   "execution_count": null,
   "metadata": {
    "dotnet_interactive": {
     "language": "csharp"
    }
   },
   "outputs": [
    {
     "data": {
      "text/html": [
       "<table><thead><th><i>(index)</i></th><th>SepalArea</th><th>PetalArea</th><th>flower_type</th><th>PredictedLabel</th></thead><tbody><tr><td><div class=\"dni-plaintext\">145</div></td><td><div class=\"dni-plaintext\">20.099998</div></td><td><div class=\"dni-plaintext\">11.959999</div></td><td>Iris-virginica</td><td>Iris-setosa</td></tr><tr><td><div class=\"dni-plaintext\">146</div></td><td><div class=\"dni-plaintext\">15.75</div></td><td><div class=\"dni-plaintext\">9.5</div></td><td>Iris-virginica</td><td>Iris-setosa</td></tr><tr><td><div class=\"dni-plaintext\">147</div></td><td><div class=\"dni-plaintext\">19.5</div></td><td><div class=\"dni-plaintext\">10.4</div></td><td>Iris-virginica</td><td>Iris-setosa</td></tr><tr><td><div class=\"dni-plaintext\">148</div></td><td><div class=\"dni-plaintext\">21.08</div></td><td><div class=\"dni-plaintext\">12.42</div></td><td>Iris-virginica</td><td>Iris-setosa</td></tr><tr><td><div class=\"dni-plaintext\">149</div></td><td><div class=\"dni-plaintext\">17.7</div></td><td><div class=\"dni-plaintext\">9.179999</div></td><td>Iris-virginica</td><td>Iris-setosa</td></tr></tbody></table>"
      ]
     },
     "output_type": "unknown"
    }
   ],
   "source": [
    "dff.Tail()"
   ]
  },
  {
   "cell_type": "markdown",
   "metadata": {},
   "source": [
    "In this blog post we saw how can we be more productive when using .NET Jupyter Notebook with MAchine Learning and Data Exploration and transformation, by using ML.NET and Daany - **DA**ta**AN**al**Y**tics library."
   ]
  }
 ],
 "metadata": {
  "kernelspec": {
   "display_name": ".NET (C#)",
   "language": "C#",
   "name": ".net-csharp"
  },
  "language_info": {
   "file_extension": ".cs",
   "mimetype": "text/x-csharp",
   "name": "C#",
   "pygments_lexer": "csharp",
   "version": "9.0"
  }
 },
 "nbformat": 4,
 "nbformat_minor": 4
}
