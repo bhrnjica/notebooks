{
 "cells": [
  {
   "cell_type": "markdown",
   "metadata": {},
   "source": [
    "# Predicting Iris flower using ML.NET "
   ]
  },
  {
   "cell_type": "markdown",
   "metadata": {},
   "source": [
    "# Introduction\n",
    "[from Wikipedia](https://en.wikipedia.org/wiki/Iris_flower_data_set)\n",
    "\n",
    "<img src=\"../img/campus02-lecture-img09.jpg\" alt=\"drawing\" height=\"200\"/>\n",
    "The Iris flower data set or `Fisher's Iris data set` is a multivariate data set introduced by the British statistician and biologist `Ronald Fisher` in his `1936` paper The use of multiple measurements in taxonomic problems as an example of linear discriminant analysis. It is sometimes called `Anderson's Iris data set` because `Edgar Anderson` collected the data to quantify the morphologic variation of Iris flowers of three related species. Two of the three species were collected in the `Gaspé Peninsula` \"all from the same pasture, and picked on the same day and measured at the same time by the same person with the same apparatus\"."
   ]
  },
  {
   "cell_type": "markdown",
   "metadata": {},
   "source": [
    "## Quick decsription of the dataset:\n",
    "\n",
    "- three types of flowers \n",
    "    - setosa\n",
    "    - verisicolor\n",
    "    - virginica\n",
    "    \n",
    "<img src=\"../img/campus02-lecture-img07.jpg\" alt=\"drawing\" width=\"600\"/>"
   ]
  },
  {
   "cell_type": "markdown",
   "metadata": {},
   "source": [
    "- 4 types of measurements \n",
    "    - sepal_width\n",
    "    - petal_width\n",
    "    - sepal_length\n",
    "    - petal_length\n",
    "  \n",
    " <img src=\"../img/campus02-lecture-img08.jpg\" alt=\"drawing\" width=\"600\"/>  "
   ]
  },
  {
   "cell_type": "markdown",
   "metadata": {},
   "source": [
    "# Iris data set\n",
    "\n",
    "At the end he created the data set consisting of 5 columns and 150 rows:"
   ]
  },
  {
   "cell_type": "markdown",
   "metadata": {},
   "source": [
    "<img src=\"../img/campus02-lecture-img11.jpg\" alt=\"drawing\" width=\"600\"/>"
   ]
  },
  {
   "cell_type": "markdown",
   "metadata": {},
   "source": []
  },
  {
   "cell_type": "markdown",
   "metadata": {},
   "source": [
    "## EDA - Exploratory Data Analysis\n",
    "\n",
    "In this part we are going to present the analysis of Iris data. First install some Nuet packages"
   ]
  },
  {
   "cell_type": "code",
   "execution_count": 2,
   "metadata": {
    "dotnet_interactive": {
     "language": "csharp"
    }
   },
   "outputs": [
    {
     "name": "stderr",
     "output_type": "stream",
     "text": [
      "Microsoft.DotNet.Interactive.Formatting version 1.0.0-beta.21506.4 cannot be added because version 1.0.0-beta.21228.1 was added previously."
     ]
    }
   ],
   "source": [
    "//ML.NET\n",
    "#r \"nuget:Microsoft.ML\"\n",
    "#r \"nuget:Microsoft.ML.LightGbm\"\n",
    "#r \"nuget:Microsoft.ML.DataView\"\n",
    "    \n",
    "\n",
    "//Install Daany.DataFrame \n",
    "//Nuget package installation\n",
    "#r \"nuget:Daany.DataFrame,1.1.0\"\n",
    "#r \"nuget:Daany.DataFrame.Ext,1.1.0\"\n",
    "#r \"nuget: Daany.Stat,1.1.0\"\n",
    "#r \"../bin/Daany.Util.dll\"\n",
    "    \n",
    "//Plot capabilities\n",
    "#r \"nuget: Microsoft.DotNet.Interactive.Formatting, 1.0.0-beta.21506.4\"\n",
    "#r \"nuget: XPlot.Plotly\"\n",
    "\n",
    "using System;\n",
    "using System.Linq;\n",
    "\n",
    "//Daany data frame\n",
    "using Daany;\n",
    "using Daany.Ext;\n",
    "using Daany.Util;\n",
    "\n",
    "//Plotting functionalities\n",
    "using XPlot.Plotly;\n",
    "\n",
    "//ML.NET using\n",
    "using Microsoft.ML;\n",
    "using Microsoft.ML.Data;\n",
    "using Microsoft.ML.Trainers.LightGbm;\n",
    "\n",
    "//custom display implementation\n",
    "using static Microsoft.DotNet.Interactive.Formatting.PocketViewTags;\n",
    "using Microsoft.AspNetCore.Html;\n",
    "using Microsoft.DotNet.Interactive.Formatting;\n",
    "using static System.Diagnostics.Debug;\n",
    "using System.Globalization;"
   ]
  },
  {
   "cell_type": "code",
   "execution_count": null,
   "metadata": {
    "dotnet_interactive": {
     "language": "csharp"
    }
   },
   "outputs": [],
   "source": [
    "Formatter.Register<DataFrame>((df, writer) =>\n",
    "{\n",
    "    var headers = new List<IHtmlContent>();\n",
    "\n",
    "    headers.Add(th(i($\"({df.Index.Name})\")));\n",
    "    headers.AddRange(df.Columns.Select(c => (IHtmlContent) th(c)));\n",
    "    \n",
    "    //renders the rows\n",
    "    var rows = new List<List<IHtmlContent>>();\n",
    "    var take = 20;\n",
    "    \n",
    "    //\n",
    "    for (var i = 0; i < Math.Min(take, df.RowCount()); i++)\n",
    "    {\n",
    "        var cells = new List<IHtmlContent>();\n",
    "        cells.Add(td(df.Index[i]));\n",
    "        foreach (var obj in df[i])\n",
    "        {\n",
    "            cells.Add(td(obj));\n",
    "        }\n",
    "        rows.Add(cells);\n",
    "    }\n",
    "    \n",
    "    var t = table(\n",
    "        thead(\n",
    "            headers),\n",
    "        tbody(\n",
    "            rows.Select(\n",
    "                r => tr(r))));\n",
    "    \n",
    "    writer.Write(t);\n",
    "}, \"text/html\");"
   ]
  },
  {
   "cell_type": "code",
   "execution_count": null,
   "metadata": {
    "dotnet_interactive": {
     "language": "csharp"
    }
   },
   "outputs": [],
   "source": [
    "//declare iris class type\n",
    "class Iris\n",
    "{\n",
    "    public float PetalArea { get; set; }\n",
    "    public float SepalArea { get; set; }\n",
    "    public string Species { get; set; }\n",
    "}\n",
    "//Create ML COntext\n",
    "MLContext mlContext = new MLContext(seed:2019);"
   ]
  },
  {
   "cell_type": "code",
   "execution_count": null,
   "metadata": {
    "dotnet_interactive": {
     "language": "csharp"
    }
   },
   "outputs": [
    {
     "data": {
      "text/html": [
       "<table><thead><th><i>(index)</i></th><th>sepal_length</th><th>sepal_width</th><th>petal_length</th><th>petal_width</th><th>species</th></thead><tbody><tr><td><div class=\"dni-plaintext\">0</div></td><td><div class=\"dni-plaintext\">6.5</div></td><td><div class=\"dni-plaintext\">3</div></td><td><div class=\"dni-plaintext\">5.5</div></td><td><div class=\"dni-plaintext\">1.8</div></td><td>virginica</td></tr><tr><td><div class=\"dni-plaintext\">1</div></td><td><div class=\"dni-plaintext\">5.6</div></td><td><div class=\"dni-plaintext\">2.7</div></td><td><div class=\"dni-plaintext\">4.2</div></td><td><div class=\"dni-plaintext\">1.3</div></td><td>versicolor</td></tr><tr><td><div class=\"dni-plaintext\">2</div></td><td><div class=\"dni-plaintext\">4.4</div></td><td><div class=\"dni-plaintext\">2.9</div></td><td><div class=\"dni-plaintext\">1.4</div></td><td><div class=\"dni-plaintext\">0.2</div></td><td>setosa</td></tr><tr><td><div class=\"dni-plaintext\">3</div></td><td><div class=\"dni-plaintext\">4.9</div></td><td><div class=\"dni-plaintext\">3.1</div></td><td><div class=\"dni-plaintext\">1.5</div></td><td><div class=\"dni-plaintext\">0.1</div></td><td>setosa</td></tr><tr><td><div class=\"dni-plaintext\">4</div></td><td><div class=\"dni-plaintext\">5.9</div></td><td><div class=\"dni-plaintext\">3</div></td><td><div class=\"dni-plaintext\">4.2</div></td><td><div class=\"dni-plaintext\">1.5</div></td><td>versicolor</td></tr><tr><td><div class=\"dni-plaintext\">5</div></td><td><div class=\"dni-plaintext\">6.9</div></td><td><div class=\"dni-plaintext\">3.1</div></td><td><div class=\"dni-plaintext\">4.9</div></td><td><div class=\"dni-plaintext\">1.5</div></td><td>versicolor</td></tr><tr><td><div class=\"dni-plaintext\">6</div></td><td><div class=\"dni-plaintext\">7.9</div></td><td><div class=\"dni-plaintext\">3.8</div></td><td><div class=\"dni-plaintext\">6.4</div></td><td><div class=\"dni-plaintext\">2</div></td><td>virginica</td></tr><tr><td><div class=\"dni-plaintext\">7</div></td><td><div class=\"dni-plaintext\">5.2</div></td><td><div class=\"dni-plaintext\">3.5</div></td><td><div class=\"dni-plaintext\">1.5</div></td><td><div class=\"dni-plaintext\">0.2</div></td><td>setosa</td></tr><tr><td><div class=\"dni-plaintext\">8</div></td><td><div class=\"dni-plaintext\">5.6</div></td><td><div class=\"dni-plaintext\">2.5</div></td><td><div class=\"dni-plaintext\">3.9</div></td><td><div class=\"dni-plaintext\">1.1</div></td><td>versicolor</td></tr><tr><td><div class=\"dni-plaintext\">9</div></td><td><div class=\"dni-plaintext\">4.6</div></td><td><div class=\"dni-plaintext\">3.1</div></td><td><div class=\"dni-plaintext\">1.5</div></td><td><div class=\"dni-plaintext\">0.2</div></td><td>setosa</td></tr></tbody></table>"
      ]
     },
     "output_type": "unknown"
    }
   ],
   "source": [
    "//define file path\n",
    "var orgdataPath = \"data/iris.txt\";\n",
    "\n",
    "//read the iris data and create DataFrame object\n",
    "var df = DataFrame.FromCsv(orgdataPath,sep:'\\t');\n",
    "df.Head(10)"
   ]
  },
  {
   "cell_type": "code",
   "execution_count": null,
   "metadata": {
    "dotnet_interactive": {
     "language": "csharp"
    }
   },
   "outputs": [
    {
     "data": {
      "text/html": [
       "<table><thead><th><i>(index)</i></th><th>sepal_length</th><th>sepal_width</th><th>petal_length</th><th>petal_width</th><th>species</th><th>SepalArea</th><th>PetalArea</th></thead><tbody><tr><td><div class=\"dni-plaintext\">0</div></td><td><div class=\"dni-plaintext\">6.5</div></td><td><div class=\"dni-plaintext\">3</div></td><td><div class=\"dni-plaintext\">5.5</div></td><td><div class=\"dni-plaintext\">1.8</div></td><td>virginica</td><td><div class=\"dni-plaintext\">19.5</div></td><td><div class=\"dni-plaintext\">9.9</div></td></tr><tr><td><div class=\"dni-plaintext\">1</div></td><td><div class=\"dni-plaintext\">5.6</div></td><td><div class=\"dni-plaintext\">2.7</div></td><td><div class=\"dni-plaintext\">4.2</div></td><td><div class=\"dni-plaintext\">1.3</div></td><td>versicolor</td><td><div class=\"dni-plaintext\">15.12</div></td><td><div class=\"dni-plaintext\">5.4599996</div></td></tr><tr><td><div class=\"dni-plaintext\">2</div></td><td><div class=\"dni-plaintext\">4.4</div></td><td><div class=\"dni-plaintext\">2.9</div></td><td><div class=\"dni-plaintext\">1.4</div></td><td><div class=\"dni-plaintext\">0.2</div></td><td>setosa</td><td><div class=\"dni-plaintext\">12.76</div></td><td><div class=\"dni-plaintext\">0.28</div></td></tr><tr><td><div class=\"dni-plaintext\">3</div></td><td><div class=\"dni-plaintext\">4.9</div></td><td><div class=\"dni-plaintext\">3.1</div></td><td><div class=\"dni-plaintext\">1.5</div></td><td><div class=\"dni-plaintext\">0.1</div></td><td>setosa</td><td><div class=\"dni-plaintext\">15.19</div></td><td><div class=\"dni-plaintext\">0.15</div></td></tr><tr><td><div class=\"dni-plaintext\">4</div></td><td><div class=\"dni-plaintext\">5.9</div></td><td><div class=\"dni-plaintext\">3</div></td><td><div class=\"dni-plaintext\">4.2</div></td><td><div class=\"dni-plaintext\">1.5</div></td><td>versicolor</td><td><div class=\"dni-plaintext\">17.7</div></td><td><div class=\"dni-plaintext\">6.2999997</div></td></tr></tbody></table>"
      ]
     },
     "output_type": "unknown"
    }
   ],
   "source": [
    "//calculate two new columns into dataset\n",
    "df.AddCalculatedColumns(new string[] { \"SepalArea\", \"PetalArea\" }, \n",
    "        (r, i) =>\n",
    "        {\n",
    "            var aRow = new object[2];\n",
    "            aRow[0]=Convert.ToSingle(r[\"sepal_width\"]) * Convert.ToSingle(r[\"sepal_length\"]);\n",
    "            aRow[1] = Convert.ToSingle(r[\"petal_width\"]) * Convert.ToSingle(r[\"petal_length\"]);\n",
    "            return aRow;\n",
    "\n",
    "        });\n",
    "df.Head(5)"
   ]
  },
  {
   "cell_type": "code",
   "execution_count": null,
   "metadata": {
    "dotnet_interactive": {
     "language": "csharp"
    }
   },
   "outputs": [
    {
     "data": {
      "text/html": [
       "<table><thead><th><i>(index)</i></th><th>sepal_length</th><th>sepal_width</th><th>petal_length</th><th>petal_width</th><th>species</th><th>SepalArea</th><th>PetalArea</th></thead><tbody><tr><td>Count</td><td><div class=\"dni-plaintext\">150</div></td><td><div class=\"dni-plaintext\">150</div></td><td><div class=\"dni-plaintext\">150</div></td><td><div class=\"dni-plaintext\">150</div></td><td><div class=\"dni-plaintext\">150</div></td><td><div class=\"dni-plaintext\">150</div></td><td><div class=\"dni-plaintext\">150</div></td></tr><tr><td>Unique</td><td><div class=\"dni-plaintext\">35</div></td><td><div class=\"dni-plaintext\">23</div></td><td><div class=\"dni-plaintext\">43</div></td><td><div class=\"dni-plaintext\">22</div></td><td><div class=\"dni-plaintext\">3</div></td><td><div class=\"dni-plaintext\">108</div></td><td><div class=\"dni-plaintext\">101</div></td></tr><tr><td>Top</td><td><div class=\"dni-plaintext\">5</div></td><td><div class=\"dni-plaintext\">3</div></td><td><div class=\"dni-plaintext\">1.4</div></td><td><div class=\"dni-plaintext\">0.2</div></td><td>virginica</td><td><div class=\"dni-plaintext\">13.200001</div></td><td><div class=\"dni-plaintext\">0.28</div></td></tr><tr><td>Freq</td><td><div class=\"dni-plaintext\">10</div></td><td><div class=\"dni-plaintext\">26</div></td><td><div class=\"dni-plaintext\">13</div></td><td><div class=\"dni-plaintext\">29</div></td><td><div class=\"dni-plaintext\">50</div></td><td><div class=\"dni-plaintext\">5</div></td><td><div class=\"dni-plaintext\">8</div></td></tr><tr><td>Mean</td><td><div class=\"dni-plaintext\">5.843333</div></td><td><div class=\"dni-plaintext\">3.04</div></td><td><div class=\"dni-plaintext\">3.758</div></td><td><div class=\"dni-plaintext\">1.199333</div></td><td><div class=\"dni-plaintext\">&lt;null&gt;</div></td><td><div class=\"dni-plaintext\">17.822866</div></td><td><div class=\"dni-plaintext\">5.794066</div></td></tr><tr><td>Std</td><td><div class=\"dni-plaintext\">0.828066</div></td><td><div class=\"dni-plaintext\">0.541933</div></td><td><div class=\"dni-plaintext\">1.765298</div></td><td><div class=\"dni-plaintext\">0.762238</div></td><td><div class=\"dni-plaintext\">&lt;null&gt;</div></td><td><div class=\"dni-plaintext\">3.361853</div></td><td><div class=\"dni-plaintext\">4.71239</div></td></tr><tr><td>Min</td><td><div class=\"dni-plaintext\">4.3</div></td><td><div class=\"dni-plaintext\">2</div></td><td><div class=\"dni-plaintext\">1</div></td><td><div class=\"dni-plaintext\">0.1</div></td><td><div class=\"dni-plaintext\">&lt;null&gt;</div></td><td><div class=\"dni-plaintext\">10</div></td><td><div class=\"dni-plaintext\">0.11</div></td></tr><tr><td>25%</td><td><div class=\"dni-plaintext\">5.1</div></td><td><div class=\"dni-plaintext\">3</div></td><td><div class=\"dni-plaintext\">1.6</div></td><td><div class=\"dni-plaintext\">0.3</div></td><td><div class=\"dni-plaintext\">&lt;null&gt;</div></td><td><div class=\"dni-plaintext\">15.660001</div></td><td><div class=\"dni-plaintext\">0.42</div></td></tr><tr><td>Median</td><td><div class=\"dni-plaintext\">5.8</div></td><td><div class=\"dni-plaintext\">3</div></td><td><div class=\"dni-plaintext\">4.35</div></td><td><div class=\"dni-plaintext\">1.3</div></td><td><div class=\"dni-plaintext\">&lt;null&gt;</div></td><td><div class=\"dni-plaintext\">17.66</div></td><td><div class=\"dni-plaintext\">5.615</div></td></tr><tr><td>75%</td><td><div class=\"dni-plaintext\">6.4</div></td><td><div class=\"dni-plaintext\">3</div></td><td><div class=\"dni-plaintext\">5.1</div></td><td><div class=\"dni-plaintext\">1.8</div></td><td><div class=\"dni-plaintext\">&lt;null&gt;</div></td><td><div class=\"dni-plaintext\">20.325001</div></td><td><div class=\"dni-plaintext\">9.69</div></td></tr><tr><td>Max</td><td><div class=\"dni-plaintext\">7.9</div></td><td><div class=\"dni-plaintext\">4</div></td><td><div class=\"dni-plaintext\">6.9</div></td><td><div class=\"dni-plaintext\">2.5</div></td><td><div class=\"dni-plaintext\">&lt;null&gt;</div></td><td><div class=\"dni-plaintext\">30.02</div></td><td><div class=\"dni-plaintext\">15.87</div></td></tr></tbody></table>"
      ]
     },
     "output_type": "unknown"
    }
   ],
   "source": [
    "//see descriptive stats of the final ds\n",
    "df.Describe(false)"
   ]
  },
  {
   "cell_type": "code",
   "execution_count": null,
   "metadata": {
    "dotnet_interactive": {
     "language": "csharp"
    }
   },
   "outputs": [
    {
     "data": {
      "text/html": [
       "<table><thead><th><i>(index)</i></th><th>SepalArea</th><th>PetalArea</th><th>species</th></thead><tbody><tr><td><div class=\"dni-plaintext\">0</div></td><td><div class=\"dni-plaintext\">19.5</div></td><td><div class=\"dni-plaintext\">9.9</div></td><td>virginica</td></tr><tr><td><div class=\"dni-plaintext\">1</div></td><td><div class=\"dni-plaintext\">15.12</div></td><td><div class=\"dni-plaintext\">5.4599996</div></td><td>versicolor</td></tr><tr><td><div class=\"dni-plaintext\">2</div></td><td><div class=\"dni-plaintext\">12.76</div></td><td><div class=\"dni-plaintext\">0.28</div></td><td>setosa</td></tr><tr><td><div class=\"dni-plaintext\">3</div></td><td><div class=\"dni-plaintext\">15.19</div></td><td><div class=\"dni-plaintext\">0.15</div></td><td>setosa</td></tr><tr><td><div class=\"dni-plaintext\">4</div></td><td><div class=\"dni-plaintext\">17.7</div></td><td><div class=\"dni-plaintext\">6.2999997</div></td><td>versicolor</td></tr><tr><td><div class=\"dni-plaintext\">5</div></td><td><div class=\"dni-plaintext\">21.39</div></td><td><div class=\"dni-plaintext\">7.3500004</div></td><td>versicolor</td></tr><tr><td><div class=\"dni-plaintext\">6</div></td><td><div class=\"dni-plaintext\">30.02</div></td><td><div class=\"dni-plaintext\">12.8</div></td><td>virginica</td></tr><tr><td><div class=\"dni-plaintext\">7</div></td><td><div class=\"dni-plaintext\">18.199999</div></td><td><div class=\"dni-plaintext\">0.3</div></td><td>setosa</td></tr><tr><td><div class=\"dni-plaintext\">8</div></td><td><div class=\"dni-plaintext\">14</div></td><td><div class=\"dni-plaintext\">4.29</div></td><td>versicolor</td></tr><tr><td><div class=\"dni-plaintext\">9</div></td><td><div class=\"dni-plaintext\">14.259999</div></td><td><div class=\"dni-plaintext\">0.3</div></td><td>setosa</td></tr><tr><td><div class=\"dni-plaintext\">10</div></td><td><div class=\"dni-plaintext\">20.400002</div></td><td><div class=\"dni-plaintext\">11.549999</div></td><td>virginica</td></tr><tr><td><div class=\"dni-plaintext\">11</div></td><td><div class=\"dni-plaintext\">15.959999</div></td><td><div class=\"dni-plaintext\">5.85</div></td><td>versicolor</td></tr><tr><td><div class=\"dni-plaintext\">12</div></td><td><div class=\"dni-plaintext\">16</div></td><td><div class=\"dni-plaintext\">0.24000001</div></td><td>setosa</td></tr><tr><td><div class=\"dni-plaintext\">13</div></td><td><div class=\"dni-plaintext\">15.75</div></td><td><div class=\"dni-plaintext\">7.3500004</div></td><td>versicolor</td></tr><tr><td><div class=\"dni-plaintext\">14</div></td><td><div class=\"dni-plaintext\">20.769999</div></td><td><div class=\"dni-plaintext\">7.0499997</div></td><td>versicolor</td></tr><tr><td><div class=\"dni-plaintext\">15</div></td><td><div class=\"dni-plaintext\">13.75</div></td><td><div class=\"dni-plaintext\">5.2</div></td><td>versicolor</td></tr><tr><td><div class=\"dni-plaintext\">16</div></td><td><div class=\"dni-plaintext\">14.25</div></td><td><div class=\"dni-plaintext\">10</div></td><td>virginica</td></tr><tr><td><div class=\"dni-plaintext\">17</div></td><td><div class=\"dni-plaintext\">17</div></td><td><div class=\"dni-plaintext\">0.3</div></td><td>setosa</td></tr><tr><td><div class=\"dni-plaintext\">18</div></td><td><div class=\"dni-plaintext\">20.769999</div></td><td><div class=\"dni-plaintext\">13.440001</div></td><td>virginica</td></tr><tr><td><div class=\"dni-plaintext\">19</div></td><td><div class=\"dni-plaintext\">17.34</div></td><td><div class=\"dni-plaintext\">0.3</div></td><td>setosa</td></tr></tbody></table>"
      ]
     },
     "output_type": "unknown"
    }
   ],
   "source": [
    "//create new data-frame by selecting only three columns\n",
    "var derivedDF = df[\"SepalArea\",\"PetalArea\",\"species\"];\n",
    "derivedDF"
   ]
  },
  {
   "cell_type": "code",
   "execution_count": null,
   "metadata": {
    "dotnet_interactive": {
     "language": "csharp"
    }
   },
   "outputs": [
    {
     "data": {
      "text/html": [
       "<!DOCTYPE html>\r\n",
       "<div style=\"width: 900px; height: 500px;\" id=\"ac07a78d-84ce-4ee3-ad5d-cfb09958b67b\"></div><script type=\"text/javascript\">\r\n",
       "\n",
       "var renderPlotly = function() {\n",
       "    var xplotRequire = require.config({context:'xplot-3.0.1',paths:{plotly:'https://cdn.plot.ly/plotly-1.49.2.min'}}) || require;\n",
       "    xplotRequire(['plotly'], function(Plotly) { \r\n",
       "\n",
       "            var data = [{\"type\":\"histogram\",\"x\":[\"virginica\",\"versicolor\",\"setosa\",\"setosa\",\"versicolor\",\"versicolor\",\"virginica\",\"setosa\",\"versicolor\",\"setosa\",\"virginica\",\"versicolor\",\"setosa\",\"versicolor\",\"versicolor\",\"versicolor\",\"virginica\",\"setosa\",\"virginica\",\"setosa\",\"setosa\",\"virginica\",\"versicolor\",\"setosa\",\"setosa\",\"virginica\",\"virginica\",\"setosa\",\"versicolor\",\"versicolor\",\"setosa\",\"setosa\",\"versicolor\",\"versicolor\",\"setosa\",\"setosa\",\"virginica\",\"versicolor\",\"virginica\",\"virginica\",\"versicolor\",\"setosa\",\"versicolor\",\"versicolor\",\"virginica\",\"virginica\",\"setosa\",\"virginica\",\"setosa\",\"versicolor\",\"versicolor\",\"setosa\",\"virginica\",\"virginica\",\"virginica\",\"setosa\",\"setosa\",\"setosa\",\"virginica\",\"virginica\",\"versicolor\",\"setosa\",\"versicolor\",\"virginica\",\"setosa\",\"virginica\",\"setosa\",\"virginica\",\"setosa\",\"virginica\",\"versicolor\",\"virginica\",\"versicolor\",\"setosa\",\"virginica\",\"virginica\",\"virginica\",\"setosa\",\"virginica\",\"virginica\",\"virginica\",\"versicolor\",\"versicolor\",\"virginica\",\"versicolor\",\"versicolor\",\"setosa\",\"setosa\",\"virginica\",\"versicolor\",\"versicolor\",\"setosa\",\"setosa\",\"setosa\",\"versicolor\",\"versicolor\",\"virginica\",\"virginica\",\"versicolor\",\"versicolor\",\"virginica\",\"virginica\",\"versicolor\",\"virginica\",\"setosa\",\"setosa\",\"setosa\",\"virginica\",\"versicolor\",\"versicolor\",\"virginica\",\"setosa\",\"virginica\",\"virginica\",\"versicolor\",\"virginica\",\"versicolor\",\"versicolor\",\"setosa\",\"setosa\",\"virginica\",\"versicolor\",\"setosa\",\"setosa\",\"virginica\",\"versicolor\",\"virginica\",\"versicolor\",\"setosa\",\"setosa\",\"virginica\",\"versicolor\",\"versicolor\",\"setosa\",\"setosa\",\"setosa\",\"versicolor\",\"setosa\",\"virginica\",\"setosa\",\"virginica\",\"versicolor\",\"versicolor\",\"versicolor\",\"versicolor\",\"virginica\",\"virginica\",\"versicolor\",\"setosa\",\"setosa\"],\"autobinx\":false,\"nbinsx\":20}];\n",
       "           var layout = {\"title\":\"Distribution of iris flower\"};\n",
       "           Plotly.newPlot('ac07a78d-84ce-4ee3-ad5d-cfb09958b67b', data, layout);\n",
       "        \r\n",
       "});\n",
       "};\r\n",
       "// ensure `require` is available globally\r\n",
       "if ((typeof(require) !==  typeof(Function)) || (typeof(require.config) !== typeof(Function))) {\r\n",
       "    let require_script = document.createElement('script');\r\n",
       "    require_script.setAttribute('src', 'https://cdnjs.cloudflare.com/ajax/libs/require.js/2.3.6/require.min.js');\r\n",
       "    require_script.setAttribute('type', 'text/javascript');\r\n",
       "    \r\n",
       "    \r\n",
       "    require_script.onload = function() {\r\n",
       "        renderPlotly();\r\n",
       "    };\r\n",
       "\r\n",
       "    document.getElementsByTagName('head')[0].appendChild(require_script);\r\n",
       "}\r\n",
       "else {\r\n",
       "    renderPlotly();\r\n",
       "}\r\n",
       "\r\n",
       "</script>\r\n"
      ]
     },
     "output_type": "unknown"
    }
   ],
   "source": [
    "//plot the data in order to see how areas are spread in the 2d plane\n",
    "//XPlot Histogram reference: http://tpetricek.github.io/XPlot/reference/xplot-plotly-graph-histogram.html\n",
    "\n",
    "var faresHistogram = Chart.Plot(new Histogram(){x = derivedDF[\"species\"], autobinx = false, nbinsx = 20});\n",
    "var layout = new Layout.Layout(){title=\"Distribution of iris flower\"};\n",
    "faresHistogram.WithLayout(layout);\n",
    "faresHistogram"
   ]
  },
  {
   "cell_type": "code",
   "execution_count": null,
   "metadata": {
    "dotnet_interactive": {
     "language": "csharp"
    }
   },
   "outputs": [
    {
     "data": {
      "text/html": [
       "<!DOCTYPE html>\r\n",
       "<div style=\"width: 700px; height: 500px;\" id=\"d6258f90-be4c-44a3-a06a-e6f0f1540c1c\"></div><script type=\"text/javascript\">\r\n",
       "\n",
       "var renderPlotly = function() {\n",
       "    var xplotRequire = require.config({context:'xplot-3.0.1',paths:{plotly:'https://cdn.plot.ly/plotly-1.49.2.min'}}) || require;\n",
       "    xplotRequire(['plotly'], function(Plotly) { \r\n",
       "\n",
       "            var data = [{\"type\":\"scatter\",\"x\":[19.5,15.12,12.76,15.19,17.7,21.39,30.02,18.199999,14.0,14.259999,20.400002,15.959999,16.0,15.75,20.769999,13.75,14.25,17.0,20.769999,17.34,17.85,20.480001,10.0,14.400001,18.87,15.660001,25.919998,15.0,18.880001,20.099998,25.08,21.060001,15.08,11.76,19.980001,14.700001,23.039999,15.660001,21.76,19.5,13.64,15.04,15.959999,19.04,15.75,21.39,19.38,15.660001,18.0,18.199999,20.769999,17.68,22.109999,23.099998,21.599998,18.36,19.38,17.0,20.099998,20.800001,12.65,16.5,17.400002,20.72,14.88,19.5,17.5,19.84,16.56,18.3,16.53,21.170002,12.75,15.04,12.25,18.27,21.56,14.72,21.3,17.92,15.859999,11.5,22.4,17.7,17.08,20.480001,14.080001,23.2,17.359999,16.2,18.560001,19.61,12.900001,19.38,18.3,15.660001,16.24,21.08,14.49,19.140001,15.679999,21.39,20.400002,17.64,21.060001,17.64,17.85,17.92,17.099998,13.200001,13.200001,16.320002,22.8,21.420002,17.98,22.109999,13.200001,14.819999,17.5,10.349999,29.259998,17.08,18.36,13.200001,20.79,16.8,16.75,14.299999,15.19,21.66,17.01,16.8,14.04,23.099998,19.25,16.320002,16.24,15.64,17.28,16.83,20.019999,13.200001,20.79,17.69,19.8,22.08,18.0,16.2,21.319998,14.400001],\"y\":[9.9,5.4599996,0.28,0.15,6.2999997,7.3500004,12.8,0.3,4.29,0.3,11.549999,5.85,0.24000001,7.3500004,7.0499997,5.2,10.0,0.3,13.440001,0.3,0.42000002,12.190001,3.5,0.42000002,0.6,9.69,15.25,0.32000002,8.64,8.5,0.6,0.68,4.8,3.3,0.3,0.28,10.799999,4.1,13.57,10.4,6.75,0.32000002,5.3299994,6.7200003,9.5,11.73,0.76,9.69,0.28,6.8999996,6.16,0.28,14.25,14.03,9.280001,0.6,0.32000002,0.64000005,11.959999,10.2,5.2,0.28,6.75,11.589999,0.32000002,12.76,0.96000004,9.9,0.2,8.82,5.4599996,11.34,3.3000002,0.26,7.65,10.08,13.4,0.28,12.389999,11.759999,7.8399997,3.3,6.5799994,9.179999,5.64,6.75,0.26,0.24000001,8.64,8.16,5.59,0.3,0.11000001,0.45000002,6.4399996,4.6800003,12.240001,12.42,5.72,5.9799995,9.8,11.34,7.2000003,7.6499996,0.52,0.14,0.28,12.32,5.04,4.0,7.5,0.38,13.859999,13.440001,5.59,11.969999,4.18,3.5,0.39000002,0.39000002,14.74,5.2,0.34,0.26,15.0,6.75,10.440001,5.28,0.3,0.51000005,8.82,5.3299994,5.46,0.28,0.26,0.32000002,4.68,0.42000002,10.070001,0.85,15.87,3.7,7.52,6.5799994,6.16,13.11,8.64,6.75,0.15,0.14],\"mode\":\"markers\",\"marker\":{\"color\":[1,2,3,3,2,2,1,3,2,3,1,2,3,2,2,2,1,3,1,3,3,1,2,3,3,1,1,3,2,2,3,3,2,2,3,3,1,2,1,1,2,3,2,2,1,1,3,1,3,2,2,3,1,1,1,3,3,3,1,1,2,3,2,1,3,1,3,1,3,1,2,1,2,3,1,1,1,3,1,1,1,2,2,1,2,2,3,3,1,2,2,3,3,3,2,2,1,1,2,2,1,1,2,1,3,3,3,1,2,2,1,3,1,1,2,1,2,2,3,3,1,2,3,3,1,2,1,2,3,3,1,2,2,3,3,3,2,3,1,3,1,2,2,2,2,1,1,2,3,3],\"colorscale\":\"Jet\"},\"name\":\"virginica\"}];\n",
       "           var layout = {\"title\":\"Plot Sepal vs. Petal Area & color scale on Species\",\"showlegend\":true,\"xaxis\":{\"title\":\"SepalArea\",\"_isSubplotObj\":true},\"yaxis\":{\"title\":\"Petal Area\",\"_isSubplotObj\":true}};\n",
       "           Plotly.newPlot('d6258f90-be4c-44a3-a06a-e6f0f1540c1c', data, layout);\n",
       "        \r\n",
       "});\n",
       "};\r\n",
       "// ensure `require` is available globally\r\n",
       "if ((typeof(require) !==  typeof(Function)) || (typeof(require.config) !== typeof(Function))) {\r\n",
       "    let require_script = document.createElement('script');\r\n",
       "    require_script.setAttribute('src', 'https://cdnjs.cloudflare.com/ajax/libs/require.js/2.3.6/require.min.js');\r\n",
       "    require_script.setAttribute('type', 'text/javascript');\r\n",
       "    \r\n",
       "    \r\n",
       "    require_script.onload = function() {\r\n",
       "        renderPlotly();\r\n",
       "    };\r\n",
       "\r\n",
       "    document.getElementsByTagName('head')[0].appendChild(require_script);\r\n",
       "}\r\n",
       "else {\r\n",
       "    renderPlotly();\r\n",
       "}\r\n",
       "\r\n",
       "</script>\r\n"
      ]
     },
     "output_type": "unknown"
    }
   ],
   "source": [
    "// Plot Sepal vs. Petal area with flower type\n",
    "\n",
    "var chart = Chart.Plot(\n",
    "    new Scatter()\n",
    "    {\n",
    "        x = derivedDF[\"SepalArea\"],\n",
    "        y = derivedDF[\"PetalArea\"],\n",
    "        mode = \"markers\",\n",
    "        marker = new Marker()\n",
    "        {\n",
    "            color = derivedDF[\"species\"].Select(x=>x.ToString()==\"virginica\"?1:(x.ToString()==\"versicolor\"?2:3)),\n",
    "            colorscale = \"Jet\"\n",
    "        }\n",
    "    }\n",
    ");\n",
    "\n",
    "var layout = new Layout.Layout(){title=\"Plot Sepal vs. Petal Area & color scale on Species\"};\n",
    "chart.WithLayout(layout);\n",
    "chart.WithLegend(true);\n",
    "chart.WithLabels(new[]{\"virginica\",\"versicolor\", \"setosa\"});\n",
    "chart.WithXTitle(\"SepalArea\");\n",
    "chart.WithYTitle(\"Petal Area\");\n",
    "chart.Width = 700;\n",
    "chart.Height = 500;\n",
    "\n",
    "chart"
   ]
  },
  {
   "cell_type": "code",
   "execution_count": null,
   "metadata": {
    "dotnet_interactive": {
     "language": "csharp"
    }
   },
   "outputs": [],
   "source": [
    "var mlContext= new MLContext();\n",
    "//Load Data Frame into Ml.NET data pipeline\n",
    "IDataView dataView = mlContext.Data.LoadFromEnumerable<Iris>(derivedDF.GetEnumerator<Iris>((oRow) =>\n",
    "{\n",
    "    //convert row object array into Iris row\n",
    "\n",
    "    var prRow = new Iris();\n",
    "    prRow.SepalArea = Convert.ToSingle(oRow[\"SepalArea\"]);\n",
    "    prRow.PetalArea = Convert.ToSingle(oRow[\"PetalArea\"]);\n",
    "    prRow.Species = Convert.ToString(oRow[\"species\"]);\n",
    "    //\n",
    "    return prRow;\n",
    "}));"
   ]
  },
  {
   "cell_type": "code",
   "execution_count": null,
   "metadata": {
    "dotnet_interactive": {
     "language": "csharp"
    }
   },
   "outputs": [],
   "source": [
    "//Split dataset in two parts: TrainingDataset (80%) and TestDataset (20%)\n",
    "var trainTestData = mlContext.Data.TrainTestSplit(dataView, testFraction: 0.2);\n",
    "var trainData = trainTestData.TrainSet;\n",
    "var testData = trainTestData.TestSet;"
   ]
  },
  {
   "cell_type": "code",
   "execution_count": null,
   "metadata": {
    "dotnet_interactive": {
     "language": "csharp"
    }
   },
   "outputs": [],
   "source": [
    "//one encoding output category column by defining KeyValues for each category\n",
    "IEstimator<ITransformer> dataPipeline =\n",
    "mlContext.Transforms.Conversion.MapValueToKey(outputColumnName: \"Label\", inputColumnName: nameof(Iris.Species))\n",
    "\n",
    "//define features columns\n",
    ".Append(mlContext.Transforms.Concatenate(\"Features\",nameof(Iris.SepalArea), nameof(Iris.PetalArea)));"
   ]
  },
  {
   "cell_type": "code",
   "execution_count": null,
   "metadata": {
    "dotnet_interactive": {
     "language": "csharp"
    }
   },
   "outputs": [],
   "source": [
    " // Define LightGbm algorithm estimator\n",
    "IEstimator<ITransformer> lightGbm = mlContext.MulticlassClassification.Trainers.LightGbm();\n",
    "//train the ML model\n",
    "TransformerChain<ITransformer> model = dataPipeline.Append(lightGbm).Fit(trainData);"
   ]
  },
  {
   "cell_type": "code",
   "execution_count": null,
   "metadata": {
    "dotnet_interactive": {
     "language": "csharp"
    }
   },
   "outputs": [
    {
     "data": {
      "text/plain": [
       "{ Microsoft.ML.Data.MulticlassClassificationMetrics: LogLoss: 0.02079408314528686, LogLossReduction: 0.981044392269188, MacroAccuracy: 1, MicroAccuracy: 1, TopKAccuracy: 0, TopKPredictionCount: 0, TopKAccuracyForAllK: <null>, PerClassLogLoss: [ 0.02164172886983658, 0.031183441170973013, 0.008891378536832143 ], ConfusionMatrix: { Microsoft.ML.Data.ConfusionMatrix: PerClassPrecision: [ 1, 1, 1 ], PerClassRecall: [ 1, 1, 1 ], Counts: [ [ 40, 0, 0 ], [ 0, 46, 0 ], [ 0, 0, 43 ] ], NumberOfClasses: 3 } }"
      ]
     },
     "output_type": "unknown"
    }
   ],
   "source": [
    "//evaluate train set\n",
    "var predictions = model.Transform(trainData);\n",
    "var metricsTrain = mlContext.MulticlassClassification.Evaluate(predictions);\n",
    "//ConsoleHelper.PrintMultiClassClassificationMetrics(\"TRAIN Iris DataSet\", metricsTrain);\n",
    "//ConsoleHelper.ConsoleWriteHeader(\"Train Iris DataSet Confusion Matrix \");\n",
    "//ConsoleHelper.ConsolePrintConfusionMatrix(metricsTrain.ConfusionMatrix);\n",
    "metricsTrain.ToDisplayString(   )"
   ]
  },
  {
   "cell_type": "code",
   "execution_count": null,
   "metadata": {
    "dotnet_interactive": {
     "language": "csharp"
    }
   },
   "outputs": [
    {
     "data": {
      "text/html": [
       "<table><thead><tr><th>LogLoss</th><th>LogLossReduction</th><th>MacroAccuracy</th><th>MicroAccuracy</th><th>TopKAccuracy</th><th>TopKPredictionCount</th><th>TopKAccuracyForAllK</th><th>PerClassLogLoss</th><th>ConfusionMatrix</th></tr></thead><tbody><tr><td><div class=\"dni-plaintext\">0.12933173246837137</div></td><td><div class=\"dni-plaintext\">0.8750853206318707</div></td><td><div class=\"dni-plaintext\">0.9166666666666666</div></td><td><div class=\"dni-plaintext\">0.9523809523809523</div></td><td><div class=\"dni-plaintext\">0</div></td><td><div class=\"dni-plaintext\">0</div></td><td><div class=\"dni-plaintext\">&lt;null&gt;</div></td><td><div class=\"dni-plaintext\">[ 0.017737462159583998, 0.6281427885256056, 0.0037172294482194475 ]</div></td><td><div class=\"dni-plaintext\">{ Microsoft.ML.Data.ConfusionMatrix: PerClassPrecision: [ 0.9090909090909091, 1, 1 ], PerClassRecall: [ 1, 0.75, 1 ], Counts: [ [ 10, 0, 0 ], [ 1, 3, 0 ], [ 0, 0, 7 ] ], NumberOfClasses: 3 }</div></td></tr></tbody></table>"
      ]
     },
     "output_type": "unknown"
    }
   ],
   "source": [
    "//evaluate test set\n",
    "var testPrediction = model.Transform(testData);\n",
    "var metricsTest = mlContext.MulticlassClassification.Evaluate(testPrediction);\n",
    "metricsTest\n",
    "//ConsoleHelper.PrintMultiClassClassificationMetrics(\"TEST Iris Dataset\", metricsTest);\n",
    "//ConsoleHelper.ConsoleWriteHeader(\"Test Iris DataSet Confusion Matrix \");\n",
    "//ConsoleHelper.ConsolePrintConfusionMatrix(metricsTest.ConfusionMatrix);"
   ]
  },
  {
   "cell_type": "markdown",
   "metadata": {},
   "source": [
    "As can bee seen, we have amnost 100% accurate model for Iris flower recognition. Now lets add new column into data frame called Prediction in order to have model prediction in the data frame."
   ]
  },
  {
   "cell_type": "code",
   "execution_count": null,
   "metadata": {
    "dotnet_interactive": {
     "language": "csharp"
    }
   },
   "outputs": [
    {
     "data": {
      "text/html": [
       "<table><thead><th><i>(index)</i></th><th>SepalArea</th><th>PetalArea</th><th>species</th><th>PredictedLabel</th></thead><tbody><tr><td><div class=\"dni-plaintext\">0</div></td><td><div class=\"dni-plaintext\">19.5</div></td><td><div class=\"dni-plaintext\">9.9</div></td><td>virginica</td><td>virginica</td></tr><tr><td><div class=\"dni-plaintext\">1</div></td><td><div class=\"dni-plaintext\">15.12</div></td><td><div class=\"dni-plaintext\">5.4599996</div></td><td>versicolor</td><td>verisicolor</td></tr><tr><td><div class=\"dni-plaintext\">2</div></td><td><div class=\"dni-plaintext\">12.76</div></td><td><div class=\"dni-plaintext\">0.28</div></td><td>setosa</td><td>sentosa</td></tr><tr><td><div class=\"dni-plaintext\">3</div></td><td><div class=\"dni-plaintext\">15.19</div></td><td><div class=\"dni-plaintext\">0.15</div></td><td>setosa</td><td>sentosa</td></tr><tr><td><div class=\"dni-plaintext\">4</div></td><td><div class=\"dni-plaintext\">17.7</div></td><td><div class=\"dni-plaintext\">6.2999997</div></td><td>versicolor</td><td>verisicolor</td></tr></tbody></table>"
      ]
     },
     "output_type": "unknown"
    }
   ],
   "source": [
    "var flowerLabels = new string []{\"virginica\", \"verisicolor\", \"sentosa\"};\n",
    "var p1 = predictions.GetColumn<uint>(\"PredictedLabel\").Select(x=>(int)x).ToList();\n",
    "var p2 = testPrediction.GetColumn<uint>(\"PredictedLabel\").Select(x => (int)x).ToList();\n",
    "//join train and test\n",
    "p1.AddRange(p2);\n",
    "var p = p1.Select(x => (object)flowerLabels[x-1]).ToList();\n",
    "//add new column into df\n",
    "var dic = new Dictionary<string, List<object>> { { \"PredictedLabel\", p } };\n",
    "\n",
    "var dff = derivedDF.AddColumns(dic);\n",
    "dff.Head()"
   ]
  },
  {
   "cell_type": "code",
   "execution_count": null,
   "metadata": {
    "dotnet_interactive": {
     "language": "csharp"
    }
   },
   "outputs": [
    {
     "data": {
      "text/html": [
       "<table><thead><th><i>(index)</i></th><th>SepalArea</th><th>PetalArea</th><th>species</th><th>PredictedLabel</th></thead><tbody><tr><td><div class=\"dni-plaintext\">145</div></td><td><div class=\"dni-plaintext\">22.08</div></td><td><div class=\"dni-plaintext\">13.11</div></td><td>virginica</td><td>sentosa</td></tr><tr><td><div class=\"dni-plaintext\">146</div></td><td><div class=\"dni-plaintext\">18</div></td><td><div class=\"dni-plaintext\">8.64</div></td><td>virginica</td><td>verisicolor</td></tr><tr><td><div class=\"dni-plaintext\">147</div></td><td><div class=\"dni-plaintext\">16.2</div></td><td><div class=\"dni-plaintext\">6.75</div></td><td>versicolor</td><td>sentosa</td></tr><tr><td><div class=\"dni-plaintext\">148</div></td><td><div class=\"dni-plaintext\">21.319998</div></td><td><div class=\"dni-plaintext\">0.15</div></td><td>setosa</td><td>sentosa</td></tr><tr><td><div class=\"dni-plaintext\">149</div></td><td><div class=\"dni-plaintext\">14.400001</div></td><td><div class=\"dni-plaintext\">0.14</div></td><td>setosa</td><td>virginica</td></tr></tbody></table>"
      ]
     },
     "output_type": "unknown"
    }
   ],
   "source": [
    "dff.Tail()"
   ]
  },
  {
   "cell_type": "code",
   "execution_count": null,
   "metadata": {
    "dotnet_interactive": {
     "language": "csharp"
    }
   },
   "outputs": [],
   "source": []
  }
 ],
 "metadata": {
  "kernelspec": {
   "display_name": ".NET (C#)",
   "language": "C#",
   "name": ".net-csharp"
  },
  "language_info": {
   "file_extension": ".cs",
   "mimetype": "text/x-csharp",
   "name": "C#",
   "pygments_lexer": "csharp",
   "version": "9.0"
  }
 },
 "nbformat": 4,
 "nbformat_minor": 2
}
