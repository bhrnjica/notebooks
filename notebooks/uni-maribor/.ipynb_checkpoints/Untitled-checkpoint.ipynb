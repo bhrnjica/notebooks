{
 "cells": [
  {
   "cell_type": "code",
   "execution_count": null,
   "id": "65f7f058",
   "metadata": {},
   "outputs": [],
   "source": [
    "//Plot capabilities\n",
    "#r \"nuget: XPlot.Plotly.Interactive,4.0.2\"\n",
    "\n",
    "//Plotting functionalities\n",
    "using XPlot.Plotly;"
   ]
  },
  {
   "cell_type": "code",
   "execution_count": null,
   "id": "c987284d",
   "metadata": {},
   "outputs": [],
   "source": [
    "var results=1+4;\n",
    "results"
   ]
  },
  {
   "cell_type": "markdown",
   "id": "3b95c848",
   "metadata": {},
   "source": [
    "# This is a tile of my story\n",
    "\n",
    "Once upon a **time**....\n",
    "\n",
    "Parabola $y=ax^2+bx+c$ is very nice function.\n"
   ]
  },
  {
   "cell_type": "code",
   "execution_count": null,
   "id": "fcc40e56",
   "metadata": {},
   "outputs": [],
   "source": [
    "using System.Linq;\n",
    "var x= new int[]{1,2,3,4,5,6,7,8,9,10};\n",
    "var y= x.Select(x=>x*x);"
   ]
  },
  {
   "cell_type": "code",
   "execution_count": null,
   "id": "766dd924",
   "metadata": {},
   "outputs": [],
   "source": [
    "Chart.Plot(new Scatter(){x = x,y=y, })"
   ]
  },
  {
   "cell_type": "code",
   "execution_count": null,
   "id": "acbf4f15",
   "metadata": {},
   "outputs": [],
   "source": []
  }
 ],
 "metadata": {
  "kernelspec": {
   "display_name": ".NET (C#)",
   "language": "C#",
   "name": ".net-csharp"
  },
  "language_info": {
   "file_extension": ".cs",
   "mimetype": "text/x-csharp",
   "name": "C#",
   "pygments_lexer": "csharp",
   "version": "9.0"
  }
 },
 "nbformat": 4,
 "nbformat_minor": 5
}
