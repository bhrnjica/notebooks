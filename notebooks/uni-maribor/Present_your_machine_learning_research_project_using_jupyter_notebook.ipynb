{
 "cells": [
  {
   "cell_type": "code",
   "execution_count": 1,
   "id": "75e2f55a",
   "metadata": {},
   "outputs": [
    {
     "data": {
      "text/html": [
       "\r\n",
       "<div>\r\n",
       "    <div id='dotnet-interactive-this-cell-11668.Microsoft.DotNet.Interactive.Http.HttpPort' style='display: none'>\r\n",
       "        The below script needs to be able to find the current output cell; this is an easy method to get it.\r\n",
       "    </div>\r\n",
       "    <script type='text/javascript'>\r\n",
       "async function probeAddresses(probingAddresses) {\r\n",
       "    function timeout(ms, promise) {\r\n",
       "        return new Promise(function (resolve, reject) {\r\n",
       "            setTimeout(function () {\r\n",
       "                reject(new Error('timeout'))\r\n",
       "            }, ms)\r\n",
       "            promise.then(resolve, reject)\r\n",
       "        })\r\n",
       "    }\r\n",
       "\r\n",
       "    if (Array.isArray(probingAddresses)) {\r\n",
       "        for (let i = 0; i < probingAddresses.length; i++) {\r\n",
       "\r\n",
       "            let rootUrl = probingAddresses[i];\r\n",
       "\r\n",
       "            if (!rootUrl.endsWith('/')) {\r\n",
       "                rootUrl = `${rootUrl}/`;\r\n",
       "            }\r\n",
       "\r\n",
       "            try {\r\n",
       "                let response = await timeout(1000, fetch(`${rootUrl}discovery`, {\r\n",
       "                    method: 'POST',\r\n",
       "                    cache: 'no-cache',\r\n",
       "                    mode: 'cors',\r\n",
       "                    timeout: 1000,\r\n",
       "                    headers: {\r\n",
       "                        'Content-Type': 'text/plain'\r\n",
       "                    },\r\n",
       "                    body: probingAddresses[i]\r\n",
       "                }));\r\n",
       "\r\n",
       "                if (response.status == 200) {\r\n",
       "                    return rootUrl;\r\n",
       "                }\r\n",
       "            }\r\n",
       "            catch (e) { }\r\n",
       "        }\r\n",
       "    }\r\n",
       "}\r\n",
       "\r\n",
       "function loadDotnetInteractiveApi() {\r\n",
       "    probeAddresses([\"http://192.168.56.1:1000/\", \"http://192.168.43.66:1000/\", \"http://127.0.0.1:1000/\"])\r\n",
       "        .then((root) => {\r\n",
       "        // use probing to find host url and api resources\r\n",
       "        // load interactive helpers and language services\r\n",
       "        let dotnetInteractiveRequire = require.config({\r\n",
       "        context: '11668.Microsoft.DotNet.Interactive.Http.HttpPort',\r\n",
       "                paths:\r\n",
       "            {\r\n",
       "                'dotnet-interactive': `${root}resources`\r\n",
       "                }\r\n",
       "        }) || require;\r\n",
       "\r\n",
       "            window.dotnetInteractiveRequire = dotnetInteractiveRequire;\r\n",
       "\r\n",
       "            window.configureRequireFromExtension = function(extensionName, extensionCacheBuster) {\r\n",
       "                let paths = {};\r\n",
       "                paths[extensionName] = `${root}extensions/${extensionName}/resources/`;\r\n",
       "                \r\n",
       "                let internalRequire = require.config({\r\n",
       "                    context: extensionCacheBuster,\r\n",
       "                    paths: paths,\r\n",
       "                    urlArgs: `cacheBuster=${extensionCacheBuster}`\r\n",
       "                    }) || require;\r\n",
       "\r\n",
       "                return internalRequire\r\n",
       "            };\r\n",
       "        \r\n",
       "            dotnetInteractiveRequire([\r\n",
       "                    'dotnet-interactive/dotnet-interactive'\r\n",
       "                ],\r\n",
       "                function (dotnet) {\r\n",
       "                    dotnet.init(window);\r\n",
       "                },\r\n",
       "                function (error) {\r\n",
       "                    console.log(error);\r\n",
       "                }\r\n",
       "            );\r\n",
       "        })\r\n",
       "        .catch(error => {console.log(error);});\r\n",
       "    }\r\n",
       "\r\n",
       "// ensure `require` is available globally\r\n",
       "if ((typeof(require) !==  typeof(Function)) || (typeof(require.config) !== typeof(Function))) {\r\n",
       "    let require_script = document.createElement('script');\r\n",
       "    require_script.setAttribute('src', 'https://cdnjs.cloudflare.com/ajax/libs/require.js/2.3.6/require.min.js');\r\n",
       "    require_script.setAttribute('type', 'text/javascript');\r\n",
       "    \r\n",
       "    \r\n",
       "    require_script.onload = function() {\r\n",
       "        loadDotnetInteractiveApi();\r\n",
       "    };\r\n",
       "\r\n",
       "    document.getElementsByTagName('head')[0].appendChild(require_script);\r\n",
       "}\r\n",
       "else {\r\n",
       "    loadDotnetInteractiveApi();\r\n",
       "}\r\n",
       "\r\n",
       "    </script>\r\n",
       "</div>"
      ]
     },
     "metadata": {},
     "output_type": "display_data"
    },
    {
     "data": {
      "text/plain": [
       "Installed package Microsoft.ML.DataView version 1.6.0"
      ]
     },
     "metadata": {},
     "output_type": "display_data"
    },
    {
     "data": {
      "text/plain": [
       "Installed package Microsoft.ML.LightGbm version 1.6.0"
      ]
     },
     "metadata": {},
     "output_type": "display_data"
    },
    {
     "data": {
      "text/plain": [
       "Installed package XPlot.Plotly.Interactive version 4.0.2"
      ]
     },
     "metadata": {},
     "output_type": "display_data"
    },
    {
     "data": {
      "text/plain": [
       "Installed package Daany.Stat version 1.1.0"
      ]
     },
     "metadata": {},
     "output_type": "display_data"
    },
    {
     "data": {
      "text/plain": [
       "Installed package Daany.DataFrame version 1.1.0"
      ]
     },
     "metadata": {},
     "output_type": "display_data"
    },
    {
     "data": {
      "text/plain": [
       "Installed package Microsoft.ML version 1.6.0"
      ]
     },
     "metadata": {},
     "output_type": "display_data"
    },
    {
     "data": {
      "text/plain": [
       "Installed package Daany.DataFrame.Ext version 1.1.0"
      ]
     },
     "metadata": {},
     "output_type": "display_data"
    },
    {
     "data": {
      "text/plain": [
       "Installed package Microsoft.DotNet.Interactive.Formatting version 1.0.0-beta.21506.4"
      ]
     },
     "metadata": {},
     "output_type": "display_data"
    },
    {
     "data": {
      "text/markdown": [
       "Loading extensions from `XPlot.Plotly.Interactive.dll`"
      ]
     },
     "metadata": {},
     "output_type": "display_data"
    },
    {
     "data": {
      "text/markdown": [
       "Configuring PowerShell Kernel for XPlot.Plotly integration."
      ]
     },
     "metadata": {},
     "output_type": "display_data"
    },
    {
     "data": {
      "text/markdown": [
       "Installed support for XPlot.Plotly."
      ]
     },
     "metadata": {},
     "output_type": "display_data"
    }
   ],
   "source": [
    "//ML.NET\n",
    "#r \"nuget:Microsoft.ML\"\n",
    "#r \"nuget:Microsoft.ML.LightGbm\"\n",
    "#r \"nuget:Microsoft.ML.DataView\"\n",
    "    \n",
    "\n",
    "//Install Daany.DataFrame \n",
    "//Nuget package installation\n",
    "#r \"nuget:Daany.DataFrame,1.1.0\"\n",
    "#r \"nuget:Daany.DataFrame.Ext,1.1.0\"\n",
    "#r \"nuget: Daany.Stat,1.1.0\"\n",
    "#r \"../bin/Daany.Util.dll\"\n",
    "    \n",
    "//Plot capabilities\n",
    "#r \"nuget: Microsoft.DotNet.Interactive.Formatting, 1.0.0-beta.21506.4\"\n",
    "\n",
    "//Plot capabilities\n",
    "#r \"nuget: XPlot.Plotly.Interactive,4.0.2\"\n",
    "\n",
    "using System;\n",
    "using System.Linq;\n",
    "\n",
    "//Daany data frame\n",
    "using Daany;\n",
    "using Daany.Ext;\n",
    "using Daany.Util;\n",
    "\n",
    "//Plotting functionalities\n",
    "using XPlot.Plotly;\n",
    "\n",
    "//ML.NET using\n",
    "using Microsoft.ML;\n",
    "using Microsoft.ML.Data;\n",
    "using Microsoft.ML.Trainers.LightGbm;\n",
    "\n",
    "//custom display implementation\n",
    "using static Microsoft.DotNet.Interactive.Formatting.PocketViewTags;\n",
    "using Microsoft.AspNetCore.Html;\n",
    "using Microsoft.DotNet.Interactive.Formatting;\n",
    "using static System.Diagnostics.Debug;\n",
    "using System.Globalization;"
   ]
  },
  {
   "cell_type": "code",
   "execution_count": 2,
   "id": "e7ece723",
   "metadata": {},
   "outputs": [],
   "source": [
    "Formatter.Register<DataFrame>((df, writer) =>\n",
    "{\n",
    "    var headers = new List<IHtmlContent>();\n",
    "\n",
    "    headers.Add(th(i($\"({df.Index.Name})\")));\n",
    "    headers.AddRange(df.Columns.Select(c => (IHtmlContent) th(c)));\n",
    "    \n",
    "    //renders the rows\n",
    "    var rows = new List<List<IHtmlContent>>();\n",
    "    var take = 20;\n",
    "    \n",
    "    //\n",
    "    for (var i = 0; i < Math.Min(take, df.RowCount()); i++)\n",
    "    {\n",
    "        var cells = new List<IHtmlContent>();\n",
    "        cells.Add(td(df.Index[i]));\n",
    "        foreach (var obj in df[i])\n",
    "        {\n",
    "            cells.Add(td(obj));\n",
    "        }\n",
    "        rows.Add(cells);\n",
    "    }\n",
    "    \n",
    "    var t = table(\n",
    "        thead(\n",
    "            headers),\n",
    "        tbody(\n",
    "            rows.Select(\n",
    "                r => tr(r))));\n",
    "    \n",
    "    writer.Write(t);\n",
    "}, \"text/html\");"
   ]
  },
  {
   "cell_type": "markdown",
   "id": "7e28394a",
   "metadata": {},
   "source": [
    "# Iris flower detection - ML project\n"
   ]
  },
  {
   "cell_type": "markdown",
   "id": "4037e8f3",
   "metadata": {},
   "source": [
    "\n",
    "# Introduction\n",
    "[from Wikipedia](https://en.wikipedia.org/wiki/Iris_flower_data_set)\n",
    "\n",
    "<img src=\"../img/campus02-lecture-img09.jpg\" alt=\"drawing\" height=\"200\"/>\n",
    "The Iris flower data set or `Fisher's Iris data set` is a multivariate data set introduced by the British statistician and biologist `Ronald Fisher` in his `1936` paper The use of multiple measurements in taxonomic problems as an example of linear discriminant analysis. It is sometimes called `Anderson's Iris data set` because `Edgar Anderson` collected the data to quantify the morphologic variation of Iris flowers of three related species. Two of the three species were collected in the `Gaspé Peninsula` \"all from the same pasture, and picked on the same day and measured at the same time by the same person with the same apparatus\"."
   ]
  },
  {
   "cell_type": "markdown",
   "id": "e0979eac",
   "metadata": {},
   "source": [
    "## Quick decsription of the dataset:\n",
    "\n",
    "- three types of flowers \n",
    "    - setosa\n",
    "    - verisicolor\n",
    "    - virginica\n",
    "    \n",
    "<img src=\"../img/iris-machinelearning.png\" alt=\"drawing\" width=\"600\"/>"
   ]
  },
  {
   "cell_type": "markdown",
   "id": "062163b5",
   "metadata": {},
   "source": [
    "# How flower are measured in order to generate data set"
   ]
  },
  {
   "cell_type": "markdown",
   "id": "c3b22469",
   "metadata": {},
   "source": [
    "- 4 types of measurements in centimeters\n",
    "    - sepal_width\n",
    "    - petal_width\n",
    "    - sepal_length\n",
    "    - petal_length\n",
    "  \n",
    " <img src=\"../img/campus02-lecture-img08.jpg\" alt=\"drawing\" width=\"600\"/>"
   ]
  },
  {
   "cell_type": "markdown",
   "id": "b5052880",
   "metadata": {},
   "source": [
    "# Iris data set\n",
    "\n",
    "At the end he created the data set consisting of 5 columns and 150 rows:"
   ]
  },
  {
   "cell_type": "markdown",
   "id": "4ce232f4",
   "metadata": {},
   "source": [
    "<img src=\"../img/campus02-lecture-img11.jpg\" alt=\"drawing\" width=\"600\"/>"
   ]
  },
  {
   "cell_type": "markdown",
   "id": "9c8c0e08",
   "metadata": {},
   "source": [
    "# Problem statement\n",
    "\n",
    "Build a machine learning program which can identify the iris flower based on its dimensions of the sepal and petal parts.\n",
    "\n",
    "<img src=\"../img/iris_ml_problem.png\" alt=\"drawing\" width=\"600\"/>"
   ]
  },
  {
   "cell_type": "markdown",
   "id": "db572535",
   "metadata": {},
   "source": [
    "# Procedure to build the ML program\n",
    "\n",
    "1. Identify the data set\n",
    "2. Load the data and perform analysis\n",
    "3. EDA - perform exploratory data analysis\n",
    "4. Prepare the data set for machine learning - feature engineering\n",
    "5. Define ML algorith\n",
    "6. Train the model\n",
    "7. Evaluate the model\n",
    "8. Test the model\n",
    "\n"
   ]
  },
  {
   "cell_type": "markdown",
   "id": "157f7238",
   "metadata": {},
   "source": [
    "# Loading Iris Dataset into the memory"
   ]
  },
  {
   "cell_type": "code",
   "execution_count": 5,
   "id": "c8be171b",
   "metadata": {},
   "outputs": [
    {
     "data": {
      "text/html": [
       "<table><thead><th><i>(index)</i></th><th>sepal_length</th><th>sepal_width</th><th>petal_length</th><th>petal_width</th><th>flower_type</th></thead><tbody><tr><td><div class=\"dni-plaintext\">0</div></td><td><div class=\"dni-plaintext\">5.1</div></td><td><div class=\"dni-plaintext\">3.5</div></td><td><div class=\"dni-plaintext\">1.4</div></td><td><div class=\"dni-plaintext\">0.2</div></td><td>Iris-setosa</td></tr><tr><td><div class=\"dni-plaintext\">1</div></td><td><div class=\"dni-plaintext\">4.9</div></td><td><div class=\"dni-plaintext\">3</div></td><td><div class=\"dni-plaintext\">1.4</div></td><td><div class=\"dni-plaintext\">0.2</div></td><td>Iris-setosa</td></tr><tr><td><div class=\"dni-plaintext\">2</div></td><td><div class=\"dni-plaintext\">4.7</div></td><td><div class=\"dni-plaintext\">3.2</div></td><td><div class=\"dni-plaintext\">1.3</div></td><td><div class=\"dni-plaintext\">0.2</div></td><td>Iris-setosa</td></tr><tr><td><div class=\"dni-plaintext\">3</div></td><td><div class=\"dni-plaintext\">4.6</div></td><td><div class=\"dni-plaintext\">3.1</div></td><td><div class=\"dni-plaintext\">1.5</div></td><td><div class=\"dni-plaintext\">0.2</div></td><td>Iris-setosa</td></tr><tr><td><div class=\"dni-plaintext\">4</div></td><td><div class=\"dni-plaintext\">5</div></td><td><div class=\"dni-plaintext\">3.6</div></td><td><div class=\"dni-plaintext\">1.4</div></td><td><div class=\"dni-plaintext\">0.2</div></td><td>Iris-setosa</td></tr><tr><td><div class=\"dni-plaintext\">5</div></td><td><div class=\"dni-plaintext\">5.4</div></td><td><div class=\"dni-plaintext\">3.9</div></td><td><div class=\"dni-plaintext\">1.7</div></td><td><div class=\"dni-plaintext\">0.4</div></td><td>Iris-setosa</td></tr><tr><td><div class=\"dni-plaintext\">6</div></td><td><div class=\"dni-plaintext\">4.6</div></td><td><div class=\"dni-plaintext\">3.4</div></td><td><div class=\"dni-plaintext\">1.4</div></td><td><div class=\"dni-plaintext\">0.3</div></td><td>Iris-setosa</td></tr><tr><td><div class=\"dni-plaintext\">7</div></td><td><div class=\"dni-plaintext\">5</div></td><td><div class=\"dni-plaintext\">3.4</div></td><td><div class=\"dni-plaintext\">1.5</div></td><td><div class=\"dni-plaintext\">0.2</div></td><td>Iris-setosa</td></tr><tr><td><div class=\"dni-plaintext\">8</div></td><td><div class=\"dni-plaintext\">4.4</div></td><td><div class=\"dni-plaintext\">2.9</div></td><td><div class=\"dni-plaintext\">1.4</div></td><td><div class=\"dni-plaintext\">0.2</div></td><td>Iris-setosa</td></tr><tr><td><div class=\"dni-plaintext\">9</div></td><td><div class=\"dni-plaintext\">4.9</div></td><td><div class=\"dni-plaintext\">3.1</div></td><td><div class=\"dni-plaintext\">1.5</div></td><td><div class=\"dni-plaintext\">0.1</div></td><td>Iris-setosa</td></tr><tr><td><div class=\"dni-plaintext\">10</div></td><td><div class=\"dni-plaintext\">5.4</div></td><td><div class=\"dni-plaintext\">3.7</div></td><td><div class=\"dni-plaintext\">1.5</div></td><td><div class=\"dni-plaintext\">0.2</div></td><td>Iris-setosa</td></tr><tr><td><div class=\"dni-plaintext\">11</div></td><td><div class=\"dni-plaintext\">4.8</div></td><td><div class=\"dni-plaintext\">3.4</div></td><td><div class=\"dni-plaintext\">1.6</div></td><td><div class=\"dni-plaintext\">0.2</div></td><td>Iris-setosa</td></tr><tr><td><div class=\"dni-plaintext\">12</div></td><td><div class=\"dni-plaintext\">4.8</div></td><td><div class=\"dni-plaintext\">3</div></td><td><div class=\"dni-plaintext\">1.4</div></td><td><div class=\"dni-plaintext\">0.1</div></td><td>Iris-setosa</td></tr><tr><td><div class=\"dni-plaintext\">13</div></td><td><div class=\"dni-plaintext\">4.3</div></td><td><div class=\"dni-plaintext\">3</div></td><td><div class=\"dni-plaintext\">1.1</div></td><td><div class=\"dni-plaintext\">0.1</div></td><td>Iris-setosa</td></tr><tr><td><div class=\"dni-plaintext\">14</div></td><td><div class=\"dni-plaintext\">5.8</div></td><td><div class=\"dni-plaintext\">4</div></td><td><div class=\"dni-plaintext\">1.2</div></td><td><div class=\"dni-plaintext\">0.2</div></td><td>Iris-setosa</td></tr></tbody></table>"
      ]
     },
     "execution_count": 5,
     "metadata": {},
     "output_type": "execute_result"
    }
   ],
   "source": [
    "var url = \"https://archive.ics.uci.edu/ml/machine-learning-databases/iris/iris.data\";\n",
    "\n",
    "var cols = new string[] {\"sepal_length\",\"sepal_width\", \"petal_length\", \"petal_width\", \"flower_type\"};\n",
    "\n",
    "var df = DataFrame.FromWeb(url, sep:',',names:cols);\n",
    "\n",
    "df.Head(15)"
   ]
  },
  {
   "cell_type": "markdown",
   "id": "6f9fab19",
   "metadata": {},
   "source": [
    "## EDA - Exploratory Data Analysis\n",
    "\n",
    "In this part we are going to present the analysis of Iris data set. We are going to shows graphic representation of the data. First lets see how meny types of flower ar emeasured:\n"
   ]
  },
  {
   "cell_type": "code",
   "execution_count": 6,
   "id": "b9f41efd",
   "metadata": {},
   "outputs": [
    {
     "data": {
      "text/html": [
       "<!DOCTYPE html>\r\n",
       "<div style=\"width: 900px; height: 500px;\" id=\"b8dc52f4-f646-48a1-ac70-79550dc5cdfe\"></div><script type=\"text/javascript\">\r\n",
       "\n",
       "var renderPlotly = function() {\n",
       "    var xplotRequire = require.config({context:'xplot-3.0.1',paths:{plotly:'https://cdn.plot.ly/plotly-1.49.2.min'}}) || require;\n",
       "    xplotRequire(['plotly'], function(Plotly) { \r\n",
       "\n",
       "            var data = [{\"type\":\"histogram\",\"x\":[\"Iris-setosa\",\"Iris-setosa\",\"Iris-setosa\",\"Iris-setosa\",\"Iris-setosa\",\"Iris-setosa\",\"Iris-setosa\",\"Iris-setosa\",\"Iris-setosa\",\"Iris-setosa\",\"Iris-setosa\",\"Iris-setosa\",\"Iris-setosa\",\"Iris-setosa\",\"Iris-setosa\",\"Iris-setosa\",\"Iris-setosa\",\"Iris-setosa\",\"Iris-setosa\",\"Iris-setosa\",\"Iris-setosa\",\"Iris-setosa\",\"Iris-setosa\",\"Iris-setosa\",\"Iris-setosa\",\"Iris-setosa\",\"Iris-setosa\",\"Iris-setosa\",\"Iris-setosa\",\"Iris-setosa\",\"Iris-setosa\",\"Iris-setosa\",\"Iris-setosa\",\"Iris-setosa\",\"Iris-setosa\",\"Iris-setosa\",\"Iris-setosa\",\"Iris-setosa\",\"Iris-setosa\",\"Iris-setosa\",\"Iris-setosa\",\"Iris-setosa\",\"Iris-setosa\",\"Iris-setosa\",\"Iris-setosa\",\"Iris-setosa\",\"Iris-setosa\",\"Iris-setosa\",\"Iris-setosa\",\"Iris-setosa\",\"Iris-versicolor\",\"Iris-versicolor\",\"Iris-versicolor\",\"Iris-versicolor\",\"Iris-versicolor\",\"Iris-versicolor\",\"Iris-versicolor\",\"Iris-versicolor\",\"Iris-versicolor\",\"Iris-versicolor\",\"Iris-versicolor\",\"Iris-versicolor\",\"Iris-versicolor\",\"Iris-versicolor\",\"Iris-versicolor\",\"Iris-versicolor\",\"Iris-versicolor\",\"Iris-versicolor\",\"Iris-versicolor\",\"Iris-versicolor\",\"Iris-versicolor\",\"Iris-versicolor\",\"Iris-versicolor\",\"Iris-versicolor\",\"Iris-versicolor\",\"Iris-versicolor\",\"Iris-versicolor\",\"Iris-versicolor\",\"Iris-versicolor\",\"Iris-versicolor\",\"Iris-versicolor\",\"Iris-versicolor\",\"Iris-versicolor\",\"Iris-versicolor\",\"Iris-versicolor\",\"Iris-versicolor\",\"Iris-versicolor\",\"Iris-versicolor\",\"Iris-versicolor\",\"Iris-versicolor\",\"Iris-versicolor\",\"Iris-versicolor\",\"Iris-versicolor\",\"Iris-versicolor\",\"Iris-versicolor\",\"Iris-versicolor\",\"Iris-versicolor\",\"Iris-versicolor\",\"Iris-versicolor\",\"Iris-versicolor\",\"Iris-virginica\",\"Iris-virginica\",\"Iris-virginica\",\"Iris-virginica\",\"Iris-virginica\",\"Iris-virginica\",\"Iris-virginica\",\"Iris-virginica\",\"Iris-virginica\",\"Iris-virginica\",\"Iris-virginica\",\"Iris-virginica\",\"Iris-virginica\",\"Iris-virginica\",\"Iris-virginica\",\"Iris-virginica\",\"Iris-virginica\",\"Iris-virginica\",\"Iris-virginica\",\"Iris-virginica\",\"Iris-virginica\",\"Iris-virginica\",\"Iris-virginica\",\"Iris-virginica\",\"Iris-virginica\",\"Iris-virginica\",\"Iris-virginica\",\"Iris-virginica\",\"Iris-virginica\",\"Iris-virginica\",\"Iris-virginica\",\"Iris-virginica\",\"Iris-virginica\",\"Iris-virginica\",\"Iris-virginica\",\"Iris-virginica\",\"Iris-virginica\",\"Iris-virginica\",\"Iris-virginica\",\"Iris-virginica\",\"Iris-virginica\",\"Iris-virginica\",\"Iris-virginica\",\"Iris-virginica\",\"Iris-virginica\",\"Iris-virginica\",\"Iris-virginica\",\"Iris-virginica\",\"Iris-virginica\",\"Iris-virginica\"],\"autobinx\":false,\"nbinsx\":20}];\n",
       "           var layout = {\"title\":\"Distribution of iris flower\"};\n",
       "           Plotly.newPlot('b8dc52f4-f646-48a1-ac70-79550dc5cdfe', data, layout);\n",
       "        \r\n",
       "});\n",
       "};\r\n",
       "// ensure `require` is available globally\r\n",
       "if ((typeof(require) !==  typeof(Function)) || (typeof(require.config) !== typeof(Function))) {\r\n",
       "    let require_script = document.createElement('script');\r\n",
       "    require_script.setAttribute('src', 'https://cdnjs.cloudflare.com/ajax/libs/require.js/2.3.6/require.min.js');\r\n",
       "    require_script.setAttribute('type', 'text/javascript');\r\n",
       "    \r\n",
       "    \r\n",
       "    require_script.onload = function() {\r\n",
       "        renderPlotly();\r\n",
       "    };\r\n",
       "\r\n",
       "    document.getElementsByTagName('head')[0].appendChild(require_script);\r\n",
       "}\r\n",
       "else {\r\n",
       "    renderPlotly();\r\n",
       "}\r\n",
       "\r\n",
       "</script>\r\n"
      ]
     },
     "execution_count": 6,
     "metadata": {},
     "output_type": "execute_result"
    }
   ],
   "source": [
    "//plot the data in order to see how areas are spread in the 2d plane\n",
    "//XPlot Histogram reference: http://tpetricek.github.io/XPlot/reference/xplot-plotly-graph-histogram.html\n",
    "\n",
    "var faresHistogram = Chart.Plot(new Histogram(){x = df[\"flower_type\"], autobinx = false, nbinsx = 20});\n",
    "var layout = new Layout.Layout(){title=\"Distribution of iris flower\"};\n",
    "faresHistogram.WithLayout(layout);\n",
    "faresHistogram"
   ]
  },
  {
   "cell_type": "markdown",
   "id": "1b070f47",
   "metadata": {},
   "source": [
    "## Feature Engineering\n"
   ]
  },
  {
   "cell_type": "markdown",
   "id": "feaace47",
   "metadata": {},
   "source": [
    "FE is very important in data set preparation for the ML, and here we are going to create two new columns in the dataset. \n",
    "\n",
    "The new columns will be `sepalArea` and `petalArea` area for the flower.\n",
    "\n",
    "The expression we are going to use is:\n",
    "\n",
    "\n",
    "$$\n",
    "PetalArea = petal\\_width \\cdot petal\\_length;\\\\\n",
    "SepalArea = sepal\\_width \\cdot sepal\\_length;\n",
    "$$\n",
    "\n",
    "As can be seen, the $\\LaTeX$ is fully supported in the notebook.\n",
    "\n",
    "The above formulas are implemented in the following code:"
   ]
  },
  {
   "cell_type": "code",
   "execution_count": 7,
   "id": "6bb5c9d3",
   "metadata": {},
   "outputs": [
    {
     "data": {
      "text/html": [
       "<table><thead><th><i>(index)</i></th><th>sepal_length</th><th>sepal_width</th><th>petal_length</th><th>petal_width</th><th>flower_type</th><th>SepalArea</th><th>PetalArea</th></thead><tbody><tr><td><div class=\"dni-plaintext\">0</div></td><td><div class=\"dni-plaintext\">5.1</div></td><td><div class=\"dni-plaintext\">3.5</div></td><td><div class=\"dni-plaintext\">1.4</div></td><td><div class=\"dni-plaintext\">0.2</div></td><td>Iris-setosa</td><td><div class=\"dni-plaintext\">17.85</div></td><td><div class=\"dni-plaintext\">0.28</div></td></tr><tr><td><div class=\"dni-plaintext\">1</div></td><td><div class=\"dni-plaintext\">4.9</div></td><td><div class=\"dni-plaintext\">3</div></td><td><div class=\"dni-plaintext\">1.4</div></td><td><div class=\"dni-plaintext\">0.2</div></td><td>Iris-setosa</td><td><div class=\"dni-plaintext\">14.700001</div></td><td><div class=\"dni-plaintext\">0.28</div></td></tr><tr><td><div class=\"dni-plaintext\">2</div></td><td><div class=\"dni-plaintext\">4.7</div></td><td><div class=\"dni-plaintext\">3.2</div></td><td><div class=\"dni-plaintext\">1.3</div></td><td><div class=\"dni-plaintext\">0.2</div></td><td>Iris-setosa</td><td><div class=\"dni-plaintext\">15.04</div></td><td><div class=\"dni-plaintext\">0.26</div></td></tr><tr><td><div class=\"dni-plaintext\">3</div></td><td><div class=\"dni-plaintext\">4.6</div></td><td><div class=\"dni-plaintext\">3.1</div></td><td><div class=\"dni-plaintext\">1.5</div></td><td><div class=\"dni-plaintext\">0.2</div></td><td>Iris-setosa</td><td><div class=\"dni-plaintext\">14.259999</div></td><td><div class=\"dni-plaintext\">0.3</div></td></tr><tr><td><div class=\"dni-plaintext\">4</div></td><td><div class=\"dni-plaintext\">5</div></td><td><div class=\"dni-plaintext\">3.6</div></td><td><div class=\"dni-plaintext\">1.4</div></td><td><div class=\"dni-plaintext\">0.2</div></td><td>Iris-setosa</td><td><div class=\"dni-plaintext\">18</div></td><td><div class=\"dni-plaintext\">0.28</div></td></tr></tbody></table>"
      ]
     },
     "execution_count": 7,
     "metadata": {},
     "output_type": "execute_result"
    }
   ],
   "source": [
    "//calculate two new columns into dataset\n",
    "df.AddCalculatedColumns(new string[] { \"SepalArea\", \"PetalArea\" }, \n",
    "        (r, i) =>\n",
    "        {\n",
    "            var aRow = new object[2];\n",
    "            aRow[0]=Convert.ToSingle(r[\"sepal_width\"]) * Convert.ToSingle(r[\"sepal_length\"]);\n",
    "            aRow[1] = Convert.ToSingle(r[\"petal_width\"]) * Convert.ToSingle(r[\"petal_length\"]);\n",
    "            return aRow;\n",
    "\n",
    "        });\n",
    "var featuredDf=df[\"SepalArea\",\"PetalArea\",\"flower_type\"]; \n",
    "df.Head(5)"
   ]
  },
  {
   "cell_type": "markdown",
   "id": "74a064f3",
   "metadata": {},
   "source": [
    "As can be seen, two new columns have been added to the dataset. So now we have six columns where the last two are generated from the previous columns.\n"
   ]
  },
  {
   "cell_type": "markdown",
   "id": "9863bdf6",
   "metadata": {},
   "source": [
    "Now we can visual the calculated columns so that we can see where the data are genering in the space."
   ]
  },
  {
   "cell_type": "code",
   "execution_count": 12,
   "id": "bff633d3",
   "metadata": {},
   "outputs": [
    {
     "data": {
      "text/html": [
       "<!DOCTYPE html>\r\n",
       "<div style=\"width: 800px; height: 400px;\" id=\"e802176c-d999-4413-a426-db5c271ea095\"></div><script type=\"text/javascript\">\r\n",
       "\n",
       "var renderPlotly = function() {\n",
       "    var xplotRequire = require.config({context:'xplot-3.0.1',paths:{plotly:'https://cdn.plot.ly/plotly-1.49.2.min'}}) || require;\n",
       "    xplotRequire(['plotly'], function(Plotly) { \r\n",
       "\n",
       "            var data = [{\"type\":\"scatter\",\"x\":[20.79,15.660001,21.3,18.27,19.5,22.8,12.25,21.170002,16.75,25.919998,20.800001,17.28,20.400002,14.25,16.24,20.480001,19.5,29.259998,20.019999,13.200001,22.08,15.679999,21.56,17.01,22.109999,23.039999,17.359999,18.3,17.92,21.599998,20.72,30.02,17.92,17.64,15.859999,23.099998,21.420002,19.84,18.0,21.39,20.769999,21.39,15.660001,21.76,22.109999,20.099998,15.75,19.5,21.08,17.7],\"y\":[15.0,9.69,12.389999,10.08,12.76,13.859999,7.65,11.34,10.440001,15.25,10.2,10.070001,11.549999,10.0,12.240001,12.190001,9.9,14.74,15.87,7.5,13.11,9.8,13.4,8.82,11.969999,10.799999,8.64,8.82,11.759999,9.280001,11.589999,12.8,12.32,7.6499996,7.8399997,14.03,13.440001,9.9,8.64,11.34,13.440001,11.73,9.69,13.57,14.25,11.959999,9.5,10.4,12.42,9.179999],\"mode\":\"markers\",\"marker\":{\"color\":2,\"colorscale\":\"Jet\"},\"name\":\"Iris-virginica\"},{\"type\":\"scatter\",\"x\":[22.4,20.480001,21.39,12.65,18.199999,15.959999,20.79,11.76,19.140001,14.04,10.0,17.7,13.200001,17.69,16.24,20.769999,16.8,15.660001,13.64,14.0,18.880001,17.08,15.75,17.08,18.560001,19.8,19.04,20.099998,17.400002,14.819999,13.200001,13.200001,15.660001,16.2,16.2,20.400002,20.769999,14.49,16.8,13.75,14.299999,18.3,15.08,11.5,15.12,17.099998,16.53,17.98,12.75,15.959999],\"y\":[6.5799994,6.75,7.3500004,5.2,6.8999996,5.85,7.52,3.3,5.9799995,5.46,3.5,6.2999997,4.0,6.5799994,4.68,6.16,6.75,4.1,6.75,4.29,8.64,5.2,7.3500004,5.64,5.59,6.16,6.7200003,8.5,6.75,3.5,4.18,3.7,4.6800003,8.16,6.75,7.2000003,7.0499997,5.72,5.3299994,5.2,5.28,6.4399996,4.8,3.3,5.4599996,5.04,5.4599996,5.59,3.3000002,5.3299994],\"mode\":\"markers\",\"marker\":{\"color\":2,\"colorscale\":\"Jet\"},\"name\":\"Iris-versicolor\"},{\"type\":\"scatter\",\"x\":[17.85,14.700001,15.04,14.259999,18.0,21.060001,15.64,17.0,12.76,15.19,19.980001,16.320002,14.400001,12.900001,23.2,25.08,21.060001,17.85,21.66,19.38,18.36,18.87,16.56,16.83,16.320002,15.0,17.0,18.199999,17.68,15.04,14.88,18.36,21.319998,23.099998,15.19,16.0,19.25,15.19,13.200001,17.34,17.5,10.349999,14.080001,17.5,19.38,14.400001,19.38,14.72,19.61,16.5],\"y\":[0.28,0.28,0.26,0.3,0.28,0.68,0.42000002,0.3,0.28,0.15,0.3,0.32000002,0.14,0.11000001,0.24000001,0.6,0.52,0.42000002,0.51000005,0.45000002,0.34,0.6,0.2,0.85,0.38,0.32000002,0.64000005,0.3,0.28,0.32000002,0.32000002,0.6,0.15,0.28,0.15,0.24000001,0.26,0.15,0.26,0.3,0.39000002,0.39000002,0.26,0.96000004,0.76,0.42000002,0.32000002,0.28,0.3,0.28],\"mode\":\"markers\",\"marker\":{\"color\":3,\"colorscale\":\"Jet\"},\"name\":\"Iris-setosa\"}];\n",
       "           var layout = {\"title\":\"Plot Sepal vs. Petal Area & color scale on flower type\",\"showlegend\":true,\"xaxis\":{\"title\":\"Sepal Area\",\"_isSubplotObj\":true},\"yaxis\":{\"title\":\"Petal Area\",\"_isSubplotObj\":true}};\n",
       "           Plotly.newPlot('e802176c-d999-4413-a426-db5c271ea095', data, layout);\n",
       "        \r\n",
       "});\n",
       "};\r\n",
       "// ensure `require` is available globally\r\n",
       "if ((typeof(require) !==  typeof(Function)) || (typeof(require.config) !== typeof(Function))) {\r\n",
       "    let require_script = document.createElement('script');\r\n",
       "    require_script.setAttribute('src', 'https://cdnjs.cloudflare.com/ajax/libs/require.js/2.3.6/require.min.js');\r\n",
       "    require_script.setAttribute('type', 'text/javascript');\r\n",
       "    \r\n",
       "    \r\n",
       "    require_script.onload = function() {\r\n",
       "        renderPlotly();\r\n",
       "    };\r\n",
       "\r\n",
       "    document.getElementsByTagName('head')[0].appendChild(require_script);\r\n",
       "}\r\n",
       "else {\r\n",
       "    renderPlotly();\r\n",
       "}\r\n",
       "\r\n",
       "</script>\r\n"
      ]
     },
     "execution_count": 12,
     "metadata": {},
     "output_type": "execute_result"
    }
   ],
   "source": [
    "// Plot Sepal vs. Petal area with flower type\n",
    "var chart = Chart.Plot(\n",
    "                new Scatter[] {\n",
    "                    new Scatter\n",
    "                    {\n",
    "                        x = df.Filter(\"flower_type\",\"Iris-virginica\", FilterOperator.Equal)[\"SepalArea\"],\n",
    "                        y = df.Filter(\"flower_type\",\"Iris-virginica\", FilterOperator.Equal)[\"PetalArea\"],\n",
    "                        mode = \"markers\",name=\"Iris-virginica\",\n",
    "                        marker = new Marker(){color=2, colorscale = \"Jet\"}\n",
    "                    },\n",
    "                    new Scatter\n",
    "                    {\n",
    "                        x = df.Filter(\"flower_type\",\"Iris-versicolor\", FilterOperator.Equal)[\"SepalArea\"],\n",
    "                        y = df.Filter(\"flower_type\",\"Iris-versicolor\", FilterOperator.Equal)[\"PetalArea\"],\n",
    "                        mode = \"markers\",name=\"Iris-versicolor\",\n",
    "                        marker = new Marker(){color=2, colorscale = \"Jet\"}\n",
    "                    },\n",
    "                    new Scatter\n",
    "                    {\n",
    "                        x = df.Filter(\"flower_type\",\"Iris-setosa\", FilterOperator.Equal)[\"SepalArea\"],\n",
    "                        y = df.Filter(\"flower_type\",\"Iris-setosa\", FilterOperator.Equal)[\"PetalArea\"],\n",
    "                        mode = \"markers\",name=\"Iris-setosa\",\n",
    "                        marker = new Marker(){ color=3, colorscale = \"Jet\"}\n",
    "                    },\n",
    "                }\n",
    "            );\n",
    "\n",
    "var layout = new Layout.Layout(){title=\"Plot Sepal vs. Petal Area & color scale on flower type\"};\n",
    "chart.WithLayout(layout);\n",
    "chart.WithLegend(true);\n",
    "chart.WithXTitle(\"Sepal Area\");\n",
    "chart.WithYTitle(\"Petal Area\");\n",
    "chart.Width = 800;\n",
    "chart.Height = 400;\n",
    "chart"
   ]
  },
  {
   "cell_type": "markdown",
   "id": "6125a244",
   "metadata": {},
   "source": [
    "From the graph above, we can see that we clearly separated the flower types in the plane. \n",
    "\n",
    "The data frame has two new columns. They indicate the areas for the flower. In order to see basic statistics parameters for each of the defined columns, first we are going to group the data by flower_type adn then shows the description for each group."
   ]
  },
  {
   "cell_type": "code",
   "execution_count": 13,
   "id": "401fe3bd",
   "metadata": {},
   "outputs": [
    {
     "data": {
      "text/plain": [
       "Total data set"
      ]
     },
     "metadata": {},
     "output_type": "display_data"
    },
    {
     "data": {
      "text/html": [
       "<table><thead><th><i>(index)</i></th><th>sepal_length</th><th>sepal_width</th><th>petal_length</th><th>petal_width</th><th>SepalArea</th><th>PetalArea</th></thead><tbody><tr><td>Count</td><td><div class=\"dni-plaintext\">150</div></td><td><div class=\"dni-plaintext\">150</div></td><td><div class=\"dni-plaintext\">150</div></td><td><div class=\"dni-plaintext\">150</div></td><td><div class=\"dni-plaintext\">150</div></td><td><div class=\"dni-plaintext\">150</div></td></tr><tr><td>Unique</td><td><div class=\"dni-plaintext\">35</div></td><td><div class=\"dni-plaintext\">23</div></td><td><div class=\"dni-plaintext\">43</div></td><td><div class=\"dni-plaintext\">22</div></td><td><div class=\"dni-plaintext\">108</div></td><td><div class=\"dni-plaintext\">101</div></td></tr><tr><td>Top</td><td><div class=\"dni-plaintext\">5</div></td><td><div class=\"dni-plaintext\">3</div></td><td><div class=\"dni-plaintext\">1.5</div></td><td><div class=\"dni-plaintext\">0.2</div></td><td><div class=\"dni-plaintext\">13.200001</div></td><td><div class=\"dni-plaintext\">0.28</div></td></tr><tr><td>Freq</td><td><div class=\"dni-plaintext\">10</div></td><td><div class=\"dni-plaintext\">26</div></td><td><div class=\"dni-plaintext\">14</div></td><td><div class=\"dni-plaintext\">28</div></td><td><div class=\"dni-plaintext\">5</div></td><td><div class=\"dni-plaintext\">8</div></td></tr><tr><td>Mean</td><td><div class=\"dni-plaintext\">5.843333</div></td><td><div class=\"dni-plaintext\">3.054</div></td><td><div class=\"dni-plaintext\">3.758667</div></td><td><div class=\"dni-plaintext\">1.198667</div></td><td><div class=\"dni-plaintext\">17.806534</div></td><td><div class=\"dni-plaintext\">5.793133</div></td></tr><tr><td>Std</td><td><div class=\"dni-plaintext\">0.828066</div></td><td><div class=\"dni-plaintext\">0.433594</div></td><td><div class=\"dni-plaintext\">1.76442</div></td><td><div class=\"dni-plaintext\">0.763161</div></td><td><div class=\"dni-plaintext\">3.368692</div></td><td><div class=\"dni-plaintext\">4.713499</div></td></tr><tr><td>Min</td><td><div class=\"dni-plaintext\">4.3</div></td><td><div class=\"dni-plaintext\">2</div></td><td><div class=\"dni-plaintext\">1</div></td><td><div class=\"dni-plaintext\">0.1</div></td><td><div class=\"dni-plaintext\">10</div></td><td><div class=\"dni-plaintext\">0.11</div></td></tr><tr><td>25%</td><td><div class=\"dni-plaintext\">5.1</div></td><td><div class=\"dni-plaintext\">2.8</div></td><td><div class=\"dni-plaintext\">1.6</div></td><td><div class=\"dni-plaintext\">0.3</div></td><td><div class=\"dni-plaintext\">15.645</div></td><td><div class=\"dni-plaintext\">0.42</div></td></tr><tr><td>Median</td><td><div class=\"dni-plaintext\">5.8</div></td><td><div class=\"dni-plaintext\">3</div></td><td><div class=\"dni-plaintext\">4.35</div></td><td><div class=\"dni-plaintext\">1.3</div></td><td><div class=\"dni-plaintext\">17.66</div></td><td><div class=\"dni-plaintext\">5.615</div></td></tr><tr><td>75%</td><td><div class=\"dni-plaintext\">6.4</div></td><td><div class=\"dni-plaintext\">3.3</div></td><td><div class=\"dni-plaintext\">5.1</div></td><td><div class=\"dni-plaintext\">1.8</div></td><td><div class=\"dni-plaintext\">20.325001</div></td><td><div class=\"dni-plaintext\">9.69</div></td></tr><tr><td>Max</td><td><div class=\"dni-plaintext\">7.9</div></td><td><div class=\"dni-plaintext\">4.4</div></td><td><div class=\"dni-plaintext\">6.9</div></td><td><div class=\"dni-plaintext\">2.5</div></td><td><div class=\"dni-plaintext\">30.02</div></td><td><div class=\"dni-plaintext\">15.87</div></td></tr></tbody></table>"
      ]
     },
     "metadata": {},
     "output_type": "display_data"
    },
    {
     "data": {
      "text/plain": [
       "**********************************************"
      ]
     },
     "metadata": {},
     "output_type": "display_data"
    },
    {
     "data": {
      "text/plain": [
       "Iris-setosa"
      ]
     },
     "metadata": {},
     "output_type": "display_data"
    },
    {
     "data": {
      "text/html": [
       "<table><thead><th><i>(index)</i></th><th>sepal_length</th><th>sepal_width</th><th>petal_length</th><th>petal_width</th><th>flower_type</th><th>SepalArea</th><th>PetalArea</th></thead><tbody><tr><td>Count</td><td><div class=\"dni-plaintext\">50</div></td><td><div class=\"dni-plaintext\">50</div></td><td><div class=\"dni-plaintext\">50</div></td><td><div class=\"dni-plaintext\">50</div></td><td><div class=\"dni-plaintext\">50</div></td><td><div class=\"dni-plaintext\">50</div></td><td><div class=\"dni-plaintext\">50</div></td></tr><tr><td>Unique</td><td><div class=\"dni-plaintext\">15</div></td><td><div class=\"dni-plaintext\">16</div></td><td><div class=\"dni-plaintext\">9</div></td><td><div class=\"dni-plaintext\">6</div></td><td><div class=\"dni-plaintext\">1</div></td><td><div class=\"dni-plaintext\">38</div></td><td><div class=\"dni-plaintext\">22</div></td></tr><tr><td>Top</td><td><div class=\"dni-plaintext\">5.1</div></td><td><div class=\"dni-plaintext\">3.4</div></td><td><div class=\"dni-plaintext\">1.5</div></td><td><div class=\"dni-plaintext\">0.2</div></td><td>Iris-setosa</td><td><div class=\"dni-plaintext\">15.19</div></td><td><div class=\"dni-plaintext\">0.28</div></td></tr><tr><td>Freq</td><td><div class=\"dni-plaintext\">8</div></td><td><div class=\"dni-plaintext\">9</div></td><td><div class=\"dni-plaintext\">14</div></td><td><div class=\"dni-plaintext\">28</div></td><td><div class=\"dni-plaintext\">50</div></td><td><div class=\"dni-plaintext\">3</div></td><td><div class=\"dni-plaintext\">8</div></td></tr><tr><td>Mean</td><td><div class=\"dni-plaintext\">5.006</div></td><td><div class=\"dni-plaintext\">3.418</div></td><td><div class=\"dni-plaintext\">1.464</div></td><td><div class=\"dni-plaintext\">0.244</div></td><td><div class=\"dni-plaintext\">&lt;null&gt;</div></td><td><div class=\"dni-plaintext\">17.208799</div></td><td><div class=\"dni-plaintext\">0.3628</div></td></tr><tr><td>Std</td><td><div class=\"dni-plaintext\">0.35249</div></td><td><div class=\"dni-plaintext\">0.381024</div></td><td><div class=\"dni-plaintext\">0.173511</div></td><td><div class=\"dni-plaintext\">0.10721</div></td><td><div class=\"dni-plaintext\">&lt;null&gt;</div></td><td><div class=\"dni-plaintext\">2.947688</div></td><td><div class=\"dni-plaintext\">0.183248</div></td></tr><tr><td>Min</td><td><div class=\"dni-plaintext\">4.3</div></td><td><div class=\"dni-plaintext\">2.3</div></td><td><div class=\"dni-plaintext\">1</div></td><td><div class=\"dni-plaintext\">0.1</div></td><td><div class=\"dni-plaintext\">&lt;null&gt;</div></td><td><div class=\"dni-plaintext\">10.349999</div></td><td><div class=\"dni-plaintext\">0.11</div></td></tr><tr><td>25%</td><td><div class=\"dni-plaintext\">4.8</div></td><td><div class=\"dni-plaintext\">3.125</div></td><td><div class=\"dni-plaintext\">1.4</div></td><td><div class=\"dni-plaintext\">0.2</div></td><td><div class=\"dni-plaintext\">&lt;null&gt;</div></td><td><div class=\"dni-plaintext\">15.04</div></td><td><div class=\"dni-plaintext\">0.265</div></td></tr><tr><td>Median</td><td><div class=\"dni-plaintext\">5</div></td><td><div class=\"dni-plaintext\">3.4</div></td><td><div class=\"dni-plaintext\">1.5</div></td><td><div class=\"dni-plaintext\">0.2</div></td><td><div class=\"dni-plaintext\">&lt;null&gt;</div></td><td><div class=\"dni-plaintext\">17</div></td><td><div class=\"dni-plaintext\">0.3</div></td></tr><tr><td>75%</td><td><div class=\"dni-plaintext\">5.2</div></td><td><div class=\"dni-plaintext\">3.675</div></td><td><div class=\"dni-plaintext\">1.575</div></td><td><div class=\"dni-plaintext\">0.3</div></td><td><div class=\"dni-plaintext\">&lt;null&gt;</div></td><td><div class=\"dni-plaintext\">19.155</div></td><td><div class=\"dni-plaintext\">0.42</div></td></tr><tr><td>Max</td><td><div class=\"dni-plaintext\">5.8</div></td><td><div class=\"dni-plaintext\">4.4</div></td><td><div class=\"dni-plaintext\">1.9</div></td><td><div class=\"dni-plaintext\">0.6</div></td><td><div class=\"dni-plaintext\">&lt;null&gt;</div></td><td><div class=\"dni-plaintext\">25.08</div></td><td><div class=\"dni-plaintext\">0.96</div></td></tr></tbody></table>"
      ]
     },
     "metadata": {},
     "output_type": "display_data"
    },
    {
     "data": {
      "text/plain": [
       "**********************************************"
      ]
     },
     "metadata": {},
     "output_type": "display_data"
    },
    {
     "data": {
      "text/plain": [
       "Iris-versicolor"
      ]
     },
     "metadata": {},
     "output_type": "display_data"
    },
    {
     "data": {
      "text/html": [
       "<table><thead><th><i>(index)</i></th><th>sepal_length</th><th>sepal_width</th><th>petal_length</th><th>petal_width</th><th>flower_type</th><th>SepalArea</th><th>PetalArea</th></thead><tbody><tr><td>Count</td><td><div class=\"dni-plaintext\">50</div></td><td><div class=\"dni-plaintext\">50</div></td><td><div class=\"dni-plaintext\">50</div></td><td><div class=\"dni-plaintext\">50</div></td><td><div class=\"dni-plaintext\">50</div></td><td><div class=\"dni-plaintext\">50</div></td><td><div class=\"dni-plaintext\">50</div></td></tr><tr><td>Unique</td><td><div class=\"dni-plaintext\">21</div></td><td><div class=\"dni-plaintext\">14</div></td><td><div class=\"dni-plaintext\">19</div></td><td><div class=\"dni-plaintext\">9</div></td><td><div class=\"dni-plaintext\">1</div></td><td><div class=\"dni-plaintext\">42</div></td><td><div class=\"dni-plaintext\">36</div></td></tr><tr><td>Top</td><td><div class=\"dni-plaintext\">5.5</div></td><td><div class=\"dni-plaintext\">3</div></td><td><div class=\"dni-plaintext\">4.5</div></td><td><div class=\"dni-plaintext\">1.3</div></td><td>Iris-versicolor</td><td><div class=\"dni-plaintext\">13.200001</div></td><td><div class=\"dni-plaintext\">6.75</div></td></tr><tr><td>Freq</td><td><div class=\"dni-plaintext\">5</div></td><td><div class=\"dni-plaintext\">8</div></td><td><div class=\"dni-plaintext\">7</div></td><td><div class=\"dni-plaintext\">13</div></td><td><div class=\"dni-plaintext\">50</div></td><td><div class=\"dni-plaintext\">3</div></td><td><div class=\"dni-plaintext\">5</div></td></tr><tr><td>Mean</td><td><div class=\"dni-plaintext\">5.936</div></td><td><div class=\"dni-plaintext\">2.77</div></td><td><div class=\"dni-plaintext\">4.26</div></td><td><div class=\"dni-plaintext\">1.326</div></td><td><div class=\"dni-plaintext\">&lt;null&gt;</div></td><td><div class=\"dni-plaintext\">16.526199</div></td><td><div class=\"dni-plaintext\">5.7204</div></td></tr><tr><td>Std</td><td><div class=\"dni-plaintext\">0.516171</div></td><td><div class=\"dni-plaintext\">0.313798</div></td><td><div class=\"dni-plaintext\">0.469911</div></td><td><div class=\"dni-plaintext\">0.197753</div></td><td><div class=\"dni-plaintext\">&lt;null&gt;</div></td><td><div class=\"dni-plaintext\">2.866882</div></td><td><div class=\"dni-plaintext\">1.368403</div></td></tr><tr><td>Min</td><td><div class=\"dni-plaintext\">4.9</div></td><td><div class=\"dni-plaintext\">2</div></td><td><div class=\"dni-plaintext\">3</div></td><td><div class=\"dni-plaintext\">1</div></td><td><div class=\"dni-plaintext\">&lt;null&gt;</div></td><td><div class=\"dni-plaintext\">10</div></td><td><div class=\"dni-plaintext\">3.3</div></td></tr><tr><td>25%</td><td><div class=\"dni-plaintext\">5.6</div></td><td><div class=\"dni-plaintext\">2.525</div></td><td><div class=\"dni-plaintext\">4</div></td><td><div class=\"dni-plaintext\">1.2</div></td><td><div class=\"dni-plaintext\">&lt;null&gt;</div></td><td><div class=\"dni-plaintext\">14.347499</div></td><td><div class=\"dni-plaintext\">4.86</div></td></tr><tr><td>Median</td><td><div class=\"dni-plaintext\">5.9</div></td><td><div class=\"dni-plaintext\">2.8</div></td><td><div class=\"dni-plaintext\">4.35</div></td><td><div class=\"dni-plaintext\">1.3</div></td><td><div class=\"dni-plaintext\">&lt;null&gt;</div></td><td><div class=\"dni-plaintext\">16.385</div></td><td><div class=\"dni-plaintext\">5.615</div></td></tr><tr><td>75%</td><td><div class=\"dni-plaintext\">6.3</div></td><td><div class=\"dni-plaintext\">3</div></td><td><div class=\"dni-plaintext\">4.6</div></td><td><div class=\"dni-plaintext\">1.5</div></td><td><div class=\"dni-plaintext\">&lt;null&gt;</div></td><td><div class=\"dni-plaintext\">18.495001</div></td><td><div class=\"dni-plaintext\">6.75</div></td></tr><tr><td>Max</td><td><div class=\"dni-plaintext\">7</div></td><td><div class=\"dni-plaintext\">3.4</div></td><td><div class=\"dni-plaintext\">5.1</div></td><td><div class=\"dni-plaintext\">1.8</div></td><td><div class=\"dni-plaintext\">&lt;null&gt;</div></td><td><div class=\"dni-plaintext\">22.4</div></td><td><div class=\"dni-plaintext\">8.64</div></td></tr></tbody></table>"
      ]
     },
     "metadata": {},
     "output_type": "display_data"
    },
    {
     "data": {
      "text/plain": [
       "**********************************************"
      ]
     },
     "metadata": {},
     "output_type": "display_data"
    },
    {
     "data": {
      "text/plain": [
       "Iris-virginica"
      ]
     },
     "metadata": {},
     "output_type": "display_data"
    },
    {
     "data": {
      "text/html": [
       "<table><thead><th><i>(index)</i></th><th>sepal_length</th><th>sepal_width</th><th>petal_length</th><th>petal_width</th><th>flower_type</th><th>SepalArea</th><th>PetalArea</th></thead><tbody><tr><td>Count</td><td><div class=\"dni-plaintext\">50</div></td><td><div class=\"dni-plaintext\">50</div></td><td><div class=\"dni-plaintext\">50</div></td><td><div class=\"dni-plaintext\">50</div></td><td><div class=\"dni-plaintext\">50</div></td><td><div class=\"dni-plaintext\">50</div></td><td><div class=\"dni-plaintext\">50</div></td></tr><tr><td>Unique</td><td><div class=\"dni-plaintext\">21</div></td><td><div class=\"dni-plaintext\">13</div></td><td><div class=\"dni-plaintext\">20</div></td><td><div class=\"dni-plaintext\">12</div></td><td><div class=\"dni-plaintext\">1</div></td><td><div class=\"dni-plaintext\">44</div></td><td><div class=\"dni-plaintext\">44</div></td></tr><tr><td>Top</td><td><div class=\"dni-plaintext\">6.3</div></td><td><div class=\"dni-plaintext\">3</div></td><td><div class=\"dni-plaintext\">5.1</div></td><td><div class=\"dni-plaintext\">1.8</div></td><td>Iris-virginica</td><td><div class=\"dni-plaintext\">19.5</div></td><td><div class=\"dni-plaintext\">9.69</div></td></tr><tr><td>Freq</td><td><div class=\"dni-plaintext\">6</div></td><td><div class=\"dni-plaintext\">12</div></td><td><div class=\"dni-plaintext\">7</div></td><td><div class=\"dni-plaintext\">11</div></td><td><div class=\"dni-plaintext\">50</div></td><td><div class=\"dni-plaintext\">3</div></td><td><div class=\"dni-plaintext\">2</div></td></tr><tr><td>Mean</td><td><div class=\"dni-plaintext\">6.588</div></td><td><div class=\"dni-plaintext\">2.974</div></td><td><div class=\"dni-plaintext\">5.552</div></td><td><div class=\"dni-plaintext\">2.026</div></td><td><div class=\"dni-plaintext\">&lt;null&gt;</div></td><td><div class=\"dni-plaintext\">19.684599</div></td><td><div class=\"dni-plaintext\">11.2962</div></td></tr><tr><td>Std</td><td><div class=\"dni-plaintext\">0.63588</div></td><td><div class=\"dni-plaintext\">0.322497</div></td><td><div class=\"dni-plaintext\">0.551895</div></td><td><div class=\"dni-plaintext\">0.27465</div></td><td><div class=\"dni-plaintext\">&lt;null&gt;</div></td><td><div class=\"dni-plaintext\">3.458783</div></td><td><div class=\"dni-plaintext\">2.157412</div></td></tr><tr><td>Min</td><td><div class=\"dni-plaintext\">4.9</div></td><td><div class=\"dni-plaintext\">2.2</div></td><td><div class=\"dni-plaintext\">4.5</div></td><td><div class=\"dni-plaintext\">1.4</div></td><td><div class=\"dni-plaintext\">&lt;null&gt;</div></td><td><div class=\"dni-plaintext\">12.25</div></td><td><div class=\"dni-plaintext\">7.5</div></td></tr><tr><td>25%</td><td><div class=\"dni-plaintext\">6.225</div></td><td><div class=\"dni-plaintext\">2.8</div></td><td><div class=\"dni-plaintext\">5.1</div></td><td><div class=\"dni-plaintext\">1.8</div></td><td><div class=\"dni-plaintext\">&lt;null&gt;</div></td><td><div class=\"dni-plaintext\">17.429999</div></td><td><div class=\"dni-plaintext\">9.7175</div></td></tr><tr><td>Median</td><td><div class=\"dni-plaintext\">6.5</div></td><td><div class=\"dni-plaintext\">3</div></td><td><div class=\"dni-plaintext\">5.55</div></td><td><div class=\"dni-plaintext\">2</div></td><td><div class=\"dni-plaintext\">&lt;null&gt;</div></td><td><div class=\"dni-plaintext\">20.059998</div></td><td><div class=\"dni-plaintext\">11.445</div></td></tr><tr><td>75%</td><td><div class=\"dni-plaintext\">6.9</div></td><td><div class=\"dni-plaintext\">3.175</div></td><td><div class=\"dni-plaintext\">5.875</div></td><td><div class=\"dni-plaintext\">2.3</div></td><td><div class=\"dni-plaintext\">&lt;null&gt;</div></td><td><div class=\"dni-plaintext\">21.412501</div></td><td><div class=\"dni-plaintext\">12.79</div></td></tr><tr><td>Max</td><td><div class=\"dni-plaintext\">7.9</div></td><td><div class=\"dni-plaintext\">3.8</div></td><td><div class=\"dni-plaintext\">6.9</div></td><td><div class=\"dni-plaintext\">2.5</div></td><td><div class=\"dni-plaintext\">&lt;null&gt;</div></td><td><div class=\"dni-plaintext\">30.02</div></td><td><div class=\"dni-plaintext\">15.87</div></td></tr></tbody></table>"
      ]
     },
     "metadata": {},
     "output_type": "display_data"
    },
    {
     "data": {
      "text/plain": [
       "**********************************************"
      ]
     },
     "metadata": {},
     "output_type": "display_data"
    }
   ],
   "source": [
    "display(\"Total data set\");\n",
    "display(df.Describe());\n",
    "display(\"**********************************************\");\n",
    "//see descriptive stats of the final ds\n",
    "var groups = df.GroupBy(\"flower_type\");\n",
    "foreach(var g in groups.Group)\n",
    "{\n",
    "   var s =  g.Value.Describe(false);\n",
    "   display(g.Key);\n",
    "   display(s);\n",
    "   display(\"**********************************************\");\n",
    "   \n",
    "}"
   ]
  },
  {
   "cell_type": "markdown",
   "id": "aa6f210a",
   "metadata": {},
   "source": [
    "As can be seen the total dataset shows as that the maximum petal area at virginica, and the minimumn petal area at setosa. However for sepal area we cannot conclude much because arease are very close to each other. "
   ]
  },
  {
   "cell_type": "markdown",
   "id": "45963d29",
   "metadata": {},
   "source": [
    "# Preparation data set for the Machine Learning"
   ]
  },
  {
   "cell_type": "markdown",
   "id": "5d44d26c",
   "metadata": {},
   "source": [
    "Once we finished with data transformation and visualization we can define the final data frame before machine learning application. To end this we are going to select only two columns for features and one label column which will be flower type."
   ]
  },
  {
   "cell_type": "code",
   "execution_count": 14,
   "id": "419c8059",
   "metadata": {},
   "outputs": [
    {
     "data": {
      "text/html": [
       "<table><thead><th><i>(index)</i></th><th>SepalArea</th><th>PetalArea</th><th>flower_type</th></thead><tbody><tr><td><div class=\"dni-plaintext\">0</div></td><td><div class=\"dni-plaintext\">17.85</div></td><td><div class=\"dni-plaintext\">0.28</div></td><td>Iris-setosa</td></tr><tr><td><div class=\"dni-plaintext\">1</div></td><td><div class=\"dni-plaintext\">14.700001</div></td><td><div class=\"dni-plaintext\">0.28</div></td><td>Iris-setosa</td></tr><tr><td><div class=\"dni-plaintext\">2</div></td><td><div class=\"dni-plaintext\">15.04</div></td><td><div class=\"dni-plaintext\">0.26</div></td><td>Iris-setosa</td></tr><tr><td><div class=\"dni-plaintext\">3</div></td><td><div class=\"dni-plaintext\">14.259999</div></td><td><div class=\"dni-plaintext\">0.3</div></td><td>Iris-setosa</td></tr><tr><td><div class=\"dni-plaintext\">4</div></td><td><div class=\"dni-plaintext\">18</div></td><td><div class=\"dni-plaintext\">0.28</div></td><td>Iris-setosa</td></tr></tbody></table>"
      ]
     },
     "execution_count": 14,
     "metadata": {},
     "output_type": "execute_result"
    }
   ],
   "source": [
    "//create new data-frame by selecting only three columns\n",
    "var derivedDF = df[\"SepalArea\",\"PetalArea\",\"flower_type\"];\n",
    "derivedDF.Head(5)"
   ]
  },
  {
   "cell_type": "markdown",
   "id": "75b327c2",
   "metadata": {},
   "source": [
    "Since we are going to use ML.NET, we need to declare `Iris` class which holds the properties we are going to use in the machine learning."
   ]
  },
  {
   "cell_type": "code",
   "execution_count": 15,
   "id": "ea60debc",
   "metadata": {},
   "outputs": [],
   "source": [
    "//Define a Iris class for machine learning.\n",
    "class Iris\n",
    "{\n",
    "    public float PetalArea { get; set; }\n",
    "    public float SepalArea { get; set; }\n",
    "    public string Species { get; set; }\n",
    "}\n",
    "//Create ML COntext\n",
    "MLContext mlContext = new MLContext(seed:2019);"
   ]
  },
  {
   "cell_type": "code",
   "execution_count": 16,
   "id": "bf1decc8",
   "metadata": {},
   "outputs": [],
   "source": [
    "//Load Data Frame into Ml.NET data pipeline\n",
    "IDataView dataView = mlContext.Data.LoadFromEnumerable<Iris>(derivedDF.GetEnumerator<Iris>((oRow) =>\n",
    "{\n",
    "    //convert row object array into Iris row\n",
    "\n",
    "    var prRow = new Iris();\n",
    "    prRow.SepalArea = Convert.ToSingle(oRow[\"SepalArea\"]);\n",
    "    prRow.PetalArea = Convert.ToSingle(oRow[\"PetalArea\"]);\n",
    "    prRow.Species = Convert.ToString(oRow[\"flower_type\"]);\n",
    "    //\n",
    "    return prRow;\n",
    "}));"
   ]
  },
  {
   "cell_type": "markdown",
   "id": "f085cf31",
   "metadata": {},
   "source": [
    "Once we have data, we can split it into `train` and `test` sets:"
   ]
  },
  {
   "cell_type": "code",
   "execution_count": 17,
   "id": "c8cfe351",
   "metadata": {},
   "outputs": [],
   "source": [
    "//Split dataset in two parts: TrainingDataset (80%) and TestDataset (20%)\n",
    "var trainTestData = mlContext.Data.TrainTestSplit(dataView, testFraction: 0.2);\n",
    "var trainData = trainTestData.TrainSet;\n",
    "var testData = trainTestData.TestSet;"
   ]
  },
  {
   "cell_type": "code",
   "execution_count": 18,
   "id": "0fe950a3",
   "metadata": {},
   "outputs": [
    {
     "name": "stderr",
     "output_type": "stream",
     "text": [
      "\r\n",
      "(2,20): warning CS1701: Assuming assembly reference 'Microsoft.AspNetCore.Html.Abstractions, Version=2.2.0.0, Culture=neutral, PublicKeyToken=adb9793829ddae60' used by 'Microsoft.DotNet.Interactive.Formatting' matches identity 'Microsoft.AspNetCore.Html.Abstractions, Version=5.0.0.0, Culture=neutral, PublicKeyToken=adb9793829ddae60' of 'Microsoft.AspNetCore.Html.Abstractions', you may need to supply runtime policy\r\n",
      "\r\n"
     ]
    }
   ],
   "source": [
    "//one encoding output category column by defining KeyValues for each category\n",
    "var dataPipeline = mlContext.Transforms\n",
    ".Concatenate(\"Features\",nameof(Iris.SepalArea), nameof(Iris.PetalArea))\n",
    ".Append(mlContext.Transforms.Conversion.MapValueToKey(\"Label\", nameof(Iris.Species)));"
   ]
  },
  {
   "cell_type": "code",
   "execution_count": 19,
   "id": "51ba54a9",
   "metadata": {},
   "outputs": [],
   "source": [
    " // Define LightGbm algorithm estimator\n",
    "IEstimator<ITransformer> lightGbm = mlContext.MulticlassClassification.Trainers.LightGbm();\n",
    "//train the ML model\n",
    "var finalPipeline = dataPipeline.Append(lightGbm)\n",
    ".Append(mlContext.Transforms.Conversion.MapKeyToValue(\"PredictedLabel\"));\n",
    "\n",
    "\n",
    "var model = finalPipeline.Fit(trainData);"
   ]
  },
  {
   "cell_type": "code",
   "execution_count": 20,
   "id": "86ca090b",
   "metadata": {},
   "outputs": [
    {
     "name": "stdout",
     "output_type": "stream",
     "text": [
      "************************************************************\n",
      "*    Metrics for TRAIN Iris DataSet multi-class classification model   \n",
      "*-----------------------------------------------------------\n",
      "    AccuracyMacro = 1, a value between 0 and 1, the closer to 1, the better\n",
      "    AccuracyMicro = 1, a value between 0 and 1, the closer to 1, the better\n",
      "    LogLoss = 0.0195, the closer to 0, the better\n",
      "    LogLoss for class 1 = 0.0112, the closer to 0, the better\n",
      "    LogLoss for class 2 = 0.0293, the closer to 0, the better\n",
      "    LogLoss for class 3 = 0.019, the closer to 0, the better\n",
      "************************************************************\n",
      " \n",
      "Train Iris DataSet Confusion Matrix \n",
      "####################################\n",
      " \n",
      "\n",
      "Confusion table\n",
      "                   ||========================\n",
      "PREDICTED          ||     0 |     1 |     2 | Recall\n",
      "TRUTH              ||========================\n",
      "0.     Iris-setosa ||    45 |     0 |     0 | 1.0000\n",
      "1. Iris-versicolor ||     0 |    40 |     0 | 1.0000\n",
      "2.  Iris-virginica ||     0 |     0 |    38 | 1.0000\n",
      "                   ||========================\n",
      "Precision          ||1.0000 |1.0000 |1.0000 |\n"
     ]
    }
   ],
   "source": [
    "//evaluate train set\n",
    "var predictions = model.Transform(trainData);\n",
    "var metricsTrain = mlContext.MulticlassClassification.Evaluate(predictions);\n",
    "ConsoleHelper.PrintMultiClassClassificationMetrics(\"TRAIN Iris DataSet\", metricsTrain);\n",
    "ConsoleHelper.ConsoleWriteHeader(\"Train Iris DataSet Confusion Matrix \");\n",
    "ConsoleHelper.ConsolePrintConfusionMatrix(metricsTrain.ConfusionMatrix);"
   ]
  },
  {
   "cell_type": "code",
   "execution_count": 21,
   "id": "2b8471f6",
   "metadata": {},
   "outputs": [
    {
     "name": "stdout",
     "output_type": "stream",
     "text": [
      "************************************************************\n",
      "*    Metrics for TEST Iris Dataset multi-class classification model   \n",
      "*-----------------------------------------------------------\n",
      "    AccuracyMacro = 1, a value between 0 and 1, the closer to 1, the better\n",
      "    AccuracyMicro = 1, a value between 0 and 1, the closer to 1, the better\n",
      "    LogLoss = 0.0624, the closer to 0, the better\n",
      "    LogLoss for class 1 = 0.0068, the closer to 0, the better\n",
      "    LogLoss for class 2 = 0.0759, the closer to 0, the better\n",
      "    LogLoss for class 3 = 0.0744, the closer to 0, the better\n",
      "************************************************************\n",
      " \n",
      "Test Iris DataSet Confusion Matrix \n",
      "###################################\n",
      " \n",
      "\n",
      "Confusion table\n",
      "                   ||========================\n",
      "PREDICTED          ||     0 |     1 |     2 | Recall\n",
      "TRUTH              ||========================\n",
      "0.     Iris-setosa ||     5 |     0 |     0 | 1.0000\n",
      "1. Iris-versicolor ||     0 |    10 |     0 | 1.0000\n",
      "2.  Iris-virginica ||     0 |     0 |    12 | 1.0000\n",
      "                   ||========================\n",
      "Precision          ||1.0000 |1.0000 |1.0000 |\n"
     ]
    }
   ],
   "source": [
    "//evaluate test set\n",
    "var testPrediction = model.Transform(testData);\n",
    "var metricsTest = mlContext.MulticlassClassification.Evaluate(testPrediction);\n",
    "\n",
    "ConsoleHelper.PrintMultiClassClassificationMetrics(\"TEST Iris Dataset\", metricsTest);\n",
    "ConsoleHelper.ConsoleWriteHeader(\"Test Iris DataSet Confusion Matrix \");\n",
    "ConsoleHelper.ConsolePrintConfusionMatrix(metricsTest.ConfusionMatrix);"
   ]
  },
  {
   "cell_type": "code",
   "execution_count": 22,
   "id": "353727b8",
   "metadata": {},
   "outputs": [
    {
     "data": {
      "text/html": [
       "<table><thead><th><i>(index)</i></th><th>SepalArea</th><th>PetalArea</th><th>flower_type</th><th>PredictedLabel</th></thead><tbody><tr><td><div class=\"dni-plaintext\">0</div></td><td><div class=\"dni-plaintext\">17.85</div></td><td><div class=\"dni-plaintext\">0.28</div></td><td>Iris-setosa</td><td>Iris-setosa</td></tr><tr><td><div class=\"dni-plaintext\">1</div></td><td><div class=\"dni-plaintext\">14.700001</div></td><td><div class=\"dni-plaintext\">0.28</div></td><td>Iris-setosa</td><td>Iris-setosa</td></tr><tr><td><div class=\"dni-plaintext\">2</div></td><td><div class=\"dni-plaintext\">15.04</div></td><td><div class=\"dni-plaintext\">0.26</div></td><td>Iris-setosa</td><td>Iris-setosa</td></tr><tr><td><div class=\"dni-plaintext\">3</div></td><td><div class=\"dni-plaintext\">14.259999</div></td><td><div class=\"dni-plaintext\">0.3</div></td><td>Iris-setosa</td><td>Iris-setosa</td></tr><tr><td><div class=\"dni-plaintext\">4</div></td><td><div class=\"dni-plaintext\">18</div></td><td><div class=\"dni-plaintext\">0.28</div></td><td>Iris-setosa</td><td>Iris-setosa</td></tr></tbody></table>"
      ]
     },
     "execution_count": 22,
     "metadata": {},
     "output_type": "execute_result"
    }
   ],
   "source": [
    "var p1 = predictions.GetColumn<string>(\"PredictedLabel\").Select(x=>x.ToString()).ToList();\n",
    "\n",
    "var p2 = testPrediction.GetColumn<string>(\"PredictedLabel\").Select(x => x.ToString()).ToList();\n",
    "\n",
    "//join train and test\n",
    "p1.AddRange(p2);\n",
    "\n",
    "\n",
    "//add new column into df\n",
    "var dic = new Dictionary<string, List<object>> { { \"PredictedLabel\", p1.Select(x=>(object)x).ToList() } };\n",
    "var dff = derivedDF.AddColumns(dic);\n",
    "dff.Head()"
   ]
  },
  {
   "cell_type": "code",
   "execution_count": 23,
   "id": "0b2f5cc5",
   "metadata": {},
   "outputs": [
    {
     "data": {
      "text/html": [
       "<table><thead><th><i>(index)</i></th><th>SepalArea</th><th>PetalArea</th><th>flower_type</th><th>PredictedLabel</th></thead><tbody><tr><td><div class=\"dni-plaintext\">145</div></td><td><div class=\"dni-plaintext\">20.099998</div></td><td><div class=\"dni-plaintext\">11.959999</div></td><td>Iris-virginica</td><td>Iris-virginica</td></tr><tr><td><div class=\"dni-plaintext\">146</div></td><td><div class=\"dni-plaintext\">15.75</div></td><td><div class=\"dni-plaintext\">9.5</div></td><td>Iris-virginica</td><td>Iris-virginica</td></tr><tr><td><div class=\"dni-plaintext\">147</div></td><td><div class=\"dni-plaintext\">19.5</div></td><td><div class=\"dni-plaintext\">10.4</div></td><td>Iris-virginica</td><td>Iris-virginica</td></tr><tr><td><div class=\"dni-plaintext\">148</div></td><td><div class=\"dni-plaintext\">21.08</div></td><td><div class=\"dni-plaintext\">12.42</div></td><td>Iris-virginica</td><td>Iris-virginica</td></tr><tr><td><div class=\"dni-plaintext\">149</div></td><td><div class=\"dni-plaintext\">17.7</div></td><td><div class=\"dni-plaintext\">9.179999</div></td><td>Iris-virginica</td><td>Iris-virginica</td></tr></tbody></table>"
      ]
     },
     "execution_count": 23,
     "metadata": {},
     "output_type": "execute_result"
    }
   ],
   "source": [
    "dff.Tail()"
   ]
  },
  {
   "cell_type": "markdown",
   "id": "33179ad7",
   "metadata": {},
   "source": [
    "# Testing the Model"
   ]
  },
  {
   "cell_type": "markdown",
   "id": "19b6676c",
   "metadata": {},
   "source": [
    "Now that we completed and trained our model, it is time for test. In that context put random values for the SepalArea and PetaArea and let tha model predict the flower type."
   ]
  },
  {
   "cell_type": "code",
   "execution_count": 25,
   "id": "c5336352",
   "metadata": {},
   "outputs": [],
   "source": [
    "DataViewSchema modelSchema;\n",
    "class IrisPrediction{public string PredictedLabel{get;set;}};\n",
    "\n",
    "// Create PredictionEngines\n",
    "var predictionEngine = mlContext.Model.CreatePredictionEngine<Iris, IrisPrediction>(model);"
   ]
  },
  {
   "cell_type": "code",
   "execution_count": 26,
   "id": "20c9e662",
   "metadata": {},
   "outputs": [],
   "source": [
    "var row = new Iris(){SepalArea=17.85f,PetalArea=0.28f, Species=\"Iris-setosa\" };\n",
    "\n",
    "var prediction = predictionEngine.Predict(row);\n",
    "var predictionLabel = prediction.PredictedLabel;"
   ]
  },
  {
   "cell_type": "code",
   "execution_count": 27,
   "id": "3debdad9",
   "metadata": {},
   "outputs": [
    {
     "data": {
      "text/plain": [
       "True Value'Iris-setosa';\n",
       " PredictedValue:'Iris-setosa'"
      ]
     },
     "execution_count": 27,
     "metadata": {},
     "output_type": "execute_result"
    }
   ],
   "source": [
    "var result = $\"True Value'{row.Species}';\\n PredictedValue:'{prediction.PredictedLabel}'\";\n",
    "result"
   ]
  },
  {
   "cell_type": "code",
   "execution_count": null,
   "id": "67908749",
   "metadata": {},
   "outputs": [],
   "source": []
  }
 ],
 "metadata": {
  "kernelspec": {
   "display_name": ".NET (C#)",
   "language": "C#",
   "name": ".net-csharp"
  },
  "language_info": {
   "file_extension": ".cs",
   "mimetype": "text/x-csharp",
   "name": "C#",
   "pygments_lexer": "csharp",
   "version": "9.0"
  }
 },
 "nbformat": 4,
 "nbformat_minor": 5
}
